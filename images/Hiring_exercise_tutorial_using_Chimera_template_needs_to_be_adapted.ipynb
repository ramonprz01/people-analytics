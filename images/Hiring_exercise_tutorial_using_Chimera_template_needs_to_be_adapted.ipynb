{
  "nbformat": 4,
  "nbformat_minor": 0,
  "metadata": {
    "colab": {
      "name": "Hiring exercise tutorial using Chimera template - needs to be adapted",
      "provenance": [],
      "collapsed_sections": [],
      "toc_visible": true
    },
    "kernelspec": {
      "name": "python3",
      "display_name": "Python 3"
    }
  },
  "cells": [
    {
      "cell_type": "markdown",
      "metadata": {
        "id": "hvDB54ejVtY8"
      },
      "source": [
        "### **TUTORIAL 1: ANALYTICS FOR PERCEPTION**\n",
        "\n"
      ]
    },
    {
      "cell_type": "markdown",
      "metadata": {
        "id": "RCDl3ZI60vmw"
      },
      "source": [
        "# Step 0: Does this work?"
      ]
    },
    {
      "cell_type": "code",
      "metadata": {
        "id": "_iKXd6bM0yax",
        "colab": {
          "base_uri": "https://localhost:8080/"
        },
        "outputId": "92bd0cef-f87f-43cc-ed72-617a697ce58c"
      },
      "source": [
        "print(\"Hello World!\")"
      ],
      "execution_count": 3,
      "outputs": [
        {
          "output_type": "stream",
          "text": [
            "Hello World!\n"
          ],
          "name": "stdout"
        }
      ]
    },
    {
      "cell_type": "markdown",
      "metadata": {
        "id": "pN8Hqu-J0dw4"
      },
      "source": [
        "# Step 1: Import some modules"
      ]
    },
    {
      "cell_type": "markdown",
      "metadata": {
        "id": "1LtSIaVEz0yD"
      },
      "source": [
        "Never reinvent the wheel! There are tons of programs out there that we can simply import into our own code and use as needed. If you want to know more, or find useful modules, check out [PyPI](https://pypi.org/) (the Python Package Index)."
      ]
    },
    {
      "cell_type": "code",
      "metadata": {
        "id": "oK9uzw_ZVtY9",
        "colab": {
          "base_uri": "https://localhost:8080/"
        },
        "outputId": "b91cba7e-7fc9-4d28-a941-48f6e65be381"
      },
      "source": [
        "import pandas as pd # for data structure and data analysis\n",
        "import statsmodels.api as sm # for statistical analysis\n",
        "from scipy import stats #for statistical analysis & machine learning\n",
        "from scipy.stats.mstats import zscore #to standardize regression coefficients\n",
        "stats.chisqprob = lambda chisq, df: stats.chi2.sf(chisq, df) #to standardize regression coefficients\n",
        "import matplotlib.pyplot as plt #to plot\n",
        "import numpy as np #to handle arrays and matrixes\n",
        "import seaborn as sns #to plot\n",
        "import matplotlib.pyplot as plt #to plot\n",
        "import numpy as np #to handle arrays and matrixes\n",
        "print(\"Module import completed!\")"
      ],
      "execution_count": 4,
      "outputs": [
        {
          "output_type": "stream",
          "text": [
            "/usr/local/lib/python3.6/dist-packages/statsmodels/tools/_testing.py:19: FutureWarning: pandas.util.testing is deprecated. Use the functions in the public API at pandas.testing instead.\n",
            "  import pandas.util.testing as tm\n"
          ],
          "name": "stderr"
        },
        {
          "output_type": "stream",
          "text": [
            "Module import completed!\n"
          ],
          "name": "stdout"
        }
      ]
    },
    {
      "cell_type": "markdown",
      "metadata": {
        "id": "EDiWV3Uk1OxP"
      },
      "source": [
        "So what, exactly, are we doing here?\n",
        "\n",
        "\n",
        "*   \"import X as Y\": We import the whole module X, but we use Y to refer to it (because we really don't want to write matplotlib.pyplot every time we use it)\n",
        "*   \"from X import Y\": We don't want all of X, but we care specially about one function, Y. Also, this way we can refer to Y directly\n",
        "\n",
        "\n"
      ]
    },
    {
      "cell_type": "markdown",
      "metadata": {
        "id": "tXHvmToa1uDX"
      },
      "source": [
        "# Step 2: Define functions for plotting correlation matrix and regression coefficients"
      ]
    },
    {
      "cell_type": "markdown",
      "metadata": {
        "id": "qH4_JTmw10M6"
      },
      "source": [
        "A function is like a recipe for your computer: it bundles a set of instructions, so that the computer can work its way from a well-defined input (flour, baking powder, milk, eggs), to a well-defined output ([pancakes](https://www.kingarthurflour.com/recipes/simply-perfect-pancakes-recipe)).\n",
        "\n",
        "Functions are useful, because we would rather just tell our computer to make pancakes than to explain all the instructions every time we are hungry.\n",
        "\n",
        "Let's teach our computer something more simple than making pancakes first:"
      ]
    },
    {
      "cell_type": "code",
      "metadata": {
        "id": "mo4-18-Q2rIz"
      },
      "source": [
        "def sum_numbers(x, y):\n",
        "    result = x + y\n",
        "    return result"
      ],
      "execution_count": 5,
      "outputs": []
    },
    {
      "cell_type": "markdown",
      "metadata": {
        "id": "FrDj3evX3D-s"
      },
      "source": [
        "Our function lets us sum any two numbers by calling it:"
      ]
    },
    {
      "cell_type": "code",
      "metadata": {
        "id": "sQin7DKe3KID",
        "colab": {
          "base_uri": "https://localhost:8080/"
        },
        "outputId": "791f570b-d976-47a4-c13b-f641acf32738"
      },
      "source": [
        "sum_numbers(3,6)"
      ],
      "execution_count": 6,
      "outputs": [
        {
          "output_type": "execute_result",
          "data": {
            "text/plain": [
              "9"
            ]
          },
          "metadata": {
            "tags": []
          },
          "execution_count": 6
        }
      ]
    },
    {
      "cell_type": "markdown",
      "metadata": {
        "id": "8MIXs7Kk3PuV"
      },
      "source": [
        "We are now ready to define the functions we will use to plot our graphs. Don't worry too much about the details - we are just teaching our computer a specific recipe."
      ]
    },
    {
      "cell_type": "code",
      "metadata": {
        "id": "-P9Uv49WVtZA",
        "colab": {
          "base_uri": "https://localhost:8080/"
        },
        "outputId": "5541a385-8f77-4b32-a8e7-af3465eecbf1"
      },
      "source": [
        "#function to plot correlation matrix\n",
        "def plot_corr(corr):\n",
        "    sns.set(style=\"white\")\n",
        "    mask = np.zeros_like(corr, dtype=np.bool)\n",
        "    mask[np.triu_indices_from(mask)] = True\n",
        "    \n",
        "    # Set up the matplotlib figure\n",
        "    f, ax = plt.subplots(figsize=(11, 9))\n",
        "    \n",
        "    # Generate a custom diverging colormap\n",
        "    # sns.palplot(sns.diverging_palette(240, 0)) Uncomment to try out different color palettes to use below\n",
        "    cmap = sns.diverging_palette(240, 0, as_cmap=True)\n",
        "    \n",
        "    # Draw the heatmap with the mask and correct aspect ratio\n",
        "    sns.heatmap(corr, mask=mask, cmap=cmap, vmax=0.15,vmin=-0.15,  # vmax and vmin define the upper and lower boundaries of the colormap respectively\n",
        "                square=True, linewidths=.5, cbar_kws={\"shrink\": .5})\n",
        "\n",
        "\n",
        "#define function to plot coefficients and confidence intervals\n",
        "def plot_coef(model):\n",
        "    err_series = model.params - model.conf_int(alpha=0.05)[0]\n",
        "    coef_df = pd.DataFrame({'coef': model.params.values[1:],\n",
        "                            'err': err_series.values[1:],\n",
        "                            'varname': err_series.index.values[1:]\n",
        "                           })\n",
        "    fig, ax = plt.subplots(figsize=(8, 5))\n",
        "    coef_df.plot(x='varname', y='coef', kind='bar', \n",
        "                 ax=ax, color='none', \n",
        "                 yerr='err', legend=False)\n",
        "    ax.set_ylabel('')\n",
        "    ax.set_xlabel('')\n",
        "    ax.scatter(x=pd.np.arange(coef_df.shape[0]), \n",
        "               marker='s', s=120, \n",
        "               y=coef_df['coef'], color='black')\n",
        "    ax.axhline(y=0, linestyle='--', color='black', linewidth=4)\n",
        "    ax.xaxis.set_ticks_position('none')\n",
        "    \n",
        "    \n",
        "print (\"Plotting function definition completed!\")"
      ],
      "execution_count": 7,
      "outputs": [
        {
          "output_type": "stream",
          "text": [
            "Plotting function definition completed!\n"
          ],
          "name": "stdout"
        }
      ]
    },
    {
      "cell_type": "markdown",
      "metadata": {
        "id": "eLU42wU93qqf"
      },
      "source": [
        "# Step 3: Make data available within the program"
      ]
    },
    {
      "cell_type": "markdown",
      "metadata": {
        "id": "sKJK5J_a3iOR"
      },
      "source": [
        "## Step 3.1: Upload the data file from your local computer to Google Drive"
      ]
    },
    {
      "cell_type": "markdown",
      "metadata": {
        "id": "dSc_BBjk335J"
      },
      "source": [
        "Luckily, Google makes our life very easy - we just need to run the code below and then we can upload our file to Google drive."
      ]
    },
    {
      "cell_type": "code",
      "metadata": {
        "id": "7CA8SFaHW8xR",
        "colab": {
          "resources": {
            "http://localhost:8080/nbextensions/google.colab/files.js": {
              "data": "Ly8gQ29weXJpZ2h0IDIwMTcgR29vZ2xlIExMQwovLwovLyBMaWNlbnNlZCB1bmRlciB0aGUgQXBhY2hlIExpY2Vuc2UsIFZlcnNpb24gMi4wICh0aGUgIkxpY2Vuc2UiKTsKLy8geW91IG1heSBub3QgdXNlIHRoaXMgZmlsZSBleGNlcHQgaW4gY29tcGxpYW5jZSB3aXRoIHRoZSBMaWNlbnNlLgovLyBZb3UgbWF5IG9idGFpbiBhIGNvcHkgb2YgdGhlIExpY2Vuc2UgYXQKLy8KLy8gICAgICBodHRwOi8vd3d3LmFwYWNoZS5vcmcvbGljZW5zZXMvTElDRU5TRS0yLjAKLy8KLy8gVW5sZXNzIHJlcXVpcmVkIGJ5IGFwcGxpY2FibGUgbGF3IG9yIGFncmVlZCB0byBpbiB3cml0aW5nLCBzb2Z0d2FyZQovLyBkaXN0cmlidXRlZCB1bmRlciB0aGUgTGljZW5zZSBpcyBkaXN0cmlidXRlZCBvbiBhbiAiQVMgSVMiIEJBU0lTLAovLyBXSVRIT1VUIFdBUlJBTlRJRVMgT1IgQ09ORElUSU9OUyBPRiBBTlkgS0lORCwgZWl0aGVyIGV4cHJlc3Mgb3IgaW1wbGllZC4KLy8gU2VlIHRoZSBMaWNlbnNlIGZvciB0aGUgc3BlY2lmaWMgbGFuZ3VhZ2UgZ292ZXJuaW5nIHBlcm1pc3Npb25zIGFuZAovLyBsaW1pdGF0aW9ucyB1bmRlciB0aGUgTGljZW5zZS4KCi8qKgogKiBAZmlsZW92ZXJ2aWV3IEhlbHBlcnMgZm9yIGdvb2dsZS5jb2xhYiBQeXRob24gbW9kdWxlLgogKi8KKGZ1bmN0aW9uKHNjb3BlKSB7CmZ1bmN0aW9uIHNwYW4odGV4dCwgc3R5bGVBdHRyaWJ1dGVzID0ge30pIHsKICBjb25zdCBlbGVtZW50ID0gZG9jdW1lbnQuY3JlYXRlRWxlbWVudCgnc3BhbicpOwogIGVsZW1lbnQudGV4dENvbnRlbnQgPSB0ZXh0OwogIGZvciAoY29uc3Qga2V5IG9mIE9iamVjdC5rZXlzKHN0eWxlQXR0cmlidXRlcykpIHsKICAgIGVsZW1lbnQuc3R5bGVba2V5XSA9IHN0eWxlQXR0cmlidXRlc1trZXldOwogIH0KICByZXR1cm4gZWxlbWVudDsKfQoKLy8gTWF4IG51bWJlciBvZiBieXRlcyB3aGljaCB3aWxsIGJlIHVwbG9hZGVkIGF0IGEgdGltZS4KY29uc3QgTUFYX1BBWUxPQURfU0laRSA9IDEwMCAqIDEwMjQ7CgpmdW5jdGlvbiBfdXBsb2FkRmlsZXMoaW5wdXRJZCwgb3V0cHV0SWQpIHsKICBjb25zdCBzdGVwcyA9IHVwbG9hZEZpbGVzU3RlcChpbnB1dElkLCBvdXRwdXRJZCk7CiAgY29uc3Qgb3V0cHV0RWxlbWVudCA9IGRvY3VtZW50LmdldEVsZW1lbnRCeUlkKG91dHB1dElkKTsKICAvLyBDYWNoZSBzdGVwcyBvbiB0aGUgb3V0cHV0RWxlbWVudCB0byBtYWtlIGl0IGF2YWlsYWJsZSBmb3IgdGhlIG5leHQgY2FsbAogIC8vIHRvIHVwbG9hZEZpbGVzQ29udGludWUgZnJvbSBQeXRob24uCiAgb3V0cHV0RWxlbWVudC5zdGVwcyA9IHN0ZXBzOwoKICByZXR1cm4gX3VwbG9hZEZpbGVzQ29udGludWUob3V0cHV0SWQpOwp9CgovLyBUaGlzIGlzIHJvdWdobHkgYW4gYXN5bmMgZ2VuZXJhdG9yIChub3Qgc3VwcG9ydGVkIGluIHRoZSBicm93c2VyIHlldCksCi8vIHdoZXJlIHRoZXJlIGFyZSBtdWx0aXBsZSBhc3luY2hyb25vdXMgc3RlcHMgYW5kIHRoZSBQeXRob24gc2lkZSBpcyBnb2luZwovLyB0byBwb2xsIGZvciBjb21wbGV0aW9uIG9mIGVhY2ggc3RlcC4KLy8gVGhpcyB1c2VzIGEgUHJvbWlzZSB0byBibG9jayB0aGUgcHl0aG9uIHNpZGUgb24gY29tcGxldGlvbiBvZiBlYWNoIHN0ZXAsCi8vIHRoZW4gcGFzc2VzIHRoZSByZXN1bHQgb2YgdGhlIHByZXZpb3VzIHN0ZXAgYXMgdGhlIGlucHV0IHRvIHRoZSBuZXh0IHN0ZXAuCmZ1bmN0aW9uIF91cGxvYWRGaWxlc0NvbnRpbnVlKG91dHB1dElkKSB7CiAgY29uc3Qgb3V0cHV0RWxlbWVudCA9IGRvY3VtZW50LmdldEVsZW1lbnRCeUlkKG91dHB1dElkKTsKICBjb25zdCBzdGVwcyA9IG91dHB1dEVsZW1lbnQuc3RlcHM7CgogIGNvbnN0IG5leHQgPSBzdGVwcy5uZXh0KG91dHB1dEVsZW1lbnQubGFzdFByb21pc2VWYWx1ZSk7CiAgcmV0dXJuIFByb21pc2UucmVzb2x2ZShuZXh0LnZhbHVlLnByb21pc2UpLnRoZW4oKHZhbHVlKSA9PiB7CiAgICAvLyBDYWNoZSB0aGUgbGFzdCBwcm9taXNlIHZhbHVlIHRvIG1ha2UgaXQgYXZhaWxhYmxlIHRvIHRoZSBuZXh0CiAgICAvLyBzdGVwIG9mIHRoZSBnZW5lcmF0b3IuCiAgICBvdXRwdXRFbGVtZW50Lmxhc3RQcm9taXNlVmFsdWUgPSB2YWx1ZTsKICAgIHJldHVybiBuZXh0LnZhbHVlLnJlc3BvbnNlOwogIH0pOwp9CgovKioKICogR2VuZXJhdG9yIGZ1bmN0aW9uIHdoaWNoIGlzIGNhbGxlZCBiZXR3ZWVuIGVhY2ggYXN5bmMgc3RlcCBvZiB0aGUgdXBsb2FkCiAqIHByb2Nlc3MuCiAqIEBwYXJhbSB7c3RyaW5nfSBpbnB1dElkIEVsZW1lbnQgSUQgb2YgdGhlIGlucHV0IGZpbGUgcGlja2VyIGVsZW1lbnQuCiAqIEBwYXJhbSB7c3RyaW5nfSBvdXRwdXRJZCBFbGVtZW50IElEIG9mIHRoZSBvdXRwdXQgZGlzcGxheS4KICogQHJldHVybiB7IUl0ZXJhYmxlPCFPYmplY3Q+fSBJdGVyYWJsZSBvZiBuZXh0IHN0ZXBzLgogKi8KZnVuY3Rpb24qIHVwbG9hZEZpbGVzU3RlcChpbnB1dElkLCBvdXRwdXRJZCkgewogIGNvbnN0IGlucHV0RWxlbWVudCA9IGRvY3VtZW50LmdldEVsZW1lbnRCeUlkKGlucHV0SWQpOwogIGlucHV0RWxlbWVudC5kaXNhYmxlZCA9IGZhbHNlOwoKICBjb25zdCBvdXRwdXRFbGVtZW50ID0gZG9jdW1lbnQuZ2V0RWxlbWVudEJ5SWQob3V0cHV0SWQpOwogIG91dHB1dEVsZW1lbnQuaW5uZXJIVE1MID0gJyc7CgogIGNvbnN0IHBpY2tlZFByb21pc2UgPSBuZXcgUHJvbWlzZSgocmVzb2x2ZSkgPT4gewogICAgaW5wdXRFbGVtZW50LmFkZEV2ZW50TGlzdGVuZXIoJ2NoYW5nZScsIChlKSA9PiB7CiAgICAgIHJlc29sdmUoZS50YXJnZXQuZmlsZXMpOwogICAgfSk7CiAgfSk7CgogIGNvbnN0IGNhbmNlbCA9IGRvY3VtZW50LmNyZWF0ZUVsZW1lbnQoJ2J1dHRvbicpOwogIGlucHV0RWxlbWVudC5wYXJlbnRFbGVtZW50LmFwcGVuZENoaWxkKGNhbmNlbCk7CiAgY2FuY2VsLnRleHRDb250ZW50ID0gJ0NhbmNlbCB1cGxvYWQnOwogIGNvbnN0IGNhbmNlbFByb21pc2UgPSBuZXcgUHJvbWlzZSgocmVzb2x2ZSkgPT4gewogICAgY2FuY2VsLm9uY2xpY2sgPSAoKSA9PiB7CiAgICAgIHJlc29sdmUobnVsbCk7CiAgICB9OwogIH0pOwoKICAvLyBXYWl0IGZvciB0aGUgdXNlciB0byBwaWNrIHRoZSBmaWxlcy4KICBjb25zdCBmaWxlcyA9IHlpZWxkIHsKICAgIHByb21pc2U6IFByb21pc2UucmFjZShbcGlja2VkUHJvbWlzZSwgY2FuY2VsUHJvbWlzZV0pLAogICAgcmVzcG9uc2U6IHsKICAgICAgYWN0aW9uOiAnc3RhcnRpbmcnLAogICAgfQogIH07CgogIGNhbmNlbC5yZW1vdmUoKTsKCiAgLy8gRGlzYWJsZSB0aGUgaW5wdXQgZWxlbWVudCBzaW5jZSBmdXJ0aGVyIHBpY2tzIGFyZSBub3QgYWxsb3dlZC4KICBpbnB1dEVsZW1lbnQuZGlzYWJsZWQgPSB0cnVlOwoKICBpZiAoIWZpbGVzKSB7CiAgICByZXR1cm4gewogICAgICByZXNwb25zZTogewogICAgICAgIGFjdGlvbjogJ2NvbXBsZXRlJywKICAgICAgfQogICAgfTsKICB9CgogIGZvciAoY29uc3QgZmlsZSBvZiBmaWxlcykgewogICAgY29uc3QgbGkgPSBkb2N1bWVudC5jcmVhdGVFbGVtZW50KCdsaScpOwogICAgbGkuYXBwZW5kKHNwYW4oZmlsZS5uYW1lLCB7Zm9udFdlaWdodDogJ2JvbGQnfSkpOwogICAgbGkuYXBwZW5kKHNwYW4oCiAgICAgICAgYCgke2ZpbGUudHlwZSB8fCAnbi9hJ30pIC0gJHtmaWxlLnNpemV9IGJ5dGVzLCBgICsKICAgICAgICBgbGFzdCBtb2RpZmllZDogJHsKICAgICAgICAgICAgZmlsZS5sYXN0TW9kaWZpZWREYXRlID8gZmlsZS5sYXN0TW9kaWZpZWREYXRlLnRvTG9jYWxlRGF0ZVN0cmluZygpIDoKICAgICAgICAgICAgICAgICAgICAgICAgICAgICAgICAgICAgJ24vYSd9IC0gYCkpOwogICAgY29uc3QgcGVyY2VudCA9IHNwYW4oJzAlIGRvbmUnKTsKICAgIGxpLmFwcGVuZENoaWxkKHBlcmNlbnQpOwoKICAgIG91dHB1dEVsZW1lbnQuYXBwZW5kQ2hpbGQobGkpOwoKICAgIGNvbnN0IGZpbGVEYXRhUHJvbWlzZSA9IG5ldyBQcm9taXNlKChyZXNvbHZlKSA9PiB7CiAgICAgIGNvbnN0IHJlYWRlciA9IG5ldyBGaWxlUmVhZGVyKCk7CiAgICAgIHJlYWRlci5vbmxvYWQgPSAoZSkgPT4gewogICAgICAgIHJlc29sdmUoZS50YXJnZXQucmVzdWx0KTsKICAgICAgfTsKICAgICAgcmVhZGVyLnJlYWRBc0FycmF5QnVmZmVyKGZpbGUpOwogICAgfSk7CiAgICAvLyBXYWl0IGZvciB0aGUgZGF0YSB0byBiZSByZWFkeS4KICAgIGxldCBmaWxlRGF0YSA9IHlpZWxkIHsKICAgICAgcHJvbWlzZTogZmlsZURhdGFQcm9taXNlLAogICAgICByZXNwb25zZTogewogICAgICAgIGFjdGlvbjogJ2NvbnRpbnVlJywKICAgICAgfQogICAgfTsKCiAgICAvLyBVc2UgYSBjaHVua2VkIHNlbmRpbmcgdG8gYXZvaWQgbWVzc2FnZSBzaXplIGxpbWl0cy4gU2VlIGIvNjIxMTU2NjAuCiAgICBsZXQgcG9zaXRpb24gPSAwOwogICAgd2hpbGUgKHBvc2l0aW9uIDwgZmlsZURhdGEuYnl0ZUxlbmd0aCkgewogICAgICBjb25zdCBsZW5ndGggPSBNYXRoLm1pbihmaWxlRGF0YS5ieXRlTGVuZ3RoIC0gcG9zaXRpb24sIE1BWF9QQVlMT0FEX1NJWkUpOwogICAgICBjb25zdCBjaHVuayA9IG5ldyBVaW50OEFycmF5KGZpbGVEYXRhLCBwb3NpdGlvbiwgbGVuZ3RoKTsKICAgICAgcG9zaXRpb24gKz0gbGVuZ3RoOwoKICAgICAgY29uc3QgYmFzZTY0ID0gYnRvYShTdHJpbmcuZnJvbUNoYXJDb2RlLmFwcGx5KG51bGwsIGNodW5rKSk7CiAgICAgIHlpZWxkIHsKICAgICAgICByZXNwb25zZTogewogICAgICAgICAgYWN0aW9uOiAnYXBwZW5kJywKICAgICAgICAgIGZpbGU6IGZpbGUubmFtZSwKICAgICAgICAgIGRhdGE6IGJhc2U2NCwKICAgICAgICB9LAogICAgICB9OwogICAgICBwZXJjZW50LnRleHRDb250ZW50ID0KICAgICAgICAgIGAke01hdGgucm91bmQoKHBvc2l0aW9uIC8gZmlsZURhdGEuYnl0ZUxlbmd0aCkgKiAxMDApfSUgZG9uZWA7CiAgICB9CiAgfQoKICAvLyBBbGwgZG9uZS4KICB5aWVsZCB7CiAgICByZXNwb25zZTogewogICAgICBhY3Rpb246ICdjb21wbGV0ZScsCiAgICB9CiAgfTsKfQoKc2NvcGUuZ29vZ2xlID0gc2NvcGUuZ29vZ2xlIHx8IHt9OwpzY29wZS5nb29nbGUuY29sYWIgPSBzY29wZS5nb29nbGUuY29sYWIgfHwge307CnNjb3BlLmdvb2dsZS5jb2xhYi5fZmlsZXMgPSB7CiAgX3VwbG9hZEZpbGVzLAogIF91cGxvYWRGaWxlc0NvbnRpbnVlLAp9Owp9KShzZWxmKTsK",
              "ok": true,
              "headers": [
                [
                  "content-type",
                  "application/javascript"
                ]
              ],
              "status": 200,
              "status_text": "OK"
            }
          },
          "base_uri": "https://localhost:8080/",
          "height": 73
        },
        "outputId": "849b75ea-ccd1-4d94-8f12-74c48827f780"
      },
      "source": [
        "import os.path\n",
        "from google.colab import files\n",
        "if not os.path.exists(\"Hyp_employees.csv\"):\n",
        "    uploaded = files.upload()"
      ],
      "execution_count": 9,
      "outputs": [
        {
          "output_type": "display_data",
          "data": {
            "text/html": [
              "\n",
              "     <input type=\"file\" id=\"files-8ba2c3bc-f4fc-465e-847d-02f0df55652b\" name=\"files[]\" multiple disabled\n",
              "        style=\"border:none\" />\n",
              "     <output id=\"result-8ba2c3bc-f4fc-465e-847d-02f0df55652b\">\n",
              "      Upload widget is only available when the cell has been executed in the\n",
              "      current browser session. Please rerun this cell to enable.\n",
              "      </output>\n",
              "      <script src=\"/nbextensions/google.colab/files.js\"></script> "
            ],
            "text/plain": [
              "<IPython.core.display.HTML object>"
            ]
          },
          "metadata": {
            "tags": []
          }
        },
        {
          "output_type": "stream",
          "text": [
            "Saving Hyp_employees.csv to Hyp_employees.csv\n"
          ],
          "name": "stdout"
        }
      ]
    },
    {
      "cell_type": "markdown",
      "metadata": {
        "id": "ZlbbX2064oQJ"
      },
      "source": [
        "## Step 3.2: set a path to your data CSV file (Database.csv) and acces your data"
      ]
    },
    {
      "cell_type": "markdown",
      "metadata": {
        "id": "cM05b7xt5CCU"
      },
      "source": [
        "We use [Pandas](https://www.learnpython.org/en/Pandas_Basics), a popular module \n",
        "in Python (not to be confused with this [cute guy](https://www.worldwildlife.org/species/giant-panda)), to store the data from the CSV in a way that Python can work with it."
      ]
    },
    {
      "cell_type": "code",
      "metadata": {
        "id": "8z65Q52RVtZC"
      },
      "source": [
        "path = \"Hyp_employees.csv\"\n",
        "df = pd.read_csv(path, sep = \",\") # create a pandas data frame to store data, set the type of separator used in your CSV file"
      ],
      "execution_count": 12,
      "outputs": []
    },
    {
      "cell_type": "markdown",
      "metadata": {
        "id": "UPLHn0JB5-Vl"
      },
      "source": [
        "Let's take a sneak peak at what we imported:"
      ]
    },
    {
      "cell_type": "code",
      "metadata": {
        "id": "Wtl60RN86Fhg",
        "colab": {
          "base_uri": "https://localhost:8080/",
          "height": 226
        },
        "outputId": "0f928281-38a9-4915-fc83-e3cf81ad514e"
      },
      "source": [
        "df.head()"
      ],
      "execution_count": 13,
      "outputs": [
        {
          "output_type": "execute_result",
          "data": {
            "text/html": [
              "<div>\n",
              "<style scoped>\n",
              "    .dataframe tbody tr th:only-of-type {\n",
              "        vertical-align: middle;\n",
              "    }\n",
              "\n",
              "    .dataframe tbody tr th {\n",
              "        vertical-align: top;\n",
              "    }\n",
              "\n",
              "    .dataframe thead th {\n",
              "        text-align: right;\n",
              "    }\n",
              "</style>\n",
              "<table border=\"1\" class=\"dataframe\">\n",
              "  <thead>\n",
              "    <tr style=\"text-align: right;\">\n",
              "      <th></th>\n",
              "      <th>new_id</th>\n",
              "      <th>age</th>\n",
              "      <th>gender</th>\n",
              "      <th>undergradranking</th>\n",
              "      <th>gpa</th>\n",
              "      <th>didmba</th>\n",
              "      <th>extracurriculars</th>\n",
              "      <th>maturityassesment</th>\n",
              "      <th>programmingskill</th>\n",
              "      <th>disciplinetest</th>\n",
              "      <th>ambitiousnesstest</th>\n",
              "      <th>creativitytest</th>\n",
              "      <th>neuroticismtest</th>\n",
              "      <th>extraversiontest</th>\n",
              "      <th>teamquality</th>\n",
              "      <th>tenure</th>\n",
              "      <th>currentseniority</th>\n",
              "      <th>mainperformancemetric</th>\n",
              "    </tr>\n",
              "  </thead>\n",
              "  <tbody>\n",
              "    <tr>\n",
              "      <th>0</th>\n",
              "      <td>1</td>\n",
              "      <td>48</td>\n",
              "      <td>0</td>\n",
              "      <td>3</td>\n",
              "      <td>4.00</td>\n",
              "      <td>0</td>\n",
              "      <td>3</td>\n",
              "      <td>2</td>\n",
              "      <td>40</td>\n",
              "      <td>9</td>\n",
              "      <td>7</td>\n",
              "      <td>4</td>\n",
              "      <td>5</td>\n",
              "      <td>5</td>\n",
              "      <td>2</td>\n",
              "      <td>19</td>\n",
              "      <td>9</td>\n",
              "      <td>5</td>\n",
              "    </tr>\n",
              "    <tr>\n",
              "      <th>1</th>\n",
              "      <td>2</td>\n",
              "      <td>46</td>\n",
              "      <td>0</td>\n",
              "      <td>3</td>\n",
              "      <td>4.00</td>\n",
              "      <td>0</td>\n",
              "      <td>7</td>\n",
              "      <td>4</td>\n",
              "      <td>37</td>\n",
              "      <td>6</td>\n",
              "      <td>6</td>\n",
              "      <td>5</td>\n",
              "      <td>5</td>\n",
              "      <td>4</td>\n",
              "      <td>2</td>\n",
              "      <td>18</td>\n",
              "      <td>9</td>\n",
              "      <td>7</td>\n",
              "    </tr>\n",
              "    <tr>\n",
              "      <th>2</th>\n",
              "      <td>3</td>\n",
              "      <td>48</td>\n",
              "      <td>1</td>\n",
              "      <td>3</td>\n",
              "      <td>4.00</td>\n",
              "      <td>0</td>\n",
              "      <td>3</td>\n",
              "      <td>2</td>\n",
              "      <td>32</td>\n",
              "      <td>7</td>\n",
              "      <td>7</td>\n",
              "      <td>5</td>\n",
              "      <td>6</td>\n",
              "      <td>5</td>\n",
              "      <td>1</td>\n",
              "      <td>18</td>\n",
              "      <td>9</td>\n",
              "      <td>5</td>\n",
              "    </tr>\n",
              "    <tr>\n",
              "      <th>3</th>\n",
              "      <td>4</td>\n",
              "      <td>44</td>\n",
              "      <td>0</td>\n",
              "      <td>3</td>\n",
              "      <td>3.91</td>\n",
              "      <td>0</td>\n",
              "      <td>3</td>\n",
              "      <td>3</td>\n",
              "      <td>55</td>\n",
              "      <td>3</td>\n",
              "      <td>6</td>\n",
              "      <td>6</td>\n",
              "      <td>7</td>\n",
              "      <td>5</td>\n",
              "      <td>1</td>\n",
              "      <td>17</td>\n",
              "      <td>10</td>\n",
              "      <td>5</td>\n",
              "    </tr>\n",
              "    <tr>\n",
              "      <th>4</th>\n",
              "      <td>5</td>\n",
              "      <td>45</td>\n",
              "      <td>0</td>\n",
              "      <td>3</td>\n",
              "      <td>4.00</td>\n",
              "      <td>0</td>\n",
              "      <td>3</td>\n",
              "      <td>2</td>\n",
              "      <td>44</td>\n",
              "      <td>5</td>\n",
              "      <td>4</td>\n",
              "      <td>4</td>\n",
              "      <td>8</td>\n",
              "      <td>4</td>\n",
              "      <td>1</td>\n",
              "      <td>17</td>\n",
              "      <td>9</td>\n",
              "      <td>5</td>\n",
              "    </tr>\n",
              "  </tbody>\n",
              "</table>\n",
              "</div>"
            ],
            "text/plain": [
              "   new_id  age  gender  ...  tenure  currentseniority  mainperformancemetric\n",
              "0       1   48       0  ...      19                 9                      5\n",
              "1       2   46       0  ...      18                 9                      7\n",
              "2       3   48       1  ...      18                 9                      5\n",
              "3       4   44       0  ...      17                10                      5\n",
              "4       5   45       0  ...      17                 9                      5\n",
              "\n",
              "[5 rows x 18 columns]"
            ]
          },
          "metadata": {
            "tags": []
          },
          "execution_count": 13
        }
      ]
    },
    {
      "cell_type": "markdown",
      "metadata": {
        "id": "JnXno7Np6Xap"
      },
      "source": [
        "We can also get a summary of each column:"
      ]
    },
    {
      "cell_type": "code",
      "metadata": {
        "id": "fZCjXWui6OuF"
      },
      "source": [
        "summary_stats = df.describe()\n",
        "print(summary_stats)"
      ],
      "execution_count": null,
      "outputs": []
    },
    {
      "cell_type": "markdown",
      "metadata": {
        "id": "iwlYxUYT6dhO"
      },
      "source": [
        "# Step 4: Bivariate tests (t-tests) WE WILL NOT BE ODOING THIS STEP IN CLASS - THE VARIABLES ARE FROM PHANISH'S EXERCISE, SO IGNORE"
      ]
    },
    {
      "cell_type": "markdown",
      "metadata": {
        "id": "XgF34E8u6m4H"
      },
      "source": [
        "Let's see whether we can find any initial trends in the data. For example, are women more likely to exit the firm? We will use [t-tests](https://towardsdatascience.com/the-statistical-analysis-t-test-explained-for-beginners-and-experts-fd0e358bbb62) to analyze the difference in means:"
      ]
    },
    {
      "cell_type": "code",
      "metadata": {
        "id": "zNrrqXEjVtZE",
        "colab": {
          "base_uri": "https://localhost:8080/",
          "height": 372
        },
        "outputId": "0b4d333f-5437-4d22-84bd-b56d94feaec8"
      },
      "source": [
        "tstat = sm.stats.ttest_ind(df[df.gender==0].exit,df[df.gender==1].exit)[0] \n",
        "pvalue = sm.stats.ttest_ind(df[df.gender==0].exit,df[df.gender==1].exit)[1] \n",
        "\n",
        "print('the tstat for gender differences in exit is =', tstat)\n",
        "print('the pvalue is =', pvalue)"
      ],
      "execution_count": 14,
      "outputs": [
        {
          "output_type": "error",
          "ename": "AttributeError",
          "evalue": "ignored",
          "traceback": [
            "\u001b[0;31m---------------------------------------------------------------------------\u001b[0m",
            "\u001b[0;31mAttributeError\u001b[0m                            Traceback (most recent call last)",
            "\u001b[0;32m<ipython-input-14-510c5308144c>\u001b[0m in \u001b[0;36m<module>\u001b[0;34m()\u001b[0m\n\u001b[0;32m----> 1\u001b[0;31m \u001b[0mtstat\u001b[0m \u001b[0;34m=\u001b[0m \u001b[0msm\u001b[0m\u001b[0;34m.\u001b[0m\u001b[0mstats\u001b[0m\u001b[0;34m.\u001b[0m\u001b[0mttest_ind\u001b[0m\u001b[0;34m(\u001b[0m\u001b[0mdf\u001b[0m\u001b[0;34m[\u001b[0m\u001b[0mdf\u001b[0m\u001b[0;34m.\u001b[0m\u001b[0mgender\u001b[0m\u001b[0;34m==\u001b[0m\u001b[0;36m0\u001b[0m\u001b[0;34m]\u001b[0m\u001b[0;34m.\u001b[0m\u001b[0mexit\u001b[0m\u001b[0;34m,\u001b[0m\u001b[0mdf\u001b[0m\u001b[0;34m[\u001b[0m\u001b[0mdf\u001b[0m\u001b[0;34m.\u001b[0m\u001b[0mgender\u001b[0m\u001b[0;34m==\u001b[0m\u001b[0;36m1\u001b[0m\u001b[0;34m]\u001b[0m\u001b[0;34m.\u001b[0m\u001b[0mexit\u001b[0m\u001b[0;34m)\u001b[0m\u001b[0;34m[\u001b[0m\u001b[0;36m0\u001b[0m\u001b[0;34m]\u001b[0m\u001b[0;34m\u001b[0m\u001b[0;34m\u001b[0m\u001b[0m\n\u001b[0m\u001b[1;32m      2\u001b[0m \u001b[0mpvalue\u001b[0m \u001b[0;34m=\u001b[0m \u001b[0msm\u001b[0m\u001b[0;34m.\u001b[0m\u001b[0mstats\u001b[0m\u001b[0;34m.\u001b[0m\u001b[0mttest_ind\u001b[0m\u001b[0;34m(\u001b[0m\u001b[0mdf\u001b[0m\u001b[0;34m[\u001b[0m\u001b[0mdf\u001b[0m\u001b[0;34m.\u001b[0m\u001b[0mgender\u001b[0m\u001b[0;34m==\u001b[0m\u001b[0;36m0\u001b[0m\u001b[0;34m]\u001b[0m\u001b[0;34m.\u001b[0m\u001b[0mexit\u001b[0m\u001b[0;34m,\u001b[0m\u001b[0mdf\u001b[0m\u001b[0;34m[\u001b[0m\u001b[0mdf\u001b[0m\u001b[0;34m.\u001b[0m\u001b[0mgender\u001b[0m\u001b[0;34m==\u001b[0m\u001b[0;36m1\u001b[0m\u001b[0;34m]\u001b[0m\u001b[0;34m.\u001b[0m\u001b[0mexit\u001b[0m\u001b[0;34m)\u001b[0m\u001b[0;34m[\u001b[0m\u001b[0;36m1\u001b[0m\u001b[0;34m]\u001b[0m\u001b[0;34m\u001b[0m\u001b[0;34m\u001b[0m\u001b[0m\n\u001b[1;32m      3\u001b[0m \u001b[0;34m\u001b[0m\u001b[0m\n\u001b[1;32m      4\u001b[0m \u001b[0mprint\u001b[0m\u001b[0;34m(\u001b[0m\u001b[0;34m'the tstat for gender differences in exit is ='\u001b[0m\u001b[0;34m,\u001b[0m \u001b[0mtstat\u001b[0m\u001b[0;34m)\u001b[0m\u001b[0;34m\u001b[0m\u001b[0;34m\u001b[0m\u001b[0m\n\u001b[1;32m      5\u001b[0m \u001b[0mprint\u001b[0m\u001b[0;34m(\u001b[0m\u001b[0;34m'the pvalue is ='\u001b[0m\u001b[0;34m,\u001b[0m \u001b[0mpvalue\u001b[0m\u001b[0;34m)\u001b[0m\u001b[0;34m\u001b[0m\u001b[0;34m\u001b[0m\u001b[0m\n",
            "\u001b[0;32m/usr/local/lib/python3.6/dist-packages/pandas/core/generic.py\u001b[0m in \u001b[0;36m__getattr__\u001b[0;34m(self, name)\u001b[0m\n\u001b[1;32m   5139\u001b[0m             \u001b[0;32mif\u001b[0m \u001b[0mself\u001b[0m\u001b[0;34m.\u001b[0m\u001b[0m_info_axis\u001b[0m\u001b[0;34m.\u001b[0m\u001b[0m_can_hold_identifiers_and_holds_name\u001b[0m\u001b[0;34m(\u001b[0m\u001b[0mname\u001b[0m\u001b[0;34m)\u001b[0m\u001b[0;34m:\u001b[0m\u001b[0;34m\u001b[0m\u001b[0;34m\u001b[0m\u001b[0m\n\u001b[1;32m   5140\u001b[0m                 \u001b[0;32mreturn\u001b[0m \u001b[0mself\u001b[0m\u001b[0;34m[\u001b[0m\u001b[0mname\u001b[0m\u001b[0;34m]\u001b[0m\u001b[0;34m\u001b[0m\u001b[0;34m\u001b[0m\u001b[0m\n\u001b[0;32m-> 5141\u001b[0;31m             \u001b[0;32mreturn\u001b[0m \u001b[0mobject\u001b[0m\u001b[0;34m.\u001b[0m\u001b[0m__getattribute__\u001b[0m\u001b[0;34m(\u001b[0m\u001b[0mself\u001b[0m\u001b[0;34m,\u001b[0m \u001b[0mname\u001b[0m\u001b[0;34m)\u001b[0m\u001b[0;34m\u001b[0m\u001b[0;34m\u001b[0m\u001b[0m\n\u001b[0m\u001b[1;32m   5142\u001b[0m \u001b[0;34m\u001b[0m\u001b[0m\n\u001b[1;32m   5143\u001b[0m     \u001b[0;32mdef\u001b[0m \u001b[0m__setattr__\u001b[0m\u001b[0;34m(\u001b[0m\u001b[0mself\u001b[0m\u001b[0;34m,\u001b[0m \u001b[0mname\u001b[0m\u001b[0;34m:\u001b[0m \u001b[0mstr\u001b[0m\u001b[0;34m,\u001b[0m \u001b[0mvalue\u001b[0m\u001b[0;34m)\u001b[0m \u001b[0;34m->\u001b[0m \u001b[0;32mNone\u001b[0m\u001b[0;34m:\u001b[0m\u001b[0;34m\u001b[0m\u001b[0;34m\u001b[0m\u001b[0m\n",
            "\u001b[0;31mAttributeError\u001b[0m: 'DataFrame' object has no attribute 'exit'"
          ]
        }
      ]
    },
    {
      "cell_type": "markdown",
      "metadata": {
        "id": "1In7vus57iB8"
      },
      "source": [
        "The data indicates that women are, on average, more likely to quit. However, the finding is not very [significant from a statistical perspective](https://hbr.org/2016/02/a-refresher-on-statistical-significance). Also, don't forget that we are just taking a look at two variables, ignoring a lot of other things information!"
      ]
    },
    {
      "cell_type": "markdown",
      "metadata": {
        "id": "k7S_fHNj7GCi"
      },
      "source": [
        "Maybe exiters are paid more?\n"
      ]
    },
    {
      "cell_type": "code",
      "metadata": {
        "id": "dnKc92Hs7HoR",
        "colab": {
          "base_uri": "https://localhost:8080/",
          "height": 372
        },
        "outputId": "32f4b153-b287-4042-b73e-7980f8f333a6"
      },
      "source": [
        "tstat = sm.stats.ttest_ind(df[df.exit==0].salary,df[df.exit==1].salary)[0]\n",
        "pvalue =  sm.stats.ttest_ind(df[df.exit==0].salary,df[df.exit==1].salary)[1]\n",
        "\n",
        "print('the tstat for salary differences in exit is =', tstat)\n",
        "print('the pvalue is =', pvalue)"
      ],
      "execution_count": 15,
      "outputs": [
        {
          "output_type": "error",
          "ename": "AttributeError",
          "evalue": "ignored",
          "traceback": [
            "\u001b[0;31m---------------------------------------------------------------------------\u001b[0m",
            "\u001b[0;31mAttributeError\u001b[0m                            Traceback (most recent call last)",
            "\u001b[0;32m<ipython-input-15-e2f3973949ff>\u001b[0m in \u001b[0;36m<module>\u001b[0;34m()\u001b[0m\n\u001b[0;32m----> 1\u001b[0;31m \u001b[0mtstat\u001b[0m \u001b[0;34m=\u001b[0m \u001b[0msm\u001b[0m\u001b[0;34m.\u001b[0m\u001b[0mstats\u001b[0m\u001b[0;34m.\u001b[0m\u001b[0mttest_ind\u001b[0m\u001b[0;34m(\u001b[0m\u001b[0mdf\u001b[0m\u001b[0;34m[\u001b[0m\u001b[0mdf\u001b[0m\u001b[0;34m.\u001b[0m\u001b[0mexit\u001b[0m\u001b[0;34m==\u001b[0m\u001b[0;36m0\u001b[0m\u001b[0;34m]\u001b[0m\u001b[0;34m.\u001b[0m\u001b[0msalary\u001b[0m\u001b[0;34m,\u001b[0m\u001b[0mdf\u001b[0m\u001b[0;34m[\u001b[0m\u001b[0mdf\u001b[0m\u001b[0;34m.\u001b[0m\u001b[0mexit\u001b[0m\u001b[0;34m==\u001b[0m\u001b[0;36m1\u001b[0m\u001b[0;34m]\u001b[0m\u001b[0;34m.\u001b[0m\u001b[0msalary\u001b[0m\u001b[0;34m)\u001b[0m\u001b[0;34m[\u001b[0m\u001b[0;36m0\u001b[0m\u001b[0;34m]\u001b[0m\u001b[0;34m\u001b[0m\u001b[0;34m\u001b[0m\u001b[0m\n\u001b[0m\u001b[1;32m      2\u001b[0m \u001b[0mpvalue\u001b[0m \u001b[0;34m=\u001b[0m  \u001b[0msm\u001b[0m\u001b[0;34m.\u001b[0m\u001b[0mstats\u001b[0m\u001b[0;34m.\u001b[0m\u001b[0mttest_ind\u001b[0m\u001b[0;34m(\u001b[0m\u001b[0mdf\u001b[0m\u001b[0;34m[\u001b[0m\u001b[0mdf\u001b[0m\u001b[0;34m.\u001b[0m\u001b[0mexit\u001b[0m\u001b[0;34m==\u001b[0m\u001b[0;36m0\u001b[0m\u001b[0;34m]\u001b[0m\u001b[0;34m.\u001b[0m\u001b[0msalary\u001b[0m\u001b[0;34m,\u001b[0m\u001b[0mdf\u001b[0m\u001b[0;34m[\u001b[0m\u001b[0mdf\u001b[0m\u001b[0;34m.\u001b[0m\u001b[0mexit\u001b[0m\u001b[0;34m==\u001b[0m\u001b[0;36m1\u001b[0m\u001b[0;34m]\u001b[0m\u001b[0;34m.\u001b[0m\u001b[0msalary\u001b[0m\u001b[0;34m)\u001b[0m\u001b[0;34m[\u001b[0m\u001b[0;36m1\u001b[0m\u001b[0;34m]\u001b[0m\u001b[0;34m\u001b[0m\u001b[0;34m\u001b[0m\u001b[0m\n\u001b[1;32m      3\u001b[0m \u001b[0;34m\u001b[0m\u001b[0m\n\u001b[1;32m      4\u001b[0m \u001b[0mprint\u001b[0m\u001b[0;34m(\u001b[0m\u001b[0;34m'the tstat for salary differences in exit is ='\u001b[0m\u001b[0;34m,\u001b[0m \u001b[0mtstat\u001b[0m\u001b[0;34m)\u001b[0m\u001b[0;34m\u001b[0m\u001b[0;34m\u001b[0m\u001b[0m\n\u001b[1;32m      5\u001b[0m \u001b[0mprint\u001b[0m\u001b[0;34m(\u001b[0m\u001b[0;34m'the pvalue is ='\u001b[0m\u001b[0;34m,\u001b[0m \u001b[0mpvalue\u001b[0m\u001b[0;34m)\u001b[0m\u001b[0;34m\u001b[0m\u001b[0;34m\u001b[0m\u001b[0m\n",
            "\u001b[0;32m/usr/local/lib/python3.6/dist-packages/pandas/core/generic.py\u001b[0m in \u001b[0;36m__getattr__\u001b[0;34m(self, name)\u001b[0m\n\u001b[1;32m   5139\u001b[0m             \u001b[0;32mif\u001b[0m \u001b[0mself\u001b[0m\u001b[0;34m.\u001b[0m\u001b[0m_info_axis\u001b[0m\u001b[0;34m.\u001b[0m\u001b[0m_can_hold_identifiers_and_holds_name\u001b[0m\u001b[0;34m(\u001b[0m\u001b[0mname\u001b[0m\u001b[0;34m)\u001b[0m\u001b[0;34m:\u001b[0m\u001b[0;34m\u001b[0m\u001b[0;34m\u001b[0m\u001b[0m\n\u001b[1;32m   5140\u001b[0m                 \u001b[0;32mreturn\u001b[0m \u001b[0mself\u001b[0m\u001b[0;34m[\u001b[0m\u001b[0mname\u001b[0m\u001b[0;34m]\u001b[0m\u001b[0;34m\u001b[0m\u001b[0;34m\u001b[0m\u001b[0m\n\u001b[0;32m-> 5141\u001b[0;31m             \u001b[0;32mreturn\u001b[0m \u001b[0mobject\u001b[0m\u001b[0;34m.\u001b[0m\u001b[0m__getattribute__\u001b[0m\u001b[0;34m(\u001b[0m\u001b[0mself\u001b[0m\u001b[0;34m,\u001b[0m \u001b[0mname\u001b[0m\u001b[0;34m)\u001b[0m\u001b[0;34m\u001b[0m\u001b[0;34m\u001b[0m\u001b[0m\n\u001b[0m\u001b[1;32m   5142\u001b[0m \u001b[0;34m\u001b[0m\u001b[0m\n\u001b[1;32m   5143\u001b[0m     \u001b[0;32mdef\u001b[0m \u001b[0m__setattr__\u001b[0m\u001b[0;34m(\u001b[0m\u001b[0mself\u001b[0m\u001b[0;34m,\u001b[0m \u001b[0mname\u001b[0m\u001b[0;34m:\u001b[0m \u001b[0mstr\u001b[0m\u001b[0;34m,\u001b[0m \u001b[0mvalue\u001b[0m\u001b[0;34m)\u001b[0m \u001b[0;34m->\u001b[0m \u001b[0;32mNone\u001b[0m\u001b[0;34m:\u001b[0m\u001b[0;34m\u001b[0m\u001b[0;34m\u001b[0m\u001b[0m\n",
            "\u001b[0;31mAttributeError\u001b[0m: 'DataFrame' object has no attribute 'exit'"
          ]
        }
      ]
    },
    {
      "cell_type": "markdown",
      "metadata": {
        "id": "OZBYmrEX762K"
      },
      "source": [
        "There indeed is a difference in average salary between those that exit and those that don't. This time, statistically speaking, we can be more sure of this difference. But again, don't forget that we are looking at only two variables right now, i.e. we are assuming all else is equal."
      ]
    },
    {
      "cell_type": "markdown",
      "metadata": {
        "id": "XZdYLdUn7Itu"
      },
      "source": [
        "**Exercise:** can you write a test to check if exiters (1) have higher or lower job satisfaction than stayers?\n",
        "\n",
        "\n",
        "\n"
      ]
    },
    {
      "cell_type": "code",
      "metadata": {
        "id": "ETBNz64Y_T5L"
      },
      "source": [
        ""
      ],
      "execution_count": null,
      "outputs": []
    },
    {
      "cell_type": "markdown",
      "metadata": {
        "id": "t797pwuJ_oSX"
      },
      "source": [
        "If you need help, you can find the answer below:"
      ]
    },
    {
      "cell_type": "code",
      "metadata": {
        "id": "i5vZNPtM8Ocl",
        "cellView": "form"
      },
      "source": [
        "#@title\n",
        "tstat = sm.stats.ttest_ind(df[df.exit==1].job_satisfaction,df[df.exit==0].job_satisfaction)[0]\n",
        "pvalue =  sm.stats.ttest_ind(df[df.exit==1].job_satisfaction,df[df.exit==0].job_satisfaction)[1]\n",
        "\n",
        "print('the tstat for job satisfaction of exiters is =', tstat)\n",
        "print('the pvalue is =', pvalue)"
      ],
      "execution_count": null,
      "outputs": []
    },
    {
      "cell_type": "markdown",
      "metadata": {
        "id": "S8OtDlqc8Paw"
      },
      "source": [
        "# Step 5: Multiple bivariate associations"
      ]
    },
    {
      "cell_type": "markdown",
      "metadata": {
        "id": "xZAJari88aRx"
      },
      "source": [
        "We create a new pandas data frame to store the [correlation](https://https://en.wikipedia.org/wiki/Correlation_and_dependence) information and use our custom-made plot_corr function to visualize it."
      ]
    },
    {
      "cell_type": "code",
      "metadata": {
        "id": "dMzI-kJQVtZI",
        "colab": {
          "base_uri": "https://localhost:8080/",
          "height": 664
        },
        "outputId": "b4a42700-e794-4fa6-9fa1-45621fd806ab"
      },
      "source": [
        "correlation_matrix = df.corr(method='pearson', min_periods=1)\n",
        "plot_corr(correlation_matrix)"
      ],
      "execution_count": 16,
      "outputs": [
        {
          "output_type": "display_data",
          "data": {
            "image/png": "[encoded data removed]",
            "text/plain": [
              "<Figure size 792x648 with 2 Axes>"
            ]
          },
          "metadata": {
            "tags": []
          }
        }
      ]
    },
    {
      "cell_type": "markdown",
      "metadata": {
        "id": "2TUFqtE99jrO"
      },
      "source": [
        "# Step 6: Multi-variate analysis with OLS"
      ]
    },
    {
      "cell_type": "markdown",
      "metadata": {
        "id": "TqU5QDmY9xBO"
      },
      "source": [
        "In an [ordinarly least squares, or OLS regression](https://www.encyclopedia.com/social-sciences/applied-and-social-sciences-magazines/ordinary-least-squares-regression), we try to understand the *simultaenous* effect of multiple independent variables (X), on our dependet variable (y). As an example, we want to see how education and age, together, influence an employee's salary."
      ]
    },
    {
      "cell_type": "markdown",
      "metadata": {
        "id": "E1eUHrHwAbzr"
      },
      "source": [
        "I think comments need to be put in here rather than below"
      ]
    },
    {
      "cell_type": "code",
      "metadata": {
        "id": "Uwwb1mdZVtZK"
      },
      "source": [
        " 3. Regression\n",
        "\n",
        "# We will now run some regression to understand how employee features \n",
        "# influence their performance.\n",
        "\n",
        "y = \n",
        "\n",
        "# 3.1 Regression with all variables\n",
        "# Performance regression with all variables - notice that maturity assessment \n",
        "# and outside experience are no longer significant once including tenure/age. \n",
        "\n",
        "x = hiringData.drop({\"mainPerformanceMetric\",\"ID\"},axis=1)\n",
        "model1 = sm.OLS(y,x).fit()\n",
        "\n",
        "print(model1.summary())\n",
        "\n",
        "# You can also produce a table with just the coefficients with significance \n",
        "# stars using the code below \n",
        "print(\"\\n\")\n",
        "print(\"3.1.2 Table with Significance Stars\")\n",
        "print(summary_col(model1, stars=True))"
      ],
      "execution_count": null,
      "outputs": []
    },
    {
      "cell_type": "markdown",
      "metadata": {
        "id": "Iar4jn_XBNS-"
      },
      "source": [
        "Standardizing our data sometimes makes it easier to interpret. For this, we simply compute the [z-score](https://www.statisticshowto.com/probability-and-statistics/z-score/) of each column. We also want a constant in our model (which forms the intercept of the regression model)."
      ]
    },
    {
      "cell_type": "code",
      "metadata": {
        "id": "2CV0MrZOASgr"
      },
      "source": [
        "X_std = pd.DataFrame(data=zscore(X),\n",
        "                     columns=list(X.columns))\n",
        "X_std = sm.add_constant(X_std)"
      ],
      "execution_count": null,
      "outputs": []
    },
    {
      "cell_type": "markdown",
      "metadata": {
        "id": "iVw9-2c4CAeV"
      },
      "source": [
        "We are now ready to fit our OLS model:"
      ]
    },
    {
      "cell_type": "code",
      "metadata": {
        "id": "JcZAdr32AWjg",
        "colab": {
          "base_uri": "https://localhost:8080/"
        },
        "outputId": "ed13fa0e-3e4d-42bc-9162-ef74beae3301"
      },
      "source": [
        "model = sm.OLS(y,X_std).fit()\n",
        "model_summary = model.summary()\n",
        "print (model_summary) "
      ],
      "execution_count": null,
      "outputs": [
        {
          "output_type": "stream",
          "text": [
            "                            OLS Regression Results                            \n",
            "==============================================================================\n",
            "Dep. Variable:                 salary   R-squared:                       0.119\n",
            "Model:                            OLS   Adj. R-squared:                  0.118\n",
            "Method:                 Least Squares   F-statistic:                     1219.\n",
            "Date:                Wed, 30 Dec 2020   Prob (F-statistic):               0.00\n",
            "Time:                        14:51:16   Log-Likelihood:                -59814.\n",
            "No. Observations:               18132   AIC:                         1.196e+05\n",
            "Df Residuals:                   18129   BIC:                         1.197e+05\n",
            "Df Model:                           2                                         \n",
            "Covariance Type:            nonrobust                                         \n",
            "==============================================================================\n",
            "                 coef    std err          t      P>|t|      [0.025      0.975]\n",
            "------------------------------------------------------------------------------\n",
            "const         38.9909      0.049    801.186      0.000      38.896      39.086\n",
            "age            2.4013      0.049     49.339      0.000       2.306       2.497\n",
            "education     -0.0733      0.049     -1.506      0.132      -0.169       0.022\n",
            "==============================================================================\n",
            "Omnibus:                     3594.862   Durbin-Watson:                   2.013\n",
            "Prob(Omnibus):                  0.000   Jarque-Bera (JB):            11932.879\n",
            "Skew:                           0.998   Prob(JB):                         0.00\n",
            "Kurtosis:                       6.437   Cond. No.                         1.01\n",
            "==============================================================================\n",
            "\n",
            "Warnings:\n",
            "[1] Standard Errors assume that the covariance matrix of the errors is correctly specified.\n"
          ],
          "name": "stdout"
        }
      ]
    },
    {
      "cell_type": "markdown",
      "metadata": {
        "id": "kkOWrTquCXDo"
      },
      "source": [
        "Let's get a better look at the data, by using our custom-built visualization function:"
      ]
    },
    {
      "cell_type": "code",
      "metadata": {
        "id": "Rcemx_37CJu4",
        "colab": {
          "base_uri": "https://localhost:8080/",
          "height": 406
        },
        "outputId": "b91b2775-7e42-4c3f-bd06-8f4e802ff556"
      },
      "source": [
        "plot_coef(model)"
      ],
      "execution_count": null,
      "outputs": [
        {
          "output_type": "stream",
          "text": [
            "/usr/local/lib/python3.6/dist-packages/ipykernel_launcher.py:32: FutureWarning: The pandas.np module is deprecated and will be removed from pandas in a future version. Import numpy directly instead\n"
          ],
          "name": "stderr"
        },
        {
          "output_type": "display_data",
          "data": {
            "image/png": "[encoded data removed]",
            "text/plain": [
              "<Figure size 576x360 with 1 Axes>"
            ]
          },
          "metadata": {
            "tags": []
          }
        }
      ]
    },
    {
      "cell_type": "markdown",
      "metadata": {
        "id": "ckRgYXLHBDKd"
      },
      "source": [
        "What we actually care about is, whether employees exit the company. Hence, y should indicate whether an employee is an exiteer (not to be confused with a [Brexiteer](https://en.wikipedia.org/wiki/Glossary_of_Brexit_terms)). We combine all available information, in order to try to explain why someone left:"
      ]
    },
    {
      "cell_type": "code",
      "metadata": {
        "id": "63NVojyXBg6m"
      },
      "source": [
        "X = df.loc[:, df.columns != \"exit\"]\n",
        "y = df[\"exit\"]"
      ],
      "execution_count": null,
      "outputs": []
    },
    {
      "cell_type": "markdown",
      "metadata": {
        "id": "xtxJQdEjB7zZ"
      },
      "source": [
        "Don't forget to standardize and add a constant!"
      ]
    },
    {
      "cell_type": "code",
      "metadata": {
        "id": "B_kqyKd2B27p"
      },
      "source": [
        "X_std = pd.DataFrame(data=zscore(X),\n",
        "                     columns=list(X.columns))\n",
        "X_std = sm.add_constant(X_std)"
      ],
      "execution_count": null,
      "outputs": []
    },
    {
      "cell_type": "markdown",
      "metadata": {
        "id": "vHmDqmj0CLbR"
      },
      "source": [
        "We are now ready to fit our OLS model:"
      ]
    },
    {
      "cell_type": "code",
      "metadata": {
        "id": "O7eF3BWUCQxx",
        "colab": {
          "base_uri": "https://localhost:8080/"
        },
        "outputId": "cb047d98-7569-451d-8123-6f3df89cd74f"
      },
      "source": [
        "model = sm.OLS(y,X_std).fit()\n",
        "model_summary = model.summary()\n",
        "print (model_summary) "
      ],
      "execution_count": null,
      "outputs": [
        {
          "output_type": "stream",
          "text": [
            "                            OLS Regression Results                            \n",
            "==============================================================================\n",
            "Dep. Variable:                   exit   R-squared:                       0.169\n",
            "Model:                            OLS   Adj. R-squared:                  0.168\n",
            "Method:                 Least Squares   F-statistic:                     147.0\n",
            "Date:                Wed, 30 Dec 2020   Prob (F-statistic):               0.00\n",
            "Time:                        14:51:16   Log-Likelihood:                -4612.2\n",
            "No. Observations:               18132   AIC:                             9276.\n",
            "Df Residuals:                   18106   BIC:                             9479.\n",
            "Df Model:                          25                                         \n",
            "Covariance Type:            nonrobust                                         \n",
            "=========================================================================================\n",
            "                            coef    std err          t      P>|t|      [0.025      0.975]\n",
            "-----------------------------------------------------------------------------------------\n",
            "const                     0.1355      0.002     58.430      0.000       0.131       0.140\n",
            "admin_support             0.0039      0.005      0.722      0.470      -0.007       0.014\n",
            "age                      -0.0014      0.003     -0.496      0.620      -0.007       0.004\n",
            "boss_survey              -0.1354      0.003    -46.407      0.000      -0.141      -0.130\n",
            "boss_tenure              -0.0001      0.002     -0.061      0.951      -0.005       0.004\n",
            "city_size                 0.0010      0.002      0.402      0.688      -0.004       0.006\n",
            "clock_in                  0.0016      0.002      0.652      0.514      -0.003       0.007\n",
            "core                      0.0032      0.002      1.396      0.163      -0.001       0.008\n",
            "education              1.428e-05      0.002      0.006      0.995      -0.005       0.005\n",
            "gender                    0.0190      0.003      6.571      0.000       0.013       0.025\n",
            "half_day_leaves           0.0252      0.003      7.846      0.000       0.019       0.032\n",
            "high_potential            0.0007      0.002      0.285      0.776      -0.004       0.005\n",
            "job_satisfaction          0.0017      0.004      0.381      0.704      -0.007       0.010\n",
            "kpi_performance           0.0018      0.004      0.456      0.648      -0.006       0.010\n",
            "local                     0.0028      0.002      1.193      0.233      -0.002       0.007\n",
            "part_time                 0.0025      0.002      1.048      0.294      -0.002       0.007\n",
            "rank                     -0.0152      0.006     -2.742      0.006      -0.026      -0.004\n",
            "remote                   -0.0011      0.002     -0.462      0.644      -0.006       0.003\n",
            "salary                    0.0014      0.004      0.372      0.710      -0.006       0.009\n",
            "subordinates             -0.0036      0.003     -1.059      0.290      -0.010       0.003\n",
            "team_size                 0.0008      0.003      0.281      0.779      -0.005       0.006\n",
            "tenure                   -0.0085      0.004     -1.964      0.050      -0.017   -1.65e-05\n",
            "tenure_unit               0.0063      0.004      1.464      0.143      -0.002       0.015\n",
            "training                 -0.0019      0.003     -0.761      0.447      -0.007       0.003\n",
            "variable_pay              0.0012      0.004      0.328      0.743      -0.006       0.009\n",
            "years_since_promotion     0.0045      0.003      1.571      0.116      -0.001       0.010\n",
            "==============================================================================\n",
            "Omnibus:                     4794.876   Durbin-Watson:                   1.997\n",
            "Prob(Omnibus):                  0.000   Jarque-Bera (JB):             9884.227\n",
            "Skew:                           1.604   Prob(JB):                         0.00\n",
            "Kurtosis:                       4.670   Cond. No.                         6.56\n",
            "==============================================================================\n",
            "\n",
            "Warnings:\n",
            "[1] Standard Errors assume that the covariance matrix of the errors is correctly specified.\n"
          ],
          "name": "stdout"
        }
      ]
    },
    {
      "cell_type": "markdown",
      "metadata": {
        "id": "r9F-SoRqCSpo"
      },
      "source": [
        "Let's get a better look at the data, by using our custom-built visualization function:"
      ]
    },
    {
      "cell_type": "code",
      "metadata": {
        "id": "gxlK-nQtCXEZ",
        "colab": {
          "base_uri": "https://localhost:8080/",
          "height": 478
        },
        "outputId": "7917f680-9340-43be-9699-378d06878198"
      },
      "source": [
        "plot_coef(model)"
      ],
      "execution_count": null,
      "outputs": [
        {
          "output_type": "stream",
          "text": [
            "/usr/local/lib/python3.6/dist-packages/ipykernel_launcher.py:32: FutureWarning: The pandas.np module is deprecated and will be removed from pandas in a future version. Import numpy directly instead\n"
          ],
          "name": "stderr"
        },
        {
          "output_type": "display_data",
          "data": {
            "image/png": "[encoded data removed]",
            "text/plain": [
              "<Figure size 576x360 with 1 Axes>"
            ]
          },
          "metadata": {
            "tags": []
          }
        }
      ]
    },
    {
      "cell_type": "markdown",
      "metadata": {
        "id": "qG4ukSGgGYGf"
      },
      "source": [
        "Before we move onto the logit regression, we first save our model as a CSV. You may need to allow Google to download the file to your computer."
      ]
    },
    {
      "cell_type": "code",
      "metadata": {
        "id": "ZMBuLXm1M9hK",
        "colab": {
          "base_uri": "https://localhost:8080/",
          "height": 17
        },
        "outputId": "8656acd7-665b-4900-ea86-ea36ae37c8df"
      },
      "source": [
        "# create instance which open a CSV file in \"writing\" ('w') mode\n",
        "CSV_writer = open(\"ExiteerOLSModel.csv\",\"w\")\n",
        "# write results of the OLS in CSV\n",
        "CSV_writer.write(model_summary.as_csv())\n",
        "# close CSV-writer instance\n",
        "CSV_writer.close()\n",
        "from google.colab import files\n",
        "files.download(\"ExiteerOLSModel.csv\")"
      ],
      "execution_count": null,
      "outputs": [
        {
          "output_type": "display_data",
          "data": {
            "application/javascript": [
              "\n",
              "    async function download(id, filename, size) {\n",
              "      if (!google.colab.kernel.accessAllowed) {\n",
              "        return;\n",
              "      }\n",
              "      const div = document.createElement('div');\n",
              "      const label = document.createElement('label');\n",
              "      label.textContent = `Downloading \"${filename}\": `;\n",
              "      div.appendChild(label);\n",
              "      const progress = document.createElement('progress');\n",
              "      progress.max = size;\n",
              "      div.appendChild(progress);\n",
              "      document.body.appendChild(div);\n",
              "\n",
              "      const buffers = [];\n",
              "      let downloaded = 0;\n",
              "\n",
              "      const channel = await google.colab.kernel.comms.open(id);\n",
              "      // Send a message to notify the kernel that we're ready.\n",
              "      channel.send({})\n",
              "\n",
              "      for await (const message of channel.messages) {\n",
              "        // Send a message to notify the kernel that we're ready.\n",
              "        channel.send({})\n",
              "        if (message.buffers) {\n",
              "          for (const buffer of message.buffers) {\n",
              "            buffers.push(buffer);\n",
              "            downloaded += buffer.byteLength;\n",
              "            progress.value = downloaded;\n",
              "          }\n",
              "        }\n",
              "      }\n",
              "      const blob = new Blob(buffers, {type: 'application/binary'});\n",
              "      const a = document.createElement('a');\n",
              "      a.href = window.URL.createObjectURL(blob);\n",
              "      a.download = filename;\n",
              "      div.appendChild(a);\n",
              "      a.click();\n",
              "      div.remove();\n",
              "    }\n",
              "  "
            ],
            "text/plain": [
              "<IPython.core.display.Javascript object>"
            ]
          },
          "metadata": {
            "tags": []
          }
        },
        {
          "output_type": "display_data",
          "data": {
            "application/javascript": [
              "download(\"download_ab688527-712c-456a-b217-1208c89ba936\", \"ExiteerOLSModel.csv\", 3142)"
            ],
            "text/plain": [
              "<IPython.core.display.Javascript object>"
            ]
          },
          "metadata": {
            "tags": []
          }
        }
      ]
    },
    {
      "cell_type": "markdown",
      "metadata": {
        "id": "OO9tuaYnGZqI"
      },
      "source": [
        "# Step 7: Multivariate analysis with Logit"
      ]
    },
    {
      "cell_type": "markdown",
      "metadata": {
        "id": "ULjTkGAVGoLu"
      },
      "source": [
        "In a [Logistic (or Logit) regression](https://en.wikipedia.org/wiki/Logistic_regression), we try to understand the *simultaenous* effect of multiple independent variables (X), on our dependet variable (y), when y is either 0 or 1, exactly as in our problem!"
      ]
    },
    {
      "cell_type": "code",
      "metadata": {
        "id": "p2NyfS9NVtZN",
        "colab": {
          "base_uri": "https://localhost:8080/"
        },
        "outputId": "37e6d5e7-64dc-46b6-9d0f-24eedde762ca"
      },
      "source": [
        "model_logit = sm.Logit(endog=y, exog=X_std).fit()\n",
        "model_logit_summary= model_logit.summary()\n",
        "print (model_logit_summary)"
      ],
      "execution_count": null,
      "outputs": [
        {
          "output_type": "stream",
          "text": [
            "Optimization terminated successfully.\n",
            "         Current function value: 0.302018\n",
            "         Iterations 7\n",
            "                           Logit Regression Results                           \n",
            "==============================================================================\n",
            "Dep. Variable:                   exit   No. Observations:                18132\n",
            "Model:                          Logit   Df Residuals:                    18106\n",
            "Method:                           MLE   Df Model:                           25\n",
            "Date:                Wed, 30 Dec 2020   Pseudo R-squ.:                  0.2387\n",
            "Time:                        14:51:17   Log-Likelihood:                -5476.2\n",
            "converged:                       True   LL-Null:                       -7193.4\n",
            "Covariance Type:            nonrobust   LLR p-value:                     0.000\n",
            "=========================================================================================\n",
            "                            coef    std err          z      P>|z|      [0.025      0.975]\n",
            "-----------------------------------------------------------------------------------------\n",
            "const                    -2.5565      0.035    -73.566      0.000      -2.625      -2.488\n",
            "admin_support             0.0377      0.058      0.650      0.516      -0.076       0.152\n",
            "age                      -0.0320      0.029     -1.088      0.277      -0.090       0.026\n",
            "boss_survey              -1.4938      0.037    -40.268      0.000      -1.566      -1.421\n",
            "boss_tenure               0.0012      0.025      0.048      0.962      -0.047       0.049\n",
            "city_size                 0.0170      0.026      0.644      0.519      -0.035       0.069\n",
            "clock_in                  0.0043      0.026      0.165      0.869      -0.047       0.056\n",
            "core                      0.0377      0.025      1.511      0.131      -0.011       0.087\n",
            "education                 0.0021      0.025      0.083      0.934      -0.046       0.050\n",
            "gender                    0.2075      0.031      6.799      0.000       0.148       0.267\n",
            "half_day_leaves           0.2963      0.034      8.590      0.000       0.229       0.364\n",
            "high_potential           -0.0031      0.025     -0.122      0.903      -0.053       0.047\n",
            "job_satisfaction          0.0515      0.046      1.108      0.268      -0.040       0.143\n",
            "kpi_performance           0.0453      0.042      1.070      0.285      -0.038       0.128\n",
            "local                     0.0305      0.025      1.235      0.217      -0.018       0.079\n",
            "part_time                 0.0190      0.025      0.759      0.448      -0.030       0.068\n",
            "rank                     -0.1689      0.060     -2.811      0.005      -0.287      -0.051\n",
            "remote                   -0.0086      0.025     -0.348      0.728      -0.057       0.040\n",
            "salary                   -0.0066      0.044     -0.149      0.882      -0.093       0.080\n",
            "subordinates             -0.0516      0.037     -1.382      0.167      -0.125       0.022\n",
            "team_size                 0.0161      0.031      0.519      0.604      -0.045       0.077\n",
            "tenure                   -0.1104      0.049     -2.240      0.025      -0.207      -0.014\n",
            "tenure_unit               0.0925      0.048      1.937      0.053      -0.001       0.186\n",
            "training                 -0.0178      0.027     -0.668      0.504      -0.070       0.034\n",
            "variable_pay              0.0258      0.041      0.630      0.529      -0.055       0.106\n",
            "years_since_promotion     0.0647      0.031      2.113      0.035       0.005       0.125\n",
            "=========================================================================================\n"
          ],
          "name": "stdout"
        }
      ]
    },
    {
      "cell_type": "markdown",
      "metadata": {
        "id": "tUXVJwWeJS5l"
      },
      "source": [
        "We can, again, use our custom-made visualization function:"
      ]
    },
    {
      "cell_type": "code",
      "metadata": {
        "id": "QXPwUP3xHpq7",
        "colab": {
          "base_uri": "https://localhost:8080/",
          "height": 478
        },
        "outputId": "0ab58ac6-e45a-42b0-f86e-bdcb86d14150"
      },
      "source": [
        "plot_coef(model_logit)"
      ],
      "execution_count": null,
      "outputs": [
        {
          "output_type": "stream",
          "text": [
            "/usr/local/lib/python3.6/dist-packages/ipykernel_launcher.py:32: FutureWarning: The pandas.np module is deprecated and will be removed from pandas in a future version. Import numpy directly instead\n"
          ],
          "name": "stderr"
        },
        {
          "output_type": "display_data",
          "data": {
            "image/png": "[encoded data removed]",
            "text/plain": [
              "<Figure size 576x360 with 1 Axes>"
            ]
          },
          "metadata": {
            "tags": []
          }
        }
      ]
    },
    {
      "cell_type": "markdown",
      "metadata": {
        "id": "UpF5DvCJSCF5"
      },
      "source": [
        "For further reading on Logit, see, for example, [here](https://statisticalhorizons.com/whats-so-special-about-logit). For more on Logit in Python, see [here](https://www.datacamp.com/community/tutorials/understanding-logistic-regression-python)."
      ]
    },
    {
      "cell_type": "markdown",
      "metadata": {
        "id": "wkjL6kMaMBl_"
      },
      "source": [
        "We again save the model as a CSV export for future reference:"
      ]
    },
    {
      "cell_type": "code",
      "metadata": {
        "id": "Gk1_ehn7HrRf",
        "colab": {
          "base_uri": "https://localhost:8080/",
          "height": 17
        },
        "outputId": "959dc61e-24af-45b0-b8dc-35398e7d1ad4"
      },
      "source": [
        "# create instance which open a CSV file in \"writing\" ('w') mode\n",
        "CSV_writer = open(\"ExiteerLogitModel.csv\",\"w\")\n",
        "# write results of Logit in CSV\n",
        "CSV_writer.write(model_logit_summary.as_csv())\n",
        "# close CSV-writer instance\n",
        "CSV_writer.close()\n",
        "from google.colab import files\n",
        "files.download(\"ExiteerLogitModel.csv\")"
      ],
      "execution_count": null,
      "outputs": [
        {
          "output_type": "display_data",
          "data": {
            "application/javascript": [
              "\n",
              "    async function download(id, filename, size) {\n",
              "      if (!google.colab.kernel.accessAllowed) {\n",
              "        return;\n",
              "      }\n",
              "      const div = document.createElement('div');\n",
              "      const label = document.createElement('label');\n",
              "      label.textContent = `Downloading \"${filename}\": `;\n",
              "      div.appendChild(label);\n",
              "      const progress = document.createElement('progress');\n",
              "      progress.max = size;\n",
              "      div.appendChild(progress);\n",
              "      document.body.appendChild(div);\n",
              "\n",
              "      const buffers = [];\n",
              "      let downloaded = 0;\n",
              "\n",
              "      const channel = await google.colab.kernel.comms.open(id);\n",
              "      // Send a message to notify the kernel that we're ready.\n",
              "      channel.send({})\n",
              "\n",
              "      for await (const message of channel.messages) {\n",
              "        // Send a message to notify the kernel that we're ready.\n",
              "        channel.send({})\n",
              "        if (message.buffers) {\n",
              "          for (const buffer of message.buffers) {\n",
              "            buffers.push(buffer);\n",
              "            downloaded += buffer.byteLength;\n",
              "            progress.value = downloaded;\n",
              "          }\n",
              "        }\n",
              "      }\n",
              "      const blob = new Blob(buffers, {type: 'application/binary'});\n",
              "      const a = document.createElement('a');\n",
              "      a.href = window.URL.createObjectURL(blob);\n",
              "      a.download = filename;\n",
              "      div.appendChild(a);\n",
              "      a.click();\n",
              "      div.remove();\n",
              "    }\n",
              "  "
            ],
            "text/plain": [
              "<IPython.core.display.Javascript object>"
            ]
          },
          "metadata": {
            "tags": []
          }
        },
        {
          "output_type": "display_data",
          "data": {
            "application/javascript": [
              "download(\"download_bf5a8c5c-8638-4970-ad39-cd604fb11549\", \"ExiteerLogitModel.csv\", 2679)"
            ],
            "text/plain": [
              "<IPython.core.display.Javascript object>"
            ]
          },
          "metadata": {
            "tags": []
          }
        }
      ]
    }
  ]
}