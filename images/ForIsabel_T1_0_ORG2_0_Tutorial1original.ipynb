{
 "cells": [
  {
   "cell_type": "markdown",
   "metadata": {
    "id": "hvDB54ejVtY8"
   },
   "source": [
    "### **TUTORIAL 1: ANALYTICS FOR PERCEPTION**\n",
    "\n"
   ]
  },
  {
   "cell_type": "markdown",
   "metadata": {
    "id": "RCDl3ZI60vmw"
   },
   "source": [
    "# Step 0: Does this work?"
   ]
  },
  {
   "cell_type": "code",
   "execution_count": 1,
   "metadata": {
    "id": "_iKXd6bM0yax"
   },
   "outputs": [
    {
     "name": "stdout",
     "output_type": "stream",
     "text": [
      "Hello People!\n"
     ]
    }
   ],
   "source": [
    "print(\"Hello People!\")"
   ]
  },
  {
   "cell_type": "markdown",
   "metadata": {
    "id": "pN8Hqu-J0dw4"
   },
   "source": [
    "# Step 1: Import some modules"
   ]
  },
  {
   "cell_type": "markdown",
   "metadata": {
    "id": "1LtSIaVEz0yD"
   },
   "source": [
    "Never reinvent the wheel! There are tons of programs out there that we can simply import into our own code and use as needed. If you want to know more, or find useful modules, check out [PyPI](https://pypi.org/) (the Python Package Index)."
   ]
  },
  {
   "cell_type": "code",
   "execution_count": 2,
   "metadata": {
    "id": "oK9uzw_ZVtY9"
   },
   "outputs": [
    {
     "name": "stdout",
     "output_type": "stream",
     "text": [
      "Module import completed!\n"
     ]
    }
   ],
   "source": [
    "import pandas as pd # for data structure and data analysis\n",
    "import statsmodels.api as sm # for statistical analysis\n",
    "from scipy import stats #for statistical analysis & machine learning\n",
    "from scipy.stats.mstats import zscore #to standardize regression coefficients\n",
    "stats.chisqprob = lambda chisq, df: stats.chi2.sf(chisq, df) #to standardize regression coefficients\n",
    "import matplotlib.pyplot as plt #to plot\n",
    "import numpy as np #to handle arrays and matrixes\n",
    "import seaborn as sns #to plot\n",
    "import matplotlib.pyplot as plt #to plot\n",
    "import numpy as np #to handle arrays and matrixes\n",
    "print(\"Module import completed!\")"
   ]
  },
  {
   "cell_type": "markdown",
   "metadata": {
    "id": "EDiWV3Uk1OxP"
   },
   "source": [
    "So what, exactly, are we doing here?\n",
    "\n",
    "\n",
    "*   \"import X as Y\": We import the whole module X, but we use Y to refer to it (because we really don't want to write matplotlib.pyplot every time we use it)\n",
    "*   \"from X import Y\": We don't want all of X, but we care specially about one function, Y. Also, this way we can refer to Y directly\n",
    "\n",
    "\n"
   ]
  },
  {
   "cell_type": "markdown",
   "metadata": {
    "id": "tXHvmToa1uDX"
   },
   "source": [
    "# Step 2: Define functions for plotting correlation matrix and regression coefficients"
   ]
  },
  {
   "cell_type": "markdown",
   "metadata": {
    "id": "qH4_JTmw10M6"
   },
   "source": [
    "A function is like a recipe for your computer: it bundles a set of instructions, so that the computer can work its way from a well-defined input (flour, baking powder, milk, eggs), to a well-defined output ([pancakes](https://www.kingarthurflour.com/recipes/simply-perfect-pancakes-recipe)).\n",
    "\n",
    "Functions are useful, because we would rather just tell our computer to make pancakes than to explain all the instructions every time we are hungry.\n",
    "\n",
    "Let's teach our computer something more simple than making pancakes first:"
   ]
  },
  {
   "cell_type": "code",
   "execution_count": 3,
   "metadata": {
    "id": "mo4-18-Q2rIz"
   },
   "outputs": [],
   "source": [
    "def sum_numbers(x, y):\n",
    "    result = x + y\n",
    "    return result"
   ]
  },
  {
   "cell_type": "markdown",
   "metadata": {
    "id": "FrDj3evX3D-s"
   },
   "source": [
    "Our function lets us sum any two numbers by calling it:"
   ]
  },
  {
   "cell_type": "code",
   "execution_count": 4,
   "metadata": {
    "id": "sQin7DKe3KID"
   },
   "outputs": [
    {
     "data": {
      "text/plain": [
       "9"
      ]
     },
     "execution_count": 4,
     "metadata": {},
     "output_type": "execute_result"
    }
   ],
   "source": [
    "sum_numbers(3,6)"
   ]
  },
  {
   "cell_type": "markdown",
   "metadata": {
    "id": "8MIXs7Kk3PuV"
   },
   "source": [
    "We are now ready to define the functions we will use to plot our graphs. Don't worry too much about the details - we are just teaching our computer a specific recipe."
   ]
  },
  {
   "cell_type": "code",
   "execution_count": 5,
   "metadata": {
    "id": "-P9Uv49WVtZA"
   },
   "outputs": [
    {
     "name": "stdout",
     "output_type": "stream",
     "text": [
      "Plotting function definition completed!\n"
     ]
    }
   ],
   "source": [
    "#function to plot correlation matrix\n",
    "def plot_corr(corr):\n",
    "    sns.set(style=\"white\")\n",
    "    mask = np.zeros_like(corr, dtype=np.bool)\n",
    "    mask[np.triu_indices_from(mask)] = True\n",
    "    \n",
    "    # Set up the matplotlib figure\n",
    "    f, ax = plt.subplots(figsize=(11, 9))\n",
    "    \n",
    "    # Generate a custom diverging colormap\n",
    "    # sns.palplot(sns.diverging_palette(240, 0)) Uncomment to try out different color palettes to use below\n",
    "    cmap = sns.diverging_palette(240, 0, as_cmap=True)\n",
    "    \n",
    "    # Draw the heatmap with the mask and correct aspect ratio\n",
    "    sns.heatmap(corr, mask=mask, cmap=cmap, vmax=0.15,vmin=-0.15,  # vmax and vmin define the upper and lower boundaries of the colormap respectively\n",
    "                square=True, linewidths=.5, cbar_kws={\"shrink\": .5})\n",
    "\n",
    "\n",
    "#define function to plot coefficients and confidence intervals\n",
    "def plot_coef(model):\n",
    "    err_series = model.params - model.conf_int(alpha=0.05)[0]\n",
    "    coef_df = pd.DataFrame({'coef': model.params.values[1:],\n",
    "                            'err': err_series.values[1:],\n",
    "                            'varname': err_series.index.values[1:]\n",
    "                           })\n",
    "    fig, ax = plt.subplots(figsize=(8, 5))\n",
    "    coef_df.plot(x='varname', y='coef', kind='bar', \n",
    "                 ax=ax, color='none', \n",
    "                 yerr='err', legend=False)\n",
    "    ax.set_ylabel('')\n",
    "    ax.set_xlabel('')\n",
    "    ax.scatter(x=pd.np.arange(coef_df.shape[0]), \n",
    "               marker='s', s=120, \n",
    "               y=coef_df['coef'], color='black')\n",
    "    ax.axhline(y=0, linestyle='--', color='black', linewidth=4)\n",
    "    ax.xaxis.set_ticks_position('none')\n",
    "    \n",
    "    \n",
    "print (\"Plotting function definition completed!\")"
   ]
  },
  {
   "cell_type": "markdown",
   "metadata": {
    "id": "eLU42wU93qqf"
   },
   "source": [
    "# Step 3: Make data available within the program"
   ]
  },
  {
   "cell_type": "markdown",
   "metadata": {
    "id": "sKJK5J_a3iOR"
   },
   "source": [
    "## Step 3.1: Upload the data file from your local computer to Google Drive"
   ]
  },
  {
   "cell_type": "markdown",
   "metadata": {
    "id": "dSc_BBjk335J"
   },
   "source": [
    "Luckily, Google makes our life very easy - we just need to run the code below and then we can upload our file to Google drive."
   ]
  },
  {
   "cell_type": "code",
   "execution_count": null,
   "metadata": {
    "id": "7CA8SFaHW8xR"
   },
   "outputs": [],
   "source": [
    "import os.path\n",
    "from google.colab import files\n",
    "if not os.path.exists(\"T1.1_ORG2.0_chimeraCSV.csv\"):\n",
    "    uploaded = files.upload()"
   ]
  },
  {
   "cell_type": "markdown",
   "metadata": {
    "id": "ZlbbX2064oQJ"
   },
   "source": [
    "## Step 3.2: set a path to your data CSV file (Database.csv) and acces your data"
   ]
  },
  {
   "cell_type": "markdown",
   "metadata": {
    "id": "cM05b7xt5CCU"
   },
   "source": [
    "We use [Pandas](https://www.learnpython.org/en/Pandas_Basics), a popular module \n",
    "in Python (not to be confused with this [cute guy](https://www.worldwildlife.org/species/giant-panda)), to store the data from the CSV in a way that Python can work with it."
   ]
  },
  {
   "cell_type": "code",
   "execution_count": null,
   "metadata": {
    "id": "8z65Q52RVtZC"
   },
   "outputs": [],
   "source": [
    "path = \"T1.1_ORG2.0_chimeraCSV.csv\"\n",
    "df = pd.read_csv(path, sep = \",\") # create a pandas data frame to store data, set the type of separator used in your CSV file"
   ]
  },
  {
   "cell_type": "markdown",
   "metadata": {
    "id": "UPLHn0JB5-Vl"
   },
   "source": [
    "Let's take a sneak peak at what we imported:"
   ]
  },
  {
   "cell_type": "code",
   "execution_count": null,
   "metadata": {
    "id": "Wtl60RN86Fhg"
   },
   "outputs": [],
   "source": [
    "df.head()"
   ]
  },
  {
   "cell_type": "markdown",
   "metadata": {
    "id": "JnXno7Np6Xap"
   },
   "source": [
    "We can also get a summary of each column:"
   ]
  },
  {
   "cell_type": "code",
   "execution_count": null,
   "metadata": {
    "id": "fZCjXWui6OuF"
   },
   "outputs": [],
   "source": [
    "summary_stats = df.describe()\n",
    "print(summary_stats)"
   ]
  },
  {
   "cell_type": "markdown",
   "metadata": {
    "id": "iwlYxUYT6dhO"
   },
   "source": [
    "# Step 4: Bivariate tests (t-tests)"
   ]
  },
  {
   "cell_type": "markdown",
   "metadata": {
    "id": "XgF34E8u6m4H"
   },
   "source": [
    "Let's see whether we can find any initial trends in the data. For example, are women more likely to exit the firm? We will use [t-tests](https://towardsdatascience.com/the-statistical-analysis-t-test-explained-for-beginners-and-experts-fd0e358bbb62) to analyze the difference in means:"
   ]
  },
  {
   "cell_type": "code",
   "execution_count": null,
   "metadata": {
    "id": "zNrrqXEjVtZE"
   },
   "outputs": [],
   "source": [
    "tstat = sm.stats.ttest_ind(df[df.gender==0].exit,df[df.gender==1].exit)[0] \n",
    "pvalue = sm.stats.ttest_ind(df[df.gender==0].exit,df[df.gender==1].exit)[1] \n",
    "\n",
    "print('the tstat for gender differences in exit is =', tstat)\n",
    "print('the pvalue is =', pvalue)"
   ]
  },
  {
   "cell_type": "markdown",
   "metadata": {
    "id": "1In7vus57iB8"
   },
   "source": [
    "The data indicates that women are, on average, more likely to quit. However, the finding is not very [significant from a statistical perspective](https://hbr.org/2016/02/a-refresher-on-statistical-significance). Also, don't forget that we are just taking a look at two variables, ignoring a lot of other things information!"
   ]
  },
  {
   "cell_type": "markdown",
   "metadata": {
    "id": "k7S_fHNj7GCi"
   },
   "source": [
    "Maybe exiters are paid more?\n"
   ]
  },
  {
   "cell_type": "code",
   "execution_count": null,
   "metadata": {
    "id": "dnKc92Hs7HoR"
   },
   "outputs": [],
   "source": [
    "tstat = sm.stats.ttest_ind(df[df.exit==0].salary,df[df.exit==1].salary)[0]\n",
    "pvalue =  sm.stats.ttest_ind(df[df.exit==0].salary,df[df.exit==1].salary)[1]\n",
    "\n",
    "print('the tstat for salary differences in exit is =', tstat)\n",
    "print('the pvalue is =', pvalue)"
   ]
  },
  {
   "cell_type": "markdown",
   "metadata": {
    "id": "OZBYmrEX762K"
   },
   "source": [
    "There indeed is a difference in average salary between those that exit and those that don't. This time, statistically speaking, we can be more sure of this difference. But again, don't forget that we are looking at only two variables right now, i.e. we are assuming all else is equal."
   ]
  },
  {
   "cell_type": "markdown",
   "metadata": {
    "id": "XZdYLdUn7Itu"
   },
   "source": [
    "**Exercise:** can you write a test to check if exiters (1) have higher or lower job satisfaction than stayers?\n",
    "\n",
    "\n",
    "\n"
   ]
  },
  {
   "cell_type": "code",
   "execution_count": null,
   "metadata": {
    "id": "ETBNz64Y_T5L"
   },
   "outputs": [],
   "source": []
  },
  {
   "cell_type": "markdown",
   "metadata": {
    "id": "t797pwuJ_oSX"
   },
   "source": [
    "If you need help, you can find the answer below:"
   ]
  },
  {
   "cell_type": "code",
   "execution_count": null,
   "metadata": {
    "cellView": "form",
    "id": "i5vZNPtM8Ocl"
   },
   "outputs": [],
   "source": [
    "#@title\n",
    "tstat = sm.stats.ttest_ind(df[df.exit==1].job_satisfaction,df[df.exit==0].job_satisfaction)[0]\n",
    "pvalue =  sm.stats.ttest_ind(df[df.exit==1].job_satisfaction,df[df.exit==0].job_satisfaction)[1]\n",
    "\n",
    "print('the tstat for job satisfaction of exiters is =', tstat)\n",
    "print('the pvalue is =', pvalue)"
   ]
  },
  {
   "cell_type": "markdown",
   "metadata": {
    "id": "S8OtDlqc8Paw"
   },
   "source": [
    "# Step 5: Multiple bivariate associations"
   ]
  },
  {
   "cell_type": "markdown",
   "metadata": {
    "id": "xZAJari88aRx"
   },
   "source": [
    "We create a new pandas data frame to store the [correlation](https://https://en.wikipedia.org/wiki/Correlation_and_dependence) information and use our custom-made plot_corr function to visualize it."
   ]
  },
  {
   "cell_type": "code",
   "execution_count": null,
   "metadata": {
    "id": "dMzI-kJQVtZI"
   },
   "outputs": [],
   "source": [
    "correlation_matrix = df.corr(method='pearson', min_periods=1)\n",
    "plot_corr(correlation_matrix)"
   ]
  },
  {
   "cell_type": "markdown",
   "metadata": {
    "id": "2TUFqtE99jrO"
   },
   "source": [
    "# Step 6: Multi-variate analysis with OLS"
   ]
  },
  {
   "cell_type": "markdown",
   "metadata": {
    "id": "TqU5QDmY9xBO"
   },
   "source": [
    "In an [ordinarly least squares, or OLS regression](https://www.encyclopedia.com/social-sciences/applied-and-social-sciences-magazines/ordinary-least-squares-regression), we try to understand the *simultaenous* effect of multiple independent variables (X), on our dependet variable (y). As an example, we want to see how education and age, together, influence an employee's salary."
   ]
  },
  {
   "cell_type": "markdown",
   "metadata": {
    "id": "E1eUHrHwAbzr"
   },
   "source": [
    "First, let's set our independent and dependent variables"
   ]
  },
  {
   "cell_type": "code",
   "execution_count": null,
   "metadata": {
    "id": "Uwwb1mdZVtZK"
   },
   "outputs": [],
   "source": [
    "X = df[[\"age\",\"education\"]]\n",
    "y = df[\"salary\"]"
   ]
  },
  {
   "cell_type": "markdown",
   "metadata": {
    "id": "Iar4jn_XBNS-"
   },
   "source": [
    "Standardizing our data sometimes makes it easier to interpret. For this, we simply compute the [z-score](https://www.statisticshowto.com/probability-and-statistics/z-score/) of each column. We also want a constant in our model (which forms the intercept of the regression model)."
   ]
  },
  {
   "cell_type": "code",
   "execution_count": null,
   "metadata": {
    "id": "2CV0MrZOASgr"
   },
   "outputs": [],
   "source": [
    "X_std = pd.DataFrame(data=zscore(X),\n",
    "                     columns=list(X.columns))\n",
    "X_std = sm.add_constant(X_std)"
   ]
  },
  {
   "cell_type": "markdown",
   "metadata": {
    "id": "iVw9-2c4CAeV"
   },
   "source": [
    "We are now ready to fit our OLS model:"
   ]
  },
  {
   "cell_type": "code",
   "execution_count": null,
   "metadata": {
    "id": "JcZAdr32AWjg"
   },
   "outputs": [],
   "source": [
    "model = sm.OLS(y,X_std).fit()\n",
    "model_summary = model.summary()\n",
    "print (model_summary) "
   ]
  },
  {
   "cell_type": "markdown",
   "metadata": {
    "id": "kkOWrTquCXDo"
   },
   "source": [
    "Let's get a better look at the data, by using our custom-built visualization function:"
   ]
  },
  {
   "cell_type": "code",
   "execution_count": null,
   "metadata": {
    "id": "Rcemx_37CJu4"
   },
   "outputs": [],
   "source": [
    "plot_coef(model)"
   ]
  },
  {
   "cell_type": "markdown",
   "metadata": {
    "id": "ckRgYXLHBDKd"
   },
   "source": [
    "What we actually care about is, whether employees exit the company. Hence, y should indicate whether an employee is an exiteer (not to be confused with a [Brexiteer](https://en.wikipedia.org/wiki/Glossary_of_Brexit_terms)). We combine all available information, in order to try to explain why someone left:"
   ]
  },
  {
   "cell_type": "code",
   "execution_count": null,
   "metadata": {
    "id": "63NVojyXBg6m"
   },
   "outputs": [],
   "source": [
    "X = df.loc[:, df.columns != \"exit\"]\n",
    "y = df[\"exit\"]"
   ]
  },
  {
   "cell_type": "markdown",
   "metadata": {
    "id": "xtxJQdEjB7zZ"
   },
   "source": [
    "Don't forget to standardize and add a constant!"
   ]
  },
  {
   "cell_type": "code",
   "execution_count": null,
   "metadata": {
    "id": "B_kqyKd2B27p"
   },
   "outputs": [],
   "source": [
    "X_std = pd.DataFrame(data=zscore(X),\n",
    "                     columns=list(X.columns))\n",
    "X_std = sm.add_constant(X_std)"
   ]
  },
  {
   "cell_type": "markdown",
   "metadata": {
    "id": "vHmDqmj0CLbR"
   },
   "source": [
    "We are now ready to fit our OLS model:"
   ]
  },
  {
   "cell_type": "code",
   "execution_count": null,
   "metadata": {
    "id": "O7eF3BWUCQxx"
   },
   "outputs": [],
   "source": [
    "model = sm.OLS(y,X_std).fit()\n",
    "model_summary = model.summary()\n",
    "print (model_summary) "
   ]
  },
  {
   "cell_type": "markdown",
   "metadata": {
    "id": "r9F-SoRqCSpo"
   },
   "source": [
    "Let's get a better look at the data, by using our custom-built visualization function:"
   ]
  },
  {
   "cell_type": "code",
   "execution_count": null,
   "metadata": {
    "id": "gxlK-nQtCXEZ"
   },
   "outputs": [],
   "source": [
    "plot_coef(model)"
   ]
  },
  {
   "cell_type": "markdown",
   "metadata": {
    "id": "qG4ukSGgGYGf"
   },
   "source": [
    "Before we move onto the logit regression, we first save our model as a CSV. You may need to allow Google to download the file to your computer."
   ]
  },
  {
   "cell_type": "code",
   "execution_count": null,
   "metadata": {
    "id": "ZMBuLXm1M9hK"
   },
   "outputs": [],
   "source": [
    "# create instance which open a CSV file in \"writing\" ('w') mode\n",
    "CSV_writer = open(\"ExiteerOLSModel.csv\",\"w\")\n",
    "# write results of the OLS in CSV\n",
    "CSV_writer.write(model_summary.as_csv())\n",
    "# close CSV-writer instance\n",
    "CSV_writer.close()\n",
    "from google.colab import files\n",
    "files.download(\"ExiteerOLSModel.csv\")"
   ]
  },
  {
   "cell_type": "markdown",
   "metadata": {
    "id": "OO9tuaYnGZqI"
   },
   "source": [
    "# Step 7: Multivariate analysis with Logit"
   ]
  },
  {
   "cell_type": "markdown",
   "metadata": {
    "id": "ULjTkGAVGoLu"
   },
   "source": [
    "In a [Logistic (or Logit) regression](https://en.wikipedia.org/wiki/Logistic_regression), we try to understand the *simultaenous* effect of multiple independent variables (X), on our dependet variable (y), when y is either 0 or 1, exactly as in our problem!"
   ]
  },
  {
   "cell_type": "code",
   "execution_count": null,
   "metadata": {
    "id": "p2NyfS9NVtZN"
   },
   "outputs": [],
   "source": [
    "model_logit = sm.Logit(endog=y, exog=X_std).fit()\n",
    "model_logit_summary= model_logit.summary()\n",
    "print (model_logit_summary)"
   ]
  },
  {
   "cell_type": "markdown",
   "metadata": {
    "id": "tUXVJwWeJS5l"
   },
   "source": [
    "We can, again, use our custom-made visualization function:"
   ]
  },
  {
   "cell_type": "code",
   "execution_count": null,
   "metadata": {
    "id": "QXPwUP3xHpq7"
   },
   "outputs": [],
   "source": [
    "plot_coef(model_logit)"
   ]
  },
  {
   "cell_type": "markdown",
   "metadata": {
    "id": "UpF5DvCJSCF5"
   },
   "source": [
    "For further reading on Logit, see, for example, [here](https://statisticalhorizons.com/whats-so-special-about-logit). For more on Logit in Python, see [here](https://www.datacamp.com/community/tutorials/understanding-logistic-regression-python)."
   ]
  },
  {
   "cell_type": "markdown",
   "metadata": {
    "id": "wkjL6kMaMBl_"
   },
   "source": [
    "We again save the model as a CSV export for future reference:"
   ]
  },
  {
   "cell_type": "code",
   "execution_count": null,
   "metadata": {
    "id": "Gk1_ehn7HrRf"
   },
   "outputs": [],
   "source": [
    "# create instance which open a CSV file in \"writing\" ('w') mode\n",
    "CSV_writer = open(\"ExiteerLogitModel.csv\",\"w\")\n",
    "# write results of Logit in CSV\n",
    "CSV_writer.write(model_logit_summary.as_csv())\n",
    "# close CSV-writer instance\n",
    "CSV_writer.close()\n",
    "from google.colab import files\n",
    "files.download(\"ExiteerLogitModel.csv\")"
   ]
  }
 ],
 "metadata": {
  "colab": {
   "collapsed_sections": [],
   "name": "ForIsabel_T1.0_ORG2.0_Tutorial1.ipynb",
   "provenance": [],
   "toc_visible": true
  },
  "kernelspec": {
   "display_name": "people",
   "language": "python",
   "name": "people"
  },
  "language_info": {
   "codemirror_mode": {
    "name": "ipython",
    "version": 3
   },
   "file_extension": ".py",
   "mimetype": "text/x-python",
   "name": "python",
   "nbconvert_exporter": "python",
   "pygments_lexer": "ipython3",
   "version": "3.8.5"
  }
 },
 "nbformat": 4,
 "nbformat_minor": 4
}
