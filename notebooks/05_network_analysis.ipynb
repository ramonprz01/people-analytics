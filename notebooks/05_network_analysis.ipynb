{
 "cells": [
  {
   "cell_type": "markdown",
   "metadata": {
    "id": "1VWvW_Jk8ZxL"
   },
   "source": [
    "# 05 Network Analysis "
   ]
  },
  {
   "cell_type": "markdown",
   "metadata": {},
   "source": [
    "![network](https://d33wubrfki0l68.cloudfront.net/10d43940cb362319c951f2e6febe0bf711be7181/1f212/img/portfolio/2018/intangible-cultural-heritage/intangible_cultural_heritage_detail_2.png)  \n",
    "**Source:** Nadieh Bremer ([Link to her post](https://www.visualcinnamon.com/portfolio/intangible-cultural-heritage/))"
   ]
  },
  {
   "cell_type": "markdown",
   "metadata": {},
   "source": [
    "## Table of Contents\n",
    "\n",
    "1. What is a Network?\n",
    "2. Components of a Network\n",
    "3. Analysis\n",
    "4. Summary\n",
    "5. Resources"
   ]
  },
  {
   "cell_type": "markdown",
   "metadata": {
    "id": "1VWvW_Jk8ZxL"
   },
   "source": [
    "## 1. What is a Network?"
   ]
  },
  {
   "cell_type": "markdown",
   "metadata": {},
   "source": [
    "> \"Network analysis (NA) is a set of integrated techniques to depict relations among actors and to analyze the social structures that emerge from the recurrence of these relations. The basic assumption is that better explanations of social phenomena are yielded by analysis of the relations among entities.\" ~ [A.M. Chiesi](https://www.sciencedirect.com/science/article/pii/B008043076704211X#!)\n",
    "\n",
    "Networks are usually defined by two main sets of characteristics, nodes and edges. The former would represent the points in a graph while the latter will represent the connection between these two. In addition, both of these components can hold metadata or additional information about the network.\n",
    "\n",
    "Networks are everywhere\n",
    "- Social media\n",
    "- Company employees\n",
    "- Companies in an industry\n",
    "- Supermarkets represent a vast network\n",
    "- Many more..."
   ]
  },
  {
   "cell_type": "markdown",
   "metadata": {
    "id": "1VWvW_Jk8ZxL"
   },
   "source": [
    "## 2. Important Concepts of a Network"
   ]
  },
  {
   "cell_type": "markdown",
   "metadata": {
    "id": "1VWvW_Jk8ZxL"
   },
   "source": [
    "- **Network:** a graph consisting of nodes that are linked to one another by edges\n",
    "- **Nodes:** Points on a graph/network\n",
    "- **Edges:** represent the path or link between nodes\n",
    "- **Directed Graph:** Graph where nodes are connected in a non-reciprocal way. This about from the perspective of Twitter or instagram, you can follow as many people as you'd like but they don't necessarily have to follow you\n",
    "- **Undirected Graph:** a network where connections are reciprocal. For example, you cannot be friends with someone on Facebook or LinkedIn without their approval and agreement to connect with you\n",
    "- **Degree Centrality:** represents the most important nodes in a network. This is taken out of a network by looking at the nodes a particular node is connected to versus all of the possible nodes that same one could be connected to. Hence, every node has a degree centrality\n",
    "- **Network Density:** the portion of the potential connections in a network that are actual connections. Potential connection means that the node of interest could be connected to another, nearby one, but isn't"
   ]
  },
  {
   "cell_type": "markdown",
   "metadata": {
    "id": "1VWvW_Jk8ZxL"
   },
   "source": [
    "## 3. Analysis"
   ]
  },
  {
   "cell_type": "markdown",
   "metadata": {},
   "source": [
    "Let's begin by importing the packages we will be using."
   ]
  },
  {
   "cell_type": "code",
   "execution_count": null,
   "metadata": {
    "id": "xwDXL61t9m00"
   },
   "outputs": [],
   "source": [
    "import networkx as nx # network analysis library\n",
    "import pandas as pd\n",
    "import matplotlib.pyplot as plt # data visualization library\n",
    "import numpy as np # numerical computing library\n",
    "\n",
    "# this command helps us display the plots in the notebook\n",
    "%matplotlib inline \n",
    "\n",
    "# this command increases the quality of the visualization\n",
    "%config InlineBackend.figure_format = 'retina' "
   ]
  },
  {
   "cell_type": "markdown",
   "metadata": {},
   "source": [
    "## The data"
   ]
  },
  {
   "cell_type": "markdown",
   "metadata": {},
   "source": [
    "We will be using the Hypata dataset again and explore the connections available between professions/roles at the company. Let's read in our dataframe with pandas."
   ]
  },
  {
   "cell_type": "code",
   "execution_count": null,
   "metadata": {},
   "outputs": [],
   "source": [
    "df = pd.read_csv('data/Edgelist_Hypatia.csv')\n",
    "df.head()"
   ]
  },
  {
   "cell_type": "markdown",
   "metadata": {},
   "source": [
    "The first thing we need in order create our graph is to initialize an empty graph and assign a label/variable to it. We will use the capital letter `G` for graph."
   ]
  },
  {
   "cell_type": "code",
   "execution_count": null,
   "metadata": {
    "colab": {
     "base_uri": "https://localhost:8080/",
     "height": 575
    },
    "id": "U9TghJQ2n0oY",
    "outputId": "a27fc119-5051-4298-bee2-59b48884944b"
   },
   "outputs": [],
   "source": [
    "G = nx.Graph() # Create a new empty graph object\n",
    "G"
   ]
  },
  {
   "cell_type": "markdown",
   "metadata": {},
   "source": [
    "Notice that the object has been initialized above and it has a reference ID for our session.\n",
    "\n",
    "The next step is to add the nodes to our graph. In our dataset, these are represented by the `Adminmgr1` column, so we want to pass in that entire array to one of the functions in our graph called, `our_graph.add_nodes_from()`."
   ]
  },
  {
   "cell_type": "code",
   "execution_count": null,
   "metadata": {},
   "outputs": [],
   "source": [
    "G.add_nodes_from(df['Adminmgr1']) # select the column of interest from the dataset"
   ]
  },
  {
   "cell_type": "markdown",
   "metadata": {},
   "source": [
    "The nodes are now represented as a dictionary in graph where the key is the name of the node (i.e. the role at Hypatia) and the values can be any information (i.e. metadata) we might want to keep or use in our analysis later on. We can examine the nodes we just added with `our_graph.nodes(data=True)`. To see a better representation of the nodes you can wrap them around the `list()` function."
   ]
  },
  {
   "cell_type": "code",
   "execution_count": null,
   "metadata": {
    "scrolled": true
   },
   "outputs": [],
   "source": [
    "list(G.nodes(data=True))"
   ]
  },
  {
   "cell_type": "markdown",
   "metadata": {},
   "source": [
    "The next step would be to add the edges. These need to be represented as a list of lists comprised of at least two elements, the node where the edge starts and the one where it ends. To get the exact representation we need, in our case, the two columns in our dataframe, we will pass in our dataframe (`df`) with the `.values` method added to it."
   ]
  },
  {
   "cell_type": "code",
   "execution_count": null,
   "metadata": {
    "scrolled": true
   },
   "outputs": [],
   "source": [
    "df.values # this is what that representation would look like"
   ]
  },
  {
   "cell_type": "code",
   "execution_count": null,
   "metadata": {},
   "outputs": [],
   "source": [
    "G.add_edges_from(df.values)"
   ]
  },
  {
   "cell_type": "markdown",
   "metadata": {},
   "source": [
    "We can visualize our edges in the same way we did with the nodes, by using `our_graph.edges(data=True)`"
   ]
  },
  {
   "cell_type": "code",
   "execution_count": null,
   "metadata": {
    "scrolled": true
   },
   "outputs": [],
   "source": [
    "list(G.edges(data=True))"
   ]
  },
  {
   "cell_type": "markdown",
   "metadata": {},
   "source": [
    "Once we have our edges and nodes, we can also get a bit more information from our graph with a few methods."
   ]
  },
  {
   "cell_type": "code",
   "execution_count": null,
   "metadata": {
    "colab": {
     "base_uri": "https://localhost:8080/"
    },
    "id": "rzVyj9FTv_Xf",
    "outputId": "b4ae2092-1967-416c-8a27-4aa55047694e"
   },
   "outputs": [],
   "source": [
    "G.number_of_nodes() # get the number of nodes"
   ]
  },
  {
   "cell_type": "code",
   "execution_count": null,
   "metadata": {
    "colab": {
     "base_uri": "https://localhost:8080/"
    },
    "id": "taacL5fw8wzp",
    "outputId": "0f30e682-1aec-4897-ea86-436c3080dd4f"
   },
   "outputs": [],
   "source": [
    "G.number_of_edges() # get the number of edges"
   ]
  },
  {
   "cell_type": "markdown",
   "metadata": {
    "id": "iz0Q09cYv-hJ"
   },
   "source": [
    "There is a convenient info() method which gives us some basic stats, including the average degree, which is a fancy way of saying the number of connections an average node in this graph has."
   ]
  },
  {
   "cell_type": "code",
   "execution_count": null,
   "metadata": {
    "colab": {
     "base_uri": "https://localhost:8080/"
    },
    "id": "OaDq60eXwLAT",
    "outputId": "cd1b4111-e4e8-4467-e602-48e2f610307d"
   },
   "outputs": [],
   "source": [
    "print(nx.info(G))"
   ]
  },
  {
   "cell_type": "markdown",
   "metadata": {},
   "source": [
    "We can also get the neighbors of a particular node, which means, the other nodes our node of interest is connected to."
   ]
  },
  {
   "cell_type": "code",
   "execution_count": null,
   "metadata": {},
   "outputs": [],
   "source": [
    "print(list(G.neighbors('Sales2'))) # get the connected nodes"
   ]
  },
  {
   "cell_type": "code",
   "execution_count": null,
   "metadata": {},
   "outputs": [],
   "source": [
    "len(list(G.neighbors('Sales2')))"
   ]
  },
  {
   "cell_type": "markdown",
   "metadata": {},
   "source": [
    "Lastly, we can always see an image representation of our graph by calling using the function `nx.graph(our_graph)`. The additional function below, `plt.figure(figsize=(10,10))`, helps us customise the size of the figure."
   ]
  },
  {
   "cell_type": "code",
   "execution_count": null,
   "metadata": {},
   "outputs": [],
   "source": [
    "plt.figure(figsize=(10,10))\n",
    "nx.draw(G);"
   ]
  },
  {
   "cell_type": "markdown",
   "metadata": {},
   "source": [
    "If we would like to see the names of the nodes we can also use the function `nx.draw_networkx(G)`, or we can pass in the parameter `with_labels=True` to our `nx.draw()` function."
   ]
  },
  {
   "cell_type": "code",
   "execution_count": null,
   "metadata": {
    "colab": {
     "base_uri": "https://localhost:8080/",
     "height": 575
    },
    "id": "U9TghJQ2n0oY",
    "outputId": "a27fc119-5051-4298-bee2-59b48884944b"
   },
   "outputs": [],
   "source": [
    "plt.figure(figsize=(10,10))\n",
    "nx.draw_networkx(G)"
   ]
  },
  {
   "cell_type": "markdown",
   "metadata": {
    "id": "ChcBDBqXwIfp"
   },
   "source": [
    "## Network Density"
   ]
  },
  {
   "cell_type": "markdown",
   "metadata": {
    "id": "ChcBDBqXwIfp"
   },
   "source": [
    "**Network Density:** the portion of the potential connections in a network that are actual connections. Potential connection means that the node of interest could be connected to another, nearby one, but isn't\n",
    "\n",
    "Networks may vary a lot by their number of edges in relationship to the number of nodes, and this variation helps us evaluate the density of a network. The density of a network ranges between 0 and 1: from no connections whatsover between several nodes, to many connections between a node others. The value we get from calculating the density speaks to the probability of two randomly selected nodes being connected to one another. To calculate this we would use the following formula.\n",
    "\n",
    "$ND = \\frac{Number\\ of\\ existing\\ links}{Number\\ of\\ possible\\ links} = \\frac{L}{N * \\frac{(N - 1)}{2}}$\n",
    "\n",
    "- ND = Network Density\n",
    "- N = Number of Nodes\n",
    "- L = Number of links/edges in the network\n",
    "\n",
    "#### Benefits of density\n",
    "\n",
    "- Improved coordination and communication\n",
    "- Higher levels of trust\n",
    "- Higher efficiency at implementation\n",
    "\n",
    "####  Costs of density\n",
    "\n",
    "- May suggest large amounts of redundant communication\n",
    "- May suggest group is inward looking\n",
    "- Risks of group think and lower innovation rate"
   ]
  },
  {
   "cell_type": "code",
   "execution_count": null,
   "metadata": {
    "colab": {
     "base_uri": "https://localhost:8080/"
    },
    "id": "zfwudcPvwYmk",
    "outputId": "43726b72-a3ab-43ff-8a67-fdfa6138fc57"
   },
   "outputs": [],
   "source": [
    "density = nx.density(G)\n",
    "print(\"Network density:\", density)"
   ]
  },
  {
   "cell_type": "markdown",
   "metadata": {
    "id": "_d5fyfMHwnPk"
   },
   "source": [
    "## Centrality Measures"
   ]
  },
  {
   "cell_type": "markdown",
   "metadata": {
    "id": "_d5fyfMHwnPk"
   },
   "source": [
    "A considerable part of network analysis is devoted to identifying the most important actors in a network according to their position in the network, which is also referred to as centrality. One very simple centrality measure for relative importance of a node is its degree, i.e., the number of connections it has to other nodes. There are many other measures available and they each served similar and yet different purposes.\n",
    "\n",
    "- Degree Centrality\n",
    "- Bonacich's Centrality\n",
    "- Betweenness Centrality\n",
    "- Eigenvector Centrality\n",
    "\n",
    "In essence, Centrality Measures try to answer the question, which nodes are the most important ones?"
   ]
  },
  {
   "cell_type": "markdown",
   "metadata": {
    "id": "_d5fyfMHwnPk"
   },
   "source": [
    "## Degree centrality"
   ]
  },
  {
   "cell_type": "markdown",
   "metadata": {
    "id": "_d5fyfMHwnPk"
   },
   "source": [
    "The people most popular or more liked usually are the ones who have more friends. Degree centrality is a measure of the number of connections a particular node has in the network. It is based on the fact that important nodes will be likely to have many connections. The function `nx.degree_centrality(G)` returns a dictionary with the nodes as the keys and their centrality as a percentage of the whole as the values."
   ]
  },
  {
   "cell_type": "code",
   "execution_count": null,
   "metadata": {
    "colab": {
     "base_uri": "https://localhost:8080/"
    },
    "id": "rDmyKMD2w35q",
    "outputId": "ff72be11-e0e4-48a2-875f-f3f6cc92fe31",
    "scrolled": true
   },
   "outputs": [],
   "source": [
    "most_connected = pd.Series(nx.degree_centrality(G)).sort_values(ascending=False)\n",
    "most_connected"
   ]
  },
  {
   "cell_type": "markdown",
   "metadata": {},
   "source": [
    "Since degree essentially represents the raw number of people you are connected to (e.g. if a node is connected to 3 nodes with a line/edge each, then its degree is 3), we can extract this in a dictionary format and add to a pandas Series as done above. For this we will use the method `.degree()` and the method `.nodes()` from our graph object."
   ]
  },
  {
   "cell_type": "code",
   "execution_count": null,
   "metadata": {
    "scrolled": true
   },
   "outputs": [],
   "source": [
    "degree_dict = pd.Series(dict(G.degree(G.nodes()))).sort_values(ascending=False)\n",
    "degree_dict"
   ]
  },
  {
   "cell_type": "code",
   "execution_count": null,
   "metadata": {},
   "outputs": [],
   "source": [
    "def plot_most_centrality(array, num_to_show):\n",
    "    \"\"\"\n",
    "    This function plots the top pleyers given a centrality measure.\n",
    "    array: you pandas series with the names in the index and the values in the column\n",
    "    num_to_show: how many top nodes in the network you want to display\n",
    "    \"\"\"\n",
    "    plt.figure(figsize=(10,10))\n",
    "    array[:num_to_show].plot(kind='bar', rot=45 if num_to_show <= 20 else 75)\n",
    "    plt.title(f\"Top {num_to_show} Most Connected Employees\")\n",
    "    plt.xlabel(\"Position\")\n",
    "    plt.ylabel(\"Degree of Centrality\")\n",
    "    plt.show()"
   ]
  },
  {
   "cell_type": "code",
   "execution_count": null,
   "metadata": {},
   "outputs": [],
   "source": [
    "plot_most_centrality(most_connected, 20)"
   ]
  },
  {
   "cell_type": "markdown",
   "metadata": {},
   "source": [
    "What this is saying is that the Sales Director is connected to over 30% of the network."
   ]
  },
  {
   "cell_type": "markdown",
   "metadata": {
    "id": "kSr7PAjHxn8k"
   },
   "source": [
    "## Brokerage (Betweenness) Centrality"
   ]
  },
  {
   "cell_type": "markdown",
   "metadata": {
    "id": "kSr7PAjHxn8k"
   },
   "source": [
    "Brokerage is a state or situation in which an actor connects otherwise unconnected actors or fills gaps or network holes in the social structure (Burt, 1992; Gould & Fernandez, 1989).\n",
    "\n",
    "Let's see how this would look like in a network with a toy example using a function from networkX called, `nx.barbell_graph(unconnected_nodes, connectors)`."
   ]
  },
  {
   "cell_type": "code",
   "execution_count": null,
   "metadata": {},
   "outputs": [],
   "source": [
    "nx.draw(nx.barbell_graph(5, 1));"
   ]
  },
  {
   "cell_type": "markdown",
   "metadata": {
    "id": "kSr7PAjHxn8k"
   },
   "source": [
    "The middle point in the above graph represents the broker, in other words, the connector between the two groups of 5 nodes.\n",
    "\n",
    "Alongside the **Broker** we have the measure of Betweenness Centrality, which quantifies the number of times a node acts as a bridge (or \"broker\") along the shortest path between two other nodes. One of the important characteristics to remember is that this measure of centrality represents control, i.e. the role played by specific nodes in the communication/information flow between other unconnected ones within the network graph.\n",
    "\n",
    "The nodes with high betweenness centrality can have a strategic control and influence on others. A broker at such a strategic position can influence the whole group, by either withholding or propagating the information in transmission. The brokers can also be referred to as information bottlenecks.\n",
    "\n",
    "#### Formula\n",
    "\n",
    "$C_{Bni} = \\frac{\\sum_{j<k} (n_i)}{g_{jk}}$\n",
    "\n",
    "- $C_{Bni}$ = Betweennes Centrality\n",
    "- $n_i$ = 1 node\n",
    "- $j$ = any node\n",
    "- $k$ = any node\n",
    "- $g_{jk}$ = total number of shortest paths between j and k"
   ]
  },
  {
   "cell_type": "code",
   "execution_count": null,
   "metadata": {
    "colab": {
     "base_uri": "https://localhost:8080/"
    },
    "id": "_zHMaeJgxrJh",
    "outputId": "a5cbc861-64ef-4ab9-9212-4912b9be00b9",
    "scrolled": true
   },
   "outputs": [],
   "source": [
    "nx.betweenness_centrality(G)"
   ]
  },
  {
   "cell_type": "code",
   "execution_count": null,
   "metadata": {},
   "outputs": [],
   "source": [
    "brokers_scores = pd.Series(nx.betweenness_centrality(G)).sort_values(ascending=False)\n",
    "brokers_scores.head()"
   ]
  },
  {
   "cell_type": "code",
   "execution_count": null,
   "metadata": {},
   "outputs": [],
   "source": [
    "plot_most_centrality(brokers_scores, 15)"
   ]
  },
  {
   "cell_type": "markdown",
   "metadata": {},
   "source": [
    "The above chart shows the top brokers in Hypatia.\n",
    "\n",
    "Betweeness centrality and degree centrality do not need to be correlated with one another. "
   ]
  },
  {
   "cell_type": "code",
   "execution_count": null,
   "metadata": {},
   "outputs": [],
   "source": [
    "df2 = pd.DataFrame({'dc': most_connected, 'bc': brokers_scores})\n",
    "\n",
    "# plt.figure()\n",
    "df2.plot(kind='scatter', x='dc', y='bc', figsize=(10,10))\n",
    "plt.title(\"Correlation Between Brokers and Degree Centrality\")\n",
    "plt.xlabel(\"Degree Centrality\")\n",
    "plt.ylabel(\"Brokers\")\n",
    "plt.show();"
   ]
  },
  {
   "cell_type": "markdown",
   "metadata": {
    "id": "v-_K4y0w1kWW"
   },
   "source": [
    "## Eigenvector Centrality"
   ]
  },
  {
   "cell_type": "markdown",
   "metadata": {
    "id": "v-_K4y0w1kWW"
   },
   "source": [
    "It is not just how many individuals one is connected too, but the type of people one is connected with that can decide the importance of a node. With that in mind, **Eigenvector Centrality** is what helps us measure of how import a node is (its influence/prestige) by accounting for how well that same node is connected to other well-connected nodes. The score goes from 0 to 1 and the higher the score of a node, the more surrounded by other important nodes (i.e. nodes with high centrality) it will be.\n",
    "\n",
    "The Google’s Pagerank algorithm is a variant of the Eigenvector Centrality algorithm, hence, this algorithm help us get amswers to a lot our queries on a daily basis.\n",
    "\n",
    "To get Eigenvector Centrality with networkX we use `nx.eigenvector_centrality(our_graph)` while passing our graph as an argument."
   ]
  },
  {
   "cell_type": "code",
   "execution_count": null,
   "metadata": {
    "colab": {
     "base_uri": "https://localhost:8080/"
    },
    "id": "eXd9b_WI1thU",
    "outputId": "0e2e8601-08cb-4aab-ce23-ede4590e5f29",
    "scrolled": true
   },
   "outputs": [],
   "source": [
    "eigen_cent = pd.Series(nx.eigenvector_centrality(G)).sort_values(ascending=False)\n",
    "eigen_cent.head()"
   ]
  },
  {
   "cell_type": "code",
   "execution_count": null,
   "metadata": {},
   "outputs": [],
   "source": [
    "plot_most_centrality(eigen_cent, 15)"
   ]
  },
  {
   "cell_type": "code",
   "execution_count": null,
   "metadata": {},
   "outputs": [],
   "source": [
    "def ecdf(data):\n",
    "    return np.sort(data), np.arange(1, len(data) + 1) / len(data)"
   ]
  },
  {
   "cell_type": "markdown",
   "metadata": {},
   "source": [
    "degree centrality and number of neighbors should be perfectly correlated\n",
    "x = degree centrality\n",
    "y = cummulative fraction of data points smaller than a given value"
   ]
  },
  {
   "cell_type": "code",
   "execution_count": null,
   "metadata": {},
   "outputs": [],
   "source": [
    "fig = plt.figure(figsize=(10, 10))\n",
    "# Get a list of degree centrality scores for all of the \n",
    "# nodes in the graph\n",
    "degree_centralities = list(nx.degree_centrality(G).values())\n",
    "\n",
    "x, y = ecdf(degree_centralities)\n",
    "\n",
    "# Plot the ecdf of degree centralities.\n",
    "plt.scatter(x, y)\n",
    "\n",
    "# Set the plot title. \n",
    "plt.title('Degree Centralities')"
   ]
  },
  {
   "cell_type": "markdown",
   "metadata": {},
   "source": [
    "## 4. Summary"
   ]
  },
  {
   "cell_type": "markdown",
   "metadata": {},
   "source": [
    "Here are some of the most important concepts covered in this session:\n",
    "\n",
    "- A network is a graph composed of nodes and edges\n",
    "    - Nodes can represent people, locations, companies, etc.\n",
    "    - Edges are the links connecting different nodes with one another.\n",
    "- Centrality measures help us answer questions related to the importance of the nodes within our networks. There are plenty of such measures and some, like the ones we have covered in this course, are used more frequently than other to drive business outcomes.\n",
    "- Degree centrality represents the raw frequencies of the network nodes, the higher the frequency of the edges a node has, the higher the degree of such node within the network.\n",
    "- Betweenness centrality picks nodes not based of the amount of connections they have but rather on how well they connect unconnected groups of well-connected nodes.\n",
    "- Eigenvector Centrality can help us pinpoint prestige, that is, highly connected nodes that are also connected to other highly connected dots."
   ]
  },
  {
   "cell_type": "markdown",
   "metadata": {},
   "source": [
    "## 5. Resources"
   ]
  },
  {
   "cell_type": "markdown",
   "metadata": {},
   "source": [
    "- Blogpost Tutorials\n",
    "    - [Exploring and Analyzing Network Data with Python](https://programminghistorian.org/en/lessons/exploring-and-analyzing-network-data-with-python#centrality)\n",
    "    - [Network Centrality Measures in a Graph using Networkx | Python\n",
    "](https://www.geeksforgeeks.org/network-centrality-measures-in-a-graph-using-networkx-python/)\n",
    "- Video Tutorials\n",
    "    - [Network Analysis Made Simple: Network Fundamentals | SciPy 2018 Tutorial | Eric Ma, Mridul Seth](https://www.youtube.com/watch?v=K5xiFDClgjo&ab_channel=Enthought)\n",
    "    - [Rob Chew, Peter Baumgartner | Connected: A Social Network Analysis Tutorial with NetworkX](https://www.youtube.com/watch?v=7fsreJMy_pI&t=6s&ab_channel=PyData)\n",
    "- Books\n",
    "    - [Zinoviev, D. (2018). _Complex network analysis in Python: Recognize, construct, visualize, analyze, interpret._ Raleigh, NC: The Pragmatic Bookshelf.](https://www.amazon.com.au/Complex-Network-Analysis-Python-Recognize-ebook/dp/B079ZN9K5M/ref=sr_1_1?dchild=1&keywords=Complex+network+analysis+in+Python%3A+Recognize%2C+construct%2C+visualize%2C+analyze%2C+interpret&qid=1613982710&sr=8-1)"
   ]
  }
 ],
 "metadata": {
  "colab": {
   "collapsed_sections": [],
   "name": "Untitled0.ipynb",
   "provenance": []
  },
  "kernelspec": {
   "display_name": "people",
   "language": "python",
   "name": "people"
  },
  "language_info": {
   "codemirror_mode": {
    "name": "ipython",
    "version": 3
   },
   "file_extension": ".py",
   "mimetype": "text/x-python",
   "name": "python",
   "nbconvert_exporter": "python",
   "pygments_lexer": "ipython3",
   "version": "3.8.5"
  }
 },
 "nbformat": 4,
 "nbformat_minor": 4
}
