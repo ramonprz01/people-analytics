{
 "cells": [
  {
   "cell_type": "markdown",
   "metadata": {},
   "source": [
    "# 02 Panel Data"
   ]
  },
  {
   "cell_type": "markdown",
   "metadata": {},
   "source": [
    "![img](https://cdn.dribbble.com/users/502247/screenshots/2446485/more-_-more_2_.gif)"
   ]
  },
  {
   "cell_type": "markdown",
   "metadata": {},
   "source": []
  },
  {
   "cell_type": "code",
   "execution_count": null,
   "metadata": {},
   "outputs": [],
   "source": [
    "import pandas as pd\n",
    "\n",
    "from linearmodels import PanelOLS\n",
    "\n",
    "import statsmodels.api as sm\n",
    "from statsmodels.iolib.summary2 import summary_col"
   ]
  },
  {
   "cell_type": "code",
   "execution_count": null,
   "metadata": {},
   "outputs": [],
   "source": [
    "df = pd.read_csv('data/Hyp_panelperformance.csv')\n",
    "df.head()"
   ]
  },
  {
   "cell_type": "code",
   "execution_count": null,
   "metadata": {},
   "outputs": [],
   "source": [
    "df.drop('panel_id', axis=1).describe().T"
   ]
  },
  {
   "cell_type": "code",
   "execution_count": null,
   "metadata": {},
   "outputs": [],
   "source": [
    "df.shape"
   ]
  },
  {
   "cell_type": "markdown",
   "metadata": {},
   "source": [
    "## First Example"
   ]
  },
  {
   "cell_type": "code",
   "execution_count": null,
   "metadata": {},
   "outputs": [],
   "source": [
    "y = df['performance']"
   ]
  },
  {
   "cell_type": "code",
   "execution_count": null,
   "metadata": {},
   "outputs": [],
   "source": [
    "X = sm.add_constant(df[['clientactivity', 'overtime', 'seniorityrank', 'collaboration', 'managerrelationship', 'slackactivity', 'externalvisibility']])"
   ]
  },
  {
   "cell_type": "code",
   "execution_count": null,
   "metadata": {},
   "outputs": [],
   "source": [
    "# run a regression on our main metric using all variables in our dataset as the independent variables\n",
    "model = sm.OLS(y, X).fit()\n",
    "\n",
    "# print the summary\n",
    "print(model.summary())"
   ]
  },
  {
   "cell_type": "markdown",
   "metadata": {},
   "source": [
    "## Second Example"
   ]
  },
  {
   "cell_type": "code",
   "execution_count": null,
   "metadata": {},
   "outputs": [],
   "source": [
    "X_2 = sm.add_constant(df.drop(['performance', 'panel_id', 'year', 'teamno5'], axis=1))"
   ]
  },
  {
   "cell_type": "code",
   "execution_count": null,
   "metadata": {},
   "outputs": [],
   "source": [
    "# run a regression on our main metric using all variables in our dataset as the independent variables\n",
    "model2 = sm.OLS(y, X_2).fit()\n",
    "\n",
    "# print the summary\n",
    "print(model2.summary())"
   ]
  },
  {
   "cell_type": "markdown",
   "metadata": {},
   "source": [
    "## Panel Data"
   ]
  },
  {
   "cell_type": "markdown",
   "metadata": {},
   "source": [
    "Panel data is a type of data that comes with two main characteristics that are, is time series and cross-sectional data.\n",
    "\n",
    "> \"Panel data, also known as longitudinal data or cross-sectional time series data in some special cases, is data that is derived from a (usually small) number of observations over time on a (usually large) number of cross-sectional units like individuals, households, firms, or governments.\" by Mike Moffatt at [thoughtco](https://www.thoughtco.com/panel-data-definition-in-economic-research-1147034)\n",
    "\n",
    "This is the main formula,  \n",
    "$Y_{ijt} = α + βX_{ijt} + ϕ_i + θ_j + μ_t + ε_{ijt}$\n",
    "\n",
    "But this is another way to look at it,\n",
    "\n",
    "$Y_{👩 👯‍ ⏳} = α + β🏄_{👩 👯‍ ⏳} + 🎬_{👩} + 🎬_{👯‍} + 🎬_{⏳} + ε_{👩 👯‍ ⏳}$\n",
    "\n",
    "\n",
    "- $i$ or 👩🏽‍ = individual  \n",
    "- $j$ or 👯‍ = team  \n",
    "- $t$ or ⏳ = year  \n",
    "- $Y_{ijt}$ or $Y_{👩 👯‍ ⏳}$ = observed performance of individual i working in team j in year t  \n",
    "- $α$ = constant  \n",
    "- $X$ or 🏄🏽‍ = employees’ actions (e.g. client activity, slack activity, external visibility…)  \n",
    "- $ϕ_i$ = effect of individual  \n",
    "- $θ_j$ = effect of team  \n",
    "- $μ_t$ = effect of year  \n",
    "- $ε_{ijt}$ = random noise  "
   ]
  },
  {
   "cell_type": "markdown",
   "metadata": {},
   "source": [
    "## Third Example"
   ]
  },
  {
   "cell_type": "code",
   "execution_count": null,
   "metadata": {},
   "outputs": [],
   "source": [
    "df['year'] = pd.to_datetime(df['year'], format='%Y').dt.year\n",
    "new_df = df.set_index(['panel_id', 'year']).copy()\n",
    "print(new_df.shape)\n",
    "new_df.head()"
   ]
  },
  {
   "cell_type": "code",
   "execution_count": null,
   "metadata": {},
   "outputs": [],
   "source": [
    "independent_vars = ['clientactivity', 'overtime', 'seniorityrank', 'collaboration', 'managerrelationship', 'slackactivity', 'externalvisibility', \n",
    "                    'teamno1', 'teamno2', 'teamno3', 'teamno4', 'teamno6', 'teamno7', 'teamno8', 'teamno9', 'teamno10']"
   ]
  },
  {
   "cell_type": "code",
   "execution_count": null,
   "metadata": {},
   "outputs": [],
   "source": [
    "model3 = PanelOLS(dependent=new_df['performance'], exog=sm.add_constant(new_df[independent_vars]), entity_effects=True, time_effects=True)\n",
    "print(model3.fit())"
   ]
  },
  {
   "cell_type": "code",
   "execution_count": null,
   "metadata": {},
   "outputs": [],
   "source": [
    "model4 = PanelOLS.from_formula(\"\"\"performance ~ 1 + clientactivity + overtime + seniorityrank + collaboration + \n",
    "                                                    managerrelationship + slackactivity + externalvisibility + teamno1 + \n",
    "                                                    teamno2 + teamno3 + teamno4 + teamno6 + teamno7 + teamno8 + teamno9 + \n",
    "                                                    teamno10 + EntityEffects + TimeEffects\"\"\", data=new_df).fit()\n",
    "print(model4)"
   ]
  }
 ],
 "metadata": {
  "kernelspec": {
   "display_name": "people",
   "language": "python",
   "name": "people"
  },
  "language_info": {
   "codemirror_mode": {
    "name": "ipython",
    "version": 3
   },
   "file_extension": ".py",
   "mimetype": "text/x-python",
   "name": "python",
   "nbconvert_exporter": "python",
   "pygments_lexer": "ipython3",
   "version": "3.8.5"
  }
 },
 "nbformat": 4,
 "nbformat_minor": 4
}
