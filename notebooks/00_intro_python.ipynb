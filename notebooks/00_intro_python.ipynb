{
 "cells": [
  {
   "cell_type": "markdown",
   "metadata": {},
   "source": [
    "# <center> <h1>Welcome to Intro to Data Analytics</h1> </center>"
   ]
  },
  {
   "cell_type": "markdown",
   "metadata": {},
   "source": [
    "![data analytics](https://ofdataanalytics.com/wp-content/uploads/2019/08/Screenshot-2019-08-22-at-22.15.17.png)"
   ]
  },
  {
   "cell_type": "markdown",
   "metadata": {},
   "source": [
    "You have probably heard of, and maybe even researched on your own, terms such as data analytics, data sciece, machine learning, deep learning, artificial intelligence, data mining, the list goes on, and wonder what's the big fuzz about these new terms and/or how does one get started in roles involving these (forgive the buzz) words. Whale 🐳, let's cover these on a high level and move on to the very beginnig, or the core skill one would need in order to jump into roles with these terms, __data analysis__."
   ]
  },
  {
   "cell_type": "markdown",
   "metadata": {},
   "source": [
    "> \"This is my favorite part about analytics: Taking boring flat data and bringing it to life through visualization.\" ~ John Tukey"
   ]
  },
  {
   "cell_type": "markdown",
   "metadata": {},
   "source": [
    "## Table of Contents"
   ]
  },
  {
   "cell_type": "markdown",
   "metadata": {},
   "source": [
    "1. What is Data Analytics, what is a data analyst, and what does the Data Analytics Cycle?\n",
    "2. What is Python and why is it so popular?\n",
    "3. Coming up with an idea or project\n",
    "4. Getting the data we'll need\n",
    "5. Preparing the data for analysis\n",
    "6. Analysing and visualising data\n",
    "7. Next steps"
   ]
  },
  {
   "cell_type": "markdown",
   "metadata": {},
   "source": [
    "## 1. What is Data Analytics, what is a data analyst, and what does the Data Analytics Cycle?"
   ]
  },
  {
   "cell_type": "markdown",
   "metadata": {},
   "source": [
    "![data analytics](https://i2.wp.com/www.upbuild.io/wp-content/uploads/2018/07/upbuild-what-are-your-analytics-telling-you.png?w=1364&ssl=1)\n",
    "- __Data Analytics__\n",
    "\n",
    "Data analytics is a process for uncovering insights from information. This information can structured or unstructured, qualitative or quantitative, time-dependent or -independent, and highly-dimensional or with only one dimension.\n",
    "\n",
    "You can also think of data analytics as the following:\n",
    "\n",
    "    - A process for finding answers to questions\n",
    "    - Interrogation of the facts and evaluation of the future\n",
    "    - Information decomposition\n",
    "    - Automagic sometimes\n",
    "    - An evolving framework for the inquisitive mind\n",
    "    \n",
    "![detective](https://media.giphy.com/media/NS7gPxeumewkWDOIxi/giphy.gif)\n",
    "- __Data Analyst__\n",
    "\n",
    "A data analyst can be thought of as a detective. Detectives look at the evidence of a case, analyse it and ask many (many) questions throughout the process, make up inferences based on the evidence, narrow down a conclusion when everything is said and done. This is, in a way, the same process a data analyst undertakes for a project. To understand this better, let's look at the Data Analytics Cycle.\n",
    "\n",
    "- __Data Analytics Cycle__\n",
    "\n",
    "The data analytics cycle is an iterative process that data analysts go through in their day-to-day activities. This may vary depending on the type of company and responsabilities of the analyst, but for the most part, we can look at the cycle (from a high level) in the following way.\n",
    "\n",
    "    1. Define the problem or question to be solved\n",
    "    2. What can of data will we need to solve this and where do we get it from?\n",
    "    3. Cleaning or structuring the data in a way that is suitable for analysis (very often, this may be the most time-consuming stage of the cycle)\n",
    "    4. Exploratory Data Analysis and Visualisation\n",
    "    5. Hypothesis testing or inference stage - making predictions\n",
    "    6. Reporting our findings\n",
    "    7. Presenting our findings and collecting feedback\n",
    "    8. Start again"
   ]
  },
  {
   "cell_type": "markdown",
   "metadata": {},
   "source": [
    "## 2. What is Python and why is it so popular?"
   ]
  },
  {
   "cell_type": "markdown",
   "metadata": {},
   "source": [
    "Python is a general-purpose programming language that allows us to create programs, analyse data, create websites, create applications, and many other cool things. It is free and open-source, which means that anyone can contribute to its development and help make this language an even better one. This latter fact, along with the great readability of the language, are (to your host) two of the major contributing factors of Python's popularity.\n",
    "\n",
    "Python can be thought of as a person, we are very cool the way we are but to interact more efficiently we make use of \"add-ons\", and thus, so does Python. These add-ons may be clothes, shoes, accessories, slang words, and other physical objects such as cars, houses, boats, etc. In Python, our add-ons become additional programs other people have created in order to make a specific workflow easier.\n",
    "\n",
    "Python in the domain of data analytics uses very heavily the following packages/libraries (and so are we today).\n",
    "\n",
    "Some of the packages/libraries  most heavily used in data analytics are:*\n",
    "\n",
    "#### For Data Analysis\n",
    "\n",
    "- [pandas](https://pandas.pydata.org/) -> \"is a fast, powerful, flexible and easy to use open source data analysis and manipulation tool, built on top of the Python programming language.\"\n",
    "\n",
    "- [numpy](https://numpy.org/) -> \"is the fundamental package for scientific computing with Python. It contains among other things, a powerful N-dimensional array object, sophisticated (broadcasting) functions, tools for integrating C/C++ and Fortran code, useful linear algebra, Fourier transform, and random number capabilities.\"\n",
    "\n",
    "- [SciPy](https://www.scipy.org/) -> \"is a Python-based ecosystem of open-source software for mathematics, science, and engineering.\"\n",
    "\n",
    "#### For Data Visualisation\n",
    "\n",
    "- [matplotlib](https://matplotlib.org/) -> \"is a comprehensive library for creating static, animated, and interactive visualizations in Python.\"\n",
    "\n",
    "- [seaborn](https://seaborn.pydata.org/) -> \"s a Python data visualization library based on matplotlib. It provides a high-level interface for drawing attractive and informative statistical graphics.\"\n",
    "\n",
    "- [altair](https://altair-viz.github.io/index.html) -> Although Altair has not had the same adoption from the community as the previous two data visualisation libraries, it is a great library for visualising your data.\n",
    "\n",
    "\\* Definitions have been taken straight from the packages respective websites."
   ]
  },
  {
   "cell_type": "markdown",
   "metadata": {},
   "source": [
    "## 3. Coming up with an idea or project"
   ]
  },
  {
   "cell_type": "markdown",
   "metadata": {},
   "source": [
    "Let's first come up with a good scenario for our data analytics project. After all, we can't just get down to analysing data without having at least a bit of context as to what we would like to do with the data and what are we hoping to find.\n",
    "\n",
    "#### I. The Scenario\n",
    "\n",
    "Say you have always exercised at least 5 days a week, or that since last year, as your New Year's resolution, you chose to exercise for at least 5 days a week throughout the entire year. This being a completely novel endeavor for you, something no one else picks during New Year's (😎), you decide it would good to also track your progress throughout your journey, so you get a smart watch to aid you in this regard.\n",
    "\n",
    "You start noticing how most of the apps you use and websites you visit all gather a lot of data about you. Netflix captures your taste of movie for any given day and time. Facebook know which kinds of posts you like the most, and has a good sense regarding your political inclinations based on the things you post. Amazon always seems to know what to recommend you to buy (and crap, it seems to work). Now you start getting curious about all of the data your smartwatch might have about you so you decide that it is time to take control of your own data before others analyse it for you.\n",
    "\n",
    "- __Me on Week 1__\n",
    "\n",
    "![week1](https://media.giphy.com/media/13Lwn87rxZSUVi/giphy.gif)\n",
    "\n",
    "#### II. The Task\n",
    "\n",
    "Now that we have a decided to do something with our data, let's put this into a general list of tasks we'd like to take on.\n",
    "\n",
    "1. Get the data out of wherever our smartwatch is keeping it at.\n",
    "2. Prepare it for analysis.\n",
    "3. Analyse it.\n",
    "4. Think of questions/hypotheses you might want test.\n",
    "5. Write down your findings.\n",
    "6. Improve your analysis by collecting some feedback and\n",
    "7. prepare your code for future use.\n",
    "\n",
    "- __Me around Valentine's Day__\n",
    "\n",
    "![Exercise](https://media.giphy.com/media/mb8QpqfFX4CtO/giphy.gif)\n",
    "\n"
   ]
  },
  {
   "cell_type": "markdown",
   "metadata": {},
   "source": [
    "## 4. Getting the data we'll need"
   ]
  },
  {
   "cell_type": "markdown",
   "metadata": {},
   "source": [
    "![get data](https://media.giphy.com/media/8qrrHSsrK9xpknGVNF/giphy.gif)"
   ]
  },
  {
   "cell_type": "markdown",
   "metadata": {},
   "source": [
    "Now that we have our task somewhat defined, we can move on to gathering the data we will need for our project.\n",
    "\n",
    "Depending on which smartwatch or smartphone you have, there will be different ways to access your data. I will cover two here but you are by no means limited by these tools. In fact, I would strongly encourage you to get the data for your own tool and begin your data analytics journey by analysing your own data.\n",
    "\n",
    "- __Garmin__\n",
    "    1. Go to [__Garmin Connect__](https://connect.garmin.com/signin)\n",
    "    2. Sign in with your username and password\n",
    "    3. Go to the activities section and click on __`All Activities`__\n",
    "    4. Exporting the data gets a bit tricky here because Garmin will only export items that have already loaded, so in order to get all of your data, scroll all the way down to the very end of all of your activities.\n",
    "    5. Once you reach the last one, click on the __`Export CSV`__ button at the top right hand corner. You will see a __`Activities.csv`__ file in your downloads folder.  \n",
    "    __NOTE:__ Garmin track much more data than what you will download from Garmin Connect but the format is not as user-friendly as what you would get using these steps.\n",
    "    \n",
    "- __Apple Health__\n",
    "    - First Approach\n",
    "        1. Go to the __`Health`__ app on your IPhone.\n",
    "        2. Click on your profile at the top right-hand corner.\n",
    "        3. Scroll to the very bottom and click on __`Export All Health Data`__.\n",
    "        4. A message will pop up asking you if you really want to export your own data, click Export.\n",
    "        5. Once the app finishes preparing your data, send it to your folder, email, hardrive or app of choice.\n",
    "    - Second Approach (prefer method)\n",
    "        1. Download the app called [__Workout - CSV Exporter__](https://apps.apple.com/us/app/workout-csv-exporter/id1140433100?ls=1).\n",
    "        2. Select the kind of workouts you would like to export.\n",
    "        3. The app will also only download what it has currently loaded so make sure you scroll down all the way to the bottom to download the page before you proceed to export your data.\n",
    "        4. Click on the share icon at the top and select how you would like to export your data.\n",
    "     "
   ]
  },
  {
   "cell_type": "markdown",
   "metadata": {},
   "source": [
    "In order to use data in Python, we first need a couple of things to help us read it into memory. Just like humans have tools to build houses, skycrapers, airplanes, and more, Python has tools for data analytics that can enhance our productivity in extraordinary ways. The python packages `pandas`, `numpy`, `matplotlib`, and `seaborn` are some of the tools that will make our work much easier today as we put on our detective hats on.\n",
    "\n",
    "Let's begin by loading these for packages first. To do this we will need to use the `import` command which tells Python that we want to bring in an object from our storage into our environment (a.k.a. this notebook we are working on 🤓)."
   ]
  },
  {
   "cell_type": "markdown",
   "metadata": {},
   "source": [
    "### 4.1 Important Info"
   ]
  },
  {
   "cell_type": "markdown",
   "metadata": {},
   "source": [
    "#### How to run the cells with code?\n",
    "\n",
    "# `Shift + Enter`  \n",
    "will run the cell and move you to the next cell\n",
    "# `Alt + Enter`  \n",
    "will run the cell and insert a blank one below\n",
    "\n",
    "#### Key Concepts\n",
    "\n",
    "- Data Types: these are the different kinds of data and formats you can hold object in\n",
    "    a. String --> Text or written data. e.g. \"this is a string\"\n",
    "    b. Integers - numbers without decimal places. e.g. 1, 2, 3, 4, 5, 6\n",
    "    c. Floats - numbers with decimal places. e.g. 3.5, 2.06, 7.9, 4.1\n",
    "    d. Date - time-related object. e.g. 19-March-2020 18:00, 20-March-2020 12:30\n",
    "    e. Boolean - logical value that can be `True` or `False` and 1 or 0, respectively\n",
    "    f. Dataframe - spreadshee-like object (literally), with rows and columns\n",
    "    g. Array - a row or column in a spreadsheet, or a combination of the two"
   ]
  },
  {
   "cell_type": "code",
   "execution_count": 1,
   "metadata": {},
   "outputs": [],
   "source": [
    "# Import your packages below\n",
    "import pandas as pd\n",
    "import numpy as np\n",
    "import matplotlib.pyplot as plt\n",
    "import seaborn as sns\n",
    "sns.set()\n",
    "import datetime\n",
    "import altair as alt\n",
    "pd.set_option('display.max_columns', None)\n",
    "\n",
    "%matplotlib inline"
   ]
  },
  {
   "cell_type": "markdown",
   "metadata": {},
   "source": [
    "Another thing you will notice is that as we imported our packages into our environment, we also used an alias so that we don't have to use the full name of the package every time we need to use each one of them.\n",
    "\n",
    "The next step we need to take is to load our dataset into memory. You will find a dataset readily available in the following link\n",
    "\n",
    "> https://raw.githubusercontent.com/ramonprz01/codevelop-march-2020/master/data/activities_data.csv"
   ]
  },
  {
   "cell_type": "markdown",
   "metadata": {},
   "source": [
    "To get the data we will use a method called `.read_csv()` from our padas library and assign it to a variable. A variable is like a bucket or a net, it can hold on to an object for us and allow us to do things with it and to it. You can also think of variables as the name of a column in a spreadsheet."
   ]
  },
  {
   "cell_type": "code",
   "execution_count": 2,
   "metadata": {},
   "outputs": [],
   "source": [
    "# The word df is our variable\n",
    "# The alias pd allows us to use the pandas library\n",
    "# The .read_csv() helps us read in the data\n",
    "\n",
    "df = pd.read_csv(\"https://raw.githubusercontent.com/ramonprz01/codevelop-march-2020/master/data/activities_data.csv\")"
   ]
  },
  {
   "cell_type": "markdown",
   "metadata": {},
   "source": [
    "The next thing we want to do after loading our data is to make sure it was loaded into memory in the right way. We can do this by calling the method `.head()` on our pandas dataframe."
   ]
  },
  {
   "cell_type": "code",
   "execution_count": 3,
   "metadata": {},
   "outputs": [
    {
     "data": {
      "text/html": [
       "<div>\n",
       "<style scoped>\n",
       "    .dataframe tbody tr th:only-of-type {\n",
       "        vertical-align: middle;\n",
       "    }\n",
       "\n",
       "    .dataframe tbody tr th {\n",
       "        vertical-align: top;\n",
       "    }\n",
       "\n",
       "    .dataframe thead th {\n",
       "        text-align: right;\n",
       "    }\n",
       "</style>\n",
       "<table border=\"1\" class=\"dataframe\">\n",
       "  <thead>\n",
       "    <tr style=\"text-align: right;\">\n",
       "      <th></th>\n",
       "      <th>Activity Type</th>\n",
       "      <th>Date</th>\n",
       "      <th>Favorite</th>\n",
       "      <th>Title</th>\n",
       "      <th>Distance</th>\n",
       "      <th>Calories</th>\n",
       "      <th>Time</th>\n",
       "      <th>Avg HR</th>\n",
       "      <th>Max HR</th>\n",
       "      <th>Aerobic TE</th>\n",
       "      <th>Avg Run Cadence</th>\n",
       "      <th>Max Run Cadence</th>\n",
       "      <th>Avg Pace</th>\n",
       "      <th>Best Pace</th>\n",
       "      <th>Elev Gain</th>\n",
       "      <th>Elev Loss</th>\n",
       "      <th>Avg Stride Length</th>\n",
       "      <th>Avg Vertical Ratio</th>\n",
       "      <th>Avg Vertical Oscillation</th>\n",
       "      <th>Training Stress Score®</th>\n",
       "      <th>Grit</th>\n",
       "      <th>Flow</th>\n",
       "      <th>Climb Time</th>\n",
       "      <th>Bottom Time</th>\n",
       "      <th>Min Temp</th>\n",
       "      <th>Surface Interval</th>\n",
       "      <th>Decompression</th>\n",
       "      <th>Best Lap Time</th>\n",
       "      <th>Number of Runs</th>\n",
       "      <th>Max Temp</th>\n",
       "    </tr>\n",
       "  </thead>\n",
       "  <tbody>\n",
       "    <tr>\n",
       "      <th>0</th>\n",
       "      <td>Running</td>\n",
       "      <td>2020-03-15 18:36:50</td>\n",
       "      <td>False</td>\n",
       "      <td>Sydney Running</td>\n",
       "      <td>2.38</td>\n",
       "      <td>317</td>\n",
       "      <td>00:19:31</td>\n",
       "      <td>155</td>\n",
       "      <td>182</td>\n",
       "      <td>3.4</td>\n",
       "      <td>166</td>\n",
       "      <td>183</td>\n",
       "      <td>8:13</td>\n",
       "      <td>6:48</td>\n",
       "      <td>141</td>\n",
       "      <td>174</td>\n",
       "      <td>1.18</td>\n",
       "      <td>0.0</td>\n",
       "      <td>0.0</td>\n",
       "      <td>0.0</td>\n",
       "      <td>0.0</td>\n",
       "      <td>0.0</td>\n",
       "      <td>0:00</td>\n",
       "      <td>0:00</td>\n",
       "      <td>68.0</td>\n",
       "      <td>0:00</td>\n",
       "      <td>No</td>\n",
       "      <td>03:02.70</td>\n",
       "      <td>3</td>\n",
       "      <td>0.0</td>\n",
       "    </tr>\n",
       "    <tr>\n",
       "      <th>1</th>\n",
       "      <td>Running</td>\n",
       "      <td>2020-03-11 18:26:18</td>\n",
       "      <td>False</td>\n",
       "      <td>Sydney Running</td>\n",
       "      <td>4.09</td>\n",
       "      <td>550</td>\n",
       "      <td>00:33:29</td>\n",
       "      <td>158</td>\n",
       "      <td>171</td>\n",
       "      <td>4.0</td>\n",
       "      <td>166</td>\n",
       "      <td>181</td>\n",
       "      <td>8:11</td>\n",
       "      <td>6:48</td>\n",
       "      <td>226</td>\n",
       "      <td>256</td>\n",
       "      <td>1.18</td>\n",
       "      <td>0.0</td>\n",
       "      <td>0.0</td>\n",
       "      <td>0.0</td>\n",
       "      <td>0.0</td>\n",
       "      <td>0.0</td>\n",
       "      <td>0:00</td>\n",
       "      <td>0:00</td>\n",
       "      <td>71.6</td>\n",
       "      <td>0:00</td>\n",
       "      <td>No</td>\n",
       "      <td>00:53.73</td>\n",
       "      <td>5</td>\n",
       "      <td>0.0</td>\n",
       "    </tr>\n",
       "    <tr>\n",
       "      <th>2</th>\n",
       "      <td>Running</td>\n",
       "      <td>2020-03-08 17:48:07</td>\n",
       "      <td>False</td>\n",
       "      <td>Sydney Running</td>\n",
       "      <td>2.82</td>\n",
       "      <td>336</td>\n",
       "      <td>00:21:16</td>\n",
       "      <td>150</td>\n",
       "      <td>168</td>\n",
       "      <td>3.3</td>\n",
       "      <td>167</td>\n",
       "      <td>195</td>\n",
       "      <td>7:32</td>\n",
       "      <td>5:44</td>\n",
       "      <td>128</td>\n",
       "      <td>190</td>\n",
       "      <td>1.28</td>\n",
       "      <td>0.0</td>\n",
       "      <td>0.0</td>\n",
       "      <td>0.0</td>\n",
       "      <td>0.0</td>\n",
       "      <td>0.0</td>\n",
       "      <td>0:00</td>\n",
       "      <td>0:00</td>\n",
       "      <td>71.6</td>\n",
       "      <td>0:00</td>\n",
       "      <td>No</td>\n",
       "      <td>06:12.32</td>\n",
       "      <td>3</td>\n",
       "      <td>0.0</td>\n",
       "    </tr>\n",
       "    <tr>\n",
       "      <th>3</th>\n",
       "      <td>Running</td>\n",
       "      <td>2020-03-04 18:41:53</td>\n",
       "      <td>False</td>\n",
       "      <td>Sydney Running</td>\n",
       "      <td>1.00</td>\n",
       "      <td>117</td>\n",
       "      <td>00:08:24.7</td>\n",
       "      <td>136</td>\n",
       "      <td>148</td>\n",
       "      <td>2.0</td>\n",
       "      <td>160</td>\n",
       "      <td>175</td>\n",
       "      <td>8:24</td>\n",
       "      <td>7:37</td>\n",
       "      <td>39</td>\n",
       "      <td>62</td>\n",
       "      <td>1.19</td>\n",
       "      <td>0.0</td>\n",
       "      <td>0.0</td>\n",
       "      <td>0.0</td>\n",
       "      <td>0.0</td>\n",
       "      <td>0.0</td>\n",
       "      <td>0:00</td>\n",
       "      <td>0:00</td>\n",
       "      <td>77.0</td>\n",
       "      <td>0:00</td>\n",
       "      <td>No</td>\n",
       "      <td>00:00.46</td>\n",
       "      <td>2</td>\n",
       "      <td>0.0</td>\n",
       "    </tr>\n",
       "    <tr>\n",
       "      <th>4</th>\n",
       "      <td>Running</td>\n",
       "      <td>2020-02-29 15:55:38</td>\n",
       "      <td>False</td>\n",
       "      <td>Sydney Running</td>\n",
       "      <td>2.80</td>\n",
       "      <td>347</td>\n",
       "      <td>00:22:17</td>\n",
       "      <td>150</td>\n",
       "      <td>170</td>\n",
       "      <td>3.4</td>\n",
       "      <td>166</td>\n",
       "      <td>213</td>\n",
       "      <td>7:58</td>\n",
       "      <td>6:38</td>\n",
       "      <td>135</td>\n",
       "      <td>187</td>\n",
       "      <td>1.22</td>\n",
       "      <td>0.0</td>\n",
       "      <td>0.0</td>\n",
       "      <td>0.0</td>\n",
       "      <td>0.0</td>\n",
       "      <td>0.0</td>\n",
       "      <td>0:00</td>\n",
       "      <td>0:00</td>\n",
       "      <td>80.6</td>\n",
       "      <td>0:00</td>\n",
       "      <td>No</td>\n",
       "      <td>06:13.66</td>\n",
       "      <td>3</td>\n",
       "      <td>0.0</td>\n",
       "    </tr>\n",
       "  </tbody>\n",
       "</table>\n",
       "</div>"
      ],
      "text/plain": [
       "  Activity Type                 Date  Favorite           Title  Distance  \\\n",
       "0       Running  2020-03-15 18:36:50     False  Sydney Running      2.38   \n",
       "1       Running  2020-03-11 18:26:18     False  Sydney Running      4.09   \n",
       "2       Running  2020-03-08 17:48:07     False  Sydney Running      2.82   \n",
       "3       Running  2020-03-04 18:41:53     False  Sydney Running      1.00   \n",
       "4       Running  2020-02-29 15:55:38     False  Sydney Running      2.80   \n",
       "\n",
       "  Calories        Time  Avg HR  Max HR Aerobic TE Avg Run Cadence  \\\n",
       "0      317    00:19:31     155     182        3.4             166   \n",
       "1      550    00:33:29     158     171        4.0             166   \n",
       "2      336    00:21:16     150     168        3.3             167   \n",
       "3      117  00:08:24.7     136     148        2.0             160   \n",
       "4      347    00:22:17     150     170        3.4             166   \n",
       "\n",
       "  Max Run Cadence Avg Pace Best Pace Elev Gain Elev Loss  Avg Stride Length  \\\n",
       "0             183     8:13      6:48       141       174               1.18   \n",
       "1             181     8:11      6:48       226       256               1.18   \n",
       "2             195     7:32      5:44       128       190               1.28   \n",
       "3             175     8:24      7:37        39        62               1.19   \n",
       "4             213     7:58      6:38       135       187               1.22   \n",
       "\n",
       "   Avg Vertical Ratio  Avg Vertical Oscillation  Training Stress Score®  Grit  \\\n",
       "0                 0.0                       0.0                     0.0   0.0   \n",
       "1                 0.0                       0.0                     0.0   0.0   \n",
       "2                 0.0                       0.0                     0.0   0.0   \n",
       "3                 0.0                       0.0                     0.0   0.0   \n",
       "4                 0.0                       0.0                     0.0   0.0   \n",
       "\n",
       "   Flow Climb Time Bottom Time  Min Temp Surface Interval Decompression  \\\n",
       "0   0.0       0:00        0:00      68.0             0:00            No   \n",
       "1   0.0       0:00        0:00      71.6             0:00            No   \n",
       "2   0.0       0:00        0:00      71.6             0:00            No   \n",
       "3   0.0       0:00        0:00      77.0             0:00            No   \n",
       "4   0.0       0:00        0:00      80.6             0:00            No   \n",
       "\n",
       "  Best Lap Time Number of Runs  Max Temp  \n",
       "0      03:02.70              3       0.0  \n",
       "1      00:53.73              5       0.0  \n",
       "2      06:12.32              3       0.0  \n",
       "3      00:00.46              2       0.0  \n",
       "4      06:13.66              3       0.0  "
      ]
     },
     "execution_count": 3,
     "metadata": {},
     "output_type": "execute_result"
    }
   ],
   "source": [
    "df.head()"
   ]
  },
  {
   "cell_type": "markdown",
   "metadata": {},
   "source": [
    "#### __Exercise prompt__ - Now you use the method `.tail()` on your data to see the first 5 rows of the dataset."
   ]
  },
  {
   "cell_type": "code",
   "execution_count": 8,
   "metadata": {},
   "outputs": [
    {
     "data": {
      "text/plain": [
       "(454, 30)"
      ]
     },
     "execution_count": 8,
     "metadata": {},
     "output_type": "execute_result"
    }
   ],
   "source": [
    "df.shape"
   ]
  },
  {
   "cell_type": "markdown",
   "metadata": {},
   "source": [
    "One other thing we can do to inspect our dataset and make sure it was imported successfully is to look at the shape of it."
   ]
  },
  {
   "cell_type": "code",
   "execution_count": 9,
   "metadata": {},
   "outputs": [
    {
     "data": {
      "text/plain": [
       "(454, 30)"
      ]
     },
     "execution_count": 9,
     "metadata": {},
     "output_type": "execute_result"
    }
   ],
   "source": [
    "df.shape"
   ]
  },
  {
   "cell_type": "code",
   "execution_count": 10,
   "metadata": {},
   "outputs": [
    {
     "name": "stdout",
     "output_type": "stream",
     "text": [
      "<class 'pandas.core.frame.DataFrame'>\n",
      "RangeIndex: 454 entries, 0 to 453\n",
      "Data columns (total 30 columns):\n",
      " #   Column                    Non-Null Count  Dtype  \n",
      "---  ------                    --------------  -----  \n",
      " 0   Activity Type             454 non-null    object \n",
      " 1   Date                      454 non-null    object \n",
      " 2   Favorite                  454 non-null    bool   \n",
      " 3   Title                     454 non-null    object \n",
      " 4   Distance                  454 non-null    float64\n",
      " 5   Calories                  454 non-null    object \n",
      " 6   Time                      454 non-null    object \n",
      " 7   Avg HR                    454 non-null    int64  \n",
      " 8   Max HR                    454 non-null    int64  \n",
      " 9   Aerobic TE                454 non-null    object \n",
      " 10  Avg Run Cadence           454 non-null    object \n",
      " 11  Max Run Cadence           454 non-null    object \n",
      " 12  Avg Pace                  454 non-null    object \n",
      " 13  Best Pace                 454 non-null    object \n",
      " 14  Elev Gain                 454 non-null    object \n",
      " 15  Elev Loss                 454 non-null    object \n",
      " 16  Avg Stride Length         454 non-null    float64\n",
      " 17  Avg Vertical Ratio        454 non-null    float64\n",
      " 18  Avg Vertical Oscillation  454 non-null    float64\n",
      " 19  Training Stress Score®    454 non-null    float64\n",
      " 20  Grit                      454 non-null    float64\n",
      " 21  Flow                      454 non-null    float64\n",
      " 22  Climb Time                454 non-null    object \n",
      " 23  Bottom Time               454 non-null    object \n",
      " 24  Min Temp                  454 non-null    float64\n",
      " 25  Surface Interval          454 non-null    object \n",
      " 26  Decompression             454 non-null    object \n",
      " 27  Best Lap Time             454 non-null    object \n",
      " 28  Number of Runs            454 non-null    object \n",
      " 29  Max Temp                  454 non-null    float64\n",
      "dtypes: bool(1), float64(9), int64(2), object(18)\n",
      "memory usage: 103.4+ KB\n"
     ]
    }
   ],
   "source": [
    "# Let's first have a look at our dataset\n",
    "df.info()"
   ]
  },
  {
   "cell_type": "code",
   "execution_count": 11,
   "metadata": {},
   "outputs": [
    {
     "data": {
      "text/html": [
       "<div>\n",
       "<style scoped>\n",
       "    .dataframe tbody tr th:only-of-type {\n",
       "        vertical-align: middle;\n",
       "    }\n",
       "\n",
       "    .dataframe tbody tr th {\n",
       "        vertical-align: top;\n",
       "    }\n",
       "\n",
       "    .dataframe thead th {\n",
       "        text-align: right;\n",
       "    }\n",
       "</style>\n",
       "<table border=\"1\" class=\"dataframe\">\n",
       "  <thead>\n",
       "    <tr style=\"text-align: right;\">\n",
       "      <th></th>\n",
       "      <th>Distance</th>\n",
       "      <th>Avg HR</th>\n",
       "      <th>Max HR</th>\n",
       "      <th>Avg Stride Length</th>\n",
       "      <th>Avg Vertical Ratio</th>\n",
       "      <th>Avg Vertical Oscillation</th>\n",
       "      <th>Training Stress Score®</th>\n",
       "      <th>Grit</th>\n",
       "      <th>Flow</th>\n",
       "      <th>Min Temp</th>\n",
       "      <th>Max Temp</th>\n",
       "    </tr>\n",
       "  </thead>\n",
       "  <tbody>\n",
       "    <tr>\n",
       "      <th>count</th>\n",
       "      <td>454.000000</td>\n",
       "      <td>454.000000</td>\n",
       "      <td>454.000000</td>\n",
       "      <td>454.000000</td>\n",
       "      <td>454.0</td>\n",
       "      <td>454.0</td>\n",
       "      <td>454.0</td>\n",
       "      <td>454.0</td>\n",
       "      <td>454.0</td>\n",
       "      <td>454.000000</td>\n",
       "      <td>454.0</td>\n",
       "    </tr>\n",
       "    <tr>\n",
       "      <th>mean</th>\n",
       "      <td>1.549229</td>\n",
       "      <td>126.618943</td>\n",
       "      <td>146.788546</td>\n",
       "      <td>0.696938</td>\n",
       "      <td>0.0</td>\n",
       "      <td>0.0</td>\n",
       "      <td>0.0</td>\n",
       "      <td>0.0</td>\n",
       "      <td>0.0</td>\n",
       "      <td>78.240969</td>\n",
       "      <td>0.0</td>\n",
       "    </tr>\n",
       "    <tr>\n",
       "      <th>std</th>\n",
       "      <td>1.100382</td>\n",
       "      <td>22.570717</td>\n",
       "      <td>21.611751</td>\n",
       "      <td>0.570507</td>\n",
       "      <td>0.0</td>\n",
       "      <td>0.0</td>\n",
       "      <td>0.0</td>\n",
       "      <td>0.0</td>\n",
       "      <td>0.0</td>\n",
       "      <td>5.903790</td>\n",
       "      <td>0.0</td>\n",
       "    </tr>\n",
       "    <tr>\n",
       "      <th>min</th>\n",
       "      <td>0.000000</td>\n",
       "      <td>70.000000</td>\n",
       "      <td>82.000000</td>\n",
       "      <td>0.000000</td>\n",
       "      <td>0.0</td>\n",
       "      <td>0.0</td>\n",
       "      <td>0.0</td>\n",
       "      <td>0.0</td>\n",
       "      <td>0.0</td>\n",
       "      <td>55.400000</td>\n",
       "      <td>0.0</td>\n",
       "    </tr>\n",
       "    <tr>\n",
       "      <th>25%</th>\n",
       "      <td>0.830000</td>\n",
       "      <td>105.250000</td>\n",
       "      <td>129.000000</td>\n",
       "      <td>0.000000</td>\n",
       "      <td>0.0</td>\n",
       "      <td>0.0</td>\n",
       "      <td>0.0</td>\n",
       "      <td>0.0</td>\n",
       "      <td>0.0</td>\n",
       "      <td>75.200000</td>\n",
       "      <td>0.0</td>\n",
       "    </tr>\n",
       "    <tr>\n",
       "      <th>50%</th>\n",
       "      <td>1.030000</td>\n",
       "      <td>134.000000</td>\n",
       "      <td>151.000000</td>\n",
       "      <td>1.060000</td>\n",
       "      <td>0.0</td>\n",
       "      <td>0.0</td>\n",
       "      <td>0.0</td>\n",
       "      <td>0.0</td>\n",
       "      <td>0.0</td>\n",
       "      <td>77.000000</td>\n",
       "      <td>0.0</td>\n",
       "    </tr>\n",
       "    <tr>\n",
       "      <th>75%</th>\n",
       "      <td>2.050000</td>\n",
       "      <td>146.000000</td>\n",
       "      <td>164.000000</td>\n",
       "      <td>1.170000</td>\n",
       "      <td>0.0</td>\n",
       "      <td>0.0</td>\n",
       "      <td>0.0</td>\n",
       "      <td>0.0</td>\n",
       "      <td>0.0</td>\n",
       "      <td>82.400000</td>\n",
       "      <td>0.0</td>\n",
       "    </tr>\n",
       "    <tr>\n",
       "      <th>max</th>\n",
       "      <td>4.690000</td>\n",
       "      <td>164.000000</td>\n",
       "      <td>190.000000</td>\n",
       "      <td>2.030000</td>\n",
       "      <td>0.0</td>\n",
       "      <td>0.0</td>\n",
       "      <td>0.0</td>\n",
       "      <td>0.0</td>\n",
       "      <td>0.0</td>\n",
       "      <td>96.800000</td>\n",
       "      <td>0.0</td>\n",
       "    </tr>\n",
       "  </tbody>\n",
       "</table>\n",
       "</div>"
      ],
      "text/plain": [
       "         Distance      Avg HR      Max HR  Avg Stride Length  \\\n",
       "count  454.000000  454.000000  454.000000         454.000000   \n",
       "mean     1.549229  126.618943  146.788546           0.696938   \n",
       "std      1.100382   22.570717   21.611751           0.570507   \n",
       "min      0.000000   70.000000   82.000000           0.000000   \n",
       "25%      0.830000  105.250000  129.000000           0.000000   \n",
       "50%      1.030000  134.000000  151.000000           1.060000   \n",
       "75%      2.050000  146.000000  164.000000           1.170000   \n",
       "max      4.690000  164.000000  190.000000           2.030000   \n",
       "\n",
       "       Avg Vertical Ratio  Avg Vertical Oscillation  Training Stress Score®  \\\n",
       "count               454.0                     454.0                   454.0   \n",
       "mean                  0.0                       0.0                     0.0   \n",
       "std                   0.0                       0.0                     0.0   \n",
       "min                   0.0                       0.0                     0.0   \n",
       "25%                   0.0                       0.0                     0.0   \n",
       "50%                   0.0                       0.0                     0.0   \n",
       "75%                   0.0                       0.0                     0.0   \n",
       "max                   0.0                       0.0                     0.0   \n",
       "\n",
       "        Grit   Flow    Min Temp  Max Temp  \n",
       "count  454.0  454.0  454.000000     454.0  \n",
       "mean     0.0    0.0   78.240969       0.0  \n",
       "std      0.0    0.0    5.903790       0.0  \n",
       "min      0.0    0.0   55.400000       0.0  \n",
       "25%      0.0    0.0   75.200000       0.0  \n",
       "50%      0.0    0.0   77.000000       0.0  \n",
       "75%      0.0    0.0   82.400000       0.0  \n",
       "max      0.0    0.0   96.800000       0.0  "
      ]
     },
     "execution_count": 11,
     "metadata": {},
     "output_type": "execute_result"
    }
   ],
   "source": [
    "df.describe()"
   ]
  },
  {
   "cell_type": "markdown",
   "metadata": {},
   "source": [
    "### 5. Data Cleaning / Preparation for analysis"
   ]
  },
  {
   "cell_type": "markdown",
   "metadata": {},
   "source": [
    "#### 5.1 Make your columns work for you\n",
    "\n",
    "Let's start by having a look at the columns of our dataframe. We can accomplish this by calling the attribute `.columns` on our dataframe."
   ]
  },
  {
   "cell_type": "code",
   "execution_count": 12,
   "metadata": {},
   "outputs": [
    {
     "data": {
      "text/plain": [
       "Index(['Activity Type', 'Date', 'Favorite', 'Title', 'Distance', 'Calories',\n",
       "       'Time', 'Avg HR', 'Max HR', 'Aerobic TE', 'Avg Run Cadence',\n",
       "       'Max Run Cadence', 'Avg Pace', 'Best Pace', 'Elev Gain', 'Elev Loss',\n",
       "       'Avg Stride Length', 'Avg Vertical Ratio', 'Avg Vertical Oscillation',\n",
       "       'Training Stress Score®', 'Grit', 'Flow', 'Climb Time', 'Bottom Time',\n",
       "       'Min Temp', 'Surface Interval', 'Decompression', 'Best Lap Time',\n",
       "       'Number of Runs', 'Max Temp'],\n",
       "      dtype='object')"
      ]
     },
     "execution_count": 12,
     "metadata": {},
     "output_type": "execute_result"
    }
   ],
   "source": [
    "df.columns"
   ]
  },
  {
   "cell_type": "markdown",
   "metadata": {},
   "source": [
    "The name of the variables in any dataset can often come with spaces and some uppercase letters that might make it harder to interact with them individually. I find it useful to convert these to lower case and substitute the space with an underscore, so let's do that next.\n",
    "\n",
    "To access an array that comes from a dataframe and has strings in it, we need to tell python that we are accessing strings with the `.str` attribute, and the use a the method `.replace()` with the first argument beign what we want to replace and the second what we want to replace it with. In our case, we want to replace the space `' '` with and underscore `'_'`.\n",
    "\n",
    "__NOTE__: notice the subtle differences between attributes and methods of an object, the former does not need `()` at the end as it does't need any arguments, and latter does require a set of `()` as it does require arguments."
   ]
  },
  {
   "cell_type": "code",
   "execution_count": 13,
   "metadata": {},
   "outputs": [],
   "source": [
    "df.columns = df.columns.str.lower().str.replace(' ', '_')"
   ]
  },
  {
   "cell_type": "markdown",
   "metadata": {},
   "source": [
    "Let's examine our columns to make sure we changed all of our variable names."
   ]
  },
  {
   "cell_type": "code",
   "execution_count": 14,
   "metadata": {},
   "outputs": [
    {
     "data": {
      "text/plain": [
       "Index(['activity_type', 'date', 'favorite', 'title', 'distance', 'calories',\n",
       "       'time', 'avg_hr', 'max_hr', 'aerobic_te', 'avg_run_cadence',\n",
       "       'max_run_cadence', 'avg_pace', 'best_pace', 'elev_gain', 'elev_loss',\n",
       "       'avg_stride_length', 'avg_vertical_ratio', 'avg_vertical_oscillation',\n",
       "       'training_stress_score®', 'grit', 'flow', 'climb_time', 'bottom_time',\n",
       "       'min_temp', 'surface_interval', 'decompression', 'best_lap_time',\n",
       "       'number_of_runs', 'max_temp'],\n",
       "      dtype='object')"
      ]
     },
     "execution_count": 14,
     "metadata": {},
     "output_type": "execute_result"
    }
   ],
   "source": [
    "df.columns"
   ]
  },
  {
   "cell_type": "markdown",
   "metadata": {},
   "source": [
    "#### 5.2 Clean your data\n",
    "\n",
    "If you noticed earlier when you used the `.tail()` method on your dataframe, we have values that are not useful for any type of calcualtion. These are `\"--\"` and we should change them to the more conventional `np.nan` values, which is consider \"Not a Number.\""
   ]
  },
  {
   "cell_type": "code",
   "execution_count": 15,
   "metadata": {},
   "outputs": [],
   "source": [
    "df.replace('--', np.nan, inplace=True)"
   ]
  },
  {
   "cell_type": "code",
   "execution_count": 16,
   "metadata": {},
   "outputs": [
    {
     "data": {
      "text/html": [
       "<div>\n",
       "<style scoped>\n",
       "    .dataframe tbody tr th:only-of-type {\n",
       "        vertical-align: middle;\n",
       "    }\n",
       "\n",
       "    .dataframe tbody tr th {\n",
       "        vertical-align: top;\n",
       "    }\n",
       "\n",
       "    .dataframe thead th {\n",
       "        text-align: right;\n",
       "    }\n",
       "</style>\n",
       "<table border=\"1\" class=\"dataframe\">\n",
       "  <thead>\n",
       "    <tr style=\"text-align: right;\">\n",
       "      <th></th>\n",
       "      <th>activity_type</th>\n",
       "      <th>date</th>\n",
       "      <th>favorite</th>\n",
       "      <th>title</th>\n",
       "      <th>distance</th>\n",
       "      <th>calories</th>\n",
       "      <th>time</th>\n",
       "      <th>avg_hr</th>\n",
       "      <th>max_hr</th>\n",
       "      <th>aerobic_te</th>\n",
       "      <th>avg_run_cadence</th>\n",
       "      <th>max_run_cadence</th>\n",
       "      <th>avg_pace</th>\n",
       "      <th>best_pace</th>\n",
       "      <th>elev_gain</th>\n",
       "      <th>elev_loss</th>\n",
       "      <th>avg_stride_length</th>\n",
       "      <th>avg_vertical_ratio</th>\n",
       "      <th>avg_vertical_oscillation</th>\n",
       "      <th>training_stress_score®</th>\n",
       "      <th>grit</th>\n",
       "      <th>flow</th>\n",
       "      <th>climb_time</th>\n",
       "      <th>bottom_time</th>\n",
       "      <th>min_temp</th>\n",
       "      <th>surface_interval</th>\n",
       "      <th>decompression</th>\n",
       "      <th>best_lap_time</th>\n",
       "      <th>number_of_runs</th>\n",
       "      <th>max_temp</th>\n",
       "    </tr>\n",
       "  </thead>\n",
       "  <tbody>\n",
       "    <tr>\n",
       "      <th>449</th>\n",
       "      <td>Running</td>\n",
       "      <td>2017-10-06 11:04:11</td>\n",
       "      <td>False</td>\n",
       "      <td>Kansas City Running</td>\n",
       "      <td>4.44</td>\n",
       "      <td>608</td>\n",
       "      <td>00:44:14</td>\n",
       "      <td>141</td>\n",
       "      <td>162</td>\n",
       "      <td>3.5</td>\n",
       "      <td>157</td>\n",
       "      <td>169</td>\n",
       "      <td>9:58</td>\n",
       "      <td>7:58</td>\n",
       "      <td>144</td>\n",
       "      <td>138</td>\n",
       "      <td>1.03</td>\n",
       "      <td>0.0</td>\n",
       "      <td>0.0</td>\n",
       "      <td>0.0</td>\n",
       "      <td>0.0</td>\n",
       "      <td>0.0</td>\n",
       "      <td>0:00</td>\n",
       "      <td>0:00</td>\n",
       "      <td>80.6</td>\n",
       "      <td>0:00</td>\n",
       "      <td>No</td>\n",
       "      <td>00:00.00</td>\n",
       "      <td>NaN</td>\n",
       "      <td>0.0</td>\n",
       "    </tr>\n",
       "    <tr>\n",
       "      <th>450</th>\n",
       "      <td>Strength Training</td>\n",
       "      <td>2017-09-25 19:30:13</td>\n",
       "      <td>False</td>\n",
       "      <td>Strength</td>\n",
       "      <td>0.00</td>\n",
       "      <td>80</td>\n",
       "      <td>00:15:46</td>\n",
       "      <td>88</td>\n",
       "      <td>107</td>\n",
       "      <td>0.2</td>\n",
       "      <td>NaN</td>\n",
       "      <td>NaN</td>\n",
       "      <td>NaN</td>\n",
       "      <td>NaN</td>\n",
       "      <td>NaN</td>\n",
       "      <td>NaN</td>\n",
       "      <td>0.00</td>\n",
       "      <td>0.0</td>\n",
       "      <td>0.0</td>\n",
       "      <td>0.0</td>\n",
       "      <td>0.0</td>\n",
       "      <td>0.0</td>\n",
       "      <td>0:00</td>\n",
       "      <td>0:00</td>\n",
       "      <td>73.4</td>\n",
       "      <td>0:00</td>\n",
       "      <td>No</td>\n",
       "      <td>00:00.00</td>\n",
       "      <td>NaN</td>\n",
       "      <td>0.0</td>\n",
       "    </tr>\n",
       "    <tr>\n",
       "      <th>451</th>\n",
       "      <td>Running</td>\n",
       "      <td>2017-09-21 12:16:19</td>\n",
       "      <td>False</td>\n",
       "      <td>Kansas City Running</td>\n",
       "      <td>4.25</td>\n",
       "      <td>565</td>\n",
       "      <td>00:37:26</td>\n",
       "      <td>149</td>\n",
       "      <td>182</td>\n",
       "      <td>3.9</td>\n",
       "      <td>165</td>\n",
       "      <td>180</td>\n",
       "      <td>8:48</td>\n",
       "      <td>7:19</td>\n",
       "      <td>108</td>\n",
       "      <td>121</td>\n",
       "      <td>1.11</td>\n",
       "      <td>0.0</td>\n",
       "      <td>0.0</td>\n",
       "      <td>0.0</td>\n",
       "      <td>0.0</td>\n",
       "      <td>0.0</td>\n",
       "      <td>0:00</td>\n",
       "      <td>0:00</td>\n",
       "      <td>86.0</td>\n",
       "      <td>0:00</td>\n",
       "      <td>No</td>\n",
       "      <td>00:00.00</td>\n",
       "      <td>NaN</td>\n",
       "      <td>0.0</td>\n",
       "    </tr>\n",
       "    <tr>\n",
       "      <th>452</th>\n",
       "      <td>Running</td>\n",
       "      <td>2017-09-19 18:45:46</td>\n",
       "      <td>False</td>\n",
       "      <td>Kansas City Running</td>\n",
       "      <td>4.32</td>\n",
       "      <td>553</td>\n",
       "      <td>00:36:57</td>\n",
       "      <td>148</td>\n",
       "      <td>170</td>\n",
       "      <td>4.2</td>\n",
       "      <td>165</td>\n",
       "      <td>177</td>\n",
       "      <td>8:33</td>\n",
       "      <td>7:16</td>\n",
       "      <td>98</td>\n",
       "      <td>141</td>\n",
       "      <td>1.14</td>\n",
       "      <td>0.0</td>\n",
       "      <td>0.0</td>\n",
       "      <td>0.0</td>\n",
       "      <td>0.0</td>\n",
       "      <td>0.0</td>\n",
       "      <td>0:00</td>\n",
       "      <td>0:00</td>\n",
       "      <td>82.4</td>\n",
       "      <td>0:00</td>\n",
       "      <td>No</td>\n",
       "      <td>00:00.00</td>\n",
       "      <td>NaN</td>\n",
       "      <td>0.0</td>\n",
       "    </tr>\n",
       "    <tr>\n",
       "      <th>453</th>\n",
       "      <td>Running</td>\n",
       "      <td>2017-09-16 15:17:18</td>\n",
       "      <td>False</td>\n",
       "      <td>Kansas City Running</td>\n",
       "      <td>3.02</td>\n",
       "      <td>404</td>\n",
       "      <td>00:24:56</td>\n",
       "      <td>156</td>\n",
       "      <td>187</td>\n",
       "      <td>3.8</td>\n",
       "      <td>161</td>\n",
       "      <td>200</td>\n",
       "      <td>8:15</td>\n",
       "      <td>4:57</td>\n",
       "      <td>59</td>\n",
       "      <td>98</td>\n",
       "      <td>1.21</td>\n",
       "      <td>0.0</td>\n",
       "      <td>0.0</td>\n",
       "      <td>0.0</td>\n",
       "      <td>0.0</td>\n",
       "      <td>0.0</td>\n",
       "      <td>0:00</td>\n",
       "      <td>0:00</td>\n",
       "      <td>84.2</td>\n",
       "      <td>0:00</td>\n",
       "      <td>No</td>\n",
       "      <td>00:00.00</td>\n",
       "      <td>NaN</td>\n",
       "      <td>0.0</td>\n",
       "    </tr>\n",
       "  </tbody>\n",
       "</table>\n",
       "</div>"
      ],
      "text/plain": [
       "         activity_type                 date  favorite                title  \\\n",
       "449            Running  2017-10-06 11:04:11     False  Kansas City Running   \n",
       "450  Strength Training  2017-09-25 19:30:13     False             Strength   \n",
       "451            Running  2017-09-21 12:16:19     False  Kansas City Running   \n",
       "452            Running  2017-09-19 18:45:46     False  Kansas City Running   \n",
       "453            Running  2017-09-16 15:17:18     False  Kansas City Running   \n",
       "\n",
       "     distance calories      time  avg_hr  max_hr aerobic_te avg_run_cadence  \\\n",
       "449      4.44      608  00:44:14     141     162        3.5             157   \n",
       "450      0.00       80  00:15:46      88     107        0.2             NaN   \n",
       "451      4.25      565  00:37:26     149     182        3.9             165   \n",
       "452      4.32      553  00:36:57     148     170        4.2             165   \n",
       "453      3.02      404  00:24:56     156     187        3.8             161   \n",
       "\n",
       "    max_run_cadence avg_pace best_pace elev_gain elev_loss  avg_stride_length  \\\n",
       "449             169     9:58      7:58       144       138               1.03   \n",
       "450             NaN      NaN       NaN       NaN       NaN               0.00   \n",
       "451             180     8:48      7:19       108       121               1.11   \n",
       "452             177     8:33      7:16        98       141               1.14   \n",
       "453             200     8:15      4:57        59        98               1.21   \n",
       "\n",
       "     avg_vertical_ratio  avg_vertical_oscillation  training_stress_score®  \\\n",
       "449                 0.0                       0.0                     0.0   \n",
       "450                 0.0                       0.0                     0.0   \n",
       "451                 0.0                       0.0                     0.0   \n",
       "452                 0.0                       0.0                     0.0   \n",
       "453                 0.0                       0.0                     0.0   \n",
       "\n",
       "     grit  flow climb_time bottom_time  min_temp surface_interval  \\\n",
       "449   0.0   0.0       0:00        0:00      80.6             0:00   \n",
       "450   0.0   0.0       0:00        0:00      73.4             0:00   \n",
       "451   0.0   0.0       0:00        0:00      86.0             0:00   \n",
       "452   0.0   0.0       0:00        0:00      82.4             0:00   \n",
       "453   0.0   0.0       0:00        0:00      84.2             0:00   \n",
       "\n",
       "    decompression best_lap_time number_of_runs  max_temp  \n",
       "449            No      00:00.00            NaN       0.0  \n",
       "450            No      00:00.00            NaN       0.0  \n",
       "451            No      00:00.00            NaN       0.0  \n",
       "452            No      00:00.00            NaN       0.0  \n",
       "453            No      00:00.00            NaN       0.0  "
      ]
     },
     "execution_count": 16,
     "metadata": {},
     "output_type": "execute_result"
    }
   ],
   "source": [
    "df.tail()"
   ]
  },
  {
   "cell_type": "markdown",
   "metadata": {},
   "source": [
    "#### 5.3 Get rid of variables that you won't be using"
   ]
  },
  {
   "cell_type": "code",
   "execution_count": 17,
   "metadata": {},
   "outputs": [],
   "source": [
    "df.drop(['avg_vertical_ratio', 'avg_vertical_oscillation',\n",
    "         'training_stress_score®', 'grit', 'flow', 'favorite',\n",
    "         'bottom_time', 'surface_interval', 'best_lap_time', \n",
    "         'max_temp', 'decompression'], axis=1, inplace=True)"
   ]
  },
  {
   "cell_type": "code",
   "execution_count": 18,
   "metadata": {},
   "outputs": [
    {
     "data": {
      "text/plain": [
       "(454, 19)"
      ]
     },
     "execution_count": 18,
     "metadata": {},
     "output_type": "execute_result"
    }
   ],
   "source": [
    "df.shape"
   ]
  },
  {
   "cell_type": "markdown",
   "metadata": {},
   "source": [
    "Make sure your date variable is of date type and not a string."
   ]
  },
  {
   "cell_type": "code",
   "execution_count": 19,
   "metadata": {},
   "outputs": [
    {
     "data": {
      "text/plain": [
       "str"
      ]
     },
     "execution_count": 19,
     "metadata": {},
     "output_type": "execute_result"
    }
   ],
   "source": [
    "type(df['time'].iloc[1])"
   ]
  },
  {
   "cell_type": "code",
   "execution_count": 20,
   "metadata": {},
   "outputs": [
    {
     "data": {
      "text/plain": [
       "2018    224\n",
       "2019    198\n",
       "2020     20\n",
       "2017     12\n",
       "Name: date, dtype: int64"
      ]
     },
     "execution_count": 20,
     "metadata": {},
     "output_type": "execute_result"
    }
   ],
   "source": [
    "df['date'] = pd.to_datetime(df['date'])\n",
    "df['date'].dt.year.value_counts()"
   ]
  },
  {
   "cell_type": "code",
   "execution_count": 21,
   "metadata": {},
   "outputs": [
    {
     "name": "stdout",
     "output_type": "stream",
     "text": [
      "<class 'pandas.core.frame.DataFrame'>\n",
      "RangeIndex: 454 entries, 0 to 453\n",
      "Data columns (total 19 columns):\n",
      " #   Column             Non-Null Count  Dtype         \n",
      "---  ------             --------------  -----         \n",
      " 0   activity_type      454 non-null    object        \n",
      " 1   date               454 non-null    datetime64[ns]\n",
      " 2   title              454 non-null    object        \n",
      " 3   distance           454 non-null    float64       \n",
      " 4   calories           453 non-null    object        \n",
      " 5   time               454 non-null    object        \n",
      " 6   avg_hr             454 non-null    int64         \n",
      " 7   max_hr             454 non-null    int64         \n",
      " 8   aerobic_te         453 non-null    object        \n",
      " 9   avg_run_cadence    287 non-null    object        \n",
      " 10  max_run_cadence    287 non-null    object        \n",
      " 11  avg_pace           438 non-null    object        \n",
      " 12  best_pace          438 non-null    object        \n",
      " 13  elev_gain          284 non-null    object        \n",
      " 14  elev_loss          278 non-null    object        \n",
      " 15  avg_stride_length  454 non-null    float64       \n",
      " 16  climb_time         454 non-null    object        \n",
      " 17  min_temp           454 non-null    float64       \n",
      " 18  number_of_runs     449 non-null    object        \n",
      "dtypes: datetime64[ns](1), float64(3), int64(2), object(13)\n",
      "memory usage: 67.5+ KB\n"
     ]
    }
   ],
   "source": [
    "df.info()"
   ]
  },
  {
   "cell_type": "code",
   "execution_count": 22,
   "metadata": {},
   "outputs": [],
   "source": [
    "df['calories'] = pd.to_numeric(df['calories'])\n",
    "df['aerobic_te'] = pd.to_numeric(df['aerobic_te'])\n",
    "df['avg_run_cadence'] = pd.to_numeric(df['avg_run_cadence'])\n",
    "df['max_run_cadence'] = pd.to_numeric(df['max_run_cadence'])\n",
    "df['number_of_runs'] = pd.to_numeric(df['number_of_runs'])"
   ]
  },
  {
   "cell_type": "code",
   "execution_count": 23,
   "metadata": {},
   "outputs": [],
   "source": [
    "df['month'] = df['date'].dt.month\n",
    "df['year'] = df['date'].dt.year\n",
    "df['week'] = df['date'].dt.week\n",
    "df['weekday'] = df['date'].dt.weekday\n",
    "df['quarter'] = df['date'].dt.quarter\n",
    "df['time_exercise'] = df['date'].dt.time\n",
    "df['date_exercise'] = df['date'].dt.date\n",
    "df['day_of_week'] = df['date'].dt.day_name()"
   ]
  },
  {
   "cell_type": "code",
   "execution_count": 24,
   "metadata": {},
   "outputs": [
    {
     "data": {
      "text/html": [
       "<div>\n",
       "<style scoped>\n",
       "    .dataframe tbody tr th:only-of-type {\n",
       "        vertical-align: middle;\n",
       "    }\n",
       "\n",
       "    .dataframe tbody tr th {\n",
       "        vertical-align: top;\n",
       "    }\n",
       "\n",
       "    .dataframe thead th {\n",
       "        text-align: right;\n",
       "    }\n",
       "</style>\n",
       "<table border=\"1\" class=\"dataframe\">\n",
       "  <thead>\n",
       "    <tr style=\"text-align: right;\">\n",
       "      <th></th>\n",
       "      <th>activity_type</th>\n",
       "      <th>date</th>\n",
       "      <th>title</th>\n",
       "      <th>distance</th>\n",
       "      <th>calories</th>\n",
       "      <th>time</th>\n",
       "      <th>avg_hr</th>\n",
       "      <th>max_hr</th>\n",
       "      <th>aerobic_te</th>\n",
       "      <th>avg_run_cadence</th>\n",
       "      <th>max_run_cadence</th>\n",
       "      <th>avg_pace</th>\n",
       "      <th>best_pace</th>\n",
       "      <th>elev_gain</th>\n",
       "      <th>elev_loss</th>\n",
       "      <th>avg_stride_length</th>\n",
       "      <th>climb_time</th>\n",
       "      <th>min_temp</th>\n",
       "      <th>number_of_runs</th>\n",
       "      <th>month</th>\n",
       "      <th>year</th>\n",
       "      <th>week</th>\n",
       "      <th>weekday</th>\n",
       "      <th>quarter</th>\n",
       "      <th>time_exercise</th>\n",
       "      <th>date_exercise</th>\n",
       "      <th>day_of_week</th>\n",
       "    </tr>\n",
       "  </thead>\n",
       "  <tbody>\n",
       "    <tr>\n",
       "      <th>0</th>\n",
       "      <td>Running</td>\n",
       "      <td>2020-03-15 18:36:50</td>\n",
       "      <td>Sydney Running</td>\n",
       "      <td>2.38</td>\n",
       "      <td>317.0</td>\n",
       "      <td>00:19:31</td>\n",
       "      <td>155</td>\n",
       "      <td>182</td>\n",
       "      <td>3.4</td>\n",
       "      <td>166.0</td>\n",
       "      <td>183.0</td>\n",
       "      <td>8:13</td>\n",
       "      <td>6:48</td>\n",
       "      <td>141</td>\n",
       "      <td>174</td>\n",
       "      <td>1.18</td>\n",
       "      <td>0:00</td>\n",
       "      <td>68.0</td>\n",
       "      <td>3.0</td>\n",
       "      <td>3</td>\n",
       "      <td>2020</td>\n",
       "      <td>11</td>\n",
       "      <td>6</td>\n",
       "      <td>1</td>\n",
       "      <td>18:36:50</td>\n",
       "      <td>2020-03-15</td>\n",
       "      <td>Sunday</td>\n",
       "    </tr>\n",
       "    <tr>\n",
       "      <th>1</th>\n",
       "      <td>Running</td>\n",
       "      <td>2020-03-11 18:26:18</td>\n",
       "      <td>Sydney Running</td>\n",
       "      <td>4.09</td>\n",
       "      <td>550.0</td>\n",
       "      <td>00:33:29</td>\n",
       "      <td>158</td>\n",
       "      <td>171</td>\n",
       "      <td>4.0</td>\n",
       "      <td>166.0</td>\n",
       "      <td>181.0</td>\n",
       "      <td>8:11</td>\n",
       "      <td>6:48</td>\n",
       "      <td>226</td>\n",
       "      <td>256</td>\n",
       "      <td>1.18</td>\n",
       "      <td>0:00</td>\n",
       "      <td>71.6</td>\n",
       "      <td>5.0</td>\n",
       "      <td>3</td>\n",
       "      <td>2020</td>\n",
       "      <td>11</td>\n",
       "      <td>2</td>\n",
       "      <td>1</td>\n",
       "      <td>18:26:18</td>\n",
       "      <td>2020-03-11</td>\n",
       "      <td>Wednesday</td>\n",
       "    </tr>\n",
       "    <tr>\n",
       "      <th>2</th>\n",
       "      <td>Running</td>\n",
       "      <td>2020-03-08 17:48:07</td>\n",
       "      <td>Sydney Running</td>\n",
       "      <td>2.82</td>\n",
       "      <td>336.0</td>\n",
       "      <td>00:21:16</td>\n",
       "      <td>150</td>\n",
       "      <td>168</td>\n",
       "      <td>3.3</td>\n",
       "      <td>167.0</td>\n",
       "      <td>195.0</td>\n",
       "      <td>7:32</td>\n",
       "      <td>5:44</td>\n",
       "      <td>128</td>\n",
       "      <td>190</td>\n",
       "      <td>1.28</td>\n",
       "      <td>0:00</td>\n",
       "      <td>71.6</td>\n",
       "      <td>3.0</td>\n",
       "      <td>3</td>\n",
       "      <td>2020</td>\n",
       "      <td>10</td>\n",
       "      <td>6</td>\n",
       "      <td>1</td>\n",
       "      <td>17:48:07</td>\n",
       "      <td>2020-03-08</td>\n",
       "      <td>Sunday</td>\n",
       "    </tr>\n",
       "    <tr>\n",
       "      <th>3</th>\n",
       "      <td>Running</td>\n",
       "      <td>2020-03-04 18:41:53</td>\n",
       "      <td>Sydney Running</td>\n",
       "      <td>1.00</td>\n",
       "      <td>117.0</td>\n",
       "      <td>00:08:24.7</td>\n",
       "      <td>136</td>\n",
       "      <td>148</td>\n",
       "      <td>2.0</td>\n",
       "      <td>160.0</td>\n",
       "      <td>175.0</td>\n",
       "      <td>8:24</td>\n",
       "      <td>7:37</td>\n",
       "      <td>39</td>\n",
       "      <td>62</td>\n",
       "      <td>1.19</td>\n",
       "      <td>0:00</td>\n",
       "      <td>77.0</td>\n",
       "      <td>2.0</td>\n",
       "      <td>3</td>\n",
       "      <td>2020</td>\n",
       "      <td>10</td>\n",
       "      <td>2</td>\n",
       "      <td>1</td>\n",
       "      <td>18:41:53</td>\n",
       "      <td>2020-03-04</td>\n",
       "      <td>Wednesday</td>\n",
       "    </tr>\n",
       "    <tr>\n",
       "      <th>4</th>\n",
       "      <td>Running</td>\n",
       "      <td>2020-02-29 15:55:38</td>\n",
       "      <td>Sydney Running</td>\n",
       "      <td>2.80</td>\n",
       "      <td>347.0</td>\n",
       "      <td>00:22:17</td>\n",
       "      <td>150</td>\n",
       "      <td>170</td>\n",
       "      <td>3.4</td>\n",
       "      <td>166.0</td>\n",
       "      <td>213.0</td>\n",
       "      <td>7:58</td>\n",
       "      <td>6:38</td>\n",
       "      <td>135</td>\n",
       "      <td>187</td>\n",
       "      <td>1.22</td>\n",
       "      <td>0:00</td>\n",
       "      <td>80.6</td>\n",
       "      <td>3.0</td>\n",
       "      <td>2</td>\n",
       "      <td>2020</td>\n",
       "      <td>9</td>\n",
       "      <td>5</td>\n",
       "      <td>1</td>\n",
       "      <td>15:55:38</td>\n",
       "      <td>2020-02-29</td>\n",
       "      <td>Saturday</td>\n",
       "    </tr>\n",
       "  </tbody>\n",
       "</table>\n",
       "</div>"
      ],
      "text/plain": [
       "  activity_type                date           title  distance  calories  \\\n",
       "0       Running 2020-03-15 18:36:50  Sydney Running      2.38     317.0   \n",
       "1       Running 2020-03-11 18:26:18  Sydney Running      4.09     550.0   \n",
       "2       Running 2020-03-08 17:48:07  Sydney Running      2.82     336.0   \n",
       "3       Running 2020-03-04 18:41:53  Sydney Running      1.00     117.0   \n",
       "4       Running 2020-02-29 15:55:38  Sydney Running      2.80     347.0   \n",
       "\n",
       "         time  avg_hr  max_hr  aerobic_te  avg_run_cadence  max_run_cadence  \\\n",
       "0    00:19:31     155     182         3.4            166.0            183.0   \n",
       "1    00:33:29     158     171         4.0            166.0            181.0   \n",
       "2    00:21:16     150     168         3.3            167.0            195.0   \n",
       "3  00:08:24.7     136     148         2.0            160.0            175.0   \n",
       "4    00:22:17     150     170         3.4            166.0            213.0   \n",
       "\n",
       "  avg_pace best_pace elev_gain elev_loss  avg_stride_length climb_time  \\\n",
       "0     8:13      6:48       141       174               1.18       0:00   \n",
       "1     8:11      6:48       226       256               1.18       0:00   \n",
       "2     7:32      5:44       128       190               1.28       0:00   \n",
       "3     8:24      7:37        39        62               1.19       0:00   \n",
       "4     7:58      6:38       135       187               1.22       0:00   \n",
       "\n",
       "   min_temp  number_of_runs  month  year  week  weekday  quarter  \\\n",
       "0      68.0             3.0      3  2020    11        6        1   \n",
       "1      71.6             5.0      3  2020    11        2        1   \n",
       "2      71.6             3.0      3  2020    10        6        1   \n",
       "3      77.0             2.0      3  2020    10        2        1   \n",
       "4      80.6             3.0      2  2020     9        5        1   \n",
       "\n",
       "  time_exercise date_exercise day_of_week  \n",
       "0      18:36:50    2020-03-15      Sunday  \n",
       "1      18:26:18    2020-03-11   Wednesday  \n",
       "2      17:48:07    2020-03-08      Sunday  \n",
       "3      18:41:53    2020-03-04   Wednesday  \n",
       "4      15:55:38    2020-02-29    Saturday  "
      ]
     },
     "execution_count": 24,
     "metadata": {},
     "output_type": "execute_result"
    }
   ],
   "source": [
    "df.head()"
   ]
  },
  {
   "cell_type": "code",
   "execution_count": 25,
   "metadata": {},
   "outputs": [],
   "source": [
    "time_of_day = []\n",
    "\n",
    "for i in df['time_exercise']:\n",
    "    if i > datetime.time(5, 59, 59) and i < datetime.time(12, 0, 0):\n",
    "        time_of_day.append('morning')\n",
    "    elif i > datetime.time(11, 59, 59) and i < datetime.time(18, 0, 0):\n",
    "        time_of_day.append('afternoon')\n",
    "    else:\n",
    "        time_of_day.append('night')"
   ]
  },
  {
   "cell_type": "code",
   "execution_count": 26,
   "metadata": {},
   "outputs": [
    {
     "data": {
      "text/plain": [
       "['morning', 'night', 'afternoon', 'night', 'afternoon']"
      ]
     },
     "execution_count": 26,
     "metadata": {},
     "output_type": "execute_result"
    }
   ],
   "source": [
    "time_of_day[-5:]"
   ]
  },
  {
   "cell_type": "code",
   "execution_count": 27,
   "metadata": {},
   "outputs": [],
   "source": [
    "df['time_day'] = time_of_day"
   ]
  },
  {
   "cell_type": "code",
   "execution_count": 28,
   "metadata": {},
   "outputs": [
    {
     "data": {
      "text/plain": [
       "['weekend', 'week_day', 'weekend', 'week_day', 'weekend']"
      ]
     },
     "execution_count": 28,
     "metadata": {},
     "output_type": "execute_result"
    }
   ],
   "source": [
    "week_or_end = []\n",
    "\n",
    "for day in df['weekday']:\n",
    "    if day >= 5:\n",
    "        week_or_end.append('weekend')\n",
    "    else:\n",
    "        week_or_end.append('week_day')\n",
    "\n",
    "week_or_end[:5]"
   ]
  },
  {
   "cell_type": "code",
   "execution_count": 29,
   "metadata": {},
   "outputs": [],
   "source": [
    "df['week_or_end'] = week_or_end"
   ]
  },
  {
   "cell_type": "code",
   "execution_count": 30,
   "metadata": {},
   "outputs": [
    {
     "data": {
      "text/html": [
       "<div>\n",
       "<style scoped>\n",
       "    .dataframe tbody tr th:only-of-type {\n",
       "        vertical-align: middle;\n",
       "    }\n",
       "\n",
       "    .dataframe tbody tr th {\n",
       "        vertical-align: top;\n",
       "    }\n",
       "\n",
       "    .dataframe thead th {\n",
       "        text-align: right;\n",
       "    }\n",
       "</style>\n",
       "<table border=\"1\" class=\"dataframe\">\n",
       "  <thead>\n",
       "    <tr style=\"text-align: right;\">\n",
       "      <th></th>\n",
       "      <th>activity_type</th>\n",
       "      <th>date</th>\n",
       "      <th>title</th>\n",
       "      <th>distance</th>\n",
       "      <th>calories</th>\n",
       "      <th>time</th>\n",
       "      <th>avg_hr</th>\n",
       "      <th>max_hr</th>\n",
       "      <th>aerobic_te</th>\n",
       "      <th>avg_run_cadence</th>\n",
       "      <th>max_run_cadence</th>\n",
       "      <th>avg_pace</th>\n",
       "      <th>best_pace</th>\n",
       "      <th>elev_gain</th>\n",
       "      <th>elev_loss</th>\n",
       "      <th>avg_stride_length</th>\n",
       "      <th>climb_time</th>\n",
       "      <th>min_temp</th>\n",
       "      <th>number_of_runs</th>\n",
       "      <th>month</th>\n",
       "      <th>year</th>\n",
       "      <th>week</th>\n",
       "      <th>weekday</th>\n",
       "      <th>quarter</th>\n",
       "      <th>time_exercise</th>\n",
       "      <th>date_exercise</th>\n",
       "      <th>day_of_week</th>\n",
       "      <th>time_day</th>\n",
       "      <th>week_or_end</th>\n",
       "    </tr>\n",
       "  </thead>\n",
       "  <tbody>\n",
       "    <tr>\n",
       "      <th>0</th>\n",
       "      <td>Running</td>\n",
       "      <td>2020-03-15 18:36:50</td>\n",
       "      <td>Sydney Running</td>\n",
       "      <td>2.38</td>\n",
       "      <td>317.0</td>\n",
       "      <td>00:19:31</td>\n",
       "      <td>155</td>\n",
       "      <td>182</td>\n",
       "      <td>3.4</td>\n",
       "      <td>166.0</td>\n",
       "      <td>183.0</td>\n",
       "      <td>8:13</td>\n",
       "      <td>6:48</td>\n",
       "      <td>141</td>\n",
       "      <td>174</td>\n",
       "      <td>1.18</td>\n",
       "      <td>0:00</td>\n",
       "      <td>68.0</td>\n",
       "      <td>3.0</td>\n",
       "      <td>3</td>\n",
       "      <td>2020</td>\n",
       "      <td>11</td>\n",
       "      <td>6</td>\n",
       "      <td>1</td>\n",
       "      <td>18:36:50</td>\n",
       "      <td>2020-03-15</td>\n",
       "      <td>Sunday</td>\n",
       "      <td>night</td>\n",
       "      <td>weekend</td>\n",
       "    </tr>\n",
       "    <tr>\n",
       "      <th>1</th>\n",
       "      <td>Running</td>\n",
       "      <td>2020-03-11 18:26:18</td>\n",
       "      <td>Sydney Running</td>\n",
       "      <td>4.09</td>\n",
       "      <td>550.0</td>\n",
       "      <td>00:33:29</td>\n",
       "      <td>158</td>\n",
       "      <td>171</td>\n",
       "      <td>4.0</td>\n",
       "      <td>166.0</td>\n",
       "      <td>181.0</td>\n",
       "      <td>8:11</td>\n",
       "      <td>6:48</td>\n",
       "      <td>226</td>\n",
       "      <td>256</td>\n",
       "      <td>1.18</td>\n",
       "      <td>0:00</td>\n",
       "      <td>71.6</td>\n",
       "      <td>5.0</td>\n",
       "      <td>3</td>\n",
       "      <td>2020</td>\n",
       "      <td>11</td>\n",
       "      <td>2</td>\n",
       "      <td>1</td>\n",
       "      <td>18:26:18</td>\n",
       "      <td>2020-03-11</td>\n",
       "      <td>Wednesday</td>\n",
       "      <td>night</td>\n",
       "      <td>week_day</td>\n",
       "    </tr>\n",
       "    <tr>\n",
       "      <th>2</th>\n",
       "      <td>Running</td>\n",
       "      <td>2020-03-08 17:48:07</td>\n",
       "      <td>Sydney Running</td>\n",
       "      <td>2.82</td>\n",
       "      <td>336.0</td>\n",
       "      <td>00:21:16</td>\n",
       "      <td>150</td>\n",
       "      <td>168</td>\n",
       "      <td>3.3</td>\n",
       "      <td>167.0</td>\n",
       "      <td>195.0</td>\n",
       "      <td>7:32</td>\n",
       "      <td>5:44</td>\n",
       "      <td>128</td>\n",
       "      <td>190</td>\n",
       "      <td>1.28</td>\n",
       "      <td>0:00</td>\n",
       "      <td>71.6</td>\n",
       "      <td>3.0</td>\n",
       "      <td>3</td>\n",
       "      <td>2020</td>\n",
       "      <td>10</td>\n",
       "      <td>6</td>\n",
       "      <td>1</td>\n",
       "      <td>17:48:07</td>\n",
       "      <td>2020-03-08</td>\n",
       "      <td>Sunday</td>\n",
       "      <td>afternoon</td>\n",
       "      <td>weekend</td>\n",
       "    </tr>\n",
       "    <tr>\n",
       "      <th>3</th>\n",
       "      <td>Running</td>\n",
       "      <td>2020-03-04 18:41:53</td>\n",
       "      <td>Sydney Running</td>\n",
       "      <td>1.00</td>\n",
       "      <td>117.0</td>\n",
       "      <td>00:08:24.7</td>\n",
       "      <td>136</td>\n",
       "      <td>148</td>\n",
       "      <td>2.0</td>\n",
       "      <td>160.0</td>\n",
       "      <td>175.0</td>\n",
       "      <td>8:24</td>\n",
       "      <td>7:37</td>\n",
       "      <td>39</td>\n",
       "      <td>62</td>\n",
       "      <td>1.19</td>\n",
       "      <td>0:00</td>\n",
       "      <td>77.0</td>\n",
       "      <td>2.0</td>\n",
       "      <td>3</td>\n",
       "      <td>2020</td>\n",
       "      <td>10</td>\n",
       "      <td>2</td>\n",
       "      <td>1</td>\n",
       "      <td>18:41:53</td>\n",
       "      <td>2020-03-04</td>\n",
       "      <td>Wednesday</td>\n",
       "      <td>night</td>\n",
       "      <td>week_day</td>\n",
       "    </tr>\n",
       "    <tr>\n",
       "      <th>4</th>\n",
       "      <td>Running</td>\n",
       "      <td>2020-02-29 15:55:38</td>\n",
       "      <td>Sydney Running</td>\n",
       "      <td>2.80</td>\n",
       "      <td>347.0</td>\n",
       "      <td>00:22:17</td>\n",
       "      <td>150</td>\n",
       "      <td>170</td>\n",
       "      <td>3.4</td>\n",
       "      <td>166.0</td>\n",
       "      <td>213.0</td>\n",
       "      <td>7:58</td>\n",
       "      <td>6:38</td>\n",
       "      <td>135</td>\n",
       "      <td>187</td>\n",
       "      <td>1.22</td>\n",
       "      <td>0:00</td>\n",
       "      <td>80.6</td>\n",
       "      <td>3.0</td>\n",
       "      <td>2</td>\n",
       "      <td>2020</td>\n",
       "      <td>9</td>\n",
       "      <td>5</td>\n",
       "      <td>1</td>\n",
       "      <td>15:55:38</td>\n",
       "      <td>2020-02-29</td>\n",
       "      <td>Saturday</td>\n",
       "      <td>afternoon</td>\n",
       "      <td>weekend</td>\n",
       "    </tr>\n",
       "  </tbody>\n",
       "</table>\n",
       "</div>"
      ],
      "text/plain": [
       "  activity_type                date           title  distance  calories  \\\n",
       "0       Running 2020-03-15 18:36:50  Sydney Running      2.38     317.0   \n",
       "1       Running 2020-03-11 18:26:18  Sydney Running      4.09     550.0   \n",
       "2       Running 2020-03-08 17:48:07  Sydney Running      2.82     336.0   \n",
       "3       Running 2020-03-04 18:41:53  Sydney Running      1.00     117.0   \n",
       "4       Running 2020-02-29 15:55:38  Sydney Running      2.80     347.0   \n",
       "\n",
       "         time  avg_hr  max_hr  aerobic_te  avg_run_cadence  max_run_cadence  \\\n",
       "0    00:19:31     155     182         3.4            166.0            183.0   \n",
       "1    00:33:29     158     171         4.0            166.0            181.0   \n",
       "2    00:21:16     150     168         3.3            167.0            195.0   \n",
       "3  00:08:24.7     136     148         2.0            160.0            175.0   \n",
       "4    00:22:17     150     170         3.4            166.0            213.0   \n",
       "\n",
       "  avg_pace best_pace elev_gain elev_loss  avg_stride_length climb_time  \\\n",
       "0     8:13      6:48       141       174               1.18       0:00   \n",
       "1     8:11      6:48       226       256               1.18       0:00   \n",
       "2     7:32      5:44       128       190               1.28       0:00   \n",
       "3     8:24      7:37        39        62               1.19       0:00   \n",
       "4     7:58      6:38       135       187               1.22       0:00   \n",
       "\n",
       "   min_temp  number_of_runs  month  year  week  weekday  quarter  \\\n",
       "0      68.0             3.0      3  2020    11        6        1   \n",
       "1      71.6             5.0      3  2020    11        2        1   \n",
       "2      71.6             3.0      3  2020    10        6        1   \n",
       "3      77.0             2.0      3  2020    10        2        1   \n",
       "4      80.6             3.0      2  2020     9        5        1   \n",
       "\n",
       "  time_exercise date_exercise day_of_week   time_day week_or_end  \n",
       "0      18:36:50    2020-03-15      Sunday      night     weekend  \n",
       "1      18:26:18    2020-03-11   Wednesday      night    week_day  \n",
       "2      17:48:07    2020-03-08      Sunday  afternoon     weekend  \n",
       "3      18:41:53    2020-03-04   Wednesday      night    week_day  \n",
       "4      15:55:38    2020-02-29    Saturday  afternoon     weekend  "
      ]
     },
     "execution_count": 30,
     "metadata": {},
     "output_type": "execute_result"
    }
   ],
   "source": [
    "df.head()"
   ]
  },
  {
   "cell_type": "markdown",
   "metadata": {},
   "source": [
    "### 6. Analysing and Visualising Data"
   ]
  },
  {
   "cell_type": "markdown",
   "metadata": {},
   "source": [
    "#### 6.1 Descriptive Statistics"
   ]
  },
  {
   "cell_type": "code",
   "execution_count": 31,
   "metadata": {},
   "outputs": [
    {
     "data": {
      "text/plain": [
       "distance                1.549229\n",
       "calories              181.710817\n",
       "avg_hr                126.618943\n",
       "max_hr                146.788546\n",
       "aerobic_te              1.831567\n",
       "avg_run_cadence       149.557491\n",
       "max_run_cadence       177.731707\n",
       "avg_stride_length       0.696938\n",
       "min_temp               78.240969\n",
       "number_of_runs          1.761693\n",
       "month                   6.539648\n",
       "year                 2018.497797\n",
       "week                   26.803965\n",
       "weekday                 2.960352\n",
       "quarter                 2.515419\n",
       "dtype: float64"
      ]
     },
     "execution_count": 31,
     "metadata": {},
     "output_type": "execute_result"
    }
   ],
   "source": [
    "df.mean()"
   ]
  },
  {
   "cell_type": "code",
   "execution_count": 32,
   "metadata": {},
   "outputs": [
    {
     "data": {
      "text/html": [
       "<div>\n",
       "<style scoped>\n",
       "    .dataframe tbody tr th:only-of-type {\n",
       "        vertical-align: middle;\n",
       "    }\n",
       "\n",
       "    .dataframe tbody tr th {\n",
       "        vertical-align: top;\n",
       "    }\n",
       "\n",
       "    .dataframe thead th {\n",
       "        text-align: right;\n",
       "    }\n",
       "</style>\n",
       "<table border=\"1\" class=\"dataframe\">\n",
       "  <thead>\n",
       "    <tr style=\"text-align: right;\">\n",
       "      <th></th>\n",
       "      <th>year</th>\n",
       "      <th>2017</th>\n",
       "      <th>2018</th>\n",
       "      <th>2019</th>\n",
       "      <th>2020</th>\n",
       "    </tr>\n",
       "    <tr>\n",
       "      <th>week_or_end</th>\n",
       "      <th>time_day</th>\n",
       "      <th></th>\n",
       "      <th></th>\n",
       "      <th></th>\n",
       "      <th></th>\n",
       "    </tr>\n",
       "  </thead>\n",
       "  <tbody>\n",
       "    <tr>\n",
       "      <th rowspan=\"3\" valign=\"top\">week_day</th>\n",
       "      <th>afternoon</th>\n",
       "      <td>235.00</td>\n",
       "      <td>210.411215</td>\n",
       "      <td>115.936170</td>\n",
       "      <td>65.0</td>\n",
       "    </tr>\n",
       "    <tr>\n",
       "      <th>morning</th>\n",
       "      <td>362.00</td>\n",
       "      <td>119.058824</td>\n",
       "      <td>83.869565</td>\n",
       "      <td>124.0</td>\n",
       "    </tr>\n",
       "    <tr>\n",
       "      <th>night</th>\n",
       "      <td>273.75</td>\n",
       "      <td>251.531915</td>\n",
       "      <td>139.838710</td>\n",
       "      <td>336.9</td>\n",
       "    </tr>\n",
       "    <tr>\n",
       "      <th rowspan=\"3\" valign=\"top\">weekend</th>\n",
       "      <th>afternoon</th>\n",
       "      <td>265.50</td>\n",
       "      <td>214.717949</td>\n",
       "      <td>186.192308</td>\n",
       "      <td>331.4</td>\n",
       "    </tr>\n",
       "    <tr>\n",
       "      <th>morning</th>\n",
       "      <td>NaN</td>\n",
       "      <td>28.000000</td>\n",
       "      <td>116.777778</td>\n",
       "      <td>NaN</td>\n",
       "    </tr>\n",
       "    <tr>\n",
       "      <th>night</th>\n",
       "      <td>NaN</td>\n",
       "      <td>184.538462</td>\n",
       "      <td>132.966667</td>\n",
       "      <td>298.0</td>\n",
       "    </tr>\n",
       "  </tbody>\n",
       "</table>\n",
       "</div>"
      ],
      "text/plain": [
       "year                     2017        2018        2019   2020\n",
       "week_or_end time_day                                        \n",
       "week_day    afternoon  235.00  210.411215  115.936170   65.0\n",
       "            morning    362.00  119.058824   83.869565  124.0\n",
       "            night      273.75  251.531915  139.838710  336.9\n",
       "weekend     afternoon  265.50  214.717949  186.192308  331.4\n",
       "            morning       NaN   28.000000  116.777778    NaN\n",
       "            night         NaN  184.538462  132.966667  298.0"
      ]
     },
     "execution_count": 32,
     "metadata": {},
     "output_type": "execute_result"
    }
   ],
   "source": [
    "df.pivot_table(\n",
    "    index=['week_or_end', 'time_day'],\n",
    "    columns='year',\n",
    "    values='calories',\n",
    ")"
   ]
  },
  {
   "cell_type": "code",
   "execution_count": 33,
   "metadata": {},
   "outputs": [
    {
     "data": {
      "text/html": [
       "<div>\n",
       "<style scoped>\n",
       "    .dataframe tbody tr th:only-of-type {\n",
       "        vertical-align: middle;\n",
       "    }\n",
       "\n",
       "    .dataframe tbody tr th {\n",
       "        vertical-align: top;\n",
       "    }\n",
       "\n",
       "    .dataframe thead tr th {\n",
       "        text-align: left;\n",
       "    }\n",
       "\n",
       "    .dataframe thead tr:last-of-type th {\n",
       "        text-align: right;\n",
       "    }\n",
       "</style>\n",
       "<table border=\"1\" class=\"dataframe\">\n",
       "  <thead>\n",
       "    <tr>\n",
       "      <th></th>\n",
       "      <th></th>\n",
       "      <th colspan=\"4\" halign=\"left\">mean</th>\n",
       "      <th colspan=\"4\" halign=\"left\">median</th>\n",
       "    </tr>\n",
       "    <tr>\n",
       "      <th></th>\n",
       "      <th>year</th>\n",
       "      <th>2017</th>\n",
       "      <th>2018</th>\n",
       "      <th>2019</th>\n",
       "      <th>2020</th>\n",
       "      <th>2017</th>\n",
       "      <th>2018</th>\n",
       "      <th>2019</th>\n",
       "      <th>2020</th>\n",
       "    </tr>\n",
       "    <tr>\n",
       "      <th>week_or_end</th>\n",
       "      <th>time_day</th>\n",
       "      <th></th>\n",
       "      <th></th>\n",
       "      <th></th>\n",
       "      <th></th>\n",
       "      <th></th>\n",
       "      <th></th>\n",
       "      <th></th>\n",
       "      <th></th>\n",
       "    </tr>\n",
       "  </thead>\n",
       "  <tbody>\n",
       "    <tr>\n",
       "      <th rowspan=\"3\" valign=\"top\">week_day</th>\n",
       "      <th>afternoon</th>\n",
       "      <td>235.00</td>\n",
       "      <td>210.411215</td>\n",
       "      <td>115.936170</td>\n",
       "      <td>65.0</td>\n",
       "      <td>128.5</td>\n",
       "      <td>135.0</td>\n",
       "      <td>74.0</td>\n",
       "      <td>65.0</td>\n",
       "    </tr>\n",
       "    <tr>\n",
       "      <th>morning</th>\n",
       "      <td>362.00</td>\n",
       "      <td>119.058824</td>\n",
       "      <td>83.869565</td>\n",
       "      <td>124.0</td>\n",
       "      <td>362.0</td>\n",
       "      <td>80.0</td>\n",
       "      <td>78.0</td>\n",
       "      <td>124.0</td>\n",
       "    </tr>\n",
       "    <tr>\n",
       "      <th>night</th>\n",
       "      <td>273.75</td>\n",
       "      <td>251.531915</td>\n",
       "      <td>139.838710</td>\n",
       "      <td>336.9</td>\n",
       "      <td>231.0</td>\n",
       "      <td>247.0</td>\n",
       "      <td>91.0</td>\n",
       "      <td>412.5</td>\n",
       "    </tr>\n",
       "    <tr>\n",
       "      <th rowspan=\"3\" valign=\"top\">weekend</th>\n",
       "      <th>afternoon</th>\n",
       "      <td>265.50</td>\n",
       "      <td>214.717949</td>\n",
       "      <td>186.192308</td>\n",
       "      <td>331.4</td>\n",
       "      <td>265.5</td>\n",
       "      <td>126.0</td>\n",
       "      <td>127.5</td>\n",
       "      <td>336.0</td>\n",
       "    </tr>\n",
       "    <tr>\n",
       "      <th>morning</th>\n",
       "      <td>NaN</td>\n",
       "      <td>28.000000</td>\n",
       "      <td>116.777778</td>\n",
       "      <td>NaN</td>\n",
       "      <td>NaN</td>\n",
       "      <td>28.0</td>\n",
       "      <td>79.0</td>\n",
       "      <td>NaN</td>\n",
       "    </tr>\n",
       "    <tr>\n",
       "      <th>night</th>\n",
       "      <td>NaN</td>\n",
       "      <td>184.538462</td>\n",
       "      <td>132.966667</td>\n",
       "      <td>298.0</td>\n",
       "      <td>NaN</td>\n",
       "      <td>143.0</td>\n",
       "      <td>109.5</td>\n",
       "      <td>298.0</td>\n",
       "    </tr>\n",
       "  </tbody>\n",
       "</table>\n",
       "</div>"
      ],
      "text/plain": [
       "                         mean                                median         \\\n",
       "year                     2017        2018        2019   2020   2017   2018   \n",
       "week_or_end time_day                                                         \n",
       "week_day    afternoon  235.00  210.411215  115.936170   65.0  128.5  135.0   \n",
       "            morning    362.00  119.058824   83.869565  124.0  362.0   80.0   \n",
       "            night      273.75  251.531915  139.838710  336.9  231.0  247.0   \n",
       "weekend     afternoon  265.50  214.717949  186.192308  331.4  265.5  126.0   \n",
       "            morning       NaN   28.000000  116.777778    NaN    NaN   28.0   \n",
       "            night         NaN  184.538462  132.966667  298.0    NaN  143.0   \n",
       "\n",
       "                                     \n",
       "year                    2019   2020  \n",
       "week_or_end time_day                 \n",
       "week_day    afternoon   74.0   65.0  \n",
       "            morning     78.0  124.0  \n",
       "            night       91.0  412.5  \n",
       "weekend     afternoon  127.5  336.0  \n",
       "            morning     79.0    NaN  \n",
       "            night      109.5  298.0  "
      ]
     },
     "execution_count": 33,
     "metadata": {},
     "output_type": "execute_result"
    }
   ],
   "source": [
    "df.pivot_table(\n",
    "    index=['week_or_end', 'time_day'],\n",
    "    columns='year',\n",
    "    values='calories',\n",
    "    aggfunc=['mean', 'median']\n",
    ")"
   ]
  },
  {
   "cell_type": "code",
   "execution_count": 34,
   "metadata": {},
   "outputs": [],
   "source": [
    "time_day_group = df.groupby(['time_day'])"
   ]
  },
  {
   "cell_type": "code",
   "execution_count": 35,
   "metadata": {},
   "outputs": [
    {
     "data": {
      "text/plain": [
       "time_day   activity_type    \n",
       "afternoon  Treadmill Running    100\n",
       "           Running               70\n",
       "           Cycling               61\n",
       "morning    Cycling               32\n",
       "           Running               11\n",
       "           Treadmill Running      8\n",
       "           Elliptical             3\n",
       "night      Cycling               70\n",
       "           Treadmill Running     44\n",
       "           Running               43\n",
       "           Elliptical             9\n",
       "           Indoor Cycling         2\n",
       "           Strength Training      1\n",
       "Name: activity_type, dtype: int64"
      ]
     },
     "execution_count": 35,
     "metadata": {},
     "output_type": "execute_result"
    }
   ],
   "source": [
    "time_day_group['activity_type'].value_counts()"
   ]
  },
  {
   "cell_type": "code",
   "execution_count": 36,
   "metadata": {},
   "outputs": [
    {
     "data": {
      "text/plain": [
       "time_day\n",
       "afternoon    52\n",
       "morning      51\n",
       "night        52\n",
       "Name: week, dtype: int64"
      ]
     },
     "execution_count": 36,
     "metadata": {},
     "output_type": "execute_result"
    }
   ],
   "source": [
    "time_day_group['week'].max()"
   ]
  },
  {
   "cell_type": "code",
   "execution_count": 37,
   "metadata": {},
   "outputs": [
    {
     "data": {
      "text/plain": [
       "activity_type\n",
       "Cycling              0.414201\n",
       "Treadmill Running    0.260355\n",
       "Running              0.254438\n",
       "Elliptical           0.053254\n",
       "Indoor Cycling       0.011834\n",
       "Strength Training    0.005917\n",
       "Name: activity_type, dtype: float64"
      ]
     },
     "execution_count": 37,
     "metadata": {},
     "output_type": "execute_result"
    }
   ],
   "source": [
    "time_day_group['activity_type'].value_counts(normalize=True)['night']"
   ]
  },
  {
   "cell_type": "code",
   "execution_count": 38,
   "metadata": {},
   "outputs": [
    {
     "data": {
      "text/plain": [
       "time_day\n",
       "afternoon    127.0\n",
       "morning       79.5\n",
       "night        132.0\n",
       "Name: calories, dtype: float64"
      ]
     },
     "execution_count": 38,
     "metadata": {},
     "output_type": "execute_result"
    }
   ],
   "source": [
    "time_day_group['calories'].median()"
   ]
  },
  {
   "cell_type": "code",
   "execution_count": 39,
   "metadata": {},
   "outputs": [
    {
     "data": {
      "text/html": [
       "<div>\n",
       "<style scoped>\n",
       "    .dataframe tbody tr th:only-of-type {\n",
       "        vertical-align: middle;\n",
       "    }\n",
       "\n",
       "    .dataframe tbody tr th {\n",
       "        vertical-align: top;\n",
       "    }\n",
       "\n",
       "    .dataframe thead th {\n",
       "        text-align: right;\n",
       "    }\n",
       "</style>\n",
       "<table border=\"1\" class=\"dataframe\">\n",
       "  <thead>\n",
       "    <tr style=\"text-align: right;\">\n",
       "      <th></th>\n",
       "      <th>median</th>\n",
       "      <th>mean</th>\n",
       "      <th>count</th>\n",
       "    </tr>\n",
       "    <tr>\n",
       "      <th>time_day</th>\n",
       "      <th></th>\n",
       "      <th></th>\n",
       "      <th></th>\n",
       "    </tr>\n",
       "  </thead>\n",
       "  <tbody>\n",
       "    <tr>\n",
       "      <th>afternoon</th>\n",
       "      <td>127.0</td>\n",
       "      <td>192.082251</td>\n",
       "      <td>231</td>\n",
       "    </tr>\n",
       "    <tr>\n",
       "      <th>morning</th>\n",
       "      <td>79.5</td>\n",
       "      <td>111.185185</td>\n",
       "      <td>54</td>\n",
       "    </tr>\n",
       "    <tr>\n",
       "      <th>night</th>\n",
       "      <td>132.0</td>\n",
       "      <td>190.119048</td>\n",
       "      <td>168</td>\n",
       "    </tr>\n",
       "  </tbody>\n",
       "</table>\n",
       "</div>"
      ],
      "text/plain": [
       "           median        mean  count\n",
       "time_day                            \n",
       "afternoon   127.0  192.082251    231\n",
       "morning      79.5  111.185185     54\n",
       "night       132.0  190.119048    168"
      ]
     },
     "execution_count": 39,
     "metadata": {},
     "output_type": "execute_result"
    }
   ],
   "source": [
    "time_day_group['calories'].agg(['median', 'mean', 'count'])"
   ]
  },
  {
   "cell_type": "code",
   "execution_count": 40,
   "metadata": {},
   "outputs": [
    {
     "data": {
      "text/plain": [
       "0      False\n",
       "1      False\n",
       "2      False\n",
       "3      False\n",
       "4      False\n",
       "       ...  \n",
       "449    False\n",
       "450    False\n",
       "451    False\n",
       "452    False\n",
       "453    False\n",
       "Name: calories, Length: 454, dtype: bool"
      ]
     },
     "execution_count": 40,
     "metadata": {},
     "output_type": "execute_result"
    }
   ],
   "source": [
    "mask = (df['calories'] == max(df['calories']))\n",
    "mask"
   ]
  },
  {
   "cell_type": "code",
   "execution_count": 41,
   "metadata": {},
   "outputs": [
    {
     "data": {
      "text/plain": [
       "datetime.date(2020, 4, 13)"
      ]
     },
     "execution_count": 41,
     "metadata": {},
     "output_type": "execute_result"
    }
   ],
   "source": [
    "today = datetime.date.today()\n",
    "today"
   ]
  },
  {
   "cell_type": "code",
   "execution_count": 42,
   "metadata": {},
   "outputs": [
    {
     "data": {
      "text/plain": [
       "274   599 days\n",
       "Name: date_exercise, dtype: timedelta64[ns]"
      ]
     },
     "execution_count": 42,
     "metadata": {},
     "output_type": "execute_result"
    }
   ],
   "source": [
    "difference = today - df[mask]['date_exercise']\n",
    "difference"
   ]
  },
  {
   "cell_type": "code",
   "execution_count": 43,
   "metadata": {},
   "outputs": [
    {
     "data": {
      "text/plain": [
       "599.0"
      ]
     },
     "execution_count": 43,
     "metadata": {},
     "output_type": "execute_result"
    }
   ],
   "source": [
    "((difference.iloc[0].total_seconds() / 60) / 60) / 24"
   ]
  },
  {
   "cell_type": "markdown",
   "metadata": {},
   "source": [
    "### 6.2 Data Visualisation"
   ]
  },
  {
   "cell_type": "code",
   "execution_count": 44,
   "metadata": {},
   "outputs": [
    {
     "data": {
      "text/plain": [
       "time_day\n",
       "afternoon    AxesSubplot(0.125,0.125;0.775x0.755)\n",
       "morning      AxesSubplot(0.125,0.125;0.775x0.755)\n",
       "night        AxesSubplot(0.125,0.125;0.775x0.755)\n",
       "Name: distance, dtype: object"
      ]
     },
     "execution_count": 44,
     "metadata": {},
     "output_type": "execute_result"
    },
    {
     "data": {
      "image/png": "[encoded data removed]",
      "text/plain": [
       "<Figure size 432x288 with 1 Axes>"
      ]
     },
     "metadata": {
      "needs_background": "light"
     },
     "output_type": "display_data"
    }
   ],
   "source": [
    "time_day_group['distance'].plot(kind='hist', title=\"Histogram of Distance\",\n",
    "                                bins=25, alpha=0.7, legend=True)"
   ]
  },
  {
   "cell_type": "code",
   "execution_count": 45,
   "metadata": {},
   "outputs": [
    {
     "data": {
      "text/plain": [
       "<matplotlib.axes._subplots.AxesSubplot at 0x1a23a9d610>"
      ]
     },
     "execution_count": 45,
     "metadata": {},
     "output_type": "execute_result"
    },
    {
     "data": {
      "image/png": "[encoded data removed]",
      "text/plain": [
       "<Figure size 432x288 with 1 Axes>"
      ]
     },
     "metadata": {
      "needs_background": "light"
     },
     "output_type": "display_data"
    }
   ],
   "source": [
    "df.loc[df['year'] == 2018, 'distance'].plot.box()"
   ]
  },
  {
   "cell_type": "code",
   "execution_count": 46,
   "metadata": {},
   "outputs": [
    {
     "data": {
      "text/plain": [
       "<matplotlib.axes._subplots.AxesSubplot at 0x1a23af6350>"
      ]
     },
     "execution_count": 46,
     "metadata": {},
     "output_type": "execute_result"
    },
    {
     "data": {
      "image/png": "[encoded data removed]",
      "text/plain": [
       "<Figure size 432x288 with 2 Axes>"
      ]
     },
     "metadata": {
      "needs_background": "light"
     },
     "output_type": "display_data"
    }
   ],
   "source": [
    "df[['distance', 'calories']].plot.hexbin(x='calories', y='distance', gridsize=25)"
   ]
  },
  {
   "cell_type": "code",
   "execution_count": 47,
   "metadata": {},
   "outputs": [
    {
     "data": {
      "text/plain": [
       "<matplotlib.axes._subplots.AxesSubplot at 0x1a236c3210>"
      ]
     },
     "execution_count": 47,
     "metadata": {},
     "output_type": "execute_result"
    },
    {
     "data": {
      "image/png": "[encoded data removed]",
      "text/plain": [
       "<Figure size 432x288 with 1 Axes>"
      ]
     },
     "metadata": {
      "needs_background": "light"
     },
     "output_type": "display_data"
    }
   ],
   "source": [
    "sns.distplot(df['distance'], bins=40, kde=True)"
   ]
  },
  {
   "cell_type": "code",
   "execution_count": 48,
   "metadata": {},
   "outputs": [
    {
     "data": {
      "text/plain": [
       "<matplotlib.axes._subplots.AxesSubplot at 0x1a24e1b0d0>"
      ]
     },
     "execution_count": 48,
     "metadata": {},
     "output_type": "execute_result"
    },
    {
     "data": {
      "image/png": "[encoded data removed]",
      "text/plain": [
       "<Figure size 432x288 with 1 Axes>"
      ]
     },
     "metadata": {
      "needs_background": "light"
     },
     "output_type": "display_data"
    }
   ],
   "source": [
    "sns.distplot(df['avg_hr'], bins=30, kde=False)"
   ]
  },
  {
   "cell_type": "code",
   "execution_count": 49,
   "metadata": {},
   "outputs": [
    {
     "data": {
      "text/plain": [
       "<seaborn.axisgrid.JointGrid at 0x1a24ccaed0>"
      ]
     },
     "execution_count": 49,
     "metadata": {},
     "output_type": "execute_result"
    },
    {
     "data": {
      "image/png": "[encoded data removed]",
      "text/plain": [
       "<Figure size 432x432 with 3 Axes>"
      ]
     },
     "metadata": {
      "needs_background": "light"
     },
     "output_type": "display_data"
    }
   ],
   "source": [
    "sns.jointplot(x='distance', y='calories', data=df)"
   ]
  },
  {
   "cell_type": "code",
   "execution_count": 50,
   "metadata": {},
   "outputs": [
    {
     "data": {
      "image/png": "[encoded data removed]",
      "text/plain": [
       "<Figure size 432x432 with 3 Axes>"
      ]
     },
     "metadata": {
      "needs_background": "light"
     },
     "output_type": "display_data"
    }
   ],
   "source": [
    "sns.jointplot(x='distance', y='calories', data=df, kind='hex');"
   ]
  },
  {
   "cell_type": "code",
   "execution_count": 51,
   "metadata": {},
   "outputs": [
    {
     "data": {
      "text/plain": [
       "<seaborn.axisgrid.JointGrid at 0x1a25482b50>"
      ]
     },
     "execution_count": 51,
     "metadata": {},
     "output_type": "execute_result"
    },
    {
     "data": {
      "image/png": "[encoded data removed]",
      "text/plain": [
       "<Figure size 432x432 with 3 Axes>"
      ]
     },
     "metadata": {
      "needs_background": "light"
     },
     "output_type": "display_data"
    }
   ],
   "source": [
    "sns.jointplot(x='distance', y='calories', data=df, kind='reg')"
   ]
  },
  {
   "cell_type": "code",
   "execution_count": 52,
   "metadata": {},
   "outputs": [
    {
     "data": {
      "text/plain": [
       "<seaborn.axisgrid.PairGrid at 0x1a2570dd90>"
      ]
     },
     "execution_count": 52,
     "metadata": {},
     "output_type": "execute_result"
    },
    {
     "data": {
      "image/png": "[encoded data removed]",
      "text/plain": [
       "<Figure size 720x720 with 20 Axes>"
      ]
     },
     "metadata": {
      "needs_background": "light"
     },
     "output_type": "display_data"
    }
   ],
   "source": [
    "sns.pairplot(df[['distance', 'calories', 'avg_hr', 'max_hr']])"
   ]
  },
  {
   "cell_type": "code",
   "execution_count": 53,
   "metadata": {},
   "outputs": [
    {
     "data": {
      "text/html": [
       "\n",
       "<div id=\"altair-viz-18c01ab7ca84450b84065a9aeaacb97b\"></div>\n",
       "<script type=\"text/javascript\">\n",
       "  (function(spec, embedOpt){\n",
       "    const outputDiv = document.getElementById(\"altair-viz-18c01ab7ca84450b84065a9aeaacb97b\");\n",
       "    const paths = {\n",
       "      \"vega\": \"https://cdn.jsdelivr.net/npm//vega@5?noext\",\n",
       "      \"vega-lib\": \"https://cdn.jsdelivr.net/npm//vega-lib?noext\",\n",
       "      \"vega-lite\": \"https://cdn.jsdelivr.net/npm//vega-lite@4.0.2?noext\",\n",
       "      \"vega-embed\": \"https://cdn.jsdelivr.net/npm//vega-embed@6?noext\",\n",
       "    };\n",
       "\n",
       "    function loadScript(lib) {\n",
       "      return new Promise(function(resolve, reject) {\n",
       "        var s = document.createElement('script');\n",
       "        s.src = paths[lib];\n",
       "        s.async = true;\n",
       "        s.onload = () => resolve(paths[lib]);\n",
       "        s.onerror = () => reject(`Error loading script: ${paths[lib]}`);\n",
       "        document.getElementsByTagName(\"head\")[0].appendChild(s);\n",
       "      });\n",
       "    }\n",
       "\n",
       "    function showError(err) {\n",
       "      outputDiv.innerHTML = `<div class=\"error\" style=\"color:red;\">${err}</div>`;\n",
       "      throw err;\n",
       "    }\n",
       "\n",
       "    function displayChart(vegaEmbed) {\n",
       "      vegaEmbed(outputDiv, spec, embedOpt)\n",
       "        .catch(err => showError(`Javascript Error: ${err.message}<br>This usually means there's a typo in your chart specification. See the javascript console for the full traceback.`));\n",
       "    }\n",
       "\n",
       "    if(typeof define === \"function\" && define.amd) {\n",
       "      requirejs.config({paths});\n",
       "      require([\"vega-embed\"], displayChart, err => showError(`Error loading script: ${err.message}`));\n",
       "    } else if (typeof vegaEmbed === \"function\") {\n",
       "      displayChart(vegaEmbed);\n",
       "    } else {\n",
       "      loadScript(\"vega\")\n",
       "        .then(() => loadScript(\"vega-lite\"))\n",
       "        .then(() => loadScript(\"vega-embed\"))\n",
       "        .catch(showError)\n",
       "        .then(() => displayChart(vegaEmbed));\n",
       "    }\n",
       "  })({\"config\": {\"view\": {\"continuousWidth\": 400, \"continuousHeight\": 300}}, \"data\": {\"name\": \"data-8af22dbe3082255aae3d574b50188fa3\"}, \"mark\": {\"type\": \"circle\", \"size\": 60}, \"encoding\": {\"color\": {\"type\": \"nominal\", \"field\": \"title\"}, \"tooltip\": [{\"type\": \"quantitative\", \"field\": \"avg_hr\"}, {\"type\": \"quantitative\", \"field\": \"max_hr\"}, {\"type\": \"quantitative\", \"field\": \"calories\"}, {\"type\": \"quantitative\", \"field\": \"distance\"}, {\"type\": \"nominal\", \"field\": \"title\"}], \"x\": {\"type\": \"quantitative\", \"field\": \"distance\"}, \"y\": {\"type\": \"quantitative\", \"field\": \"calories\"}}, \"selection\": {\"selector001\": {\"type\": \"interval\", \"bind\": \"scales\", \"encodings\": [\"x\", \"y\"]}}, \"$schema\": \"https://vega.github.io/schema/vega-lite/v4.0.2.json\", \"datasets\": {\"data-8af22dbe3082255aae3d574b50188fa3\": [{\"avg_hr\": 155, \"max_hr\": 182, \"calories\": 317.0, \"distance\": 2.38, \"title\": \"Sydney Running\"}, {\"avg_hr\": 158, \"max_hr\": 171, \"calories\": 550.0, \"distance\": 4.09, \"title\": \"Sydney Running\"}, {\"avg_hr\": 150, \"max_hr\": 168, \"calories\": 336.0, \"distance\": 2.82, \"title\": \"Sydney Running\"}, {\"avg_hr\": 136, \"max_hr\": 148, \"calories\": 117.0, \"distance\": 1.0, \"title\": \"Sydney Running\"}, {\"avg_hr\": 150, \"max_hr\": 170, \"calories\": 347.0, \"distance\": 2.8, \"title\": \"Sydney Running\"}, {\"avg_hr\": 150, \"max_hr\": 171, \"calories\": 335.0, \"distance\": 2.78, \"title\": \"Sydney Running\"}, {\"avg_hr\": 144, \"max_hr\": 169, \"calories\": 334.0, \"distance\": 2.91, \"title\": \"Sydney Running\"}, {\"avg_hr\": 147, \"max_hr\": 165, \"calories\": 490.0, \"distance\": 4.02, \"title\": \"Sydney Running\"}, {\"avg_hr\": 138, \"max_hr\": 166, \"calories\": 279.0, \"distance\": 2.26, \"title\": \"Sydney Running\"}, {\"avg_hr\": 155, \"max_hr\": 175, \"calories\": 521.0, \"distance\": 4.01, \"title\": \"Sydney Running\"}, {\"avg_hr\": 99, \"max_hr\": 110, \"calories\": 36.0, \"distance\": 0.0, \"title\": \"Elliptical\"}, {\"avg_hr\": 147, \"max_hr\": 168, \"calories\": 499.0, \"distance\": 3.92, \"title\": \"Sydney Running\"}, {\"avg_hr\": 142, \"max_hr\": 159, \"calories\": 508.0, \"distance\": 4.01, \"title\": \"Sydney Running\"}, {\"avg_hr\": 130, \"max_hr\": 141, \"calories\": 165.0, \"distance\": 1.27, \"title\": \"Treadmill Running\"}, {\"avg_hr\": 128, \"max_hr\": 137, \"calories\": 65.0, \"distance\": 0.63, \"title\": \"Treadmill Running\"}, {\"avg_hr\": 135, \"max_hr\": 147, \"calories\": 148.0, \"distance\": 1.27, \"title\": \"Treadmill Running\"}, {\"avg_hr\": 152, \"max_hr\": 171, \"calories\": 359.0, \"distance\": 2.64, \"title\": \"Sydney Running\"}, {\"avg_hr\": 159, \"max_hr\": 173, \"calories\": 71.0, \"distance\": 0.49, \"title\": \"Running\"}, {\"avg_hr\": 156, \"max_hr\": 172, \"calories\": 177.0, \"distance\": 1.16, \"title\": \"Running\"}, {\"avg_hr\": 151, \"max_hr\": 169, \"calories\": 281.0, \"distance\": 2.13, \"title\": \"Sydney Running\"}, {\"avg_hr\": 106, \"max_hr\": 134, \"calories\": 183.0, \"distance\": 3.36, \"title\": \"Sydney Cycling\"}, {\"avg_hr\": 111, \"max_hr\": 134, \"calories\": 223.0, \"distance\": 3.48, \"title\": \"Sydney Cycling\"}, {\"avg_hr\": 139, \"max_hr\": 155, \"calories\": 289.0, \"distance\": 2.5, \"title\": \"Sydney Running\"}, {\"avg_hr\": 143, \"max_hr\": 155, \"calories\": 156.0, \"distance\": 1.26, \"title\": \"Treadmill Running\"}, {\"avg_hr\": 145, \"max_hr\": 173, \"calories\": 375.0, \"distance\": 3.01, \"title\": \"Darwin Running\"}, {\"avg_hr\": 149, \"max_hr\": 168, \"calories\": 414.0, \"distance\": 3.13, \"title\": \"Darwin Running\"}, {\"avg_hr\": 144, \"max_hr\": 165, \"calories\": 253.0, \"distance\": 2.0, \"title\": \"Sydney Running\"}, {\"avg_hr\": 86, \"max_hr\": 131, \"calories\": 53.0, \"distance\": 0.0, \"title\": \"Elliptical\"}, {\"avg_hr\": 131, \"max_hr\": 148, \"calories\": 134.0, \"distance\": 1.39, \"title\": \"Treadmill Running\"}, {\"avg_hr\": 149, \"max_hr\": 169, \"calories\": 394.0, \"distance\": 3.07, \"title\": \"Sydney Running\"}, {\"avg_hr\": 150, \"max_hr\": 162, \"calories\": 165.0, \"distance\": 1.32, \"title\": \"Sydney Running\"}, {\"avg_hr\": 148, \"max_hr\": 161, \"calories\": 384.0, \"distance\": 3.1, \"title\": \"Sydney Running\"}, {\"avg_hr\": 131, \"max_hr\": 146, \"calories\": 50.0, \"distance\": 0.46, \"title\": \"Sydney Running\"}, {\"avg_hr\": 130, \"max_hr\": 148, \"calories\": 64.0, \"distance\": 0.59, \"title\": \"Treadmill Running\"}, {\"avg_hr\": 153, \"max_hr\": 177, \"calories\": 610.0, \"distance\": 4.69, \"title\": \"Sydney Running\"}, {\"avg_hr\": 150, \"max_hr\": 163, \"calories\": 45.0, \"distance\": 0.37, \"title\": \"Sydney Running\"}, {\"avg_hr\": 143, \"max_hr\": 164, \"calories\": 166.0, \"distance\": 1.37, \"title\": \"Sydney Running\"}, {\"avg_hr\": 142, \"max_hr\": 155, \"calories\": 86.0, \"distance\": 0.8, \"title\": \"Treadmill Running\"}, {\"avg_hr\": 136, \"max_hr\": 153, \"calories\": 78.0, \"distance\": 0.77, \"title\": \"Treadmill Running\"}, {\"avg_hr\": 120, \"max_hr\": 154, \"calories\": 197.0, \"distance\": 1.11, \"title\": \"Treadmill Running\"}, {\"avg_hr\": 153, \"max_hr\": 190, \"calories\": 542.0, \"distance\": 4.13, \"title\": \"Sydney Running\"}, {\"avg_hr\": 141, \"max_hr\": 149, \"calories\": 120.0, \"distance\": 0.97, \"title\": \"Treadmill Running\"}, {\"avg_hr\": 158, \"max_hr\": 169, \"calories\": 237.0, \"distance\": 1.78, \"title\": \"Treadmill Running\"}, {\"avg_hr\": 142, \"max_hr\": 160, \"calories\": 176.0, \"distance\": 1.21, \"title\": \"Sydney Running\"}, {\"avg_hr\": 152, \"max_hr\": 167, \"calories\": 271.0, \"distance\": 1.87, \"title\": \"Treadmill Running\"}, {\"avg_hr\": 149, \"max_hr\": 177, \"calories\": 260.0, \"distance\": 1.83, \"title\": \"Treadmill Running\"}, {\"avg_hr\": 142, \"max_hr\": 162, \"calories\": 256.0, \"distance\": 1.83, \"title\": \"Treadmill Running\"}, {\"avg_hr\": 140, \"max_hr\": 154, \"calories\": 153.0, \"distance\": 0.92, \"title\": \"Treadmill Running\"}, {\"avg_hr\": 155, \"max_hr\": 174, \"calories\": 485.0, \"distance\": 3.52, \"title\": \"Sydney Running\"}, {\"avg_hr\": 154, \"max_hr\": 183, \"calories\": 586.0, \"distance\": 4.09, \"title\": \"Sydney Running\"}, {\"avg_hr\": 124, \"max_hr\": 137, \"calories\": 27.0, \"distance\": 0.25, \"title\": \"Running\"}, {\"avg_hr\": 129, \"max_hr\": 140, \"calories\": 51.0, \"distance\": 0.43, \"title\": \"Running\"}, {\"avg_hr\": 145, \"max_hr\": 165, \"calories\": 91.0, \"distance\": 0.73, \"title\": \"Santiago Running\"}, {\"avg_hr\": 70, \"max_hr\": 82, \"calories\": 13.0, \"distance\": 0.0, \"title\": \"Elliptical\"}, {\"avg_hr\": 130, \"max_hr\": 143, \"calories\": 29.0, \"distance\": 0.27, \"title\": \"Santiago Running\"}, {\"avg_hr\": 137, \"max_hr\": 149, \"calories\": 76.0, \"distance\": 0.6, \"title\": \"Running\"}, {\"avg_hr\": 150, \"max_hr\": 173, \"calories\": 546.0, \"distance\": 4.01, \"title\": \"Santiago Running\"}, {\"avg_hr\": 132, \"max_hr\": 143, \"calories\": 126.0, \"distance\": 1.04, \"title\": \"Treadmill Running\"}, {\"avg_hr\": 78, \"max_hr\": 103, \"calories\": 28.0, \"distance\": 0.0, \"title\": \"Elliptical\"}, {\"avg_hr\": 145, \"max_hr\": 157, \"calories\": 112.0, \"distance\": 0.89, \"title\": \"Treadmill Running\"}, {\"avg_hr\": 116, \"max_hr\": 136, \"calories\": 184.0, \"distance\": 0.0, \"title\": \"Elliptical\"}, {\"avg_hr\": 124, \"max_hr\": 124, \"calories\": null, \"distance\": 0.0, \"title\": \"Santiago Running\"}, {\"avg_hr\": 154, \"max_hr\": 178, \"calories\": 659.0, \"distance\": 4.51, \"title\": \"Santiago Running\"}, {\"avg_hr\": 129, \"max_hr\": 141, \"calories\": 85.0, \"distance\": 0.69, \"title\": \"Treadmill Running\"}, {\"avg_hr\": 152, \"max_hr\": 161, \"calories\": 105.0, \"distance\": 0.88, \"title\": \"Treadmill Running\"}, {\"avg_hr\": 134, \"max_hr\": 157, \"calories\": 62.0, \"distance\": 0.57, \"title\": \"Santiago Running\"}, {\"avg_hr\": 134, \"max_hr\": 147, \"calories\": 74.0, \"distance\": 0.57, \"title\": \"Running\"}, {\"avg_hr\": 126, \"max_hr\": 144, \"calories\": 33.0, \"distance\": 0.26, \"title\": \"Kansas City Running\"}, {\"avg_hr\": 147, \"max_hr\": 158, \"calories\": 275.0, \"distance\": 2.01, \"title\": \"Kansas City Running\"}, {\"avg_hr\": 90, \"max_hr\": 121, \"calories\": 64.0, \"distance\": 1.02, \"title\": \"Washington Cycling\"}, {\"avg_hr\": 84, \"max_hr\": 111, \"calories\": 191.0, \"distance\": 4.36, \"title\": \"Washington Cycling\"}, {\"avg_hr\": 89, \"max_hr\": 113, \"calories\": 171.0, \"distance\": 4.11, \"title\": \"Washington Cycling\"}, {\"avg_hr\": 86, \"max_hr\": 116, \"calories\": 128.0, \"distance\": 2.43, \"title\": \"Washington Cycling\"}, {\"avg_hr\": 104, \"max_hr\": 125, \"calories\": 56.0, \"distance\": 0.84, \"title\": \"Washington Cycling\"}, {\"avg_hr\": 87, \"max_hr\": 95, \"calories\": 26.0, \"distance\": 0.78, \"title\": \"Washington Cycling\"}, {\"avg_hr\": 96, \"max_hr\": 107, \"calories\": 47.0, \"distance\": 0.95, \"title\": \"Washington Cycling\"}, {\"avg_hr\": 91, \"max_hr\": 112, \"calories\": 27.0, \"distance\": 0.44, \"title\": \"Washington Cycling\"}, {\"avg_hr\": 88, \"max_hr\": 116, \"calories\": 122.0, \"distance\": 2.72, \"title\": \"Washington Cycling\"}, {\"avg_hr\": 82, \"max_hr\": 94, \"calories\": 21.0, \"distance\": 0.71, \"title\": \"Washington Cycling\"}, {\"avg_hr\": 90, \"max_hr\": 99, \"calories\": 20.0, \"distance\": 0.41, \"title\": \"Washington Cycling\"}, {\"avg_hr\": 84, \"max_hr\": 105, \"calories\": 82.0, \"distance\": 2.25, \"title\": \"Washington Cycling\"}, {\"avg_hr\": 92, \"max_hr\": 109, \"calories\": 69.0, \"distance\": 1.87, \"title\": \"Washington Cycling\"}, {\"avg_hr\": 76, \"max_hr\": 100, \"calories\": 26.0, \"distance\": 0.72, \"title\": \"Washington Cycling\"}, {\"avg_hr\": 90, \"max_hr\": 113, \"calories\": 110.0, \"distance\": 2.43, \"title\": \"Washington Cycling\"}, {\"avg_hr\": 92, \"max_hr\": 132, \"calories\": 176.0, \"distance\": 3.0, \"title\": \"Washington Cycling\"}, {\"avg_hr\": 93, \"max_hr\": 120, \"calories\": 181.0, \"distance\": 2.89, \"title\": \"Washington Cycling\"}, {\"avg_hr\": 121, \"max_hr\": 141, \"calories\": 76.0, \"distance\": 0.95, \"title\": \"Washington Cycling\"}, {\"avg_hr\": 120, \"max_hr\": 128, \"calories\": 85.0, \"distance\": 0.76, \"title\": \"Washington Cycling\"}, {\"avg_hr\": 87, \"max_hr\": 125, \"calories\": 143.0, \"distance\": 1.07, \"title\": \"Washington Cycling\"}, {\"avg_hr\": 98, \"max_hr\": 111, \"calories\": 50.0, \"distance\": 0.16, \"title\": \"Washington Cycling\"}, {\"avg_hr\": 150, \"max_hr\": 170, \"calories\": 276.0, \"distance\": 2.01, \"title\": \"Washington Running\"}, {\"avg_hr\": 90, \"max_hr\": 118, \"calories\": 111.0, \"distance\": 2.12, \"title\": \"Washington Cycling\"}, {\"avg_hr\": 112, \"max_hr\": 146, \"calories\": 107.0, \"distance\": 2.03, \"title\": \"Washington Cycling\"}, {\"avg_hr\": 92, \"max_hr\": 106, \"calories\": 64.0, \"distance\": 0.87, \"title\": \"Washington Cycling\"}, {\"avg_hr\": 104, \"max_hr\": 122, \"calories\": 57.0, \"distance\": 0.91, \"title\": \"Washington Cycling\"}, {\"avg_hr\": 93, \"max_hr\": 112, \"calories\": 108.0, \"distance\": 2.02, \"title\": \"Washington Cycling\"}, {\"avg_hr\": 94, \"max_hr\": 110, \"calories\": 65.0, \"distance\": 1.05, \"title\": \"Washington Cycling\"}, {\"avg_hr\": 87, \"max_hr\": 125, \"calories\": 112.0, \"distance\": 0.86, \"title\": \"Washington Cycling\"}, {\"avg_hr\": 105, \"max_hr\": 128, \"calories\": 54.0, \"distance\": 0.48, \"title\": \"Washington Cycling\"}, {\"avg_hr\": 99, \"max_hr\": 124, \"calories\": 124.0, \"distance\": 2.12, \"title\": \"Washington Cycling\"}, {\"avg_hr\": 111, \"max_hr\": 130, \"calories\": 113.0, \"distance\": 1.9, \"title\": \"Washington Cycling\"}, {\"avg_hr\": 99, \"max_hr\": 117, \"calories\": 45.0, \"distance\": 0.76, \"title\": \"Washington Cycling\"}, {\"avg_hr\": 84, \"max_hr\": 98, \"calories\": 33.0, \"distance\": 1.01, \"title\": \"Washington Cycling\"}, {\"avg_hr\": 93, \"max_hr\": 117, \"calories\": 47.0, \"distance\": 1.02, \"title\": \"Washington Cycling\"}, {\"avg_hr\": 106, \"max_hr\": 128, \"calories\": 62.0, \"distance\": 0.84, \"title\": \"Washington Cycling\"}, {\"avg_hr\": 91, \"max_hr\": 109, \"calories\": 72.0, \"distance\": 0.83, \"title\": \"Washington Cycling\"}, {\"avg_hr\": 109, \"max_hr\": 131, \"calories\": 57.0, \"distance\": 1.07, \"title\": \"Washington Cycling\"}, {\"avg_hr\": 137, \"max_hr\": 158, \"calories\": 464.0, \"distance\": 3.12, \"title\": \"Washington Running\"}, {\"avg_hr\": 94, \"max_hr\": 112, \"calories\": 64.0, \"distance\": 1.99, \"title\": \"Washington Cycling\"}, {\"avg_hr\": 99, \"max_hr\": 113, \"calories\": 39.0, \"distance\": 0.87, \"title\": \"Washington Cycling\"}, {\"avg_hr\": 79, \"max_hr\": 94, \"calories\": 25.0, \"distance\": 1.03, \"title\": \"Washington Cycling\"}, {\"avg_hr\": 91, \"max_hr\": 128, \"calories\": 153.0, \"distance\": 1.19, \"title\": \"Washington Cycling\"}, {\"avg_hr\": 103, \"max_hr\": 127, \"calories\": 55.0, \"distance\": 0.91, \"title\": \"Washington Cycling\"}, {\"avg_hr\": 103, \"max_hr\": 122, \"calories\": 45.0, \"distance\": 0.63, \"title\": \"Washington Cycling\"}, {\"avg_hr\": 91, \"max_hr\": 119, \"calories\": 33.0, \"distance\": 0.0, \"title\": \"Cycling\"}, {\"avg_hr\": 97, \"max_hr\": 118, \"calories\": 94.0, \"distance\": 1.91, \"title\": \"Washington Cycling\"}, {\"avg_hr\": 113, \"max_hr\": 152, \"calories\": 108.0, \"distance\": 1.87, \"title\": \"Washington Cycling\"}, {\"avg_hr\": 95, \"max_hr\": 112, \"calories\": 108.0, \"distance\": 2.34, \"title\": \"Washington Cycling\"}, {\"avg_hr\": 101, \"max_hr\": 117, \"calories\": 89.0, \"distance\": 1.43, \"title\": \"Washington Cycling\"}, {\"avg_hr\": 98, \"max_hr\": 118, \"calories\": 100.0, \"distance\": 0.88, \"title\": \"Washington Cycling\"}, {\"avg_hr\": 116, \"max_hr\": 139, \"calories\": 79.0, \"distance\": 0.77, \"title\": \"Washington Cycling\"}, {\"avg_hr\": 96, \"max_hr\": 116, \"calories\": 71.0, \"distance\": 1.57, \"title\": \"Washington Cycling\"}, {\"avg_hr\": 85, \"max_hr\": 97, \"calories\": 18.0, \"distance\": 0.74, \"title\": \"Washington Cycling\"}, {\"avg_hr\": 98, \"max_hr\": 126, \"calories\": 46.0, \"distance\": 1.02, \"title\": \"Washington Cycling\"}, {\"avg_hr\": 92, \"max_hr\": 105, \"calories\": 89.0, \"distance\": 1.1, \"title\": \"Washington Cycling\"}, {\"avg_hr\": 103, \"max_hr\": 120, \"calories\": 49.0, \"distance\": 1.03, \"title\": \"Washington Cycling\"}, {\"avg_hr\": 97, \"max_hr\": 113, \"calories\": 38.0, \"distance\": 0.93, \"title\": \"Washington Cycling\"}, {\"avg_hr\": 86, \"max_hr\": 101, \"calories\": 35.0, \"distance\": 1.02, \"title\": \"Washington Cycling\"}, {\"avg_hr\": 92, \"max_hr\": 111, \"calories\": 88.0, \"distance\": 2.11, \"title\": \"Washington Cycling\"}, {\"avg_hr\": 94, \"max_hr\": 114, \"calories\": 68.0, \"distance\": 1.47, \"title\": \"Washington Cycling\"}, {\"avg_hr\": 87, \"max_hr\": 109, \"calories\": 88.0, \"distance\": 1.98, \"title\": \"Washington Cycling\"}, {\"avg_hr\": 108, \"max_hr\": 137, \"calories\": 94.0, \"distance\": 2.05, \"title\": \"Washington Cycling\"}, {\"avg_hr\": 113, \"max_hr\": 133, \"calories\": 49.0, \"distance\": 0.63, \"title\": \"Washington Cycling\"}, {\"avg_hr\": 97, \"max_hr\": 114, \"calories\": 23.0, \"distance\": 0.42, \"title\": \"Washington Cycling\"}, {\"avg_hr\": 135, \"max_hr\": 148, \"calories\": 317.0, \"distance\": 2.26, \"title\": \"Washington Running\"}, {\"avg_hr\": 83, \"max_hr\": 107, \"calories\": 79.0, \"distance\": 2.29, \"title\": \"Washington Cycling\"}, {\"avg_hr\": 117, \"max_hr\": 168, \"calories\": 112.0, \"distance\": 1.68, \"title\": \"Washington Cycling\"}, {\"avg_hr\": 95, \"max_hr\": 127, \"calories\": 112.0, \"distance\": 2.15, \"title\": \"Washington Cycling\"}, {\"avg_hr\": 104, \"max_hr\": 133, \"calories\": 99.0, \"distance\": 2.05, \"title\": \"Washington Cycling\"}, {\"avg_hr\": 88, \"max_hr\": 116, \"calories\": 74.0, \"distance\": 0.76, \"title\": \"Washington Cycling\"}, {\"avg_hr\": 91, \"max_hr\": 131, \"calories\": 76.0, \"distance\": 0.19, \"title\": \"Washington Cycling\"}, {\"avg_hr\": 110, \"max_hr\": 124, \"calories\": 51.0, \"distance\": 0.99, \"title\": \"Washington Cycling\"}, {\"avg_hr\": 115, \"max_hr\": 131, \"calories\": 68.0, \"distance\": 0.94, \"title\": \"Washington Cycling\"}, {\"avg_hr\": 96, \"max_hr\": 121, \"calories\": 105.0, \"distance\": 2.23, \"title\": \"Washington Cycling\"}, {\"avg_hr\": 115, \"max_hr\": 128, \"calories\": 118.0, \"distance\": 1.98, \"title\": \"Washington Cycling\"}, {\"avg_hr\": 96, \"max_hr\": 130, \"calories\": 58.0, \"distance\": 0.88, \"title\": \"Washington Cycling\"}, {\"avg_hr\": 144, \"max_hr\": 160, \"calories\": 286.0, \"distance\": 2.12, \"title\": \"Washington Running\"}, {\"avg_hr\": 96, \"max_hr\": 126, \"calories\": 100.0, \"distance\": 1.49, \"title\": \"Washington Cycling\"}, {\"avg_hr\": 97, \"max_hr\": 124, \"calories\": 132.0, \"distance\": 1.39, \"title\": \"Washington Cycling\"}, {\"avg_hr\": 134, \"max_hr\": 157, \"calories\": 407.0, \"distance\": 2.83, \"title\": \"Washington Running\"}, {\"avg_hr\": 138, \"max_hr\": 178, \"calories\": 397.0, \"distance\": 2.81, \"title\": \"Washington Running\"}, {\"avg_hr\": 109, \"max_hr\": 136, \"calories\": 118.0, \"distance\": 1.96, \"title\": \"Washington Cycling\"}, {\"avg_hr\": 136, \"max_hr\": 163, \"calories\": 135.0, \"distance\": 1.81, \"title\": \"Washington Cycling\"}, {\"avg_hr\": 113, \"max_hr\": 130, \"calories\": 164.0, \"distance\": 2.13, \"title\": \"Washington Cycling\"}, {\"avg_hr\": 110, \"max_hr\": 131, \"calories\": 62.0, \"distance\": 1.34, \"title\": \"Washington Cycling\"}, {\"avg_hr\": 118, \"max_hr\": 140, \"calories\": 167.0, \"distance\": 2.18, \"title\": \"Washington Cycling\"}, {\"avg_hr\": 119, \"max_hr\": 135, \"calories\": 124.0, \"distance\": 1.65, \"title\": \"Washington Cycling\"}, {\"avg_hr\": 103, \"max_hr\": 127, \"calories\": 138.0, \"distance\": 2.27, \"title\": \"Washington Cycling\"}, {\"avg_hr\": 107, \"max_hr\": 131, \"calories\": 86.0, \"distance\": 1.64, \"title\": \"Washington Cycling\"}, {\"avg_hr\": 143, \"max_hr\": 161, \"calories\": 299.0, \"distance\": 2.1, \"title\": \"Running\"}, {\"avg_hr\": 104, \"max_hr\": 141, \"calories\": 126.0, \"distance\": 2.17, \"title\": \"Washington Cycling\"}, {\"avg_hr\": 104, \"max_hr\": 140, \"calories\": 229.0, \"distance\": 2.39, \"title\": \"Washington Cycling\"}, {\"avg_hr\": 124, \"max_hr\": 144, \"calories\": 78.0, \"distance\": 0.36, \"title\": \"Washington Cycling\"}, {\"avg_hr\": 142, \"max_hr\": 151, \"calories\": 165.0, \"distance\": 1.12, \"title\": \"Running\"}, {\"avg_hr\": 149, \"max_hr\": 169, \"calories\": 255.0, \"distance\": 1.63, \"title\": \"Running\"}, {\"avg_hr\": 110, \"max_hr\": 150, \"calories\": 48.0, \"distance\": 0.67, \"title\": \"Washington Cycling\"}, {\"avg_hr\": 95, \"max_hr\": 122, \"calories\": 58.0, \"distance\": 1.17, \"title\": \"Washington Cycling\"}, {\"avg_hr\": 118, \"max_hr\": 139, \"calories\": 170.0, \"distance\": 2.26, \"title\": \"Washington Cycling\"}, {\"avg_hr\": 108, \"max_hr\": 147, \"calories\": 131.0, \"distance\": 0.74, \"title\": \"Washington Cycling\"}, {\"avg_hr\": 122, \"max_hr\": 143, \"calories\": 131.0, \"distance\": 1.97, \"title\": \"Washington Cycling\"}, {\"avg_hr\": 147, \"max_hr\": 170, \"calories\": 312.0, \"distance\": 2.08, \"title\": \"Running\"}, {\"avg_hr\": 87, \"max_hr\": 115, \"calories\": 24.0, \"distance\": 0.82, \"title\": \"Washington Cycling\"}, {\"avg_hr\": 108, \"max_hr\": 134, \"calories\": 61.0, \"distance\": 1.02, \"title\": \"Washington Cycling\"}, {\"avg_hr\": 102, \"max_hr\": 127, \"calories\": 78.0, \"distance\": 1.52, \"title\": \"Washington Cycling\"}, {\"avg_hr\": 110, \"max_hr\": 129, \"calories\": 79.0, \"distance\": 1.16, \"title\": \"Washington Cycling\"}, {\"avg_hr\": 100, \"max_hr\": 120, \"calories\": 111.0, \"distance\": 2.22, \"title\": \"Washington Cycling\"}, {\"avg_hr\": 124, \"max_hr\": 142, \"calories\": 134.0, \"distance\": 1.74, \"title\": \"Washington Cycling\"}, {\"avg_hr\": 123, \"max_hr\": 131, \"calories\": 51.0, \"distance\": 0.71, \"title\": \"Washington Cycling\"}, {\"avg_hr\": 95, \"max_hr\": 113, \"calories\": 31.0, \"distance\": 0.64, \"title\": \"Washington Cycling\"}, {\"avg_hr\": 100, \"max_hr\": 112, \"calories\": 23.0, \"distance\": 0.64, \"title\": \"Washington Cycling\"}, {\"avg_hr\": 116, \"max_hr\": 142, \"calories\": 63.0, \"distance\": 0.35, \"title\": \"Washington Cycling\"}, {\"avg_hr\": 90, \"max_hr\": 111, \"calories\": 49.0, \"distance\": 0.98, \"title\": \"Washington Cycling\"}, {\"avg_hr\": 102, \"max_hr\": 113, \"calories\": 50.0, \"distance\": 0.58, \"title\": \"Washington Cycling\"}, {\"avg_hr\": 107, \"max_hr\": 119, \"calories\": 40.0, \"distance\": 0.54, \"title\": \"Washington Cycling\"}, {\"avg_hr\": 93, \"max_hr\": 114, \"calories\": 24.0, \"distance\": 0.72, \"title\": \"Washington Cycling\"}, {\"avg_hr\": 104, \"max_hr\": 123, \"calories\": 194.0, \"distance\": 3.12, \"title\": \"Washington Cycling\"}, {\"avg_hr\": 98, \"max_hr\": 120, \"calories\": 108.0, \"distance\": 2.11, \"title\": \"Washington Cycling\"}, {\"avg_hr\": 102, \"max_hr\": 126, \"calories\": 44.0, \"distance\": 0.99, \"title\": \"Washington Cycling\"}, {\"avg_hr\": 96, \"max_hr\": 114, \"calories\": 38.0, \"distance\": 0.58, \"title\": \"Washington Cycling\"}, {\"avg_hr\": 152, \"max_hr\": 167, \"calories\": 310.0, \"distance\": 1.95, \"title\": \"Washington Running\"}, {\"avg_hr\": 101, \"max_hr\": 125, \"calories\": 135.0, \"distance\": 2.32, \"title\": \"Washington Cycling\"}, {\"avg_hr\": 107, \"max_hr\": 140, \"calories\": 109.0, \"distance\": 1.79, \"title\": \"Washington Cycling\"}, {\"avg_hr\": 107, \"max_hr\": 126, \"calories\": 46.0, \"distance\": 0.73, \"title\": \"Washington Cycling\"}, {\"avg_hr\": 109, \"max_hr\": 139, \"calories\": 52.0, \"distance\": 0.1, \"title\": \"Washington Cycling\"}, {\"avg_hr\": 97, \"max_hr\": 124, \"calories\": 44.0, \"distance\": 0.65, \"title\": \"Washington Cycling\"}, {\"avg_hr\": 97, \"max_hr\": 125, \"calories\": 30.0, \"distance\": 0.17, \"title\": \"Washington Cycling\"}, {\"avg_hr\": 104, \"max_hr\": 123, \"calories\": 47.0, \"distance\": 0.61, \"title\": \"Washington Cycling\"}, {\"avg_hr\": 108, \"max_hr\": 134, \"calories\": 63.0, \"distance\": 0.67, \"title\": \"Washington Cycling\"}, {\"avg_hr\": 103, \"max_hr\": 131, \"calories\": 73.0, \"distance\": 0.85, \"title\": \"Washington Cycling\"}, {\"avg_hr\": 101, \"max_hr\": 122, \"calories\": 104.0, \"distance\": 1.56, \"title\": \"Washington Cycling\"}, {\"avg_hr\": 113, \"max_hr\": 129, \"calories\": 106.0, \"distance\": 1.84, \"title\": \"Washington Cycling\"}, {\"avg_hr\": 80, \"max_hr\": 99, \"calories\": 59.0, \"distance\": 2.17, \"title\": \"Washington Cycling\"}, {\"avg_hr\": 96, \"max_hr\": 129, \"calories\": 75.0, \"distance\": 1.78, \"title\": \"Washington Cycling\"}, {\"avg_hr\": 108, \"max_hr\": 136, \"calories\": 116.0, \"distance\": 0.83, \"title\": \"Washington Cycling\"}, {\"avg_hr\": 103, \"max_hr\": 139, \"calories\": 74.0, \"distance\": 1.68, \"title\": \"Washington Cycling\"}, {\"avg_hr\": 102, \"max_hr\": 141, \"calories\": 128.0, \"distance\": 1.38, \"title\": \"Washington Cycling\"}, {\"avg_hr\": 92, \"max_hr\": 123, \"calories\": 63.0, \"distance\": 2.01, \"title\": \"Washington Cycling\"}, {\"avg_hr\": 108, \"max_hr\": 127, \"calories\": 94.0, \"distance\": 1.04, \"title\": \"Washington Cycling\"}, {\"avg_hr\": 149, \"max_hr\": 160, \"calories\": 242.0, \"distance\": 2.0, \"title\": \"Treadmill Running\"}, {\"avg_hr\": 105, \"max_hr\": 121, \"calories\": 54.0, \"distance\": 0.6, \"title\": \"Washington Cycling\"}, {\"avg_hr\": 108, \"max_hr\": 149, \"calories\": 207.0, \"distance\": 0.0, \"title\": \"Indoor Cycling\"}, {\"avg_hr\": 136, \"max_hr\": 175, \"calories\": 487.0, \"distance\": 0.0, \"title\": \"Elliptical\"}, {\"avg_hr\": 104, \"max_hr\": 130, \"calories\": 93.0, \"distance\": 0.98, \"title\": \"Washington Cycling\"}, {\"avg_hr\": 122, \"max_hr\": 143, \"calories\": 147.0, \"distance\": 1.49, \"title\": \"Washington Cycling\"}, {\"avg_hr\": 114, \"max_hr\": 138, \"calories\": 111.0, \"distance\": 1.66, \"title\": \"Washington Cycling\"}, {\"avg_hr\": 110, \"max_hr\": 130, \"calories\": 78.0, \"distance\": 1.04, \"title\": \"Washington Cycling\"}, {\"avg_hr\": 106, \"max_hr\": 125, \"calories\": 54.0, \"distance\": 0.95, \"title\": \"Washington Cycling\"}, {\"avg_hr\": 145, \"max_hr\": 161, \"calories\": 368.0, \"distance\": 2.8, \"title\": \"Washington Running\"}, {\"avg_hr\": 142, \"max_hr\": 154, \"calories\": 228.0, \"distance\": 2.0, \"title\": \"Treadmill Running\"}, {\"avg_hr\": 147, \"max_hr\": 163, \"calories\": 234.0, \"distance\": 2.01, \"title\": \"Treadmill Running\"}, {\"avg_hr\": 148, \"max_hr\": 161, \"calories\": 353.0, \"distance\": 3.01, \"title\": \"Treadmill Running\"}, {\"avg_hr\": 149, \"max_hr\": 161, \"calories\": 357.0, \"distance\": 3.0, \"title\": \"Treadmill Running\"}, {\"avg_hr\": 153, \"max_hr\": 170, \"calories\": 568.0, \"distance\": 4.02, \"title\": \"Shawnee Running\"}, {\"avg_hr\": 149, \"max_hr\": 161, \"calories\": 243.0, \"distance\": 2.06, \"title\": \"Treadmill Running\"}, {\"avg_hr\": 147, \"max_hr\": 168, \"calories\": 239.0, \"distance\": 2.01, \"title\": \"Treadmill Running\"}, {\"avg_hr\": 106, \"max_hr\": 132, \"calories\": 281.0, \"distance\": 0.0, \"title\": \"Indoor Cycling\"}, {\"avg_hr\": 115, \"max_hr\": 129, \"calories\": 62.0, \"distance\": 0.99, \"title\": \"Washington Cycling\"}, {\"avg_hr\": 164, \"max_hr\": 177, \"calories\": 264.0, \"distance\": 2.0, \"title\": \"Treadmill Running\"}, {\"avg_hr\": 157, \"max_hr\": 164, \"calories\": 253.0, \"distance\": 1.96, \"title\": \"Treadmill Running\"}, {\"avg_hr\": 110, \"max_hr\": 136, \"calories\": 47.0, \"distance\": 0.42, \"title\": \"Washington Cycling\"}, {\"avg_hr\": 110, \"max_hr\": 131, \"calories\": 106.0, \"distance\": 1.13, \"title\": \"Washington Cycling\"}, {\"avg_hr\": 103, \"max_hr\": 128, \"calories\": 58.0, \"distance\": 1.0, \"title\": \"Washington Cycling\"}, {\"avg_hr\": 130, \"max_hr\": 161, \"calories\": 343.0, \"distance\": 0.0, \"title\": \"Elliptical\"}, {\"avg_hr\": 102, \"max_hr\": 127, \"calories\": 80.0, \"distance\": 0.62, \"title\": \"Washington Cycling\"}, {\"avg_hr\": 144, \"max_hr\": 162, \"calories\": 250.0, \"distance\": 2.01, \"title\": \"Treadmill Running\"}, {\"avg_hr\": 140, \"max_hr\": 153, \"calories\": 258.0, \"distance\": 2.05, \"title\": \"Treadmill Running\"}, {\"avg_hr\": 139, \"max_hr\": 169, \"calories\": 493.0, \"distance\": 0.0, \"title\": \"Elliptical\"}, {\"avg_hr\": 157, \"max_hr\": 171, \"calories\": 131.0, \"distance\": 0.99, \"title\": \"Treadmill Running\"}, {\"avg_hr\": 138, \"max_hr\": 155, \"calories\": 143.0, \"distance\": 1.06, \"title\": \"Treadmill Running\"}, {\"avg_hr\": 101, \"max_hr\": 126, \"calories\": 77.0, \"distance\": 0.79, \"title\": \"Washington Cycling\"}, {\"avg_hr\": 101, \"max_hr\": 122, \"calories\": 45.0, \"distance\": 0.44, \"title\": \"Washington Cycling\"}, {\"avg_hr\": 133, \"max_hr\": 151, \"calories\": 382.0, \"distance\": 0.0, \"title\": \"Elliptical\"}, {\"avg_hr\": 152, \"max_hr\": 162, \"calories\": 249.0, \"distance\": 2.0, \"title\": \"Treadmill Running\"}, {\"avg_hr\": 108, \"max_hr\": 129, \"calories\": 86.0, \"distance\": 0.55, \"title\": \"Washington Cycling\"}, {\"avg_hr\": 132, \"max_hr\": 180, \"calories\": 470.0, \"distance\": 0.0, \"title\": \"Elliptical\"}, {\"avg_hr\": 106, \"max_hr\": 123, \"calories\": 69.0, \"distance\": 0.48, \"title\": \"Washington Cycling\"}, {\"avg_hr\": 126, \"max_hr\": 166, \"calories\": 473.0, \"distance\": 0.0, \"title\": \"Elliptical\"}, {\"avg_hr\": 120, \"max_hr\": 133, \"calories\": 63.0, \"distance\": 0.59, \"title\": \"Washington Cycling\"}, {\"avg_hr\": 122, \"max_hr\": 146, \"calories\": 389.0, \"distance\": 0.0, \"title\": \"Elliptical\"}, {\"avg_hr\": 98, \"max_hr\": 127, \"calories\": 50.0, \"distance\": 0.67, \"title\": \"Washington Cycling\"}, {\"avg_hr\": 101, \"max_hr\": 116, \"calories\": 50.0, \"distance\": 0.6, \"title\": \"Washington Cycling\"}, {\"avg_hr\": 113, \"max_hr\": 127, \"calories\": 82.0, \"distance\": 0.7, \"title\": \"Washington Cycling\"}, {\"avg_hr\": 104, \"max_hr\": 126, \"calories\": 69.0, \"distance\": 1.15, \"title\": \"Washington Cycling\"}, {\"avg_hr\": 94, \"max_hr\": 109, \"calories\": 77.0, \"distance\": 0.89, \"title\": \"Washington Cycling\"}, {\"avg_hr\": 153, \"max_hr\": 167, \"calories\": 394.0, \"distance\": 2.95, \"title\": \"Washington Running\"}, {\"avg_hr\": 90, \"max_hr\": 118, \"calories\": 116.0, \"distance\": 1.87, \"title\": \"Washington Cycling\"}, {\"avg_hr\": 99, \"max_hr\": 112, \"calories\": 28.0, \"distance\": 0.44, \"title\": \"Washington Cycling\"}, {\"avg_hr\": 146, \"max_hr\": 164, \"calories\": 273.0, \"distance\": 2.02, \"title\": \"Washington Running\"}, {\"avg_hr\": 95, \"max_hr\": 128, \"calories\": 46.0, \"distance\": 0.65, \"title\": \"Washington Cycling\"}, {\"avg_hr\": 150, \"max_hr\": 168, \"calories\": 271.0, \"distance\": 2.04, \"title\": \"Washington Running\"}, {\"avg_hr\": 144, \"max_hr\": 159, \"calories\": 345.0, \"distance\": 2.63, \"title\": \"Treadmill Running\"}, {\"avg_hr\": 153, \"max_hr\": 176, \"calories\": 286.0, \"distance\": 2.05, \"title\": \"Washington Running\"}, {\"avg_hr\": 135, \"max_hr\": 146, \"calories\": 294.0, \"distance\": 2.1, \"title\": \"Washington Running\"}, {\"avg_hr\": 92, \"max_hr\": 100, \"calories\": 9.0, \"distance\": 0.17, \"title\": \"Washington Cycling\"}, {\"avg_hr\": 140, \"max_hr\": 160, \"calories\": 293.0, \"distance\": 1.96, \"title\": \"Washington Running\"}, {\"avg_hr\": 155, \"max_hr\": 163, \"calories\": 143.0, \"distance\": 1.0, \"title\": \"Treadmill Running\"}, {\"avg_hr\": 93, \"max_hr\": 113, \"calories\": 45.0, \"distance\": 1.09, \"title\": \"Washington Cycling\"}, {\"avg_hr\": 139, \"max_hr\": 159, \"calories\": 124.0, \"distance\": 1.01, \"title\": \"Treadmill Running\"}, {\"avg_hr\": 123, \"max_hr\": 151, \"calories\": 191.0, \"distance\": 1.03, \"title\": \"Treadmill Running\"}, {\"avg_hr\": 148, \"max_hr\": 160, \"calories\": 133.0, \"distance\": 1.05, \"title\": \"Treadmill Running\"}, {\"avg_hr\": 137, \"max_hr\": 159, \"calories\": 123.0, \"distance\": 1.02, \"title\": \"Treadmill Running\"}, {\"avg_hr\": 146, \"max_hr\": 164, \"calories\": 536.0, \"distance\": 4.3, \"title\": \"Kansas City Running\"}, {\"avg_hr\": 156, \"max_hr\": 183, \"calories\": 608.0, \"distance\": 4.26, \"title\": \"Kansas City Running\"}, {\"avg_hr\": 150, \"max_hr\": 169, \"calories\": 571.0, \"distance\": 4.25, \"title\": \"Kansas City Running\"}, {\"avg_hr\": 158, \"max_hr\": 182, \"calories\": 675.0, \"distance\": 4.4, \"title\": \"Kansas City Running\"}, {\"avg_hr\": 147, \"max_hr\": 159, \"calories\": 567.0, \"distance\": 4.25, \"title\": \"Kansas City Running\"}, {\"avg_hr\": 151, \"max_hr\": 171, \"calories\": 435.0, \"distance\": 3.01, \"title\": \"Kansas City Running\"}, {\"avg_hr\": 138, \"max_hr\": 155, \"calories\": 373.0, \"distance\": 3.0, \"title\": \"Kansas City Running\"}, {\"avg_hr\": 154, \"max_hr\": 176, \"calories\": 614.0, \"distance\": 4.3, \"title\": \"Kansas City Running\"}, {\"avg_hr\": 150, \"max_hr\": 180, \"calories\": 361.0, \"distance\": 3.0, \"title\": \"Kansas City Running\"}, {\"avg_hr\": 136, \"max_hr\": 148, \"calories\": 240.0, \"distance\": 1.74, \"title\": \"Kansas City Running\"}, {\"avg_hr\": 144, \"max_hr\": 163, \"calories\": 401.0, \"distance\": 3.01, \"title\": \"Kansas City Running\"}, {\"avg_hr\": 150, \"max_hr\": 171, \"calories\": 419.0, \"distance\": 3.01, \"title\": \"Kansas City Running\"}, {\"avg_hr\": 148, \"max_hr\": 172, \"calories\": 596.0, \"distance\": 4.4, \"title\": \"Kansas City Running\"}, {\"avg_hr\": 151, \"max_hr\": 171, \"calories\": 512.0, \"distance\": 3.69, \"title\": \"Kansas City Running\"}, {\"avg_hr\": 152, \"max_hr\": 174, \"calories\": 395.0, \"distance\": 3.0, \"title\": \"Kansas City Running\"}, {\"avg_hr\": 152, \"max_hr\": 174, \"calories\": 594.0, \"distance\": 4.31, \"title\": \"Kansas City Running\"}, {\"avg_hr\": 146, \"max_hr\": 165, \"calories\": 375.0, \"distance\": 3.0, \"title\": \"Kansas City Running\"}, {\"avg_hr\": 153, \"max_hr\": 178, \"calories\": 572.0, \"distance\": 4.31, \"title\": \"Kansas City Running\"}, {\"avg_hr\": 152, \"max_hr\": 176, \"calories\": 389.0, \"distance\": 3.01, \"title\": \"Kansas City Running\"}, {\"avg_hr\": 127, \"max_hr\": 141, \"calories\": 493.0, \"distance\": 3.86, \"title\": \"Kansas City Running\"}, {\"avg_hr\": 142, \"max_hr\": 161, \"calories\": 149.0, \"distance\": 1.19, \"title\": \"Kansas City Running\"}, {\"avg_hr\": 155, \"max_hr\": 172, \"calories\": 69.0, \"distance\": 0.55, \"title\": \"Kansas City Running\"}, {\"avg_hr\": 152, \"max_hr\": 182, \"calories\": 411.0, \"distance\": 2.99, \"title\": \"Kansas City Running\"}, {\"avg_hr\": 146, \"max_hr\": 165, \"calories\": 253.0, \"distance\": 1.9, \"title\": \"Kansas City Running\"}, {\"avg_hr\": 153, \"max_hr\": 177, \"calories\": 397.0, \"distance\": 3.01, \"title\": \"Kansas City Running\"}, {\"avg_hr\": 108, \"max_hr\": 132, \"calories\": 139.0, \"distance\": 1.82, \"title\": \"Kansas City Cycling\"}, {\"avg_hr\": 102, \"max_hr\": 134, \"calories\": 166.0, \"distance\": 2.41, \"title\": \"Kansas City Cycling\"}, {\"avg_hr\": 152, \"max_hr\": 176, \"calories\": 416.0, \"distance\": 3.01, \"title\": \"Kansas City Running\"}, {\"avg_hr\": 156, \"max_hr\": 174, \"calories\": 107.0, \"distance\": 0.78, \"title\": \"Kansas City Running\"}, {\"avg_hr\": 144, \"max_hr\": 158, \"calories\": 92.0, \"distance\": 0.77, \"title\": \"Kansas City Running\"}, {\"avg_hr\": 144, \"max_hr\": 159, \"calories\": 110.0, \"distance\": 0.8, \"title\": \"Kansas City Running\"}, {\"avg_hr\": 144, \"max_hr\": 163, \"calories\": 93.0, \"distance\": 0.73, \"title\": \"Kansas City Running\"}, {\"avg_hr\": 152, \"max_hr\": 170, \"calories\": 116.0, \"distance\": 0.8, \"title\": \"Kansas City Running\"}, {\"avg_hr\": 146, \"max_hr\": 167, \"calories\": 107.0, \"distance\": 0.84, \"title\": \"Kansas City Running\"}, {\"avg_hr\": 151, \"max_hr\": 179, \"calories\": 587.0, \"distance\": 4.31, \"title\": \"Kansas City Running\"}, {\"avg_hr\": 148, \"max_hr\": 159, \"calories\": 106.0, \"distance\": 0.81, \"title\": \"Kansas City Running\"}, {\"avg_hr\": 137, \"max_hr\": 157, \"calories\": 90.0, \"distance\": 0.74, \"title\": \"Kansas City Running\"}, {\"avg_hr\": 146, \"max_hr\": 172, \"calories\": 564.0, \"distance\": 4.32, \"title\": \"Kansas City Running\"}, {\"avg_hr\": 144, \"max_hr\": 164, \"calories\": 100.0, \"distance\": 0.8, \"title\": \"Kansas City Running\"}, {\"avg_hr\": 126, \"max_hr\": 148, \"calories\": 88.0, \"distance\": 0.78, \"title\": \"Kansas City Running\"}, {\"avg_hr\": 152, \"max_hr\": 181, \"calories\": 585.0, \"distance\": 4.31, \"title\": \"Kansas City Running\"}, {\"avg_hr\": 146, \"max_hr\": 162, \"calories\": 108.0, \"distance\": 0.75, \"title\": \"Kansas City Running\"}, {\"avg_hr\": 128, \"max_hr\": 150, \"calories\": 149.0, \"distance\": 0.81, \"title\": \"Kansas City Running\"}, {\"avg_hr\": 146, \"max_hr\": 166, \"calories\": 127.0, \"distance\": 0.76, \"title\": \"Treadmill Running\"}, {\"avg_hr\": 138, \"max_hr\": 150, \"calories\": 115.0, \"distance\": 0.89, \"title\": \"Treadmill Running\"}, {\"avg_hr\": 137, \"max_hr\": 155, \"calories\": 293.0, \"distance\": 2.27, \"title\": \"Kansas City Running\"}, {\"avg_hr\": 139, \"max_hr\": 163, \"calories\": 112.0, \"distance\": 0.76, \"title\": \"Treadmill Running\"}, {\"avg_hr\": 148, \"max_hr\": 170, \"calories\": 424.0, \"distance\": 3.01, \"title\": \"Kansas City Running\"}, {\"avg_hr\": 145, \"max_hr\": 177, \"calories\": 538.0, \"distance\": 4.13, \"title\": \"Kansas City Running\"}, {\"avg_hr\": 141, \"max_hr\": 163, \"calories\": 317.0, \"distance\": 2.45, \"title\": \"Kansas City Running\"}, {\"avg_hr\": 108, \"max_hr\": 132, \"calories\": 156.0, \"distance\": 2.05, \"title\": \"Kansas City Cycling\"}, {\"avg_hr\": 131, \"max_hr\": 159, \"calories\": 363.0, \"distance\": 2.6, \"title\": \"Kansas City Running\"}, {\"avg_hr\": 153, \"max_hr\": 179, \"calories\": 538.0, \"distance\": 4.1, \"title\": \"Kansas City Running\"}, {\"avg_hr\": 150, \"max_hr\": 164, \"calories\": 391.0, \"distance\": 2.91, \"title\": \"Kansas City Running\"}, {\"avg_hr\": 131, \"max_hr\": 167, \"calories\": 567.0, \"distance\": 4.37, \"title\": \"Kansas City Running\"}, {\"avg_hr\": 150, \"max_hr\": 169, \"calories\": 122.0, \"distance\": 0.83, \"title\": \"Kansas City Running\"}, {\"avg_hr\": 144, \"max_hr\": 165, \"calories\": 113.0, \"distance\": 0.81, \"title\": \"Kansas City Running\"}, {\"avg_hr\": 148, \"max_hr\": 173, \"calories\": 409.0, \"distance\": 3.01, \"title\": \"Kansas City Running\"}, {\"avg_hr\": 130, \"max_hr\": 138, \"calories\": 200.0, \"distance\": 1.5, \"title\": \"Treadmill Running\"}, {\"avg_hr\": 100, \"max_hr\": 119, \"calories\": 110.0, \"distance\": 1.73, \"title\": \"Kansas City Cycling\"}, {\"avg_hr\": 94, \"max_hr\": 121, \"calories\": 143.0, \"distance\": 1.9, \"title\": \"Kansas City Cycling\"}, {\"avg_hr\": 143, \"max_hr\": 163, \"calories\": 417.0, \"distance\": 3.0, \"title\": \"Kansas City Running\"}, {\"avg_hr\": 142, \"max_hr\": 154, \"calories\": 142.0, \"distance\": 1.09, \"title\": \"Treadmill Running\"}, {\"avg_hr\": 145, \"max_hr\": 161, \"calories\": 97.0, \"distance\": 0.67, \"title\": \"Kansas City Running\"}, {\"avg_hr\": 136, \"max_hr\": 155, \"calories\": 130.0, \"distance\": 0.98, \"title\": \"Kansas City Running\"}, {\"avg_hr\": 142, \"max_hr\": 150, \"calories\": 130.0, \"distance\": 1.0, \"title\": \"Treadmill Running\"}, {\"avg_hr\": 122, \"max_hr\": 130, \"calories\": 106.0, \"distance\": 1.1, \"title\": \"Treadmill Running\"}, {\"avg_hr\": 135, \"max_hr\": 144, \"calories\": 239.0, \"distance\": 2.0, \"title\": \"Treadmill Running\"}, {\"avg_hr\": 150, \"max_hr\": 169, \"calories\": 135.0, \"distance\": 1.02, \"title\": \"Treadmill Running\"}, {\"avg_hr\": 140, \"max_hr\": 152, \"calories\": 137.0, \"distance\": 1.03, \"title\": \"Treadmill Running\"}, {\"avg_hr\": 157, \"max_hr\": 177, \"calories\": 575.0, \"distance\": 4.22, \"title\": \"Kansas City Running\"}, {\"avg_hr\": 140, \"max_hr\": 155, \"calories\": 129.0, \"distance\": 1.0, \"title\": \"Treadmill Running\"}, {\"avg_hr\": 146, \"max_hr\": 158, \"calories\": 116.0, \"distance\": 0.9, \"title\": \"Treadmill Running\"}, {\"avg_hr\": 146, \"max_hr\": 159, \"calories\": 143.0, \"distance\": 1.0, \"title\": \"Treadmill Running\"}, {\"avg_hr\": 155, \"max_hr\": 159, \"calories\": 67.0, \"distance\": 0.55, \"title\": \"Treadmill Running\"}, {\"avg_hr\": 161, \"max_hr\": 177, \"calories\": 88.0, \"distance\": 0.68, \"title\": \"Treadmill Running\"}, {\"avg_hr\": 135, \"max_hr\": 154, \"calories\": 123.0, \"distance\": 1.1, \"title\": \"Treadmill Running\"}, {\"avg_hr\": 147, \"max_hr\": 165, \"calories\": 122.0, \"distance\": 1.12, \"title\": \"Treadmill Running\"}, {\"avg_hr\": 112, \"max_hr\": 130, \"calories\": 94.0, \"distance\": 0.81, \"title\": \"Treadmill Running\"}, {\"avg_hr\": 134, \"max_hr\": 145, \"calories\": 335.0, \"distance\": 3.0, \"title\": \"Treadmill Running\"}, {\"avg_hr\": 142, \"max_hr\": 154, \"calories\": 114.0, \"distance\": 0.95, \"title\": \"Treadmill Running\"}, {\"avg_hr\": 132, \"max_hr\": 152, \"calories\": 104.0, \"distance\": 0.93, \"title\": \"Treadmill Running\"}, {\"avg_hr\": 140, \"max_hr\": 152, \"calories\": 131.0, \"distance\": 1.01, \"title\": \"Treadmill Running\"}, {\"avg_hr\": 153, \"max_hr\": 167, \"calories\": 112.0, \"distance\": 1.02, \"title\": \"Treadmill Running\"}, {\"avg_hr\": 144, \"max_hr\": 151, \"calories\": 117.0, \"distance\": 1.0, \"title\": \"Treadmill Running\"}, {\"avg_hr\": 153, \"max_hr\": 165, \"calories\": 140.0, \"distance\": 0.99, \"title\": \"Treadmill Running\"}, {\"avg_hr\": 143, \"max_hr\": 159, \"calories\": 130.0, \"distance\": 0.99, \"title\": \"Treadmill Running\"}, {\"avg_hr\": 153, \"max_hr\": 169, \"calories\": 182.0, \"distance\": 1.5, \"title\": \"Treadmill Running\"}, {\"avg_hr\": 124, \"max_hr\": 154, \"calories\": 232.0, \"distance\": 1.5, \"title\": \"Treadmill Running\"}, {\"avg_hr\": 146, \"max_hr\": 165, \"calories\": 272.0, \"distance\": 2.0, \"title\": \"Treadmill Running\"}, {\"avg_hr\": 116, \"max_hr\": 148, \"calories\": 155.0, \"distance\": 0.67, \"title\": \"Treadmill Running\"}, {\"avg_hr\": 129, \"max_hr\": 147, \"calories\": 159.0, \"distance\": 0.87, \"title\": \"Treadmill Running\"}, {\"avg_hr\": 124, \"max_hr\": 148, \"calories\": 139.0, \"distance\": 0.82, \"title\": \"Treadmill Running\"}, {\"avg_hr\": 102, \"max_hr\": 126, \"calories\": 114.0, \"distance\": 1.93, \"title\": \"Kansas City Cycling\"}, {\"avg_hr\": 103, \"max_hr\": 128, \"calories\": 138.0, \"distance\": 1.27, \"title\": \"Kansas City Cycling\"}, {\"avg_hr\": 124, \"max_hr\": 152, \"calories\": 69.0, \"distance\": 0.46, \"title\": \"Treadmill Running\"}, {\"avg_hr\": 153, \"max_hr\": 163, \"calories\": 131.0, \"distance\": 0.84, \"title\": \"Treadmill Running\"}, {\"avg_hr\": 124, \"max_hr\": 166, \"calories\": 161.0, \"distance\": 0.87, \"title\": \"Treadmill Running\"}, {\"avg_hr\": 115, \"max_hr\": 155, \"calories\": 247.0, \"distance\": 0.9, \"title\": \"Treadmill Running\"}, {\"avg_hr\": 138, \"max_hr\": 144, \"calories\": 15.0, \"distance\": 0.1, \"title\": \"Treadmill Running\"}, {\"avg_hr\": 151, \"max_hr\": 168, \"calories\": 134.0, \"distance\": 0.83, \"title\": \"Treadmill Running\"}, {\"avg_hr\": 133, \"max_hr\": 151, \"calories\": 143.0, \"distance\": 0.87, \"title\": \"Treadmill Running\"}, {\"avg_hr\": 145, \"max_hr\": 158, \"calories\": 79.0, \"distance\": 0.47, \"title\": \"Treadmill Running\"}, {\"avg_hr\": 139, \"max_hr\": 153, \"calories\": 112.0, \"distance\": 0.82, \"title\": \"Treadmill Running\"}, {\"avg_hr\": 141, \"max_hr\": 171, \"calories\": 447.0, \"distance\": 2.64, \"title\": \"Kansas City Running\"}, {\"avg_hr\": 134, \"max_hr\": 158, \"calories\": 138.0, \"distance\": 0.86, \"title\": \"Treadmill Running\"}, {\"avg_hr\": 118, \"max_hr\": 159, \"calories\": 171.0, \"distance\": 0.87, \"title\": \"Treadmill Running\"}, {\"avg_hr\": 123, \"max_hr\": 147, \"calories\": 90.0, \"distance\": 0.66, \"title\": \"Treadmill Running\"}, {\"avg_hr\": 135, \"max_hr\": 151, \"calories\": 101.0, \"distance\": 0.84, \"title\": \"Treadmill Running\"}, {\"avg_hr\": 139, \"max_hr\": 158, \"calories\": 110.0, \"distance\": 0.89, \"title\": \"Treadmill Running\"}, {\"avg_hr\": 136, \"max_hr\": 153, \"calories\": 123.0, \"distance\": 0.84, \"title\": \"Treadmill Running\"}, {\"avg_hr\": 142, \"max_hr\": 160, \"calories\": 112.0, \"distance\": 0.85, \"title\": \"Treadmill Running\"}, {\"avg_hr\": 142, \"max_hr\": 161, \"calories\": 121.0, \"distance\": 0.85, \"title\": \"Treadmill Running\"}, {\"avg_hr\": 134, \"max_hr\": 164, \"calories\": 191.0, \"distance\": 1.0, \"title\": \"Treadmill Running\"}, {\"avg_hr\": 142, \"max_hr\": 159, \"calories\": 130.0, \"distance\": 0.86, \"title\": \"Treadmill Running\"}, {\"avg_hr\": 116, \"max_hr\": 161, \"calories\": 111.0, \"distance\": 0.33, \"title\": \"Treadmill Running\"}, {\"avg_hr\": 150, \"max_hr\": 165, \"calories\": 111.0, \"distance\": 0.83, \"title\": \"Treadmill Running\"}, {\"avg_hr\": 144, \"max_hr\": 158, \"calories\": 125.0, \"distance\": 0.64, \"title\": \"Treadmill Running\"}, {\"avg_hr\": 137, \"max_hr\": 153, \"calories\": 128.0, \"distance\": 0.84, \"title\": \"Treadmill Running\"}, {\"avg_hr\": 145, \"max_hr\": 151, \"calories\": 90.0, \"distance\": 0.7, \"title\": \"Treadmill Running\"}, {\"avg_hr\": 145, \"max_hr\": 161, \"calories\": 105.0, \"distance\": 0.83, \"title\": \"Treadmill Running\"}, {\"avg_hr\": 146, \"max_hr\": 168, \"calories\": 112.0, \"distance\": 0.93, \"title\": \"Treadmill Running\"}, {\"avg_hr\": 151, \"max_hr\": 162, \"calories\": 563.0, \"distance\": 4.24, \"title\": \"Kansas City Running\"}, {\"avg_hr\": 151, \"max_hr\": 162, \"calories\": 121.0, \"distance\": 0.98, \"title\": \"Treadmill Running\"}, {\"avg_hr\": 128, \"max_hr\": 158, \"calories\": 147.0, \"distance\": 0.99, \"title\": \"Treadmill Running\"}, {\"avg_hr\": 147, \"max_hr\": 166, \"calories\": 107.0, \"distance\": 1.01, \"title\": \"Treadmill Running\"}, {\"avg_hr\": 135, \"max_hr\": 163, \"calories\": 155.0, \"distance\": 0.99, \"title\": \"Treadmill Running\"}, {\"avg_hr\": 145, \"max_hr\": 164, \"calories\": 109.0, \"distance\": 0.97, \"title\": \"Treadmill Running\"}, {\"avg_hr\": 144, \"max_hr\": 156, \"calories\": 116.0, \"distance\": 1.0, \"title\": \"Treadmill Running\"}, {\"avg_hr\": 139, \"max_hr\": 150, \"calories\": 111.0, \"distance\": 0.98, \"title\": \"Treadmill Running\"}, {\"avg_hr\": 143, \"max_hr\": 158, \"calories\": 74.0, \"distance\": 0.65, \"title\": \"Treadmill Running\"}, {\"avg_hr\": 142, \"max_hr\": 151, \"calories\": 109.0, \"distance\": 0.9, \"title\": \"Treadmill Running\"}, {\"avg_hr\": 149, \"max_hr\": 168, \"calories\": 145.0, \"distance\": 1.0, \"title\": \"Treadmill Running\"}, {\"avg_hr\": 128, \"max_hr\": 142, \"calories\": 105.0, \"distance\": 1.0, \"title\": \"Treadmill Running\"}, {\"avg_hr\": 147, \"max_hr\": 158, \"calories\": 216.0, \"distance\": 2.0, \"title\": \"Treadmill Running\"}, {\"avg_hr\": 151, \"max_hr\": 166, \"calories\": 148.0, \"distance\": 1.0, \"title\": \"Treadmill Running\"}, {\"avg_hr\": 135, \"max_hr\": 148, \"calories\": 127.0, \"distance\": 1.0, \"title\": \"Treadmill Running\"}, {\"avg_hr\": 121, \"max_hr\": 143, \"calories\": 105.0, \"distance\": 1.32, \"title\": \"Treadmill Running\"}, {\"avg_hr\": 134, \"max_hr\": 154, \"calories\": 71.0, \"distance\": 0.53, \"title\": \"Treadmill Running\"}, {\"avg_hr\": 156, \"max_hr\": 165, \"calories\": 132.0, \"distance\": 1.5, \"title\": \"Treadmill Running\"}, {\"avg_hr\": 127, \"max_hr\": 160, \"calories\": 199.0, \"distance\": 1.49, \"title\": \"Treadmill Running\"}, {\"avg_hr\": 125, \"max_hr\": 147, \"calories\": 147.0, \"distance\": 1.0, \"title\": \"Treadmill Running\"}, {\"avg_hr\": 130, \"max_hr\": 151, \"calories\": 137.0, \"distance\": 0.89, \"title\": \"Treadmill Running\"}, {\"avg_hr\": 126, \"max_hr\": 171, \"calories\": 303.0, \"distance\": 1.5, \"title\": \"Treadmill Running\"}, {\"avg_hr\": 143, \"max_hr\": 160, \"calories\": 185.0, \"distance\": 1.5, \"title\": \"Treadmill Running\"}, {\"avg_hr\": 140, \"max_hr\": 158, \"calories\": 235.0, \"distance\": 2.0, \"title\": \"Treadmill Running\"}, {\"avg_hr\": 125, \"max_hr\": 131, \"calories\": 51.0, \"distance\": 0.48, \"title\": \"Treadmill Running\"}, {\"avg_hr\": 128, \"max_hr\": 140, \"calories\": 97.0, \"distance\": 0.91, \"title\": \"Treadmill Running\"}, {\"avg_hr\": 141, \"max_hr\": 175, \"calories\": 404.0, \"distance\": 3.07, \"title\": \"Treadmill Running\"}, {\"avg_hr\": 145, \"max_hr\": 157, \"calories\": 106.0, \"distance\": 0.93, \"title\": \"Treadmill Running\"}, {\"avg_hr\": 145, \"max_hr\": 154, \"calories\": 115.0, \"distance\": 1.03, \"title\": \"Treadmill Running\"}, {\"avg_hr\": 131, \"max_hr\": 151, \"calories\": 119.0, \"distance\": 1.0, \"title\": \"Treadmill Running\"}, {\"avg_hr\": 149, \"max_hr\": 166, \"calories\": 126.0, \"distance\": 1.04, \"title\": \"Treadmill Running\"}, {\"avg_hr\": 136, \"max_hr\": 148, \"calories\": 104.0, \"distance\": 1.0, \"title\": \"Treadmill Running\"}, {\"avg_hr\": 151, \"max_hr\": 166, \"calories\": 143.0, \"distance\": 1.0, \"title\": \"Treadmill Running\"}, {\"avg_hr\": 138, \"max_hr\": 145, \"calories\": 92.0, \"distance\": 0.95, \"title\": \"Treadmill Running\"}, {\"avg_hr\": 127, \"max_hr\": 142, \"calories\": 110.0, \"distance\": 1.0, \"title\": \"Treadmill Running\"}, {\"avg_hr\": 140, \"max_hr\": 156, \"calories\": 116.0, \"distance\": 1.0, \"title\": \"Treadmill Running\"}, {\"avg_hr\": 143, \"max_hr\": 157, \"calories\": 216.0, \"distance\": 2.05, \"title\": \"Treadmill Running\"}, {\"avg_hr\": 151, \"max_hr\": 154, \"calories\": 112.0, \"distance\": 0.9, \"title\": \"Treadmill Running\"}, {\"avg_hr\": 130, \"max_hr\": 146, \"calories\": 94.0, \"distance\": 0.9, \"title\": \"Treadmill Running\"}, {\"avg_hr\": 153, \"max_hr\": 168, \"calories\": 126.0, \"distance\": 0.93, \"title\": \"Treadmill Running\"}, {\"avg_hr\": 122, \"max_hr\": 153, \"calories\": 120.0, \"distance\": 0.96, \"title\": \"Treadmill Running\"}, {\"avg_hr\": 129, \"max_hr\": 159, \"calories\": 161.0, \"distance\": 0.97, \"title\": \"Treadmill Running\"}, {\"avg_hr\": 143, \"max_hr\": 180, \"calories\": 497.0, \"distance\": 3.47, \"title\": \"Treadmill Running\"}, {\"avg_hr\": 158, \"max_hr\": 169, \"calories\": 110.0, \"distance\": 0.88, \"title\": \"Treadmill Running\"}, {\"avg_hr\": 143, \"max_hr\": 158, \"calories\": 105.0, \"distance\": 0.94, \"title\": \"Treadmill Running\"}, {\"avg_hr\": 155, \"max_hr\": 166, \"calories\": 109.0, \"distance\": 0.94, \"title\": \"Treadmill Running\"}, {\"avg_hr\": 134, \"max_hr\": 150, \"calories\": 98.0, \"distance\": 0.96, \"title\": \"Treadmill Running\"}, {\"avg_hr\": 144, \"max_hr\": 156, \"calories\": 162.0, \"distance\": 1.0, \"title\": \"Treadmill Running\"}, {\"avg_hr\": 139, \"max_hr\": 149, \"calories\": 128.0, \"distance\": 0.96, \"title\": \"Treadmill Running\"}, {\"avg_hr\": 150, \"max_hr\": 172, \"calories\": 127.0, \"distance\": 0.93, \"title\": \"Treadmill Running\"}, {\"avg_hr\": 148, \"max_hr\": 167, \"calories\": 272.0, \"distance\": 2.0, \"title\": \"Treadmill Running\"}, {\"avg_hr\": 155, \"max_hr\": 160, \"calories\": 190.0, \"distance\": 2.01, \"title\": \"Treadmill Running\"}, {\"avg_hr\": 140, \"max_hr\": 148, \"calories\": 116.0, \"distance\": 1.02, \"title\": \"Treadmill Running\"}, {\"avg_hr\": 142, \"max_hr\": 162, \"calories\": 118.0, \"distance\": 1.01, \"title\": \"Treadmill Running\"}, {\"avg_hr\": 150, \"max_hr\": 164, \"calories\": 134.0, \"distance\": 1.0, \"title\": \"Treadmill Running\"}, {\"avg_hr\": 144, \"max_hr\": 157, \"calories\": 123.0, \"distance\": 1.02, \"title\": \"Treadmill Running\"}, {\"avg_hr\": 141, \"max_hr\": 162, \"calories\": 608.0, \"distance\": 4.44, \"title\": \"Kansas City Running\"}, {\"avg_hr\": 88, \"max_hr\": 107, \"calories\": 80.0, \"distance\": 0.0, \"title\": \"Strength\"}, {\"avg_hr\": 149, \"max_hr\": 182, \"calories\": 565.0, \"distance\": 4.25, \"title\": \"Kansas City Running\"}, {\"avg_hr\": 148, \"max_hr\": 170, \"calories\": 553.0, \"distance\": 4.32, \"title\": \"Kansas City Running\"}, {\"avg_hr\": 156, \"max_hr\": 187, \"calories\": 404.0, \"distance\": 3.02, \"title\": \"Kansas City Running\"}]}}, {\"mode\": \"vega-lite\"});\n",
       "</script>"
      ],
      "text/plain": [
       "alt.Chart(...)"
      ]
     },
     "execution_count": 53,
     "metadata": {},
     "output_type": "execute_result"
    }
   ],
   "source": [
    "alt.Chart(df[['avg_hr', 'max_hr', 'calories', 'distance', 'title']]).mark_circle(size=60).encode(\n",
    "    x='distance',\n",
    "    y='calories',\n",
    "    color='title',\n",
    "    tooltip=['avg_hr', 'max_hr', 'calories', 'distance', 'title']\n",
    ").interactive()"
   ]
  },
  {
   "cell_type": "code",
   "execution_count": 58,
   "metadata": {},
   "outputs": [
    {
     "data": {
      "text/html": [
       "\n",
       "<div id=\"altair-viz-e2d527f803e141a2b0ca3bf7d596336a\"></div>\n",
       "<script type=\"text/javascript\">\n",
       "  (function(spec, embedOpt){\n",
       "    const outputDiv = document.getElementById(\"altair-viz-e2d527f803e141a2b0ca3bf7d596336a\");\n",
       "    const paths = {\n",
       "      \"vega\": \"https://cdn.jsdelivr.net/npm//vega@5?noext\",\n",
       "      \"vega-lib\": \"https://cdn.jsdelivr.net/npm//vega-lib?noext\",\n",
       "      \"vega-lite\": \"https://cdn.jsdelivr.net/npm//vega-lite@4.0.2?noext\",\n",
       "      \"vega-embed\": \"https://cdn.jsdelivr.net/npm//vega-embed@6?noext\",\n",
       "    };\n",
       "\n",
       "    function loadScript(lib) {\n",
       "      return new Promise(function(resolve, reject) {\n",
       "        var s = document.createElement('script');\n",
       "        s.src = paths[lib];\n",
       "        s.async = true;\n",
       "        s.onload = () => resolve(paths[lib]);\n",
       "        s.onerror = () => reject(`Error loading script: ${paths[lib]}`);\n",
       "        document.getElementsByTagName(\"head\")[0].appendChild(s);\n",
       "      });\n",
       "    }\n",
       "\n",
       "    function showError(err) {\n",
       "      outputDiv.innerHTML = `<div class=\"error\" style=\"color:red;\">${err}</div>`;\n",
       "      throw err;\n",
       "    }\n",
       "\n",
       "    function displayChart(vegaEmbed) {\n",
       "      vegaEmbed(outputDiv, spec, embedOpt)\n",
       "        .catch(err => showError(`Javascript Error: ${err.message}<br>This usually means there's a typo in your chart specification. See the javascript console for the full traceback.`));\n",
       "    }\n",
       "\n",
       "    if(typeof define === \"function\" && define.amd) {\n",
       "      requirejs.config({paths});\n",
       "      require([\"vega-embed\"], displayChart, err => showError(`Error loading script: ${err.message}`));\n",
       "    } else if (typeof vegaEmbed === \"function\") {\n",
       "      displayChart(vegaEmbed);\n",
       "    } else {\n",
       "      loadScript(\"vega\")\n",
       "        .then(() => loadScript(\"vega-lite\"))\n",
       "        .then(() => loadScript(\"vega-embed\"))\n",
       "        .catch(showError)\n",
       "        .then(() => displayChart(vegaEmbed));\n",
       "    }\n",
       "  })({\"config\": {\"view\": {\"continuousWidth\": 400, \"continuousHeight\": 300}}, \"data\": {\"name\": \"data-0b589847b9f286af0f46a0b44afc6d8e\"}, \"mark\": {\"type\": \"circle\", \"size\": 60}, \"encoding\": {\"color\": {\"type\": \"nominal\", \"field\": \"time_day\"}, \"tooltip\": [{\"type\": \"quantitative\", \"field\": \"avg_hr\"}, {\"type\": \"quantitative\", \"field\": \"max_hr\"}, {\"type\": \"quantitative\", \"field\": \"calories\"}, {\"type\": \"quantitative\", \"field\": \"distance\"}, {\"type\": \"nominal\", \"field\": \"title\"}, {\"type\": \"nominal\", \"field\": \"time_day\"}], \"x\": {\"type\": \"quantitative\", \"field\": \"distance\"}, \"y\": {\"type\": \"quantitative\", \"field\": \"calories\"}}, \"selection\": {\"selector002\": {\"type\": \"interval\", \"bind\": \"scales\", \"encodings\": [\"x\", \"y\"]}}, \"$schema\": \"https://vega.github.io/schema/vega-lite/v4.0.2.json\", \"datasets\": {\"data-0b589847b9f286af0f46a0b44afc6d8e\": [{\"avg_hr\": 155, \"max_hr\": 182, \"calories\": 317.0, \"distance\": 2.38, \"title\": \"Sydney Running\", \"time_day\": \"night\"}, {\"avg_hr\": 158, \"max_hr\": 171, \"calories\": 550.0, \"distance\": 4.09, \"title\": \"Sydney Running\", \"time_day\": \"night\"}, {\"avg_hr\": 150, \"max_hr\": 168, \"calories\": 336.0, \"distance\": 2.82, \"title\": \"Sydney Running\", \"time_day\": \"afternoon\"}, {\"avg_hr\": 136, \"max_hr\": 148, \"calories\": 117.0, \"distance\": 1.0, \"title\": \"Sydney Running\", \"time_day\": \"night\"}, {\"avg_hr\": 150, \"max_hr\": 170, \"calories\": 347.0, \"distance\": 2.8, \"title\": \"Sydney Running\", \"time_day\": \"afternoon\"}, {\"avg_hr\": 150, \"max_hr\": 171, \"calories\": 335.0, \"distance\": 2.78, \"title\": \"Sydney Running\", \"time_day\": \"night\"}, {\"avg_hr\": 144, \"max_hr\": 169, \"calories\": 334.0, \"distance\": 2.91, \"title\": \"Sydney Running\", \"time_day\": \"afternoon\"}, {\"avg_hr\": 147, \"max_hr\": 165, \"calories\": 490.0, \"distance\": 4.02, \"title\": \"Sydney Running\", \"time_day\": \"night\"}, {\"avg_hr\": 138, \"max_hr\": 166, \"calories\": 279.0, \"distance\": 2.26, \"title\": \"Sydney Running\", \"time_day\": \"night\"}, {\"avg_hr\": 155, \"max_hr\": 175, \"calories\": 521.0, \"distance\": 4.01, \"title\": \"Sydney Running\", \"time_day\": \"night\"}, {\"avg_hr\": 99, \"max_hr\": 110, \"calories\": 36.0, \"distance\": 0.0, \"title\": \"Elliptical\", \"time_day\": \"night\"}, {\"avg_hr\": 147, \"max_hr\": 168, \"calories\": 499.0, \"distance\": 3.92, \"title\": \"Sydney Running\", \"time_day\": \"night\"}, {\"avg_hr\": 142, \"max_hr\": 159, \"calories\": 508.0, \"distance\": 4.01, \"title\": \"Sydney Running\", \"time_day\": \"night\"}, {\"avg_hr\": 130, \"max_hr\": 141, \"calories\": 165.0, \"distance\": 1.27, \"title\": \"Treadmill Running\", \"time_day\": \"night\"}, {\"avg_hr\": 128, \"max_hr\": 137, \"calories\": 65.0, \"distance\": 0.63, \"title\": \"Treadmill Running\", \"time_day\": \"afternoon\"}, {\"avg_hr\": 135, \"max_hr\": 147, \"calories\": 148.0, \"distance\": 1.27, \"title\": \"Treadmill Running\", \"time_day\": \"night\"}, {\"avg_hr\": 152, \"max_hr\": 171, \"calories\": 359.0, \"distance\": 2.64, \"title\": \"Sydney Running\", \"time_day\": \"afternoon\"}, {\"avg_hr\": 159, \"max_hr\": 173, \"calories\": 71.0, \"distance\": 0.49, \"title\": \"Running\", \"time_day\": \"morning\"}, {\"avg_hr\": 156, \"max_hr\": 172, \"calories\": 177.0, \"distance\": 1.16, \"title\": \"Running\", \"time_day\": \"morning\"}, {\"avg_hr\": 151, \"max_hr\": 169, \"calories\": 281.0, \"distance\": 2.13, \"title\": \"Sydney Running\", \"time_day\": \"afternoon\"}, {\"avg_hr\": 106, \"max_hr\": 134, \"calories\": 183.0, \"distance\": 3.36, \"title\": \"Sydney Cycling\", \"time_day\": \"afternoon\"}, {\"avg_hr\": 111, \"max_hr\": 134, \"calories\": 223.0, \"distance\": 3.48, \"title\": \"Sydney Cycling\", \"time_day\": \"night\"}, {\"avg_hr\": 139, \"max_hr\": 155, \"calories\": 289.0, \"distance\": 2.5, \"title\": \"Sydney Running\", \"time_day\": \"night\"}, {\"avg_hr\": 143, \"max_hr\": 155, \"calories\": 156.0, \"distance\": 1.26, \"title\": \"Treadmill Running\", \"time_day\": \"afternoon\"}, {\"avg_hr\": 145, \"max_hr\": 173, \"calories\": 375.0, \"distance\": 3.01, \"title\": \"Darwin Running\", \"time_day\": \"night\"}, {\"avg_hr\": 149, \"max_hr\": 168, \"calories\": 414.0, \"distance\": 3.13, \"title\": \"Darwin Running\", \"time_day\": \"night\"}, {\"avg_hr\": 144, \"max_hr\": 165, \"calories\": 253.0, \"distance\": 2.0, \"title\": \"Sydney Running\", \"time_day\": \"afternoon\"}, {\"avg_hr\": 86, \"max_hr\": 131, \"calories\": 53.0, \"distance\": 0.0, \"title\": \"Elliptical\", \"time_day\": \"night\"}, {\"avg_hr\": 131, \"max_hr\": 148, \"calories\": 134.0, \"distance\": 1.39, \"title\": \"Treadmill Running\", \"time_day\": \"night\"}, {\"avg_hr\": 149, \"max_hr\": 169, \"calories\": 394.0, \"distance\": 3.07, \"title\": \"Sydney Running\", \"time_day\": \"afternoon\"}, {\"avg_hr\": 150, \"max_hr\": 162, \"calories\": 165.0, \"distance\": 1.32, \"title\": \"Sydney Running\", \"time_day\": \"night\"}, {\"avg_hr\": 148, \"max_hr\": 161, \"calories\": 384.0, \"distance\": 3.1, \"title\": \"Sydney Running\", \"time_day\": \"afternoon\"}, {\"avg_hr\": 131, \"max_hr\": 146, \"calories\": 50.0, \"distance\": 0.46, \"title\": \"Sydney Running\", \"time_day\": \"morning\"}, {\"avg_hr\": 130, \"max_hr\": 148, \"calories\": 64.0, \"distance\": 0.59, \"title\": \"Treadmill Running\", \"time_day\": \"night\"}, {\"avg_hr\": 153, \"max_hr\": 177, \"calories\": 610.0, \"distance\": 4.69, \"title\": \"Sydney Running\", \"time_day\": \"night\"}, {\"avg_hr\": 150, \"max_hr\": 163, \"calories\": 45.0, \"distance\": 0.37, \"title\": \"Sydney Running\", \"time_day\": \"afternoon\"}, {\"avg_hr\": 143, \"max_hr\": 164, \"calories\": 166.0, \"distance\": 1.37, \"title\": \"Sydney Running\", \"time_day\": \"afternoon\"}, {\"avg_hr\": 142, \"max_hr\": 155, \"calories\": 86.0, \"distance\": 0.8, \"title\": \"Treadmill Running\", \"time_day\": \"night\"}, {\"avg_hr\": 136, \"max_hr\": 153, \"calories\": 78.0, \"distance\": 0.77, \"title\": \"Treadmill Running\", \"time_day\": \"night\"}, {\"avg_hr\": 120, \"max_hr\": 154, \"calories\": 197.0, \"distance\": 1.11, \"title\": \"Treadmill Running\", \"time_day\": \"night\"}, {\"avg_hr\": 153, \"max_hr\": 190, \"calories\": 542.0, \"distance\": 4.13, \"title\": \"Sydney Running\", \"time_day\": \"night\"}, {\"avg_hr\": 141, \"max_hr\": 149, \"calories\": 120.0, \"distance\": 0.97, \"title\": \"Treadmill Running\", \"time_day\": \"night\"}, {\"avg_hr\": 158, \"max_hr\": 169, \"calories\": 237.0, \"distance\": 1.78, \"title\": \"Treadmill Running\", \"time_day\": \"night\"}, {\"avg_hr\": 142, \"max_hr\": 160, \"calories\": 176.0, \"distance\": 1.21, \"title\": \"Sydney Running\", \"time_day\": \"night\"}, {\"avg_hr\": 152, \"max_hr\": 167, \"calories\": 271.0, \"distance\": 1.87, \"title\": \"Treadmill Running\", \"time_day\": \"night\"}, {\"avg_hr\": 149, \"max_hr\": 177, \"calories\": 260.0, \"distance\": 1.83, \"title\": \"Treadmill Running\", \"time_day\": \"night\"}, {\"avg_hr\": 142, \"max_hr\": 162, \"calories\": 256.0, \"distance\": 1.83, \"title\": \"Treadmill Running\", \"time_day\": \"night\"}, {\"avg_hr\": 140, \"max_hr\": 154, \"calories\": 153.0, \"distance\": 0.92, \"title\": \"Treadmill Running\", \"time_day\": \"night\"}, {\"avg_hr\": 155, \"max_hr\": 174, \"calories\": 485.0, \"distance\": 3.52, \"title\": \"Sydney Running\", \"time_day\": \"night\"}, {\"avg_hr\": 154, \"max_hr\": 183, \"calories\": 586.0, \"distance\": 4.09, \"title\": \"Sydney Running\", \"time_day\": \"afternoon\"}, {\"avg_hr\": 124, \"max_hr\": 137, \"calories\": 27.0, \"distance\": 0.25, \"title\": \"Running\", \"time_day\": \"night\"}, {\"avg_hr\": 129, \"max_hr\": 140, \"calories\": 51.0, \"distance\": 0.43, \"title\": \"Running\", \"time_day\": \"night\"}, {\"avg_hr\": 145, \"max_hr\": 165, \"calories\": 91.0, \"distance\": 0.73, \"title\": \"Santiago Running\", \"time_day\": \"morning\"}, {\"avg_hr\": 70, \"max_hr\": 82, \"calories\": 13.0, \"distance\": 0.0, \"title\": \"Elliptical\", \"time_day\": \"morning\"}, {\"avg_hr\": 130, \"max_hr\": 143, \"calories\": 29.0, \"distance\": 0.27, \"title\": \"Santiago Running\", \"time_day\": \"morning\"}, {\"avg_hr\": 137, \"max_hr\": 149, \"calories\": 76.0, \"distance\": 0.6, \"title\": \"Running\", \"time_day\": \"night\"}, {\"avg_hr\": 150, \"max_hr\": 173, \"calories\": 546.0, \"distance\": 4.01, \"title\": \"Santiago Running\", \"time_day\": \"afternoon\"}, {\"avg_hr\": 132, \"max_hr\": 143, \"calories\": 126.0, \"distance\": 1.04, \"title\": \"Treadmill Running\", \"time_day\": \"morning\"}, {\"avg_hr\": 78, \"max_hr\": 103, \"calories\": 28.0, \"distance\": 0.0, \"title\": \"Elliptical\", \"time_day\": \"morning\"}, {\"avg_hr\": 145, \"max_hr\": 157, \"calories\": 112.0, \"distance\": 0.89, \"title\": \"Treadmill Running\", \"time_day\": \"morning\"}, {\"avg_hr\": 116, \"max_hr\": 136, \"calories\": 184.0, \"distance\": 0.0, \"title\": \"Elliptical\", \"time_day\": \"morning\"}, {\"avg_hr\": 124, \"max_hr\": 124, \"calories\": null, \"distance\": 0.0, \"title\": \"Santiago Running\", \"time_day\": \"night\"}, {\"avg_hr\": 154, \"max_hr\": 178, \"calories\": 659.0, \"distance\": 4.51, \"title\": \"Santiago Running\", \"time_day\": \"afternoon\"}, {\"avg_hr\": 129, \"max_hr\": 141, \"calories\": 85.0, \"distance\": 0.69, \"title\": \"Treadmill Running\", \"time_day\": \"morning\"}, {\"avg_hr\": 152, \"max_hr\": 161, \"calories\": 105.0, \"distance\": 0.88, \"title\": \"Treadmill Running\", \"time_day\": \"morning\"}, {\"avg_hr\": 134, \"max_hr\": 157, \"calories\": 62.0, \"distance\": 0.57, \"title\": \"Santiago Running\", \"time_day\": \"night\"}, {\"avg_hr\": 134, \"max_hr\": 147, \"calories\": 74.0, \"distance\": 0.57, \"title\": \"Running\", \"time_day\": \"morning\"}, {\"avg_hr\": 126, \"max_hr\": 144, \"calories\": 33.0, \"distance\": 0.26, \"title\": \"Kansas City Running\", \"time_day\": \"afternoon\"}, {\"avg_hr\": 147, \"max_hr\": 158, \"calories\": 275.0, \"distance\": 2.01, \"title\": \"Kansas City Running\", \"time_day\": \"morning\"}, {\"avg_hr\": 90, \"max_hr\": 121, \"calories\": 64.0, \"distance\": 1.02, \"title\": \"Washington Cycling\", \"time_day\": \"afternoon\"}, {\"avg_hr\": 84, \"max_hr\": 111, \"calories\": 191.0, \"distance\": 4.36, \"title\": \"Washington Cycling\", \"time_day\": \"night\"}, {\"avg_hr\": 89, \"max_hr\": 113, \"calories\": 171.0, \"distance\": 4.11, \"title\": \"Washington Cycling\", \"time_day\": \"morning\"}, {\"avg_hr\": 86, \"max_hr\": 116, \"calories\": 128.0, \"distance\": 2.43, \"title\": \"Washington Cycling\", \"time_day\": \"night\"}, {\"avg_hr\": 104, \"max_hr\": 125, \"calories\": 56.0, \"distance\": 0.84, \"title\": \"Washington Cycling\", \"time_day\": \"night\"}, {\"avg_hr\": 87, \"max_hr\": 95, \"calories\": 26.0, \"distance\": 0.78, \"title\": \"Washington Cycling\", \"time_day\": \"night\"}, {\"avg_hr\": 96, \"max_hr\": 107, \"calories\": 47.0, \"distance\": 0.95, \"title\": \"Washington Cycling\", \"time_day\": \"afternoon\"}, {\"avg_hr\": 91, \"max_hr\": 112, \"calories\": 27.0, \"distance\": 0.44, \"title\": \"Washington Cycling\", \"time_day\": \"morning\"}, {\"avg_hr\": 88, \"max_hr\": 116, \"calories\": 122.0, \"distance\": 2.72, \"title\": \"Washington Cycling\", \"time_day\": \"morning\"}, {\"avg_hr\": 82, \"max_hr\": 94, \"calories\": 21.0, \"distance\": 0.71, \"title\": \"Washington Cycling\", \"time_day\": \"morning\"}, {\"avg_hr\": 90, \"max_hr\": 99, \"calories\": 20.0, \"distance\": 0.41, \"title\": \"Washington Cycling\", \"time_day\": \"morning\"}, {\"avg_hr\": 84, \"max_hr\": 105, \"calories\": 82.0, \"distance\": 2.25, \"title\": \"Washington Cycling\", \"time_day\": \"night\"}, {\"avg_hr\": 92, \"max_hr\": 109, \"calories\": 69.0, \"distance\": 1.87, \"title\": \"Washington Cycling\", \"time_day\": \"afternoon\"}, {\"avg_hr\": 76, \"max_hr\": 100, \"calories\": 26.0, \"distance\": 0.72, \"title\": \"Washington Cycling\", \"time_day\": \"morning\"}, {\"avg_hr\": 90, \"max_hr\": 113, \"calories\": 110.0, \"distance\": 2.43, \"title\": \"Washington Cycling\", \"time_day\": \"morning\"}, {\"avg_hr\": 92, \"max_hr\": 132, \"calories\": 176.0, \"distance\": 3.0, \"title\": \"Washington Cycling\", \"time_day\": \"morning\"}, {\"avg_hr\": 93, \"max_hr\": 120, \"calories\": 181.0, \"distance\": 2.89, \"title\": \"Washington Cycling\", \"time_day\": \"afternoon\"}, {\"avg_hr\": 121, \"max_hr\": 141, \"calories\": 76.0, \"distance\": 0.95, \"title\": \"Washington Cycling\", \"time_day\": \"night\"}, {\"avg_hr\": 120, \"max_hr\": 128, \"calories\": 85.0, \"distance\": 0.76, \"title\": \"Washington Cycling\", \"time_day\": \"afternoon\"}, {\"avg_hr\": 87, \"max_hr\": 125, \"calories\": 143.0, \"distance\": 1.07, \"title\": \"Washington Cycling\", \"time_day\": \"night\"}, {\"avg_hr\": 98, \"max_hr\": 111, \"calories\": 50.0, \"distance\": 0.16, \"title\": \"Washington Cycling\", \"time_day\": \"afternoon\"}, {\"avg_hr\": 150, \"max_hr\": 170, \"calories\": 276.0, \"distance\": 2.01, \"title\": \"Washington Running\", \"time_day\": \"afternoon\"}, {\"avg_hr\": 90, \"max_hr\": 118, \"calories\": 111.0, \"distance\": 2.12, \"title\": \"Washington Cycling\", \"time_day\": \"night\"}, {\"avg_hr\": 112, \"max_hr\": 146, \"calories\": 107.0, \"distance\": 2.03, \"title\": \"Washington Cycling\", \"time_day\": \"afternoon\"}, {\"avg_hr\": 92, \"max_hr\": 106, \"calories\": 64.0, \"distance\": 0.87, \"title\": \"Washington Cycling\", \"time_day\": \"afternoon\"}, {\"avg_hr\": 104, \"max_hr\": 122, \"calories\": 57.0, \"distance\": 0.91, \"title\": \"Washington Cycling\", \"time_day\": \"night\"}, {\"avg_hr\": 93, \"max_hr\": 112, \"calories\": 108.0, \"distance\": 2.02, \"title\": \"Washington Cycling\", \"time_day\": \"night\"}, {\"avg_hr\": 94, \"max_hr\": 110, \"calories\": 65.0, \"distance\": 1.05, \"title\": \"Washington Cycling\", \"time_day\": \"morning\"}, {\"avg_hr\": 87, \"max_hr\": 125, \"calories\": 112.0, \"distance\": 0.86, \"title\": \"Washington Cycling\", \"time_day\": \"night\"}, {\"avg_hr\": 105, \"max_hr\": 128, \"calories\": 54.0, \"distance\": 0.48, \"title\": \"Washington Cycling\", \"time_day\": \"afternoon\"}, {\"avg_hr\": 99, \"max_hr\": 124, \"calories\": 124.0, \"distance\": 2.12, \"title\": \"Washington Cycling\", \"time_day\": \"night\"}, {\"avg_hr\": 111, \"max_hr\": 130, \"calories\": 113.0, \"distance\": 1.9, \"title\": \"Washington Cycling\", \"time_day\": \"afternoon\"}, {\"avg_hr\": 99, \"max_hr\": 117, \"calories\": 45.0, \"distance\": 0.76, \"title\": \"Washington Cycling\", \"time_day\": \"night\"}, {\"avg_hr\": 84, \"max_hr\": 98, \"calories\": 33.0, \"distance\": 1.01, \"title\": \"Washington Cycling\", \"time_day\": \"afternoon\"}, {\"avg_hr\": 93, \"max_hr\": 117, \"calories\": 47.0, \"distance\": 1.02, \"title\": \"Washington Cycling\", \"time_day\": \"night\"}, {\"avg_hr\": 106, \"max_hr\": 128, \"calories\": 62.0, \"distance\": 0.84, \"title\": \"Washington Cycling\", \"time_day\": \"night\"}, {\"avg_hr\": 91, \"max_hr\": 109, \"calories\": 72.0, \"distance\": 0.83, \"title\": \"Washington Cycling\", \"time_day\": \"night\"}, {\"avg_hr\": 109, \"max_hr\": 131, \"calories\": 57.0, \"distance\": 1.07, \"title\": \"Washington Cycling\", \"time_day\": \"night\"}, {\"avg_hr\": 137, \"max_hr\": 158, \"calories\": 464.0, \"distance\": 3.12, \"title\": \"Washington Running\", \"time_day\": \"afternoon\"}, {\"avg_hr\": 94, \"max_hr\": 112, \"calories\": 64.0, \"distance\": 1.99, \"title\": \"Washington Cycling\", \"time_day\": \"afternoon\"}, {\"avg_hr\": 99, \"max_hr\": 113, \"calories\": 39.0, \"distance\": 0.87, \"title\": \"Washington Cycling\", \"time_day\": \"night\"}, {\"avg_hr\": 79, \"max_hr\": 94, \"calories\": 25.0, \"distance\": 1.03, \"title\": \"Washington Cycling\", \"time_day\": \"afternoon\"}, {\"avg_hr\": 91, \"max_hr\": 128, \"calories\": 153.0, \"distance\": 1.19, \"title\": \"Washington Cycling\", \"time_day\": \"night\"}, {\"avg_hr\": 103, \"max_hr\": 127, \"calories\": 55.0, \"distance\": 0.91, \"title\": \"Washington Cycling\", \"time_day\": \"afternoon\"}, {\"avg_hr\": 103, \"max_hr\": 122, \"calories\": 45.0, \"distance\": 0.63, \"title\": \"Washington Cycling\", \"time_day\": \"night\"}, {\"avg_hr\": 91, \"max_hr\": 119, \"calories\": 33.0, \"distance\": 0.0, \"title\": \"Cycling\", \"time_day\": \"afternoon\"}, {\"avg_hr\": 97, \"max_hr\": 118, \"calories\": 94.0, \"distance\": 1.91, \"title\": \"Washington Cycling\", \"time_day\": \"night\"}, {\"avg_hr\": 113, \"max_hr\": 152, \"calories\": 108.0, \"distance\": 1.87, \"title\": \"Washington Cycling\", \"time_day\": \"afternoon\"}, {\"avg_hr\": 95, \"max_hr\": 112, \"calories\": 108.0, \"distance\": 2.34, \"title\": \"Washington Cycling\", \"time_day\": \"night\"}, {\"avg_hr\": 101, \"max_hr\": 117, \"calories\": 89.0, \"distance\": 1.43, \"title\": \"Washington Cycling\", \"time_day\": \"afternoon\"}, {\"avg_hr\": 98, \"max_hr\": 118, \"calories\": 100.0, \"distance\": 0.88, \"title\": \"Washington Cycling\", \"time_day\": \"night\"}, {\"avg_hr\": 116, \"max_hr\": 139, \"calories\": 79.0, \"distance\": 0.77, \"title\": \"Washington Cycling\", \"time_day\": \"night\"}, {\"avg_hr\": 96, \"max_hr\": 116, \"calories\": 71.0, \"distance\": 1.57, \"title\": \"Washington Cycling\", \"time_day\": \"afternoon\"}, {\"avg_hr\": 85, \"max_hr\": 97, \"calories\": 18.0, \"distance\": 0.74, \"title\": \"Washington Cycling\", \"time_day\": \"night\"}, {\"avg_hr\": 98, \"max_hr\": 126, \"calories\": 46.0, \"distance\": 1.02, \"title\": \"Washington Cycling\", \"time_day\": \"afternoon\"}, {\"avg_hr\": 92, \"max_hr\": 105, \"calories\": 89.0, \"distance\": 1.1, \"title\": \"Washington Cycling\", \"time_day\": \"night\"}, {\"avg_hr\": 103, \"max_hr\": 120, \"calories\": 49.0, \"distance\": 1.03, \"title\": \"Washington Cycling\", \"time_day\": \"afternoon\"}, {\"avg_hr\": 97, \"max_hr\": 113, \"calories\": 38.0, \"distance\": 0.93, \"title\": \"Washington Cycling\", \"time_day\": \"night\"}, {\"avg_hr\": 86, \"max_hr\": 101, \"calories\": 35.0, \"distance\": 1.02, \"title\": \"Washington Cycling\", \"time_day\": \"afternoon\"}, {\"avg_hr\": 92, \"max_hr\": 111, \"calories\": 88.0, \"distance\": 2.11, \"title\": \"Washington Cycling\", \"time_day\": \"night\"}, {\"avg_hr\": 94, \"max_hr\": 114, \"calories\": 68.0, \"distance\": 1.47, \"title\": \"Washington Cycling\", \"time_day\": \"afternoon\"}, {\"avg_hr\": 87, \"max_hr\": 109, \"calories\": 88.0, \"distance\": 1.98, \"title\": \"Washington Cycling\", \"time_day\": \"night\"}, {\"avg_hr\": 108, \"max_hr\": 137, \"calories\": 94.0, \"distance\": 2.05, \"title\": \"Washington Cycling\", \"time_day\": \"afternoon\"}, {\"avg_hr\": 113, \"max_hr\": 133, \"calories\": 49.0, \"distance\": 0.63, \"title\": \"Washington Cycling\", \"time_day\": \"night\"}, {\"avg_hr\": 97, \"max_hr\": 114, \"calories\": 23.0, \"distance\": 0.42, \"title\": \"Washington Cycling\", \"time_day\": \"afternoon\"}, {\"avg_hr\": 135, \"max_hr\": 148, \"calories\": 317.0, \"distance\": 2.26, \"title\": \"Washington Running\", \"time_day\": \"morning\"}, {\"avg_hr\": 83, \"max_hr\": 107, \"calories\": 79.0, \"distance\": 2.29, \"title\": \"Washington Cycling\", \"time_day\": \"night\"}, {\"avg_hr\": 117, \"max_hr\": 168, \"calories\": 112.0, \"distance\": 1.68, \"title\": \"Washington Cycling\", \"time_day\": \"afternoon\"}, {\"avg_hr\": 95, \"max_hr\": 127, \"calories\": 112.0, \"distance\": 2.15, \"title\": \"Washington Cycling\", \"time_day\": \"night\"}, {\"avg_hr\": 104, \"max_hr\": 133, \"calories\": 99.0, \"distance\": 2.05, \"title\": \"Washington Cycling\", \"time_day\": \"afternoon\"}, {\"avg_hr\": 88, \"max_hr\": 116, \"calories\": 74.0, \"distance\": 0.76, \"title\": \"Washington Cycling\", \"time_day\": \"afternoon\"}, {\"avg_hr\": 91, \"max_hr\": 131, \"calories\": 76.0, \"distance\": 0.19, \"title\": \"Washington Cycling\", \"time_day\": \"afternoon\"}, {\"avg_hr\": 110, \"max_hr\": 124, \"calories\": 51.0, \"distance\": 0.99, \"title\": \"Washington Cycling\", \"time_day\": \"night\"}, {\"avg_hr\": 115, \"max_hr\": 131, \"calories\": 68.0, \"distance\": 0.94, \"title\": \"Washington Cycling\", \"time_day\": \"night\"}, {\"avg_hr\": 96, \"max_hr\": 121, \"calories\": 105.0, \"distance\": 2.23, \"title\": \"Washington Cycling\", \"time_day\": \"night\"}, {\"avg_hr\": 115, \"max_hr\": 128, \"calories\": 118.0, \"distance\": 1.98, \"title\": \"Washington Cycling\", \"time_day\": \"afternoon\"}, {\"avg_hr\": 96, \"max_hr\": 130, \"calories\": 58.0, \"distance\": 0.88, \"title\": \"Washington Cycling\", \"time_day\": \"afternoon\"}, {\"avg_hr\": 144, \"max_hr\": 160, \"calories\": 286.0, \"distance\": 2.12, \"title\": \"Washington Running\", \"time_day\": \"night\"}, {\"avg_hr\": 96, \"max_hr\": 126, \"calories\": 100.0, \"distance\": 1.49, \"title\": \"Washington Cycling\", \"time_day\": \"afternoon\"}, {\"avg_hr\": 97, \"max_hr\": 124, \"calories\": 132.0, \"distance\": 1.39, \"title\": \"Washington Cycling\", \"time_day\": \"afternoon\"}, {\"avg_hr\": 134, \"max_hr\": 157, \"calories\": 407.0, \"distance\": 2.83, \"title\": \"Washington Running\", \"time_day\": \"night\"}, {\"avg_hr\": 138, \"max_hr\": 178, \"calories\": 397.0, \"distance\": 2.81, \"title\": \"Washington Running\", \"time_day\": \"afternoon\"}, {\"avg_hr\": 109, \"max_hr\": 136, \"calories\": 118.0, \"distance\": 1.96, \"title\": \"Washington Cycling\", \"time_day\": \"night\"}, {\"avg_hr\": 136, \"max_hr\": 163, \"calories\": 135.0, \"distance\": 1.81, \"title\": \"Washington Cycling\", \"time_day\": \"afternoon\"}, {\"avg_hr\": 113, \"max_hr\": 130, \"calories\": 164.0, \"distance\": 2.13, \"title\": \"Washington Cycling\", \"time_day\": \"night\"}, {\"avg_hr\": 110, \"max_hr\": 131, \"calories\": 62.0, \"distance\": 1.34, \"title\": \"Washington Cycling\", \"time_day\": \"afternoon\"}, {\"avg_hr\": 118, \"max_hr\": 140, \"calories\": 167.0, \"distance\": 2.18, \"title\": \"Washington Cycling\", \"time_day\": \"night\"}, {\"avg_hr\": 119, \"max_hr\": 135, \"calories\": 124.0, \"distance\": 1.65, \"title\": \"Washington Cycling\", \"time_day\": \"afternoon\"}, {\"avg_hr\": 103, \"max_hr\": 127, \"calories\": 138.0, \"distance\": 2.27, \"title\": \"Washington Cycling\", \"time_day\": \"night\"}, {\"avg_hr\": 107, \"max_hr\": 131, \"calories\": 86.0, \"distance\": 1.64, \"title\": \"Washington Cycling\", \"time_day\": \"afternoon\"}, {\"avg_hr\": 143, \"max_hr\": 161, \"calories\": 299.0, \"distance\": 2.1, \"title\": \"Running\", \"time_day\": \"night\"}, {\"avg_hr\": 104, \"max_hr\": 141, \"calories\": 126.0, \"distance\": 2.17, \"title\": \"Washington Cycling\", \"time_day\": \"afternoon\"}, {\"avg_hr\": 104, \"max_hr\": 140, \"calories\": 229.0, \"distance\": 2.39, \"title\": \"Washington Cycling\", \"time_day\": \"afternoon\"}, {\"avg_hr\": 124, \"max_hr\": 144, \"calories\": 78.0, \"distance\": 0.36, \"title\": \"Washington Cycling\", \"time_day\": \"night\"}, {\"avg_hr\": 142, \"max_hr\": 151, \"calories\": 165.0, \"distance\": 1.12, \"title\": \"Running\", \"time_day\": \"afternoon\"}, {\"avg_hr\": 149, \"max_hr\": 169, \"calories\": 255.0, \"distance\": 1.63, \"title\": \"Running\", \"time_day\": \"night\"}, {\"avg_hr\": 110, \"max_hr\": 150, \"calories\": 48.0, \"distance\": 0.67, \"title\": \"Washington Cycling\", \"time_day\": \"morning\"}, {\"avg_hr\": 95, \"max_hr\": 122, \"calories\": 58.0, \"distance\": 1.17, \"title\": \"Washington Cycling\", \"time_day\": \"morning\"}, {\"avg_hr\": 118, \"max_hr\": 139, \"calories\": 170.0, \"distance\": 2.26, \"title\": \"Washington Cycling\", \"time_day\": \"afternoon\"}, {\"avg_hr\": 108, \"max_hr\": 147, \"calories\": 131.0, \"distance\": 0.74, \"title\": \"Washington Cycling\", \"time_day\": \"night\"}, {\"avg_hr\": 122, \"max_hr\": 143, \"calories\": 131.0, \"distance\": 1.97, \"title\": \"Washington Cycling\", \"time_day\": \"afternoon\"}, {\"avg_hr\": 147, \"max_hr\": 170, \"calories\": 312.0, \"distance\": 2.08, \"title\": \"Running\", \"time_day\": \"afternoon\"}, {\"avg_hr\": 87, \"max_hr\": 115, \"calories\": 24.0, \"distance\": 0.82, \"title\": \"Washington Cycling\", \"time_day\": \"night\"}, {\"avg_hr\": 108, \"max_hr\": 134, \"calories\": 61.0, \"distance\": 1.02, \"title\": \"Washington Cycling\", \"time_day\": \"afternoon\"}, {\"avg_hr\": 102, \"max_hr\": 127, \"calories\": 78.0, \"distance\": 1.52, \"title\": \"Washington Cycling\", \"time_day\": \"morning\"}, {\"avg_hr\": 110, \"max_hr\": 129, \"calories\": 79.0, \"distance\": 1.16, \"title\": \"Washington Cycling\", \"time_day\": \"morning\"}, {\"avg_hr\": 100, \"max_hr\": 120, \"calories\": 111.0, \"distance\": 2.22, \"title\": \"Washington Cycling\", \"time_day\": \"night\"}, {\"avg_hr\": 124, \"max_hr\": 142, \"calories\": 134.0, \"distance\": 1.74, \"title\": \"Washington Cycling\", \"time_day\": \"afternoon\"}, {\"avg_hr\": 123, \"max_hr\": 131, \"calories\": 51.0, \"distance\": 0.71, \"title\": \"Washington Cycling\", \"time_day\": \"afternoon\"}, {\"avg_hr\": 95, \"max_hr\": 113, \"calories\": 31.0, \"distance\": 0.64, \"title\": \"Washington Cycling\", \"time_day\": \"afternoon\"}, {\"avg_hr\": 100, \"max_hr\": 112, \"calories\": 23.0, \"distance\": 0.64, \"title\": \"Washington Cycling\", \"time_day\": \"night\"}, {\"avg_hr\": 116, \"max_hr\": 142, \"calories\": 63.0, \"distance\": 0.35, \"title\": \"Washington Cycling\", \"time_day\": \"night\"}, {\"avg_hr\": 90, \"max_hr\": 111, \"calories\": 49.0, \"distance\": 0.98, \"title\": \"Washington Cycling\", \"time_day\": \"night\"}, {\"avg_hr\": 102, \"max_hr\": 113, \"calories\": 50.0, \"distance\": 0.58, \"title\": \"Washington Cycling\", \"time_day\": \"night\"}, {\"avg_hr\": 107, \"max_hr\": 119, \"calories\": 40.0, \"distance\": 0.54, \"title\": \"Washington Cycling\", \"time_day\": \"night\"}, {\"avg_hr\": 93, \"max_hr\": 114, \"calories\": 24.0, \"distance\": 0.72, \"title\": \"Washington Cycling\", \"time_day\": \"afternoon\"}, {\"avg_hr\": 104, \"max_hr\": 123, \"calories\": 194.0, \"distance\": 3.12, \"title\": \"Washington Cycling\", \"time_day\": \"afternoon\"}, {\"avg_hr\": 98, \"max_hr\": 120, \"calories\": 108.0, \"distance\": 2.11, \"title\": \"Washington Cycling\", \"time_day\": \"afternoon\"}, {\"avg_hr\": 102, \"max_hr\": 126, \"calories\": 44.0, \"distance\": 0.99, \"title\": \"Washington Cycling\", \"time_day\": \"night\"}, {\"avg_hr\": 96, \"max_hr\": 114, \"calories\": 38.0, \"distance\": 0.58, \"title\": \"Washington Cycling\", \"time_day\": \"night\"}, {\"avg_hr\": 152, \"max_hr\": 167, \"calories\": 310.0, \"distance\": 1.95, \"title\": \"Washington Running\", \"time_day\": \"afternoon\"}, {\"avg_hr\": 101, \"max_hr\": 125, \"calories\": 135.0, \"distance\": 2.32, \"title\": \"Washington Cycling\", \"time_day\": \"night\"}, {\"avg_hr\": 107, \"max_hr\": 140, \"calories\": 109.0, \"distance\": 1.79, \"title\": \"Washington Cycling\", \"time_day\": \"afternoon\"}, {\"avg_hr\": 107, \"max_hr\": 126, \"calories\": 46.0, \"distance\": 0.73, \"title\": \"Washington Cycling\", \"time_day\": \"night\"}, {\"avg_hr\": 109, \"max_hr\": 139, \"calories\": 52.0, \"distance\": 0.1, \"title\": \"Washington Cycling\", \"time_day\": \"night\"}, {\"avg_hr\": 97, \"max_hr\": 124, \"calories\": 44.0, \"distance\": 0.65, \"title\": \"Washington Cycling\", \"time_day\": \"afternoon\"}, {\"avg_hr\": 97, \"max_hr\": 125, \"calories\": 30.0, \"distance\": 0.17, \"title\": \"Washington Cycling\", \"time_day\": \"afternoon\"}, {\"avg_hr\": 104, \"max_hr\": 123, \"calories\": 47.0, \"distance\": 0.61, \"title\": \"Washington Cycling\", \"time_day\": \"night\"}, {\"avg_hr\": 108, \"max_hr\": 134, \"calories\": 63.0, \"distance\": 0.67, \"title\": \"Washington Cycling\", \"time_day\": \"afternoon\"}, {\"avg_hr\": 103, \"max_hr\": 131, \"calories\": 73.0, \"distance\": 0.85, \"title\": \"Washington Cycling\", \"time_day\": \"afternoon\"}, {\"avg_hr\": 101, \"max_hr\": 122, \"calories\": 104.0, \"distance\": 1.56, \"title\": \"Washington Cycling\", \"time_day\": \"morning\"}, {\"avg_hr\": 113, \"max_hr\": 129, \"calories\": 106.0, \"distance\": 1.84, \"title\": \"Washington Cycling\", \"time_day\": \"morning\"}, {\"avg_hr\": 80, \"max_hr\": 99, \"calories\": 59.0, \"distance\": 2.17, \"title\": \"Washington Cycling\", \"time_day\": \"night\"}, {\"avg_hr\": 96, \"max_hr\": 129, \"calories\": 75.0, \"distance\": 1.78, \"title\": \"Washington Cycling\", \"time_day\": \"afternoon\"}, {\"avg_hr\": 108, \"max_hr\": 136, \"calories\": 116.0, \"distance\": 0.83, \"title\": \"Washington Cycling\", \"time_day\": \"night\"}, {\"avg_hr\": 103, \"max_hr\": 139, \"calories\": 74.0, \"distance\": 1.68, \"title\": \"Washington Cycling\", \"time_day\": \"afternoon\"}, {\"avg_hr\": 102, \"max_hr\": 141, \"calories\": 128.0, \"distance\": 1.38, \"title\": \"Washington Cycling\", \"time_day\": \"night\"}, {\"avg_hr\": 92, \"max_hr\": 123, \"calories\": 63.0, \"distance\": 2.01, \"title\": \"Washington Cycling\", \"time_day\": \"afternoon\"}, {\"avg_hr\": 108, \"max_hr\": 127, \"calories\": 94.0, \"distance\": 1.04, \"title\": \"Washington Cycling\", \"time_day\": \"morning\"}, {\"avg_hr\": 149, \"max_hr\": 160, \"calories\": 242.0, \"distance\": 2.0, \"title\": \"Treadmill Running\", \"time_day\": \"night\"}, {\"avg_hr\": 105, \"max_hr\": 121, \"calories\": 54.0, \"distance\": 0.6, \"title\": \"Washington Cycling\", \"time_day\": \"morning\"}, {\"avg_hr\": 108, \"max_hr\": 149, \"calories\": 207.0, \"distance\": 0.0, \"title\": \"Indoor Cycling\", \"time_day\": \"night\"}, {\"avg_hr\": 136, \"max_hr\": 175, \"calories\": 487.0, \"distance\": 0.0, \"title\": \"Elliptical\", \"time_day\": \"night\"}, {\"avg_hr\": 104, \"max_hr\": 130, \"calories\": 93.0, \"distance\": 0.98, \"title\": \"Washington Cycling\", \"time_day\": \"night\"}, {\"avg_hr\": 122, \"max_hr\": 143, \"calories\": 147.0, \"distance\": 1.49, \"title\": \"Washington Cycling\", \"time_day\": \"night\"}, {\"avg_hr\": 114, \"max_hr\": 138, \"calories\": 111.0, \"distance\": 1.66, \"title\": \"Washington Cycling\", \"time_day\": \"night\"}, {\"avg_hr\": 110, \"max_hr\": 130, \"calories\": 78.0, \"distance\": 1.04, \"title\": \"Washington Cycling\", \"time_day\": \"morning\"}, {\"avg_hr\": 106, \"max_hr\": 125, \"calories\": 54.0, \"distance\": 0.95, \"title\": \"Washington Cycling\", \"time_day\": \"morning\"}, {\"avg_hr\": 145, \"max_hr\": 161, \"calories\": 368.0, \"distance\": 2.8, \"title\": \"Washington Running\", \"time_day\": \"afternoon\"}, {\"avg_hr\": 142, \"max_hr\": 154, \"calories\": 228.0, \"distance\": 2.0, \"title\": \"Treadmill Running\", \"time_day\": \"afternoon\"}, {\"avg_hr\": 147, \"max_hr\": 163, \"calories\": 234.0, \"distance\": 2.01, \"title\": \"Treadmill Running\", \"time_day\": \"afternoon\"}, {\"avg_hr\": 148, \"max_hr\": 161, \"calories\": 353.0, \"distance\": 3.01, \"title\": \"Treadmill Running\", \"time_day\": \"afternoon\"}, {\"avg_hr\": 149, \"max_hr\": 161, \"calories\": 357.0, \"distance\": 3.0, \"title\": \"Treadmill Running\", \"time_day\": \"afternoon\"}, {\"avg_hr\": 153, \"max_hr\": 170, \"calories\": 568.0, \"distance\": 4.02, \"title\": \"Shawnee Running\", \"time_day\": \"afternoon\"}, {\"avg_hr\": 149, \"max_hr\": 161, \"calories\": 243.0, \"distance\": 2.06, \"title\": \"Treadmill Running\", \"time_day\": \"afternoon\"}, {\"avg_hr\": 147, \"max_hr\": 168, \"calories\": 239.0, \"distance\": 2.01, \"title\": \"Treadmill Running\", \"time_day\": \"night\"}, {\"avg_hr\": 106, \"max_hr\": 132, \"calories\": 281.0, \"distance\": 0.0, \"title\": \"Indoor Cycling\", \"time_day\": \"night\"}, {\"avg_hr\": 115, \"max_hr\": 129, \"calories\": 62.0, \"distance\": 0.99, \"title\": \"Washington Cycling\", \"time_day\": \"morning\"}, {\"avg_hr\": 164, \"max_hr\": 177, \"calories\": 264.0, \"distance\": 2.0, \"title\": \"Treadmill Running\", \"time_day\": \"night\"}, {\"avg_hr\": 157, \"max_hr\": 164, \"calories\": 253.0, \"distance\": 1.96, \"title\": \"Treadmill Running\", \"time_day\": \"night\"}, {\"avg_hr\": 110, \"max_hr\": 136, \"calories\": 47.0, \"distance\": 0.42, \"title\": \"Washington Cycling\", \"time_day\": \"night\"}, {\"avg_hr\": 110, \"max_hr\": 131, \"calories\": 106.0, \"distance\": 1.13, \"title\": \"Washington Cycling\", \"time_day\": \"morning\"}, {\"avg_hr\": 103, \"max_hr\": 128, \"calories\": 58.0, \"distance\": 1.0, \"title\": \"Washington Cycling\", \"time_day\": \"morning\"}, {\"avg_hr\": 130, \"max_hr\": 161, \"calories\": 343.0, \"distance\": 0.0, \"title\": \"Elliptical\", \"time_day\": \"night\"}, {\"avg_hr\": 102, \"max_hr\": 127, \"calories\": 80.0, \"distance\": 0.62, \"title\": \"Washington Cycling\", \"time_day\": \"morning\"}, {\"avg_hr\": 144, \"max_hr\": 162, \"calories\": 250.0, \"distance\": 2.01, \"title\": \"Treadmill Running\", \"time_day\": \"night\"}, {\"avg_hr\": 140, \"max_hr\": 153, \"calories\": 258.0, \"distance\": 2.05, \"title\": \"Treadmill Running\", \"time_day\": \"night\"}, {\"avg_hr\": 139, \"max_hr\": 169, \"calories\": 493.0, \"distance\": 0.0, \"title\": \"Elliptical\", \"time_day\": \"night\"}, {\"avg_hr\": 157, \"max_hr\": 171, \"calories\": 131.0, \"distance\": 0.99, \"title\": \"Treadmill Running\", \"time_day\": \"night\"}, {\"avg_hr\": 138, \"max_hr\": 155, \"calories\": 143.0, \"distance\": 1.06, \"title\": \"Treadmill Running\", \"time_day\": \"night\"}, {\"avg_hr\": 101, \"max_hr\": 126, \"calories\": 77.0, \"distance\": 0.79, \"title\": \"Washington Cycling\", \"time_day\": \"night\"}, {\"avg_hr\": 101, \"max_hr\": 122, \"calories\": 45.0, \"distance\": 0.44, \"title\": \"Washington Cycling\", \"time_day\": \"morning\"}, {\"avg_hr\": 133, \"max_hr\": 151, \"calories\": 382.0, \"distance\": 0.0, \"title\": \"Elliptical\", \"time_day\": \"night\"}, {\"avg_hr\": 152, \"max_hr\": 162, \"calories\": 249.0, \"distance\": 2.0, \"title\": \"Treadmill Running\", \"time_day\": \"night\"}, {\"avg_hr\": 108, \"max_hr\": 129, \"calories\": 86.0, \"distance\": 0.55, \"title\": \"Washington Cycling\", \"time_day\": \"morning\"}, {\"avg_hr\": 132, \"max_hr\": 180, \"calories\": 470.0, \"distance\": 0.0, \"title\": \"Elliptical\", \"time_day\": \"night\"}, {\"avg_hr\": 106, \"max_hr\": 123, \"calories\": 69.0, \"distance\": 0.48, \"title\": \"Washington Cycling\", \"time_day\": \"morning\"}, {\"avg_hr\": 126, \"max_hr\": 166, \"calories\": 473.0, \"distance\": 0.0, \"title\": \"Elliptical\", \"time_day\": \"night\"}, {\"avg_hr\": 120, \"max_hr\": 133, \"calories\": 63.0, \"distance\": 0.59, \"title\": \"Washington Cycling\", \"time_day\": \"morning\"}, {\"avg_hr\": 122, \"max_hr\": 146, \"calories\": 389.0, \"distance\": 0.0, \"title\": \"Elliptical\", \"time_day\": \"night\"}, {\"avg_hr\": 98, \"max_hr\": 127, \"calories\": 50.0, \"distance\": 0.67, \"title\": \"Washington Cycling\", \"time_day\": \"night\"}, {\"avg_hr\": 101, \"max_hr\": 116, \"calories\": 50.0, \"distance\": 0.6, \"title\": \"Washington Cycling\", \"time_day\": \"morning\"}, {\"avg_hr\": 113, \"max_hr\": 127, \"calories\": 82.0, \"distance\": 0.7, \"title\": \"Washington Cycling\", \"time_day\": \"morning\"}, {\"avg_hr\": 104, \"max_hr\": 126, \"calories\": 69.0, \"distance\": 1.15, \"title\": \"Washington Cycling\", \"time_day\": \"night\"}, {\"avg_hr\": 94, \"max_hr\": 109, \"calories\": 77.0, \"distance\": 0.89, \"title\": \"Washington Cycling\", \"time_day\": \"night\"}, {\"avg_hr\": 153, \"max_hr\": 167, \"calories\": 394.0, \"distance\": 2.95, \"title\": \"Washington Running\", \"time_day\": \"afternoon\"}, {\"avg_hr\": 90, \"max_hr\": 118, \"calories\": 116.0, \"distance\": 1.87, \"title\": \"Washington Cycling\", \"time_day\": \"night\"}, {\"avg_hr\": 99, \"max_hr\": 112, \"calories\": 28.0, \"distance\": 0.44, \"title\": \"Washington Cycling\", \"time_day\": \"morning\"}, {\"avg_hr\": 146, \"max_hr\": 164, \"calories\": 273.0, \"distance\": 2.02, \"title\": \"Washington Running\", \"time_day\": \"night\"}, {\"avg_hr\": 95, \"max_hr\": 128, \"calories\": 46.0, \"distance\": 0.65, \"title\": \"Washington Cycling\", \"time_day\": \"morning\"}, {\"avg_hr\": 150, \"max_hr\": 168, \"calories\": 271.0, \"distance\": 2.04, \"title\": \"Washington Running\", \"time_day\": \"night\"}, {\"avg_hr\": 144, \"max_hr\": 159, \"calories\": 345.0, \"distance\": 2.63, \"title\": \"Treadmill Running\", \"time_day\": \"night\"}, {\"avg_hr\": 153, \"max_hr\": 176, \"calories\": 286.0, \"distance\": 2.05, \"title\": \"Washington Running\", \"time_day\": \"night\"}, {\"avg_hr\": 135, \"max_hr\": 146, \"calories\": 294.0, \"distance\": 2.1, \"title\": \"Washington Running\", \"time_day\": \"night\"}, {\"avg_hr\": 92, \"max_hr\": 100, \"calories\": 9.0, \"distance\": 0.17, \"title\": \"Washington Cycling\", \"time_day\": \"morning\"}, {\"avg_hr\": 140, \"max_hr\": 160, \"calories\": 293.0, \"distance\": 1.96, \"title\": \"Washington Running\", \"time_day\": \"night\"}, {\"avg_hr\": 155, \"max_hr\": 163, \"calories\": 143.0, \"distance\": 1.0, \"title\": \"Treadmill Running\", \"time_day\": \"night\"}, {\"avg_hr\": 93, \"max_hr\": 113, \"calories\": 45.0, \"distance\": 1.09, \"title\": \"Washington Cycling\", \"time_day\": \"afternoon\"}, {\"avg_hr\": 139, \"max_hr\": 159, \"calories\": 124.0, \"distance\": 1.01, \"title\": \"Treadmill Running\", \"time_day\": \"night\"}, {\"avg_hr\": 123, \"max_hr\": 151, \"calories\": 191.0, \"distance\": 1.03, \"title\": \"Treadmill Running\", \"time_day\": \"night\"}, {\"avg_hr\": 148, \"max_hr\": 160, \"calories\": 133.0, \"distance\": 1.05, \"title\": \"Treadmill Running\", \"time_day\": \"night\"}, {\"avg_hr\": 137, \"max_hr\": 159, \"calories\": 123.0, \"distance\": 1.02, \"title\": \"Treadmill Running\", \"time_day\": \"night\"}, {\"avg_hr\": 146, \"max_hr\": 164, \"calories\": 536.0, \"distance\": 4.3, \"title\": \"Kansas City Running\", \"time_day\": \"afternoon\"}, {\"avg_hr\": 156, \"max_hr\": 183, \"calories\": 608.0, \"distance\": 4.26, \"title\": \"Kansas City Running\", \"time_day\": \"afternoon\"}, {\"avg_hr\": 150, \"max_hr\": 169, \"calories\": 571.0, \"distance\": 4.25, \"title\": \"Kansas City Running\", \"time_day\": \"afternoon\"}, {\"avg_hr\": 158, \"max_hr\": 182, \"calories\": 675.0, \"distance\": 4.4, \"title\": \"Kansas City Running\", \"time_day\": \"night\"}, {\"avg_hr\": 147, \"max_hr\": 159, \"calories\": 567.0, \"distance\": 4.25, \"title\": \"Kansas City Running\", \"time_day\": \"afternoon\"}, {\"avg_hr\": 151, \"max_hr\": 171, \"calories\": 435.0, \"distance\": 3.01, \"title\": \"Kansas City Running\", \"time_day\": \"afternoon\"}, {\"avg_hr\": 138, \"max_hr\": 155, \"calories\": 373.0, \"distance\": 3.0, \"title\": \"Kansas City Running\", \"time_day\": \"afternoon\"}, {\"avg_hr\": 154, \"max_hr\": 176, \"calories\": 614.0, \"distance\": 4.3, \"title\": \"Kansas City Running\", \"time_day\": \"afternoon\"}, {\"avg_hr\": 150, \"max_hr\": 180, \"calories\": 361.0, \"distance\": 3.0, \"title\": \"Kansas City Running\", \"time_day\": \"afternoon\"}, {\"avg_hr\": 136, \"max_hr\": 148, \"calories\": 240.0, \"distance\": 1.74, \"title\": \"Kansas City Running\", \"time_day\": \"afternoon\"}, {\"avg_hr\": 144, \"max_hr\": 163, \"calories\": 401.0, \"distance\": 3.01, \"title\": \"Kansas City Running\", \"time_day\": \"afternoon\"}, {\"avg_hr\": 150, \"max_hr\": 171, \"calories\": 419.0, \"distance\": 3.01, \"title\": \"Kansas City Running\", \"time_day\": \"morning\"}, {\"avg_hr\": 148, \"max_hr\": 172, \"calories\": 596.0, \"distance\": 4.4, \"title\": \"Kansas City Running\", \"time_day\": \"afternoon\"}, {\"avg_hr\": 151, \"max_hr\": 171, \"calories\": 512.0, \"distance\": 3.69, \"title\": \"Kansas City Running\", \"time_day\": \"afternoon\"}, {\"avg_hr\": 152, \"max_hr\": 174, \"calories\": 395.0, \"distance\": 3.0, \"title\": \"Kansas City Running\", \"time_day\": \"afternoon\"}, {\"avg_hr\": 152, \"max_hr\": 174, \"calories\": 594.0, \"distance\": 4.31, \"title\": \"Kansas City Running\", \"time_day\": \"afternoon\"}, {\"avg_hr\": 146, \"max_hr\": 165, \"calories\": 375.0, \"distance\": 3.0, \"title\": \"Kansas City Running\", \"time_day\": \"night\"}, {\"avg_hr\": 153, \"max_hr\": 178, \"calories\": 572.0, \"distance\": 4.31, \"title\": \"Kansas City Running\", \"time_day\": \"afternoon\"}, {\"avg_hr\": 152, \"max_hr\": 176, \"calories\": 389.0, \"distance\": 3.01, \"title\": \"Kansas City Running\", \"time_day\": \"afternoon\"}, {\"avg_hr\": 127, \"max_hr\": 141, \"calories\": 493.0, \"distance\": 3.86, \"title\": \"Kansas City Running\", \"time_day\": \"morning\"}, {\"avg_hr\": 142, \"max_hr\": 161, \"calories\": 149.0, \"distance\": 1.19, \"title\": \"Kansas City Running\", \"time_day\": \"afternoon\"}, {\"avg_hr\": 155, \"max_hr\": 172, \"calories\": 69.0, \"distance\": 0.55, \"title\": \"Kansas City Running\", \"time_day\": \"afternoon\"}, {\"avg_hr\": 152, \"max_hr\": 182, \"calories\": 411.0, \"distance\": 2.99, \"title\": \"Kansas City Running\", \"time_day\": \"afternoon\"}, {\"avg_hr\": 146, \"max_hr\": 165, \"calories\": 253.0, \"distance\": 1.9, \"title\": \"Kansas City Running\", \"time_day\": \"afternoon\"}, {\"avg_hr\": 153, \"max_hr\": 177, \"calories\": 397.0, \"distance\": 3.01, \"title\": \"Kansas City Running\", \"time_day\": \"night\"}, {\"avg_hr\": 108, \"max_hr\": 132, \"calories\": 139.0, \"distance\": 1.82, \"title\": \"Kansas City Cycling\", \"time_day\": \"night\"}, {\"avg_hr\": 102, \"max_hr\": 134, \"calories\": 166.0, \"distance\": 2.41, \"title\": \"Kansas City Cycling\", \"time_day\": \"night\"}, {\"avg_hr\": 152, \"max_hr\": 176, \"calories\": 416.0, \"distance\": 3.01, \"title\": \"Kansas City Running\", \"time_day\": \"night\"}, {\"avg_hr\": 156, \"max_hr\": 174, \"calories\": 107.0, \"distance\": 0.78, \"title\": \"Kansas City Running\", \"time_day\": \"afternoon\"}, {\"avg_hr\": 144, \"max_hr\": 158, \"calories\": 92.0, \"distance\": 0.77, \"title\": \"Kansas City Running\", \"time_day\": \"afternoon\"}, {\"avg_hr\": 144, \"max_hr\": 159, \"calories\": 110.0, \"distance\": 0.8, \"title\": \"Kansas City Running\", \"time_day\": \"afternoon\"}, {\"avg_hr\": 144, \"max_hr\": 163, \"calories\": 93.0, \"distance\": 0.73, \"title\": \"Kansas City Running\", \"time_day\": \"afternoon\"}, {\"avg_hr\": 152, \"max_hr\": 170, \"calories\": 116.0, \"distance\": 0.8, \"title\": \"Kansas City Running\", \"time_day\": \"afternoon\"}, {\"avg_hr\": 146, \"max_hr\": 167, \"calories\": 107.0, \"distance\": 0.84, \"title\": \"Kansas City Running\", \"time_day\": \"afternoon\"}, {\"avg_hr\": 151, \"max_hr\": 179, \"calories\": 587.0, \"distance\": 4.31, \"title\": \"Kansas City Running\", \"time_day\": \"night\"}, {\"avg_hr\": 148, \"max_hr\": 159, \"calories\": 106.0, \"distance\": 0.81, \"title\": \"Kansas City Running\", \"time_day\": \"night\"}, {\"avg_hr\": 137, \"max_hr\": 157, \"calories\": 90.0, \"distance\": 0.74, \"title\": \"Kansas City Running\", \"time_day\": \"afternoon\"}, {\"avg_hr\": 146, \"max_hr\": 172, \"calories\": 564.0, \"distance\": 4.32, \"title\": \"Kansas City Running\", \"time_day\": \"afternoon\"}, {\"avg_hr\": 144, \"max_hr\": 164, \"calories\": 100.0, \"distance\": 0.8, \"title\": \"Kansas City Running\", \"time_day\": \"afternoon\"}, {\"avg_hr\": 126, \"max_hr\": 148, \"calories\": 88.0, \"distance\": 0.78, \"title\": \"Kansas City Running\", \"time_day\": \"afternoon\"}, {\"avg_hr\": 152, \"max_hr\": 181, \"calories\": 585.0, \"distance\": 4.31, \"title\": \"Kansas City Running\", \"time_day\": \"afternoon\"}, {\"avg_hr\": 146, \"max_hr\": 162, \"calories\": 108.0, \"distance\": 0.75, \"title\": \"Kansas City Running\", \"time_day\": \"night\"}, {\"avg_hr\": 128, \"max_hr\": 150, \"calories\": 149.0, \"distance\": 0.81, \"title\": \"Kansas City Running\", \"time_day\": \"afternoon\"}, {\"avg_hr\": 146, \"max_hr\": 166, \"calories\": 127.0, \"distance\": 0.76, \"title\": \"Treadmill Running\", \"time_day\": \"afternoon\"}, {\"avg_hr\": 138, \"max_hr\": 150, \"calories\": 115.0, \"distance\": 0.89, \"title\": \"Treadmill Running\", \"time_day\": \"afternoon\"}, {\"avg_hr\": 137, \"max_hr\": 155, \"calories\": 293.0, \"distance\": 2.27, \"title\": \"Kansas City Running\", \"time_day\": \"afternoon\"}, {\"avg_hr\": 139, \"max_hr\": 163, \"calories\": 112.0, \"distance\": 0.76, \"title\": \"Treadmill Running\", \"time_day\": \"afternoon\"}, {\"avg_hr\": 148, \"max_hr\": 170, \"calories\": 424.0, \"distance\": 3.01, \"title\": \"Kansas City Running\", \"time_day\": \"afternoon\"}, {\"avg_hr\": 145, \"max_hr\": 177, \"calories\": 538.0, \"distance\": 4.13, \"title\": \"Kansas City Running\", \"time_day\": \"afternoon\"}, {\"avg_hr\": 141, \"max_hr\": 163, \"calories\": 317.0, \"distance\": 2.45, \"title\": \"Kansas City Running\", \"time_day\": \"night\"}, {\"avg_hr\": 108, \"max_hr\": 132, \"calories\": 156.0, \"distance\": 2.05, \"title\": \"Kansas City Cycling\", \"time_day\": \"night\"}, {\"avg_hr\": 131, \"max_hr\": 159, \"calories\": 363.0, \"distance\": 2.6, \"title\": \"Kansas City Running\", \"time_day\": \"night\"}, {\"avg_hr\": 153, \"max_hr\": 179, \"calories\": 538.0, \"distance\": 4.1, \"title\": \"Kansas City Running\", \"time_day\": \"afternoon\"}, {\"avg_hr\": 150, \"max_hr\": 164, \"calories\": 391.0, \"distance\": 2.91, \"title\": \"Kansas City Running\", \"time_day\": \"afternoon\"}, {\"avg_hr\": 131, \"max_hr\": 167, \"calories\": 567.0, \"distance\": 4.37, \"title\": \"Kansas City Running\", \"time_day\": \"night\"}, {\"avg_hr\": 150, \"max_hr\": 169, \"calories\": 122.0, \"distance\": 0.83, \"title\": \"Kansas City Running\", \"time_day\": \"afternoon\"}, {\"avg_hr\": 144, \"max_hr\": 165, \"calories\": 113.0, \"distance\": 0.81, \"title\": \"Kansas City Running\", \"time_day\": \"afternoon\"}, {\"avg_hr\": 148, \"max_hr\": 173, \"calories\": 409.0, \"distance\": 3.01, \"title\": \"Kansas City Running\", \"time_day\": \"night\"}, {\"avg_hr\": 130, \"max_hr\": 138, \"calories\": 200.0, \"distance\": 1.5, \"title\": \"Treadmill Running\", \"time_day\": \"night\"}, {\"avg_hr\": 100, \"max_hr\": 119, \"calories\": 110.0, \"distance\": 1.73, \"title\": \"Kansas City Cycling\", \"time_day\": \"afternoon\"}, {\"avg_hr\": 94, \"max_hr\": 121, \"calories\": 143.0, \"distance\": 1.9, \"title\": \"Kansas City Cycling\", \"time_day\": \"afternoon\"}, {\"avg_hr\": 143, \"max_hr\": 163, \"calories\": 417.0, \"distance\": 3.0, \"title\": \"Kansas City Running\", \"time_day\": \"afternoon\"}, {\"avg_hr\": 142, \"max_hr\": 154, \"calories\": 142.0, \"distance\": 1.09, \"title\": \"Treadmill Running\", \"time_day\": \"afternoon\"}, {\"avg_hr\": 145, \"max_hr\": 161, \"calories\": 97.0, \"distance\": 0.67, \"title\": \"Kansas City Running\", \"time_day\": \"afternoon\"}, {\"avg_hr\": 136, \"max_hr\": 155, \"calories\": 130.0, \"distance\": 0.98, \"title\": \"Kansas City Running\", \"time_day\": \"afternoon\"}, {\"avg_hr\": 142, \"max_hr\": 150, \"calories\": 130.0, \"distance\": 1.0, \"title\": \"Treadmill Running\", \"time_day\": \"afternoon\"}, {\"avg_hr\": 122, \"max_hr\": 130, \"calories\": 106.0, \"distance\": 1.1, \"title\": \"Treadmill Running\", \"time_day\": \"afternoon\"}, {\"avg_hr\": 135, \"max_hr\": 144, \"calories\": 239.0, \"distance\": 2.0, \"title\": \"Treadmill Running\", \"time_day\": \"afternoon\"}, {\"avg_hr\": 150, \"max_hr\": 169, \"calories\": 135.0, \"distance\": 1.02, \"title\": \"Treadmill Running\", \"time_day\": \"afternoon\"}, {\"avg_hr\": 140, \"max_hr\": 152, \"calories\": 137.0, \"distance\": 1.03, \"title\": \"Treadmill Running\", \"time_day\": \"afternoon\"}, {\"avg_hr\": 157, \"max_hr\": 177, \"calories\": 575.0, \"distance\": 4.22, \"title\": \"Kansas City Running\", \"time_day\": \"afternoon\"}, {\"avg_hr\": 140, \"max_hr\": 155, \"calories\": 129.0, \"distance\": 1.0, \"title\": \"Treadmill Running\", \"time_day\": \"afternoon\"}, {\"avg_hr\": 146, \"max_hr\": 158, \"calories\": 116.0, \"distance\": 0.9, \"title\": \"Treadmill Running\", \"time_day\": \"afternoon\"}, {\"avg_hr\": 146, \"max_hr\": 159, \"calories\": 143.0, \"distance\": 1.0, \"title\": \"Treadmill Running\", \"time_day\": \"afternoon\"}, {\"avg_hr\": 155, \"max_hr\": 159, \"calories\": 67.0, \"distance\": 0.55, \"title\": \"Treadmill Running\", \"time_day\": \"afternoon\"}, {\"avg_hr\": 161, \"max_hr\": 177, \"calories\": 88.0, \"distance\": 0.68, \"title\": \"Treadmill Running\", \"time_day\": \"afternoon\"}, {\"avg_hr\": 135, \"max_hr\": 154, \"calories\": 123.0, \"distance\": 1.1, \"title\": \"Treadmill Running\", \"time_day\": \"afternoon\"}, {\"avg_hr\": 147, \"max_hr\": 165, \"calories\": 122.0, \"distance\": 1.12, \"title\": \"Treadmill Running\", \"time_day\": \"afternoon\"}, {\"avg_hr\": 112, \"max_hr\": 130, \"calories\": 94.0, \"distance\": 0.81, \"title\": \"Treadmill Running\", \"time_day\": \"afternoon\"}, {\"avg_hr\": 134, \"max_hr\": 145, \"calories\": 335.0, \"distance\": 3.0, \"title\": \"Treadmill Running\", \"time_day\": \"afternoon\"}, {\"avg_hr\": 142, \"max_hr\": 154, \"calories\": 114.0, \"distance\": 0.95, \"title\": \"Treadmill Running\", \"time_day\": \"afternoon\"}, {\"avg_hr\": 132, \"max_hr\": 152, \"calories\": 104.0, \"distance\": 0.93, \"title\": \"Treadmill Running\", \"time_day\": \"afternoon\"}, {\"avg_hr\": 140, \"max_hr\": 152, \"calories\": 131.0, \"distance\": 1.01, \"title\": \"Treadmill Running\", \"time_day\": \"morning\"}, {\"avg_hr\": 153, \"max_hr\": 167, \"calories\": 112.0, \"distance\": 1.02, \"title\": \"Treadmill Running\", \"time_day\": \"night\"}, {\"avg_hr\": 144, \"max_hr\": 151, \"calories\": 117.0, \"distance\": 1.0, \"title\": \"Treadmill Running\", \"time_day\": \"afternoon\"}, {\"avg_hr\": 153, \"max_hr\": 165, \"calories\": 140.0, \"distance\": 0.99, \"title\": \"Treadmill Running\", \"time_day\": \"afternoon\"}, {\"avg_hr\": 143, \"max_hr\": 159, \"calories\": 130.0, \"distance\": 0.99, \"title\": \"Treadmill Running\", \"time_day\": \"afternoon\"}, {\"avg_hr\": 153, \"max_hr\": 169, \"calories\": 182.0, \"distance\": 1.5, \"title\": \"Treadmill Running\", \"time_day\": \"afternoon\"}, {\"avg_hr\": 124, \"max_hr\": 154, \"calories\": 232.0, \"distance\": 1.5, \"title\": \"Treadmill Running\", \"time_day\": \"afternoon\"}, {\"avg_hr\": 146, \"max_hr\": 165, \"calories\": 272.0, \"distance\": 2.0, \"title\": \"Treadmill Running\", \"time_day\": \"afternoon\"}, {\"avg_hr\": 116, \"max_hr\": 148, \"calories\": 155.0, \"distance\": 0.67, \"title\": \"Treadmill Running\", \"time_day\": \"afternoon\"}, {\"avg_hr\": 129, \"max_hr\": 147, \"calories\": 159.0, \"distance\": 0.87, \"title\": \"Treadmill Running\", \"time_day\": \"afternoon\"}, {\"avg_hr\": 124, \"max_hr\": 148, \"calories\": 139.0, \"distance\": 0.82, \"title\": \"Treadmill Running\", \"time_day\": \"afternoon\"}, {\"avg_hr\": 102, \"max_hr\": 126, \"calories\": 114.0, \"distance\": 1.93, \"title\": \"Kansas City Cycling\", \"time_day\": \"afternoon\"}, {\"avg_hr\": 103, \"max_hr\": 128, \"calories\": 138.0, \"distance\": 1.27, \"title\": \"Kansas City Cycling\", \"time_day\": \"afternoon\"}, {\"avg_hr\": 124, \"max_hr\": 152, \"calories\": 69.0, \"distance\": 0.46, \"title\": \"Treadmill Running\", \"time_day\": \"afternoon\"}, {\"avg_hr\": 153, \"max_hr\": 163, \"calories\": 131.0, \"distance\": 0.84, \"title\": \"Treadmill Running\", \"time_day\": \"afternoon\"}, {\"avg_hr\": 124, \"max_hr\": 166, \"calories\": 161.0, \"distance\": 0.87, \"title\": \"Treadmill Running\", \"time_day\": \"afternoon\"}, {\"avg_hr\": 115, \"max_hr\": 155, \"calories\": 247.0, \"distance\": 0.9, \"title\": \"Treadmill Running\", \"time_day\": \"night\"}, {\"avg_hr\": 138, \"max_hr\": 144, \"calories\": 15.0, \"distance\": 0.1, \"title\": \"Treadmill Running\", \"time_day\": \"afternoon\"}, {\"avg_hr\": 151, \"max_hr\": 168, \"calories\": 134.0, \"distance\": 0.83, \"title\": \"Treadmill Running\", \"time_day\": \"afternoon\"}, {\"avg_hr\": 133, \"max_hr\": 151, \"calories\": 143.0, \"distance\": 0.87, \"title\": \"Treadmill Running\", \"time_day\": \"afternoon\"}, {\"avg_hr\": 145, \"max_hr\": 158, \"calories\": 79.0, \"distance\": 0.47, \"title\": \"Treadmill Running\", \"time_day\": \"afternoon\"}, {\"avg_hr\": 139, \"max_hr\": 153, \"calories\": 112.0, \"distance\": 0.82, \"title\": \"Treadmill Running\", \"time_day\": \"afternoon\"}, {\"avg_hr\": 141, \"max_hr\": 171, \"calories\": 447.0, \"distance\": 2.64, \"title\": \"Kansas City Running\", \"time_day\": \"afternoon\"}, {\"avg_hr\": 134, \"max_hr\": 158, \"calories\": 138.0, \"distance\": 0.86, \"title\": \"Treadmill Running\", \"time_day\": \"afternoon\"}, {\"avg_hr\": 118, \"max_hr\": 159, \"calories\": 171.0, \"distance\": 0.87, \"title\": \"Treadmill Running\", \"time_day\": \"night\"}, {\"avg_hr\": 123, \"max_hr\": 147, \"calories\": 90.0, \"distance\": 0.66, \"title\": \"Treadmill Running\", \"time_day\": \"afternoon\"}, {\"avg_hr\": 135, \"max_hr\": 151, \"calories\": 101.0, \"distance\": 0.84, \"title\": \"Treadmill Running\", \"time_day\": \"afternoon\"}, {\"avg_hr\": 139, \"max_hr\": 158, \"calories\": 110.0, \"distance\": 0.89, \"title\": \"Treadmill Running\", \"time_day\": \"afternoon\"}, {\"avg_hr\": 136, \"max_hr\": 153, \"calories\": 123.0, \"distance\": 0.84, \"title\": \"Treadmill Running\", \"time_day\": \"afternoon\"}, {\"avg_hr\": 142, \"max_hr\": 160, \"calories\": 112.0, \"distance\": 0.85, \"title\": \"Treadmill Running\", \"time_day\": \"afternoon\"}, {\"avg_hr\": 142, \"max_hr\": 161, \"calories\": 121.0, \"distance\": 0.85, \"title\": \"Treadmill Running\", \"time_day\": \"afternoon\"}, {\"avg_hr\": 134, \"max_hr\": 164, \"calories\": 191.0, \"distance\": 1.0, \"title\": \"Treadmill Running\", \"time_day\": \"afternoon\"}, {\"avg_hr\": 142, \"max_hr\": 159, \"calories\": 130.0, \"distance\": 0.86, \"title\": \"Treadmill Running\", \"time_day\": \"afternoon\"}, {\"avg_hr\": 116, \"max_hr\": 161, \"calories\": 111.0, \"distance\": 0.33, \"title\": \"Treadmill Running\", \"time_day\": \"afternoon\"}, {\"avg_hr\": 150, \"max_hr\": 165, \"calories\": 111.0, \"distance\": 0.83, \"title\": \"Treadmill Running\", \"time_day\": \"afternoon\"}, {\"avg_hr\": 144, \"max_hr\": 158, \"calories\": 125.0, \"distance\": 0.64, \"title\": \"Treadmill Running\", \"time_day\": \"afternoon\"}, {\"avg_hr\": 137, \"max_hr\": 153, \"calories\": 128.0, \"distance\": 0.84, \"title\": \"Treadmill Running\", \"time_day\": \"afternoon\"}, {\"avg_hr\": 145, \"max_hr\": 151, \"calories\": 90.0, \"distance\": 0.7, \"title\": \"Treadmill Running\", \"time_day\": \"afternoon\"}, {\"avg_hr\": 145, \"max_hr\": 161, \"calories\": 105.0, \"distance\": 0.83, \"title\": \"Treadmill Running\", \"time_day\": \"afternoon\"}, {\"avg_hr\": 146, \"max_hr\": 168, \"calories\": 112.0, \"distance\": 0.93, \"title\": \"Treadmill Running\", \"time_day\": \"afternoon\"}, {\"avg_hr\": 151, \"max_hr\": 162, \"calories\": 563.0, \"distance\": 4.24, \"title\": \"Kansas City Running\", \"time_day\": \"afternoon\"}, {\"avg_hr\": 151, \"max_hr\": 162, \"calories\": 121.0, \"distance\": 0.98, \"title\": \"Treadmill Running\", \"time_day\": \"afternoon\"}, {\"avg_hr\": 128, \"max_hr\": 158, \"calories\": 147.0, \"distance\": 0.99, \"title\": \"Treadmill Running\", \"time_day\": \"afternoon\"}, {\"avg_hr\": 147, \"max_hr\": 166, \"calories\": 107.0, \"distance\": 1.01, \"title\": \"Treadmill Running\", \"time_day\": \"afternoon\"}, {\"avg_hr\": 135, \"max_hr\": 163, \"calories\": 155.0, \"distance\": 0.99, \"title\": \"Treadmill Running\", \"time_day\": \"afternoon\"}, {\"avg_hr\": 145, \"max_hr\": 164, \"calories\": 109.0, \"distance\": 0.97, \"title\": \"Treadmill Running\", \"time_day\": \"morning\"}, {\"avg_hr\": 144, \"max_hr\": 156, \"calories\": 116.0, \"distance\": 1.0, \"title\": \"Treadmill Running\", \"time_day\": \"morning\"}, {\"avg_hr\": 139, \"max_hr\": 150, \"calories\": 111.0, \"distance\": 0.98, \"title\": \"Treadmill Running\", \"time_day\": \"afternoon\"}, {\"avg_hr\": 143, \"max_hr\": 158, \"calories\": 74.0, \"distance\": 0.65, \"title\": \"Treadmill Running\", \"time_day\": \"night\"}, {\"avg_hr\": 142, \"max_hr\": 151, \"calories\": 109.0, \"distance\": 0.9, \"title\": \"Treadmill Running\", \"time_day\": \"night\"}, {\"avg_hr\": 149, \"max_hr\": 168, \"calories\": 145.0, \"distance\": 1.0, \"title\": \"Treadmill Running\", \"time_day\": \"afternoon\"}, {\"avg_hr\": 128, \"max_hr\": 142, \"calories\": 105.0, \"distance\": 1.0, \"title\": \"Treadmill Running\", \"time_day\": \"afternoon\"}, {\"avg_hr\": 147, \"max_hr\": 158, \"calories\": 216.0, \"distance\": 2.0, \"title\": \"Treadmill Running\", \"time_day\": \"afternoon\"}, {\"avg_hr\": 151, \"max_hr\": 166, \"calories\": 148.0, \"distance\": 1.0, \"title\": \"Treadmill Running\", \"time_day\": \"afternoon\"}, {\"avg_hr\": 135, \"max_hr\": 148, \"calories\": 127.0, \"distance\": 1.0, \"title\": \"Treadmill Running\", \"time_day\": \"afternoon\"}, {\"avg_hr\": 121, \"max_hr\": 143, \"calories\": 105.0, \"distance\": 1.32, \"title\": \"Treadmill Running\", \"time_day\": \"afternoon\"}, {\"avg_hr\": 134, \"max_hr\": 154, \"calories\": 71.0, \"distance\": 0.53, \"title\": \"Treadmill Running\", \"time_day\": \"afternoon\"}, {\"avg_hr\": 156, \"max_hr\": 165, \"calories\": 132.0, \"distance\": 1.5, \"title\": \"Treadmill Running\", \"time_day\": \"afternoon\"}, {\"avg_hr\": 127, \"max_hr\": 160, \"calories\": 199.0, \"distance\": 1.49, \"title\": \"Treadmill Running\", \"time_day\": \"afternoon\"}, {\"avg_hr\": 125, \"max_hr\": 147, \"calories\": 147.0, \"distance\": 1.0, \"title\": \"Treadmill Running\", \"time_day\": \"afternoon\"}, {\"avg_hr\": 130, \"max_hr\": 151, \"calories\": 137.0, \"distance\": 0.89, \"title\": \"Treadmill Running\", \"time_day\": \"afternoon\"}, {\"avg_hr\": 126, \"max_hr\": 171, \"calories\": 303.0, \"distance\": 1.5, \"title\": \"Treadmill Running\", \"time_day\": \"afternoon\"}, {\"avg_hr\": 143, \"max_hr\": 160, \"calories\": 185.0, \"distance\": 1.5, \"title\": \"Treadmill Running\", \"time_day\": \"afternoon\"}, {\"avg_hr\": 140, \"max_hr\": 158, \"calories\": 235.0, \"distance\": 2.0, \"title\": \"Treadmill Running\", \"time_day\": \"afternoon\"}, {\"avg_hr\": 125, \"max_hr\": 131, \"calories\": 51.0, \"distance\": 0.48, \"title\": \"Treadmill Running\", \"time_day\": \"afternoon\"}, {\"avg_hr\": 128, \"max_hr\": 140, \"calories\": 97.0, \"distance\": 0.91, \"title\": \"Treadmill Running\", \"time_day\": \"afternoon\"}, {\"avg_hr\": 141, \"max_hr\": 175, \"calories\": 404.0, \"distance\": 3.07, \"title\": \"Treadmill Running\", \"time_day\": \"afternoon\"}, {\"avg_hr\": 145, \"max_hr\": 157, \"calories\": 106.0, \"distance\": 0.93, \"title\": \"Treadmill Running\", \"time_day\": \"afternoon\"}, {\"avg_hr\": 145, \"max_hr\": 154, \"calories\": 115.0, \"distance\": 1.03, \"title\": \"Treadmill Running\", \"time_day\": \"afternoon\"}, {\"avg_hr\": 131, \"max_hr\": 151, \"calories\": 119.0, \"distance\": 1.0, \"title\": \"Treadmill Running\", \"time_day\": \"afternoon\"}, {\"avg_hr\": 149, \"max_hr\": 166, \"calories\": 126.0, \"distance\": 1.04, \"title\": \"Treadmill Running\", \"time_day\": \"afternoon\"}, {\"avg_hr\": 136, \"max_hr\": 148, \"calories\": 104.0, \"distance\": 1.0, \"title\": \"Treadmill Running\", \"time_day\": \"afternoon\"}, {\"avg_hr\": 151, \"max_hr\": 166, \"calories\": 143.0, \"distance\": 1.0, \"title\": \"Treadmill Running\", \"time_day\": \"night\"}, {\"avg_hr\": 138, \"max_hr\": 145, \"calories\": 92.0, \"distance\": 0.95, \"title\": \"Treadmill Running\", \"time_day\": \"night\"}, {\"avg_hr\": 127, \"max_hr\": 142, \"calories\": 110.0, \"distance\": 1.0, \"title\": \"Treadmill Running\", \"time_day\": \"night\"}, {\"avg_hr\": 140, \"max_hr\": 156, \"calories\": 116.0, \"distance\": 1.0, \"title\": \"Treadmill Running\", \"time_day\": \"night\"}, {\"avg_hr\": 143, \"max_hr\": 157, \"calories\": 216.0, \"distance\": 2.05, \"title\": \"Treadmill Running\", \"time_day\": \"afternoon\"}, {\"avg_hr\": 151, \"max_hr\": 154, \"calories\": 112.0, \"distance\": 0.9, \"title\": \"Treadmill Running\", \"time_day\": \"afternoon\"}, {\"avg_hr\": 130, \"max_hr\": 146, \"calories\": 94.0, \"distance\": 0.9, \"title\": \"Treadmill Running\", \"time_day\": \"afternoon\"}, {\"avg_hr\": 153, \"max_hr\": 168, \"calories\": 126.0, \"distance\": 0.93, \"title\": \"Treadmill Running\", \"time_day\": \"night\"}, {\"avg_hr\": 122, \"max_hr\": 153, \"calories\": 120.0, \"distance\": 0.96, \"title\": \"Treadmill Running\", \"time_day\": \"night\"}, {\"avg_hr\": 129, \"max_hr\": 159, \"calories\": 161.0, \"distance\": 0.97, \"title\": \"Treadmill Running\", \"time_day\": \"afternoon\"}, {\"avg_hr\": 143, \"max_hr\": 180, \"calories\": 497.0, \"distance\": 3.47, \"title\": \"Treadmill Running\", \"time_day\": \"afternoon\"}, {\"avg_hr\": 158, \"max_hr\": 169, \"calories\": 110.0, \"distance\": 0.88, \"title\": \"Treadmill Running\", \"time_day\": \"afternoon\"}, {\"avg_hr\": 143, \"max_hr\": 158, \"calories\": 105.0, \"distance\": 0.94, \"title\": \"Treadmill Running\", \"time_day\": \"afternoon\"}, {\"avg_hr\": 155, \"max_hr\": 166, \"calories\": 109.0, \"distance\": 0.94, \"title\": \"Treadmill Running\", \"time_day\": \"afternoon\"}, {\"avg_hr\": 134, \"max_hr\": 150, \"calories\": 98.0, \"distance\": 0.96, \"title\": \"Treadmill Running\", \"time_day\": \"afternoon\"}, {\"avg_hr\": 144, \"max_hr\": 156, \"calories\": 162.0, \"distance\": 1.0, \"title\": \"Treadmill Running\", \"time_day\": \"night\"}, {\"avg_hr\": 139, \"max_hr\": 149, \"calories\": 128.0, \"distance\": 0.96, \"title\": \"Treadmill Running\", \"time_day\": \"night\"}, {\"avg_hr\": 150, \"max_hr\": 172, \"calories\": 127.0, \"distance\": 0.93, \"title\": \"Treadmill Running\", \"time_day\": \"afternoon\"}, {\"avg_hr\": 148, \"max_hr\": 167, \"calories\": 272.0, \"distance\": 2.0, \"title\": \"Treadmill Running\", \"time_day\": \"night\"}, {\"avg_hr\": 155, \"max_hr\": 160, \"calories\": 190.0, \"distance\": 2.01, \"title\": \"Treadmill Running\", \"time_day\": \"night\"}, {\"avg_hr\": 140, \"max_hr\": 148, \"calories\": 116.0, \"distance\": 1.02, \"title\": \"Treadmill Running\", \"time_day\": \"morning\"}, {\"avg_hr\": 142, \"max_hr\": 162, \"calories\": 118.0, \"distance\": 1.01, \"title\": \"Treadmill Running\", \"time_day\": \"afternoon\"}, {\"avg_hr\": 150, \"max_hr\": 164, \"calories\": 134.0, \"distance\": 1.0, \"title\": \"Treadmill Running\", \"time_day\": \"afternoon\"}, {\"avg_hr\": 144, \"max_hr\": 157, \"calories\": 123.0, \"distance\": 1.02, \"title\": \"Treadmill Running\", \"time_day\": \"afternoon\"}, {\"avg_hr\": 141, \"max_hr\": 162, \"calories\": 608.0, \"distance\": 4.44, \"title\": \"Kansas City Running\", \"time_day\": \"morning\"}, {\"avg_hr\": 88, \"max_hr\": 107, \"calories\": 80.0, \"distance\": 0.0, \"title\": \"Strength\", \"time_day\": \"night\"}, {\"avg_hr\": 149, \"max_hr\": 182, \"calories\": 565.0, \"distance\": 4.25, \"title\": \"Kansas City Running\", \"time_day\": \"afternoon\"}, {\"avg_hr\": 148, \"max_hr\": 170, \"calories\": 553.0, \"distance\": 4.32, \"title\": \"Kansas City Running\", \"time_day\": \"night\"}, {\"avg_hr\": 156, \"max_hr\": 187, \"calories\": 404.0, \"distance\": 3.02, \"title\": \"Kansas City Running\", \"time_day\": \"afternoon\"}]}}, {\"mode\": \"vega-lite\"});\n",
       "</script>"
      ],
      "text/plain": [
       "alt.Chart(...)"
      ]
     },
     "execution_count": 58,
     "metadata": {},
     "output_type": "execute_result"
    }
   ],
   "source": [
    "alt.Chart(df[['avg_hr', 'max_hr', 'calories', 'distance', 'title', 'time_day']]).mark_circle(size=60).encode(\n",
    "    x='distance',\n",
    "    y='calories',\n",
    "    color='time_day',\n",
    "    tooltip=['avg_hr', 'max_hr', 'calories', 'distance', 'title', 'time_day']\n",
    ").interactive()"
   ]
  },
  {
   "cell_type": "markdown",
   "metadata": {},
   "source": [
    "### 7. Conclusion and Next steps"
   ]
  },
  {
   "cell_type": "markdown",
   "metadata": {},
   "source": [
    "We have cover a lot of things today. We went from data analytics to Python, from loading data to preparing it for analysis, and from data analysis to data visualising.\n",
    "\n",
    "You now have access to a jupyter notebook that you can tweak and use with your own data. You will need to download python, and download [jupyter notebook](https://jupyter.org/install) or better yet, [Anaconda](https://www.anaconda.com/), which distributes a whole suite of data analytics tools all bundled together.\n",
    "\n",
    "__For your next learning steps you could:__\n",
    "- learn python programming fundamentals\n",
    "- learn how to clean and wrangle data prior to analysing it\n",
    "- take an in-depth data analytics course and make sure you work on your own custom analyses while doing so\n",
    "- ask for feedback\n",
    "- repeat\n",
    "\n",
    "__As your next, next steps you could:__\n",
    "- learn to design experiments on and off-line\n",
    "- learn more about the command line and git for version control\n",
    "- create a dashboard application\n",
    "- learn data mining / machine learning\n",
    "- move into data science\n",
    "- learn a big data framework such as [Dask](https://dask.org/) or [Spark](https://spark.apache.org/)\n",
    "\n",
    "![gracias](https://media.giphy.com/media/JVXU0uN1l6wdq/giphy.gif)"
   ]
  }
 ],
 "metadata": {
  "kernelspec": {
   "display_name": "Python 3",
   "language": "python",
   "name": "python3"
  },
  "language_info": {
   "codemirror_mode": {
    "name": "ipython",
    "version": 3
   },
   "file_extension": ".py",
   "mimetype": "text/x-python",
   "name": "python",
   "nbconvert_exporter": "python",
   "pygments_lexer": "ipython3",
   "version": "3.7.7"
  },
  "nteract": {
   "version": "0.25.1"
  }
 },
 "nbformat": 4,
 "nbformat_minor": 4
}
