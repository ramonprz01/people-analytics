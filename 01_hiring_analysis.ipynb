{
 "cells": [
  {
   "cell_type": "markdown",
   "metadata": {},
   "source": [
    "# Lesson 2 - Hiring Analysis"
   ]
  },
  {
   "cell_type": "markdown",
   "metadata": {},
   "source": [
    "![analytics](images/analytics.jpg)"
   ]
  },
  {
   "cell_type": "markdown",
   "metadata": {},
   "source": [
    "# Table of Contents\n",
    "\n",
    "0. Important Info\n",
    "1. Import Packages\n",
    "2. Read, Evaluate and Describe\n",
    "3. Regression Overview\n",
    "4. Examples\n",
    "5. Python Breakdown"
   ]
  },
  {
   "cell_type": "markdown",
   "metadata": {},
   "source": [
    "# 0. Important Info"
   ]
  },
  {
   "cell_type": "markdown",
   "metadata": {},
   "source": [
    "A Jupyter notebook (what you are using right now) is an [Integrated Development Environment](https://en.wikipedia.org/wiki/Integrated_development_environment) (IDE) created by the [Jupyter Project](https://jupyter.org/). It allows you to combine different tools that are paramount for a good coding workflow. For example, you can have the terminal, a notebook, and a markdown file for note-taking/documenting your work, as well as other files, opened at the same time to improve your workflow as you write code.\n",
    "\n",
    "A silly metaphor to think about IDEs is that, IDEs are to programmers, data analysts, scientists, researcher, etc..., what a kitchen is to a chef, an indispensable piece of equipment to get things done.\n",
    "\n",
    "Jupyter notebooks are composed of cells and each cell has 3 states with the default one beign \"code\", and the other two being \"markdown\" and \"raw text\". The two latter ones can be used for note-taking purposes (e.g. this is a markdown cell).\n",
    "\n",
    "To run code you will use the following two commands:\n",
    "\n",
    "The first option will run the cell where you have your cursor at and take you to the next one. If there is no cell underneath the one you just ran, it will insert a new one for you.\n",
    "\n",
    "> # Shift + Enter\n",
    "\n",
    "The second option will run the cell and insert a new one below automatically. Alternatively, you can also run the cells using the play (▶︎) button at the top or with the _Run menu_ on the top left-hand corner.\n",
    "\n",
    "> # Alt + Enter  \n",
    "\n",
    "Anything that follows a hash `#` sign is a comment and will not be evaluated by Python. Comments are useful for documenting your code and letting others know what is happening with every line of code you write and/or with every cell.\n",
    "\n",
    "To check the information of a package, function, method, etc., use `?` or `??` at the begining or end of such element, these will provide you with a lot of information about the object you are interested in."
   ]
  },
  {
   "cell_type": "markdown",
   "metadata": {},
   "source": [
    "# 1. Import Packages\n",
    "\n",
    "We will start by importing the python packages we will be using during this session.\n",
    "\n",
    "- [pandas](https://pandas.pydata.org/) -> \"is a fast, powerful, flexible and easy to use open source data analysis and manipulation tool, built on top of the Python programming language.\"\n",
    "\n",
    "- [statsmodels]() -> \"statsmodels is a Python module that provides classes and functions for the estimation of many different statistical models, as well as for conducting statistical tests, and statistical data exploration.\""
   ]
  },
  {
   "cell_type": "code",
   "execution_count": null,
   "metadata": {},
   "outputs": [],
   "source": [
    "import pandas as pd\n",
    "\n",
    "import statsmodels.api as sm\n",
    "from statsmodels.iolib.summary2 import summary_col"
   ]
  },
  {
   "cell_type": "markdown",
   "metadata": {},
   "source": [
    "We will use a function from pandas (imported as `pd`) called `read_csv()` to read in the data into our session as a dataframe and we will assign it to a variable we will call `hiringData`."
   ]
  },
  {
   "cell_type": "markdown",
   "metadata": {},
   "source": [
    "# 2. Read, Evaluate and Describe"
   ]
  },
  {
   "cell_type": "code",
   "execution_count": null,
   "metadata": {},
   "outputs": [],
   "source": [
    "hiringData = pd.read_csv(\"Hyp_employees.csv\")\n",
    "hiringData.head()"
   ]
  },
  {
   "cell_type": "markdown",
   "metadata": {},
   "source": [
    "A dataset contains data or information in a rectangular shape in the same way in which you encounter information in a spreadsheet. You can look at the shape of this rectangle (i.e. its rows and columns, in that order) by using the attribute `.shape` on your dataset."
   ]
  },
  {
   "cell_type": "code",
   "execution_count": null,
   "metadata": {},
   "outputs": [],
   "source": [
    "hiringData.shape"
   ]
  },
  {
   "cell_type": "markdown",
   "metadata": {},
   "source": [
    "You can look at the most important descriptive statistics using the method `.describe()` on your dataframe."
   ]
  },
  {
   "cell_type": "code",
   "execution_count": null,
   "metadata": {},
   "outputs": [],
   "source": [
    "hiringData.describe().T"
   ]
  },
  {
   "cell_type": "markdown",
   "metadata": {},
   "source": [
    "You can examine the correlation between all of your numerical variables using the `.corr()` method on your dataframe. In this instance, we removed the `new_id` variable as it doesn't have any meaning in this particular use case. We want to check whether all variables, except `neuroticismtest`, are positively correlated with performance."
   ]
  },
  {
   "cell_type": "code",
   "execution_count": null,
   "metadata": {},
   "outputs": [],
   "source": [
    "hiringData.drop('new_id', axis=1).corr()"
   ]
  },
  {
   "cell_type": "markdown",
   "metadata": {},
   "source": [
    "# 3. Ordinary Least Squares Intro"
   ]
  },
  {
   "cell_type": "markdown",
   "metadata": {},
   "source": [
    "The Goal of a Regression is to search for associations between one or many variables and another. For example, determining the price of a house (what we want to predict) might only be possible with additional information (what will help us make a prediction) such as # of bathrooms, # of bedrooms, # garage, etc...\n",
    "\n",
    "A regression is a type of linear model with which we can quantify the relationships in our data and, at the same time, determine how reliable such relationship is. A linear model usually looks as follows,\n",
    "\n",
    "$y = a*x + b$\n",
    "\n",
    "- $a$ - is the slope of the line\n",
    "- $b$ - y intercept is where the line crosses the y-axis\n",
    "- $y$ - is what we are trying to predict\n",
    "- $x$ - is what we are using to predict\n",
    "\n",
    "We are interested in finding the optimal values or $a$ and $b$ which are also called parameters. \n",
    "\n",
    "You might also be wondering, which line are we talking about? The line of best fit is a line with predicted values that run through our data points as close as possible. This means that the values in such a predictive line are not necessarily perfect predictors but rather the best predictors given the data, which in turn means that there will be a difference between the actual data and the predictions. These errors, the differences between a predicted value and a real one, are called residuals. Our goal is often to minimize the square distances between the observed values and the line of best fit. See the image below for an example of a line of best fit.\n",
    "\n",
    "![line](https://images.saymedia-content.com/.image/t_share/MTc0MjM1NjgwNzExNzgwMjIw/how-to-create-a-simple-linear-regression-equation.png)\n",
    "\n",
    "Nomeclature and definitions\n",
    "\n",
    "- $Y$ - The vector, array, characteristic or value that we are trying to predict. This is often called,\n",
    "    - Dependent Variable\n",
    "    - Target Variable\n",
    "    - Outcome Variable\n",
    "    - Response Variable\n",
    "- $X$ - Can be a single array or a matrix representing multiple variables. These measures we use to make predictions are often called,\n",
    "    - Independent Variable(s)\n",
    "    - Features\n",
    "    - Predictor Variable(s)\n",
    "- Fitted values - the estimates obtained from the regression, aka predicted values\n",
    "- Coefficients - measures the strength of the relationshit between the independent variable(s) and the dependent variable as well as the sign of such relationship (i.e. positive or negative). These are also the slopes\n",
    "- Residuals - difference between predicted value(s) (the line fitted) and the actual data\n",
    "- $R^2$ - How much of the variation in our dependent variable is explained by the variation in the independent variable(s). This number goes from 0 to 1 and the way to interpret it is, \"x% of the variation in our dependent variable is explained by the variation in our independent variable(s)\"\n",
    "- Adjusted $R^2$ - scaled version of $R^2$ by the parameters\n",
    "- Sum of Square Residuals - The residuals are the differences between the real data and the predicted line that best fits the data. We want this to be as close to 0 as possible\n",
    "- Mean Square Error - is the average squared residuals, in other words, the average of the squared differences between the predicted values and the actual values. We want this number to be as small as possible.\n",
    "\n",
    "\n",
    "Assumptions:  \n",
    "- The regression model is linear in the coefficients and the error term\n",
    "- The error term has a population mean of zero\n",
    "- All independent variables are uncorrelated with the error term\n",
    "- Observations of the error term are uncorrelated with each other\n",
    "- The error term has a constant variance\n",
    "- No independent variable is a perfect linear function of other explanatory variables\n",
    "- The error term is normally distributed (optional)"
   ]
  },
  {
   "cell_type": "markdown",
   "metadata": {},
   "source": [
    "# 4. Examples"
   ]
  },
  {
   "cell_type": "markdown",
   "metadata": {},
   "source": [
    "The following examples were the ones used in lesson 2 of the course. Let's go over them one by one."
   ]
  },
  {
   "cell_type": "markdown",
   "metadata": {},
   "source": [
    "## First Example"
   ]
  },
  {
   "cell_type": "markdown",
   "metadata": {},
   "source": [
    "Our main variable for this exercise, i.e. the one that we are interested in validating given other conditions, is a one-dimensional array or vector of numbers representing a performance metric for employees."
   ]
  },
  {
   "cell_type": "code",
   "execution_count": null,
   "metadata": {},
   "outputs": [],
   "source": [
    "# This is our main variable of interest, we can select one particular variable with brackets, the name, and quotation marks\n",
    "# this is also called a vector or array, think of it as a column in Excel\n",
    "y = hiringData['mainperformancemetric']\n",
    "\n",
    "# the rest of the variables except the ones below\n",
    "X = sm.add_constant(hiringData.drop([\"mainperformancemetric\", \"new_id\", \"age\"], axis=1).copy())\n",
    "\n",
    "# run a regression on our main metric using all variables in our dataset as the independent variables\n",
    "model1 = sm.OLS(y, X).fit()\n",
    "\n",
    "# print the summary\n",
    "print(model1.summary())"
   ]
  },
  {
   "cell_type": "code",
   "execution_count": null,
   "metadata": {},
   "outputs": [],
   "source": [
    "print(\"Table with Significance Stars\")\n",
    "print(summary_col(model1, stars=True))"
   ]
  },
  {
   "cell_type": "markdown",
   "metadata": {},
   "source": [
    "## Second Example"
   ]
  },
  {
   "cell_type": "code",
   "execution_count": null,
   "metadata": {},
   "outputs": [],
   "source": [
    "# new set of independent variables\n",
    "# we now exclude tenure and age\n",
    "X_2 = sm.add_constant(hiringData.drop([\"mainperformancemetric\", \"new_id\", \"tenure\", \"age\"],axis=1))"
   ]
  },
  {
   "cell_type": "code",
   "execution_count": null,
   "metadata": {},
   "outputs": [],
   "source": [
    "model2 = sm.OLS(y, X_2).fit()\n",
    "print(model2.summary())"
   ]
  },
  {
   "cell_type": "code",
   "execution_count": null,
   "metadata": {},
   "outputs": [],
   "source": [
    "# You can also produce a table with just the coefficients with significance \n",
    "# stars using the code below \n",
    "print(\"Table with Significance Stars\")\n",
    "print(summary_col(model2, stars=True))"
   ]
  },
  {
   "cell_type": "markdown",
   "metadata": {},
   "source": [
    "## Third Example - Tenure Positively Affects both Maturity and Performance"
   ]
  },
  {
   "cell_type": "code",
   "execution_count": null,
   "metadata": {},
   "outputs": [],
   "source": [
    "print(sm.OLS(y, sm.add_constant(hiringData['tenure'])).fit().summary())"
   ]
  },
  {
   "cell_type": "markdown",
   "metadata": {},
   "source": [
    "## Fourth Example"
   ]
  },
  {
   "cell_type": "code",
   "execution_count": null,
   "metadata": {},
   "outputs": [],
   "source": [
    "print(sm.OLS(hiringData['maturityassesment'], sm.add_constant(hiringData['tenure'])).fit().summary())"
   ]
  },
  {
   "cell_type": "markdown",
   "metadata": {},
   "source": [
    "## Fifth Example - No Team Quality"
   ]
  },
  {
   "cell_type": "code",
   "execution_count": null,
   "metadata": {},
   "outputs": [],
   "source": [
    "X_3 = sm.add_constant(hiringData.drop([\"mainperformancemetric\", \"new_id\", \"teamquality\"], axis=1))"
   ]
  },
  {
   "cell_type": "code",
   "execution_count": null,
   "metadata": {},
   "outputs": [],
   "source": [
    "model3 = sm.OLS(y, X_3).fit()\n",
    "print(model3.summary())"
   ]
  },
  {
   "cell_type": "code",
   "execution_count": null,
   "metadata": {},
   "outputs": [],
   "source": [
    "# You can also produce a table with just the coefficients with significance \n",
    "# stars using the code below \n",
    "print(\"Table with Significance Stars\")\n",
    "print(summary_col(model3, stars=True))"
   ]
  },
  {
   "cell_type": "markdown",
   "metadata": {},
   "source": [
    "## Sixth Example - Teams are Back"
   ]
  },
  {
   "cell_type": "code",
   "execution_count": null,
   "metadata": {},
   "outputs": [],
   "source": [
    "# Same if we include age instead of tenure.\n",
    "X_4 = sm.add_constant(hiringData.drop([\"mainperformancemetric\", \"new_id\"], axis=1))"
   ]
  },
  {
   "cell_type": "code",
   "execution_count": null,
   "metadata": {},
   "outputs": [],
   "source": [
    "model4 = sm.OLS(y, X_4).fit()\n",
    "print(model4.summary())"
   ]
  },
  {
   "cell_type": "code",
   "execution_count": null,
   "metadata": {},
   "outputs": [],
   "source": [
    "# You can also produce a table with just the coefficients with significance \n",
    "# stars using the code below \n",
    "print(\"Table with Significance Stars\")\n",
    "print(summary_col(model4, stars=True))"
   ]
  },
  {
   "cell_type": "markdown",
   "metadata": {},
   "source": [
    "## Seventh Example - Teams with MBAs"
   ]
  },
  {
   "cell_type": "code",
   "execution_count": null,
   "metadata": {},
   "outputs": [],
   "source": [
    "X_5 = sm.add_constant(hiringData['teamquality'])\n",
    "\n",
    "print(sm.OLS(hiringData['didmba'], X_5).fit().summary())"
   ]
  },
  {
   "cell_type": "markdown",
   "metadata": {},
   "source": [
    "## Eigth Example - Teams Quality on Performance"
   ]
  },
  {
   "cell_type": "code",
   "execution_count": null,
   "metadata": {},
   "outputs": [],
   "source": [
    "X_6 = sm.add_constant(hiringData['teamquality'])\n",
    "\n",
    "print(sm.OLS(hiringData['mainperformancemetric'], X_6).fit().summary())"
   ]
  },
  {
   "cell_type": "markdown",
   "metadata": {},
   "source": [
    "# 5. Python Breakdown"
   ]
  },
  {
   "cell_type": "markdown",
   "metadata": {},
   "source": [
    "## 5.1 Packages"
   ]
  },
  {
   "cell_type": "markdown",
   "metadata": {},
   "source": [
    "Programming languages are very diverse creatures composed of built-in functionalities and add-ons. These functionalities and add-ons are pieces of code grouped that are useful for a particular problem or task. This means that when we initiate a Python session either through the command line or in a Jupyter Notebook, we don't immediately have all of its most useful tools available in the session, rather, it lets us pick and choose whatever we need, when we need it. The ones we used serve two well-defined purposes, statistical modeling (statsmodel), and data manipulation and analysis (pandas).\n",
    "\n",
    "For example, to use a built-in mathematical function that gets us the square root of a number, we would have to `import` the library `math` first and then call the method `.sqrt(49)` on math to get the result we want. We could create our own function to do this, but that would imply we would have to do this everytime we wanted to use that function for a task (\"not a very productive thing to do\").\n",
    "\n",
    "To import these additional libraries of code we need to use the `import` expression, or a variation/combination of it. Let's go over a few examples."
   ]
  },
  {
   "cell_type": "code",
   "execution_count": null,
   "metadata": {},
   "outputs": [],
   "source": [
    "import math # first import the library you need"
   ]
  },
  {
   "cell_type": "code",
   "execution_count": null,
   "metadata": {},
   "outputs": [],
   "source": [
    "# You can than call the method you need by typing the library name, followed by a dot, and then the method\n",
    "math.sqrt(49)"
   ]
  },
  {
   "cell_type": "markdown",
   "metadata": {},
   "source": [
    "Another way to import libraries is by using an alias. This is particularly useful with libraries with very long names and typing them every time would decrease our productivity."
   ]
  },
  {
   "cell_type": "code",
   "execution_count": null,
   "metadata": {},
   "outputs": [],
   "source": [
    "# Here we will import math with the alias ma\n",
    "import math as ma"
   ]
  },
  {
   "cell_type": "code",
   "execution_count": null,
   "metadata": {},
   "outputs": [],
   "source": [
    "ma.sqrt(49)"
   ]
  },
  {
   "cell_type": "markdown",
   "metadata": {},
   "source": [
    "Sometimes we only want to use a single function from a library, thus, we don't want to import the whole library if we won't be using it. In the following example, we take `sqrt` out of the math package."
   ]
  },
  {
   "cell_type": "code",
   "execution_count": null,
   "metadata": {},
   "outputs": [],
   "source": [
    "# Here is how we can import a standalone function from a library\n",
    "from math import sqrt"
   ]
  },
  {
   "cell_type": "code",
   "execution_count": null,
   "metadata": {},
   "outputs": [],
   "source": [
    "sqrt(49)"
   ]
  },
  {
   "cell_type": "markdown",
   "metadata": {},
   "source": [
    "We can also add aliases to functions of a library, we would first have to import the function we want and then at the same time and rename it using the convention `as`."
   ]
  },
  {
   "cell_type": "code",
   "execution_count": null,
   "metadata": {},
   "outputs": [],
   "source": [
    "from math import sqrt as sq\n",
    "\n",
    "sq(36)"
   ]
  },
  {
   "cell_type": "markdown",
   "metadata": {},
   "source": [
    "## 5.2 Reading Data"
   ]
  },
  {
   "cell_type": "markdown",
   "metadata": {},
   "source": [
    "![all the data](http://blogs.ubc.ca/coetoolbox/files/2014/03/meme-data-data-everywhere.png)\n",
    "\n",
    "When working with data in Python you will encounter datasets coming in all shapes and formats, so it is crucial to understand how to deal with different formats them in order to work with data. Here are some of the most common ones and the most useful functions for them in python.\n",
    "\n",
    "- CSV --> Comma Separated Values --> `pd.read_csv(file, sep=',')`\n",
    "- TSV --> Tab Separated Values --> `pd.read_csv(file, sep=' ')`\n",
    "- Excel --> Microsoft Excel format (.xlsx) --> `pd.read_excel()`\n",
    "- JSON --> JavaScript Object Notation --> `pd.read_json()`\n",
    "- HTML --> Hypertext Markup Language --> `pd.read_html()`\n",
    "\n",
    "The one we read is a comma separate values file, which is equivalent to data you see and find in spreadsheets, except that every one of the columns and elements in the rows are separated by commas `,`."
   ]
  },
  {
   "cell_type": "code",
   "execution_count": 28,
   "metadata": {},
   "outputs": [
    {
     "data": {
      "text/html": [
       "<div>\n",
       "<style scoped>\n",
       "    .dataframe tbody tr th:only-of-type {\n",
       "        vertical-align: middle;\n",
       "    }\n",
       "\n",
       "    .dataframe tbody tr th {\n",
       "        vertical-align: top;\n",
       "    }\n",
       "\n",
       "    .dataframe thead th {\n",
       "        text-align: right;\n",
       "    }\n",
       "</style>\n",
       "<table border=\"1\" class=\"dataframe\">\n",
       "  <thead>\n",
       "    <tr style=\"text-align: right;\">\n",
       "      <th></th>\n",
       "      <th>new_id</th>\n",
       "      <th>age</th>\n",
       "      <th>gender</th>\n",
       "      <th>undergradranking</th>\n",
       "      <th>gpa</th>\n",
       "      <th>didmba</th>\n",
       "      <th>extracurriculars</th>\n",
       "      <th>maturityassesment</th>\n",
       "      <th>programmingskill</th>\n",
       "      <th>disciplinetest</th>\n",
       "      <th>ambitiousnesstest</th>\n",
       "      <th>creativitytest</th>\n",
       "      <th>neuroticismtest</th>\n",
       "      <th>extraversiontest</th>\n",
       "      <th>teamquality</th>\n",
       "      <th>tenure</th>\n",
       "      <th>currentseniority</th>\n",
       "      <th>mainperformancemetric</th>\n",
       "    </tr>\n",
       "  </thead>\n",
       "  <tbody>\n",
       "    <tr>\n",
       "      <th>0</th>\n",
       "      <td>1</td>\n",
       "      <td>48</td>\n",
       "      <td>0</td>\n",
       "      <td>3</td>\n",
       "      <td>4.00</td>\n",
       "      <td>0</td>\n",
       "      <td>3</td>\n",
       "      <td>2</td>\n",
       "      <td>40</td>\n",
       "      <td>9</td>\n",
       "      <td>7</td>\n",
       "      <td>4</td>\n",
       "      <td>5</td>\n",
       "      <td>5</td>\n",
       "      <td>2</td>\n",
       "      <td>19</td>\n",
       "      <td>9</td>\n",
       "      <td>5</td>\n",
       "    </tr>\n",
       "    <tr>\n",
       "      <th>1</th>\n",
       "      <td>2</td>\n",
       "      <td>46</td>\n",
       "      <td>0</td>\n",
       "      <td>3</td>\n",
       "      <td>4.00</td>\n",
       "      <td>0</td>\n",
       "      <td>7</td>\n",
       "      <td>4</td>\n",
       "      <td>37</td>\n",
       "      <td>6</td>\n",
       "      <td>6</td>\n",
       "      <td>5</td>\n",
       "      <td>5</td>\n",
       "      <td>4</td>\n",
       "      <td>2</td>\n",
       "      <td>18</td>\n",
       "      <td>9</td>\n",
       "      <td>7</td>\n",
       "    </tr>\n",
       "    <tr>\n",
       "      <th>2</th>\n",
       "      <td>3</td>\n",
       "      <td>48</td>\n",
       "      <td>1</td>\n",
       "      <td>3</td>\n",
       "      <td>4.00</td>\n",
       "      <td>0</td>\n",
       "      <td>3</td>\n",
       "      <td>2</td>\n",
       "      <td>32</td>\n",
       "      <td>7</td>\n",
       "      <td>7</td>\n",
       "      <td>5</td>\n",
       "      <td>6</td>\n",
       "      <td>5</td>\n",
       "      <td>1</td>\n",
       "      <td>18</td>\n",
       "      <td>9</td>\n",
       "      <td>5</td>\n",
       "    </tr>\n",
       "    <tr>\n",
       "      <th>3</th>\n",
       "      <td>4</td>\n",
       "      <td>44</td>\n",
       "      <td>0</td>\n",
       "      <td>3</td>\n",
       "      <td>3.91</td>\n",
       "      <td>0</td>\n",
       "      <td>3</td>\n",
       "      <td>3</td>\n",
       "      <td>55</td>\n",
       "      <td>3</td>\n",
       "      <td>6</td>\n",
       "      <td>6</td>\n",
       "      <td>7</td>\n",
       "      <td>5</td>\n",
       "      <td>1</td>\n",
       "      <td>17</td>\n",
       "      <td>10</td>\n",
       "      <td>5</td>\n",
       "    </tr>\n",
       "    <tr>\n",
       "      <th>4</th>\n",
       "      <td>5</td>\n",
       "      <td>45</td>\n",
       "      <td>0</td>\n",
       "      <td>3</td>\n",
       "      <td>4.00</td>\n",
       "      <td>0</td>\n",
       "      <td>3</td>\n",
       "      <td>2</td>\n",
       "      <td>44</td>\n",
       "      <td>5</td>\n",
       "      <td>4</td>\n",
       "      <td>4</td>\n",
       "      <td>8</td>\n",
       "      <td>4</td>\n",
       "      <td>1</td>\n",
       "      <td>17</td>\n",
       "      <td>9</td>\n",
       "      <td>5</td>\n",
       "    </tr>\n",
       "  </tbody>\n",
       "</table>\n",
       "</div>"
      ],
      "text/plain": [
       "   new_id  age  gender  undergradranking   gpa  didmba  extracurriculars  \\\n",
       "0       1   48       0                 3  4.00       0                 3   \n",
       "1       2   46       0                 3  4.00       0                 7   \n",
       "2       3   48       1                 3  4.00       0                 3   \n",
       "3       4   44       0                 3  3.91       0                 3   \n",
       "4       5   45       0                 3  4.00       0                 3   \n",
       "\n",
       "   maturityassesment  programmingskill  disciplinetest  ambitiousnesstest  \\\n",
       "0                  2                40               9                  7   \n",
       "1                  4                37               6                  6   \n",
       "2                  2                32               7                  7   \n",
       "3                  3                55               3                  6   \n",
       "4                  2                44               5                  4   \n",
       "\n",
       "   creativitytest  neuroticismtest  extraversiontest  teamquality  tenure  \\\n",
       "0               4                5                 5            2      19   \n",
       "1               5                5                 4            2      18   \n",
       "2               5                6                 5            1      18   \n",
       "3               6                7                 5            1      17   \n",
       "4               4                8                 4            1      17   \n",
       "\n",
       "   currentseniority  mainperformancemetric  \n",
       "0                 9                      5  \n",
       "1                 9                      7  \n",
       "2                 9                      5  \n",
       "3                10                      5  \n",
       "4                 9                      5  "
      ]
     },
     "execution_count": 28,
     "metadata": {},
     "output_type": "execute_result"
    }
   ],
   "source": [
    "hiringData = pd.read_csv(\"Hyp_employees.csv\")\n",
    "hiringData.head()"
   ]
  },
  {
   "cell_type": "markdown",
   "metadata": {},
   "source": [
    "## 5.3 Variables, Printing, and data types and structures"
   ]
  },
  {
   "cell_type": "markdown",
   "metadata": {},
   "source": [
    "When you read in data you just don't leave it flying around either, we assign it to a variable. You can think of variables as containers that can hold any piece of information in our session. In addition, variables usually hold for us two kinds of objects, either single data types, which can be integers, strings, floats, or booleans, or data structures which are sub-containers for data types. Variables can contain both, and, as a matter of fact, that is what we did earlier with our data and models.\n",
    "\n",
    "Here are some rules you should remember about variables.\n",
    "\n",
    "__Do's & Dont's__\n",
    "\n",
    "- A variable can only contain letters (uppercase or lowercase), underscores, and numbers  \n",
    "good --> `variable_1`  ✅  \n",
    "bad --> `vari--!#able_@`  ❌\n",
    "- Variables cannot start with numbers  \n",
    "good --> `variable_1`  ✅  \n",
    "bad --> `123_variables`  ❌\n",
    "- Variables are case sensitive  \n",
    "This variable --> `variable_1` <-- is not the same as --> `VARiable_1`\n",
    "- Variables cannot be only numbers  \n",
    "good --> `something45678`  ✅  \n",
    "bad --> `45678` ❌"
   ]
  },
  {
   "cell_type": "code",
   "execution_count": 22,
   "metadata": {},
   "outputs": [
    {
     "data": {
      "text/plain": [
       "'this is a string'"
      ]
     },
     "execution_count": 22,
     "metadata": {},
     "output_type": "execute_result"
    }
   ],
   "source": [
    "'this is a string'"
   ]
  },
  {
   "cell_type": "code",
   "execution_count": 23,
   "metadata": {},
   "outputs": [],
   "source": [
    "x = 'this is a string inside a variable called x'"
   ]
  },
  {
   "cell_type": "code",
   "execution_count": 24,
   "metadata": {},
   "outputs": [
    {
     "name": "stdout",
     "output_type": "stream",
     "text": [
      "this is a string inside a variable called x\n"
     ]
    }
   ],
   "source": [
    "print(x)"
   ]
  },
  {
   "cell_type": "code",
   "execution_count": 25,
   "metadata": {},
   "outputs": [
    {
     "name": "stdout",
     "output_type": "stream",
     "text": [
      "32\n"
     ]
    }
   ],
   "source": [
    "an_integer = 32\n",
    "print(a_number)"
   ]
  },
  {
   "cell_type": "code",
   "execution_count": 26,
   "metadata": {},
   "outputs": [
    {
     "name": "stdout",
     "output_type": "stream",
     "text": [
      "2.1\n"
     ]
    }
   ],
   "source": [
    "a_float = 2.1\n",
    "print(a_float)"
   ]
  },
  {
   "cell_type": "code",
   "execution_count": 27,
   "metadata": {},
   "outputs": [
    {
     "name": "stdout",
     "output_type": "stream",
     "text": [
      "True\n"
     ]
    }
   ],
   "source": [
    "a_boolean = True\n",
    "print(a_boolean)"
   ]
  },
  {
   "cell_type": "markdown",
   "metadata": {},
   "source": [
    "As mentioned previously, data structures help us hold data, and the one we have been using is called a dataframe. When we read data with pandas, we are reading in the equivalent of a spreadsheet but with more functionalities. Here are some of the other data structures you should be aware of. We will see more of these later, but here are some explanations.\n",
    "\n",
    "- lists - Lists in Python are some of the most versatile data structures available. They can hold multiple data types at the same time, and their elements can all be accessed using the same conventions as with strings plus more. To create a list you have to use square brackets `[ ]` and separate the values in them with commas `,`.\n",
    "- dictionaries - Dictionaries are analogous data structures to what is called a hash table. These dictionaries are key-value pairs of data where the key is the name or variable of the values (it can be a string or a number), and the value is any kind of data type (e.g. a list, another dictionary, numbers, strings, booleans, etc.) or data structure (e.g. another dictionary, a list, a set, a tuple, etc.). You can create a dictionary using brackets `var = {\"key\": value(s)}` and by separating the key and value with a column. Additional key-value pairs can be separated by a comma `,`.\n",
    "- tuples - Tuple are lists' cousins except that they are immutable. This means that the content of a tuple cannot be altered. What you can do instead is to take the elements inside a tupe out by what is called unpacking. Unpacking means taking them out of the tuple and putting them into another container (e.g. a variable) or another data structure, e.g. a list. Tuples are usually denoted with parentheses `()` or with commas `,` separating their elements.\n",
    "- sets - Sets are the more strict cousins of lists. While lists allow for multiple data types and structures in them, sets don't like to have the same data twice in them and also can't stand its cousins, the lists and the dictionaries. They do get along with their first cousins the tuples though. To get a set started, all you need is to create a data structure with a set of brackets `{}` around, in the same fashion you would create a dictionary but without the construct of `key : value`. You can also call the function `set()` on a list or tuple and this will return a set."
   ]
  },
  {
   "cell_type": "markdown",
   "metadata": {},
   "source": [
    "## 5.4 Examining data"
   ]
  },
  {
   "cell_type": "markdown",
   "metadata": {},
   "source": [
    "The first thing we want to do as soon as we get the data is to examine its content not only to see the kind of data we have but also to see if we can spot any inconsistencies that need to be dealt with from the start. Here are a few very useful methods available in pandas.\n",
    "\n",
    "- `df.head()` --> shows the first 5 rows of a DataFrame or Series\n",
    "- `df.tail()` --> shows the last 5 rows of a DataFrame or Series\n",
    "- `df.info()` --> provides information about the DataFrame or Series\n",
    "- `df.describe()` --> provides descriptive statistics of the numerical variables in a DataFrame\n",
    "- `df.isna()` --> returns True for every element that is NaN and False for every element that isn't\n",
    "- `df.notna()` --> does the opposite of `.isna()`"
   ]
  },
  {
   "cell_type": "code",
   "execution_count": null,
   "metadata": {},
   "outputs": [],
   "source": [
    "hiringData.head()"
   ]
  },
  {
   "cell_type": "code",
   "execution_count": null,
   "metadata": {},
   "outputs": [],
   "source": [
    "hiringData.tail()"
   ]
  },
  {
   "cell_type": "code",
   "execution_count": null,
   "metadata": {},
   "outputs": [],
   "source": [
    "hiringData.info()"
   ]
  },
  {
   "cell_type": "code",
   "execution_count": null,
   "metadata": {},
   "outputs": [],
   "source": [
    "hiringData.describe()"
   ]
  },
  {
   "cell_type": "code",
   "execution_count": null,
   "metadata": {},
   "outputs": [],
   "source": [
    "hiringData.isna()"
   ]
  },
  {
   "cell_type": "code",
   "execution_count": null,
   "metadata": {},
   "outputs": [],
   "source": [
    "hiringData.isna().sum()"
   ]
  },
  {
   "cell_type": "code",
   "execution_count": null,
   "metadata": {},
   "outputs": [],
   "source": [
    "hiringData.notna().sum()"
   ]
  }
 ],
 "metadata": {
  "kernelspec": {
   "display_name": "people",
   "language": "python",
   "name": "people"
  },
  "language_info": {
   "codemirror_mode": {
    "name": "ipython",
    "version": 3
   },
   "file_extension": ".py",
   "mimetype": "text/x-python",
   "name": "python",
   "nbconvert_exporter": "python",
   "pygments_lexer": "ipython3",
   "version": "3.8.5"
  }
 },
 "nbformat": 4,
 "nbformat_minor": 4
}
